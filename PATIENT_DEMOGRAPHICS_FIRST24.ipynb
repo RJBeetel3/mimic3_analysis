{
 "cells": [
  {
   "cell_type": "code",
   "execution_count": 1,
   "metadata": {
    "collapsed": false
   },
   "outputs": [],
   "source": [
    "import sys\n",
    "import pandas as pd\n",
    "import datetime as datetime\n",
    "import numpy as np\n",
    "from dateutil.relativedelta import relativedelta\n",
    "from sklearn.preprocessing import OneHotEncoder\n",
    "import matplotlib\n",
    "import matplotlib.pyplot as plt\n",
    "#import psycopg2\n",
    "from scipy.stats import ks_2samp\n",
    "import scipy.stats as scats\n",
    "import visuals as vs\n",
    "from sklearn.decomposition import PCA\n",
    "from sklearn import preprocessing\n",
    "from sklearn.neural_network import MLPClassifier\n",
    "from sklearn.naive_bayes import GaussianNB\n",
    "from sklearn import metrics\n",
    "from sklearn import svm\n",
    "from sklearn.model_selection import cross_val_score\n",
    "from sklearn.model_selection import train_test_split\n",
    "import yaml\n",
    "\n"
   ]
  },
  {
   "cell_type": "markdown",
   "metadata": {},
   "source": [
    "# MIMIC-III Critical Care Database\n",
    "\n",
    "MIMIC-III (Medical Information Mart for Intensive Care III) is a large, freely-available database comprising deidentified health-related data associated with over forty thousand patients who stayed in critical care units of the Beth Israel Deaconess Medical Center between 2001 and 2012.\n",
    "\n",
    "The database includes information such as demographics, vital sign measurements made at the bedside (~1 data point per hour), laboratory test results, procedures, medications, caregiver notes, imaging reports, and mortality (both in and out of hospital).\n",
    "\n",
    "MIMIC supports a diverse range of analytic studies spanning epidemiology, clinical decision-rule improvement, and electronic tool development. It is notable for three factors:\n",
    "\n",
    "it is freely available to researchers worldwide\n",
    "it encompasses a diverse and very large population of ICU patients\n",
    "it contains high temporal resolution data including lab results, electronic documentation, and bedside monitor trends and waveforms.\n",
    "\n",
    "Citations: \n",
    "MIMIC-III, a freely accessible critical care database. Johnson AEW, Pollard TJ, Shen L, Lehman L, Feng M, Ghassemi M, Moody B, Szolovits P, Celi LA, and Mark RG. Scientific Data (2016). DOI: 10.1038/sdata.2016.35. Available at: http://www.nature.com/articles/sdata201635\n",
    "\n",
    "Pollard, T. J. & Johnson, A. E. W. The MIMIC-III Clinical Database http://dx.doi.org/10.13026/C2XW26 (2016).\n",
    "\n"
   ]
  },
  {
   "cell_type": "markdown",
   "metadata": {},
   "source": [
    "# IMPORTING DATA\n",
    "The mimic III database was downloaded and reconstructed locally using posgresql. The database was managed graphically using Portico. \n",
    "A query was run on the mimic III database to generate demographic data and data concerning hospital and ICU stays for patients diagnosed with sepsis according to the Angus criteria (Angus et al, 2001. Epidemiology of severe sepsis in the United States; http://www.ncbi.nlm.nih.gov/pubmed/11445675 )\n",
    "\n",
    "The query was exported from Porticoto the file PTNT_DEMOG_FIRST24.csv. The data was read into a pandas dataframe lab_events."
   ]
  },
  {
   "cell_type": "code",
   "execution_count": 2,
   "metadata": {
    "collapsed": false
   },
   "outputs": [
    {
     "name": "stdout",
     "output_type": "stream",
     "text": [
      "patient demographics with unique icustays\n"
     ]
    },
    {
     "data": {
      "text/html": [
       "<div>\n",
       "<table border=\"1\" class=\"dataframe\">\n",
       "  <thead>\n",
       "    <tr style=\"text-align: right;\">\n",
       "      <th></th>\n",
       "      <th>hadm_id</th>\n",
       "      <th>subject_id</th>\n",
       "      <th>first_careunit</th>\n",
       "      <th>gender</th>\n",
       "      <th>marital_status</th>\n",
       "      <th>ethnicity</th>\n",
       "      <th>insurance</th>\n",
       "      <th>admission_type</th>\n",
       "      <th>admittime</th>\n",
       "      <th>dischtime</th>\n",
       "      <th>intime</th>\n",
       "      <th>outtime</th>\n",
       "      <th>deathtime</th>\n",
       "      <th>dob</th>\n",
       "      <th>hospital_expire_flag</th>\n",
       "      <th>icd9_code</th>\n",
       "      <th>icd9_code.1</th>\n",
       "      <th>short_title</th>\n",
       "      <th>seq_num</th>\n",
       "    </tr>\n",
       "    <tr>\n",
       "      <th>icustay_id</th>\n",
       "      <th></th>\n",
       "      <th></th>\n",
       "      <th></th>\n",
       "      <th></th>\n",
       "      <th></th>\n",
       "      <th></th>\n",
       "      <th></th>\n",
       "      <th></th>\n",
       "      <th></th>\n",
       "      <th></th>\n",
       "      <th></th>\n",
       "      <th></th>\n",
       "      <th></th>\n",
       "      <th></th>\n",
       "      <th></th>\n",
       "      <th></th>\n",
       "      <th></th>\n",
       "      <th></th>\n",
       "      <th></th>\n",
       "    </tr>\n",
       "  </thead>\n",
       "  <tbody>\n",
       "    <tr>\n",
       "      <th>211552</th>\n",
       "      <td>145834</td>\n",
       "      <td>3</td>\n",
       "      <td>MICU</td>\n",
       "      <td>M</td>\n",
       "      <td>MARRIED</td>\n",
       "      <td>WHITE</td>\n",
       "      <td>Medicare</td>\n",
       "      <td>EMERGENCY</td>\n",
       "      <td>2101-10-20 19:08:00</td>\n",
       "      <td>2101-10-31 13:58:00</td>\n",
       "      <td>2101-10-20 19:10:11</td>\n",
       "      <td>2101-10-26 20:43:09</td>\n",
       "      <td>NaN</td>\n",
       "      <td>2025-04-11 00:00:00</td>\n",
       "      <td>0</td>\n",
       "      <td>0389</td>\n",
       "      <td>0389</td>\n",
       "      <td>Septicemia NOS</td>\n",
       "      <td>1</td>\n",
       "    </tr>\n",
       "    <tr>\n",
       "      <th>294638</th>\n",
       "      <td>185777</td>\n",
       "      <td>4</td>\n",
       "      <td>MICU</td>\n",
       "      <td>F</td>\n",
       "      <td>SINGLE</td>\n",
       "      <td>WHITE</td>\n",
       "      <td>Private</td>\n",
       "      <td>EMERGENCY</td>\n",
       "      <td>2191-03-16 00:28:00</td>\n",
       "      <td>2191-03-23 18:41:00</td>\n",
       "      <td>2191-03-16 00:29:31</td>\n",
       "      <td>2191-03-17 16:46:31</td>\n",
       "      <td>NaN</td>\n",
       "      <td>2143-05-12 00:00:00</td>\n",
       "      <td>0</td>\n",
       "      <td>2763</td>\n",
       "      <td>2763</td>\n",
       "      <td>Alkalosis</td>\n",
       "      <td>4</td>\n",
       "    </tr>\n",
       "    <tr>\n",
       "      <th>228232</th>\n",
       "      <td>107064</td>\n",
       "      <td>6</td>\n",
       "      <td>SICU</td>\n",
       "      <td>F</td>\n",
       "      <td>MARRIED</td>\n",
       "      <td>WHITE</td>\n",
       "      <td>Medicare</td>\n",
       "      <td>ELECTIVE</td>\n",
       "      <td>2175-05-30 07:15:00</td>\n",
       "      <td>2175-06-15 16:00:00</td>\n",
       "      <td>2175-05-30 21:30:54</td>\n",
       "      <td>2175-06-03 13:39:54</td>\n",
       "      <td>NaN</td>\n",
       "      <td>2109-06-21 00:00:00</td>\n",
       "      <td>0</td>\n",
       "      <td>40391</td>\n",
       "      <td>40391</td>\n",
       "      <td>Hyp kid NOS w cr kid V</td>\n",
       "      <td>1</td>\n",
       "    </tr>\n",
       "    <tr>\n",
       "      <th>220597</th>\n",
       "      <td>150750</td>\n",
       "      <td>9</td>\n",
       "      <td>MICU</td>\n",
       "      <td>M</td>\n",
       "      <td>NaN</td>\n",
       "      <td>UNKNOWN/NOT SPECIFIED</td>\n",
       "      <td>Medicaid</td>\n",
       "      <td>EMERGENCY</td>\n",
       "      <td>2149-11-09 13:06:00</td>\n",
       "      <td>2149-11-14 10:15:00</td>\n",
       "      <td>2149-11-09 13:07:02</td>\n",
       "      <td>2149-11-14 20:52:14</td>\n",
       "      <td>2149-11-14 10:15:00</td>\n",
       "      <td>2108-01-26 00:00:00</td>\n",
       "      <td>1</td>\n",
       "      <td>431</td>\n",
       "      <td>431</td>\n",
       "      <td>Intracerebral hemorrhage</td>\n",
       "      <td>1</td>\n",
       "    </tr>\n",
       "    <tr>\n",
       "      <th>232669</th>\n",
       "      <td>112213</td>\n",
       "      <td>12</td>\n",
       "      <td>SICU</td>\n",
       "      <td>M</td>\n",
       "      <td>MARRIED</td>\n",
       "      <td>WHITE</td>\n",
       "      <td>Medicare</td>\n",
       "      <td>ELECTIVE</td>\n",
       "      <td>2104-08-07 10:15:00</td>\n",
       "      <td>2104-08-20 02:57:00</td>\n",
       "      <td>2104-08-08 02:08:17</td>\n",
       "      <td>2104-08-15 17:22:25</td>\n",
       "      <td>2104-08-20 02:57:00</td>\n",
       "      <td>2032-03-24 00:00:00</td>\n",
       "      <td>1</td>\n",
       "      <td>E8782</td>\n",
       "      <td>E8782</td>\n",
       "      <td>Abn react-anastom/graft</td>\n",
       "      <td>9</td>\n",
       "    </tr>\n",
       "  </tbody>\n",
       "</table>\n",
       "</div>"
      ],
      "text/plain": [
       "            hadm_id  subject_id first_careunit gender marital_status  \\\n",
       "icustay_id                                                             \n",
       "211552       145834           3           MICU      M        MARRIED   \n",
       "294638       185777           4           MICU      F         SINGLE   \n",
       "228232       107064           6           SICU      F        MARRIED   \n",
       "220597       150750           9           MICU      M            NaN   \n",
       "232669       112213          12           SICU      M        MARRIED   \n",
       "\n",
       "                        ethnicity insurance admission_type  \\\n",
       "icustay_id                                                   \n",
       "211552                      WHITE  Medicare      EMERGENCY   \n",
       "294638                      WHITE   Private      EMERGENCY   \n",
       "228232                      WHITE  Medicare       ELECTIVE   \n",
       "220597      UNKNOWN/NOT SPECIFIED  Medicaid      EMERGENCY   \n",
       "232669                      WHITE  Medicare       ELECTIVE   \n",
       "\n",
       "                      admittime            dischtime               intime  \\\n",
       "icustay_id                                                                  \n",
       "211552      2101-10-20 19:08:00  2101-10-31 13:58:00  2101-10-20 19:10:11   \n",
       "294638      2191-03-16 00:28:00  2191-03-23 18:41:00  2191-03-16 00:29:31   \n",
       "228232      2175-05-30 07:15:00  2175-06-15 16:00:00  2175-05-30 21:30:54   \n",
       "220597      2149-11-09 13:06:00  2149-11-14 10:15:00  2149-11-09 13:07:02   \n",
       "232669      2104-08-07 10:15:00  2104-08-20 02:57:00  2104-08-08 02:08:17   \n",
       "\n",
       "                        outtime            deathtime                  dob  \\\n",
       "icustay_id                                                                  \n",
       "211552      2101-10-26 20:43:09                  NaN  2025-04-11 00:00:00   \n",
       "294638      2191-03-17 16:46:31                  NaN  2143-05-12 00:00:00   \n",
       "228232      2175-06-03 13:39:54                  NaN  2109-06-21 00:00:00   \n",
       "220597      2149-11-14 20:52:14  2149-11-14 10:15:00  2108-01-26 00:00:00   \n",
       "232669      2104-08-15 17:22:25  2104-08-20 02:57:00  2032-03-24 00:00:00   \n",
       "\n",
       "            hospital_expire_flag icd9_code icd9_code.1  \\\n",
       "icustay_id                                               \n",
       "211552                         0      0389        0389   \n",
       "294638                         0      2763        2763   \n",
       "228232                         0     40391       40391   \n",
       "220597                         1       431         431   \n",
       "232669                         1     E8782       E8782   \n",
       "\n",
       "                         short_title  seq_num  \n",
       "icustay_id                                     \n",
       "211552                Septicemia NOS        1  \n",
       "294638                     Alkalosis        4  \n",
       "228232        Hyp kid NOS w cr kid V        1  \n",
       "220597      Intracerebral hemorrhage        1  \n",
       "232669       Abn react-anastom/graft        9  "
      ]
     },
     "metadata": {},
     "output_type": "display_data"
    },
    {
     "name": "stderr",
     "output_type": "stream",
     "text": [
      "/Users/robertbeetel/anaconda/lib/python2.7/site-packages/pandas/core/indexing.py:465: SettingWithCopyWarning: \n",
      "A value is trying to be set on a copy of a slice from a DataFrame.\n",
      "Try using .loc[row_indexer,col_indexer] = value instead\n",
      "\n",
      "See the caveats in the documentation: http://pandas.pydata.org/pandas-docs/stable/indexing.html#indexing-view-versus-copy\n",
      "  self.obj[item] = s\n"
     ]
    },
    {
     "name": "stdout",
     "output_type": "stream",
     "text": [
      "calculating ages, duration of stays\n"
     ]
    },
    {
     "name": "stderr",
     "output_type": "stream",
     "text": [
      "/Users/robertbeetel/anaconda/lib/python2.7/site-packages/pandas/core/indexing.py:288: SettingWithCopyWarning: \n",
      "A value is trying to be set on a copy of a slice from a DataFrame.\n",
      "Try using .loc[row_indexer,col_indexer] = value instead\n",
      "\n",
      "See the caveats in the documentation: http://pandas.pydata.org/pandas-docs/stable/indexing.html#indexing-view-versus-copy\n",
      "  self.obj[key] = _infer_fill_value(value)\n"
     ]
    },
    {
     "data": {
      "text/plain": [
       "['hadm_id',\n",
       " 'age',\n",
       " 'icu_stay',\n",
       " 'hosp_stay',\n",
       " 'subject_id',\n",
       " 'first_careunit',\n",
       " 'gender',\n",
       " 'marital_status',\n",
       " 'ethnicity',\n",
       " 'insurance',\n",
       " 'admission_type',\n",
       " 'deathtime',\n",
       " 'hospital_expire_flag']"
      ]
     },
     "metadata": {},
     "output_type": "display_data"
    },
    {
     "name": "stdout",
     "output_type": "stream",
     "text": [
      "patient demographics with calculated ages, duration of stays\n"
     ]
    },
    {
     "data": {
      "text/html": [
       "<div>\n",
       "<table border=\"1\" class=\"dataframe\">\n",
       "  <thead>\n",
       "    <tr style=\"text-align: right;\">\n",
       "      <th></th>\n",
       "      <th>hadm_id</th>\n",
       "      <th>age</th>\n",
       "      <th>icu_stay</th>\n",
       "      <th>hosp_stay</th>\n",
       "      <th>subject_id</th>\n",
       "      <th>first_careunit</th>\n",
       "      <th>gender</th>\n",
       "      <th>marital_status</th>\n",
       "      <th>ethnicity</th>\n",
       "      <th>insurance</th>\n",
       "      <th>admission_type</th>\n",
       "      <th>deathtime</th>\n",
       "      <th>hospital_expire_flag</th>\n",
       "    </tr>\n",
       "    <tr>\n",
       "      <th>icustay_id</th>\n",
       "      <th></th>\n",
       "      <th></th>\n",
       "      <th></th>\n",
       "      <th></th>\n",
       "      <th></th>\n",
       "      <th></th>\n",
       "      <th></th>\n",
       "      <th></th>\n",
       "      <th></th>\n",
       "      <th></th>\n",
       "      <th></th>\n",
       "      <th></th>\n",
       "      <th></th>\n",
       "    </tr>\n",
       "  </thead>\n",
       "  <tbody>\n",
       "    <tr>\n",
       "      <th>211552</th>\n",
       "      <td>145834</td>\n",
       "      <td>76.0</td>\n",
       "      <td>146.0</td>\n",
       "      <td>259.0</td>\n",
       "      <td>3</td>\n",
       "      <td>MICU</td>\n",
       "      <td>M</td>\n",
       "      <td>MARRIED</td>\n",
       "      <td>WHITE</td>\n",
       "      <td>Medicare</td>\n",
       "      <td>EMERGENCY</td>\n",
       "      <td>NaT</td>\n",
       "      <td>0</td>\n",
       "    </tr>\n",
       "    <tr>\n",
       "      <th>294638</th>\n",
       "      <td>185777</td>\n",
       "      <td>48.0</td>\n",
       "      <td>41.0</td>\n",
       "      <td>187.0</td>\n",
       "      <td>4</td>\n",
       "      <td>MICU</td>\n",
       "      <td>F</td>\n",
       "      <td>SINGLE</td>\n",
       "      <td>WHITE</td>\n",
       "      <td>Private</td>\n",
       "      <td>EMERGENCY</td>\n",
       "      <td>NaT</td>\n",
       "      <td>0</td>\n",
       "    </tr>\n",
       "    <tr>\n",
       "      <th>228232</th>\n",
       "      <td>107064</td>\n",
       "      <td>66.0</td>\n",
       "      <td>89.0</td>\n",
       "      <td>393.0</td>\n",
       "      <td>6</td>\n",
       "      <td>SICU</td>\n",
       "      <td>F</td>\n",
       "      <td>MARRIED</td>\n",
       "      <td>WHITE</td>\n",
       "      <td>Medicare</td>\n",
       "      <td>ELECTIVE</td>\n",
       "      <td>NaT</td>\n",
       "      <td>0</td>\n",
       "    </tr>\n",
       "    <tr>\n",
       "      <th>220597</th>\n",
       "      <td>150750</td>\n",
       "      <td>41.0</td>\n",
       "      <td>128.0</td>\n",
       "      <td>118.0</td>\n",
       "      <td>9</td>\n",
       "      <td>MICU</td>\n",
       "      <td>M</td>\n",
       "      <td>NaN</td>\n",
       "      <td>UNKNOWN/NOT SPECIFIED</td>\n",
       "      <td>Medicaid</td>\n",
       "      <td>EMERGENCY</td>\n",
       "      <td>2149-11-14 10:15:00</td>\n",
       "      <td>1</td>\n",
       "    </tr>\n",
       "    <tr>\n",
       "      <th>232669</th>\n",
       "      <td>112213</td>\n",
       "      <td>72.0</td>\n",
       "      <td>184.0</td>\n",
       "      <td>305.0</td>\n",
       "      <td>12</td>\n",
       "      <td>SICU</td>\n",
       "      <td>M</td>\n",
       "      <td>MARRIED</td>\n",
       "      <td>WHITE</td>\n",
       "      <td>Medicare</td>\n",
       "      <td>ELECTIVE</td>\n",
       "      <td>2104-08-20 02:57:00</td>\n",
       "      <td>1</td>\n",
       "    </tr>\n",
       "  </tbody>\n",
       "</table>\n",
       "</div>"
      ],
      "text/plain": [
       "            hadm_id   age  icu_stay  hosp_stay  subject_id first_careunit  \\\n",
       "icustay_id                                                                  \n",
       "211552       145834  76.0     146.0      259.0           3           MICU   \n",
       "294638       185777  48.0      41.0      187.0           4           MICU   \n",
       "228232       107064  66.0      89.0      393.0           6           SICU   \n",
       "220597       150750  41.0     128.0      118.0           9           MICU   \n",
       "232669       112213  72.0     184.0      305.0          12           SICU   \n",
       "\n",
       "           gender marital_status              ethnicity insurance  \\\n",
       "icustay_id                                                          \n",
       "211552          M        MARRIED                  WHITE  Medicare   \n",
       "294638          F         SINGLE                  WHITE   Private   \n",
       "228232          F        MARRIED                  WHITE  Medicare   \n",
       "220597          M            NaN  UNKNOWN/NOT SPECIFIED  Medicaid   \n",
       "232669          M        MARRIED                  WHITE  Medicare   \n",
       "\n",
       "           admission_type           deathtime  hospital_expire_flag  \n",
       "icustay_id                                                           \n",
       "211552          EMERGENCY                 NaT                     0  \n",
       "294638          EMERGENCY                 NaT                     0  \n",
       "228232           ELECTIVE                 NaT                     0  \n",
       "220597          EMERGENCY 2149-11-14 10:15:00                     1  \n",
       "232669           ELECTIVE 2104-08-20 02:57:00                     1  "
      ]
     },
     "metadata": {},
     "output_type": "display_data"
    }
   ],
   "source": [
    "# patient demographic data includes diagnoses and icd9 codes for each patient and each icustay\n",
    "\n",
    "ptnt_demog = pd.DataFrame.from_csv('PTNT_DEMOG_FIRST24.csv')\n",
    "ptnt_demog2 = ptnt_demog[~ptnt_demog.index.duplicated(keep='first')]\n",
    "\n",
    "\n",
    "\n",
    "#ptnt_demog.loc[:,'icustay_id'] = ptnt_demog.index\n",
    "#ptnt_demog.index = np.arange(ptnt_demog.shape[0])\n",
    "#ptnt_demog.head()\n",
    "\n",
    "print \"patient demographics with unique icustays\"\n",
    "display(ptnt_demog2.head())\n",
    "\n",
    "# create patient demographic table with unique icustays as rows\n",
    "\n",
    "dates_and_times = ['dob', 'admittime', 'dischtime', 'intime', 'outtime', 'deathtime']\n",
    "for thing in dates_and_times:\n",
    "    ptnt_demog2.loc[:,thing] = pd.to_datetime(ptnt_demog2.loc[:,thing])\n",
    "\n",
    "print \"calculating ages, duration of stays\"\n",
    "# len(pd.date_range()) APPEARS TO TAKE A VERY LONG TIME\n",
    "for index, row in ptnt_demog2.iterrows():\n",
    "    if (pd.notnull(row['intime']) & pd.notnull(row['dob'])):\n",
    "        #age_val = relativedelta(row['intime'], row['dob']).years\n",
    "        # calculating year end frequency\n",
    "        age_val = len(pd.date_range(end = row['intime'], start = row['dob'], freq = 'A'))\n",
    "    else: \n",
    "        age_val = np.nan\n",
    "    if (pd.notnull(row['intime']) & pd.notnull(row['outtime'])):\n",
    "        #delta_time = relativedelta(row['outtime'], row['intime'])\n",
    "        #icu_stay_val = delta_time.days*24 + delta_time.hours\n",
    "        icu_stay_val = len(pd.date_range(end = row['outtime'], start = row['intime'], freq = 'H'))\n",
    "    else: \n",
    "        icu_stay_val = np.nan\n",
    "    if (pd.notnull(row['admittime']) & pd.notnull(row['dischtime'])):\n",
    "        #delta_time = relativedelta(row['dischtime'], row['admittime'])\n",
    "        #hosp_stay_val = delta_time.days*24 + delta_time.hours\n",
    "        hosp_stay_val = len(pd.date_range(end = row['dischtime'], start = row['admittime'], freq = 'H'))\n",
    "    else:\n",
    "        hosp_stay_val = np.nan\n",
    "    \n",
    "    ptnt_demog2.set_value(index, 'age', age_val)\n",
    "    ptnt_demog2.set_value(index, 'icu_stay', icu_stay_val)\n",
    "    ptnt_demog2.set_value(index, 'hosp_stay', hosp_stay_val)\n",
    "\n",
    "cols = list(ptnt_demog2.columns)\n",
    "cols.pop(cols.index('icd9_code'))\n",
    "cols.pop(cols.index('icd9_code.1'))\n",
    "cols.pop(cols.index('short_title'))\n",
    "cols.pop(cols.index('intime'))\n",
    "cols.pop(cols.index('outtime'))\n",
    "cols.pop(cols.index('admittime'))\n",
    "cols.pop(cols.index('dischtime'))\n",
    "cols.pop(cols.index('seq_num'))\n",
    "cols.pop(cols.index('dob'))\n",
    "\n",
    "#cols.insert(0, cols.pop(cols.index('icustay_id')))\n",
    "cols.insert(0, cols.pop(cols.index('hadm_id')))\n",
    "cols.insert(1, cols.pop(cols.index('age')))\n",
    "cols.insert(2, cols.pop(cols.index('icu_stay')))\n",
    "cols.insert(3, cols.pop(cols.index('hosp_stay')))\n",
    "cols.insert(len(cols), cols.pop(cols.index('hospital_expire_flag')))\n",
    "display(cols)\n",
    "\n",
    "\n",
    "ptnt_demog2 = ptnt_demog2[cols]\n",
    "print \"patient demographics with calculated ages, duration of stays\"\n",
    "display(ptnt_demog2.head())"
   ]
  },
  {
   "cell_type": "code",
   "execution_count": 4,
   "metadata": {
    "collapsed": false
   },
   "outputs": [
    {
     "data": {
      "text/plain": [
       "[300.0,\n",
       " 305.0,\n",
       " 302.0,\n",
       " 301.0,\n",
       " 303.0,\n",
       " 310.0,\n",
       " 306.0,\n",
       " 307.0,\n",
       " 304.0,\n",
       " 311.0,\n",
       " 308.0,\n",
       " 309.0]"
      ]
     },
     "metadata": {},
     "output_type": "display_data"
    }
   ],
   "source": [
    "age_replace_vals = list(ptnt_demog2[ptnt_demog2['age'] > 110]['age'].unique())\n",
    "display(age_replace_vals)"
   ]
  },
  {
   "cell_type": "code",
   "execution_count": 5,
   "metadata": {
    "collapsed": false
   },
   "outputs": [
    {
     "data": {
      "text/plain": [
       "count    41917.000000\n",
       "mean        63.597204\n",
       "std         15.815852\n",
       "min         17.000000\n",
       "25%         53.000000\n",
       "50%         65.000000\n",
       "75%         76.000000\n",
       "max         89.000000\n",
       "Name: age, dtype: float64"
      ]
     },
     "execution_count": 5,
     "metadata": {},
     "output_type": "execute_result"
    }
   ],
   "source": [
    "ptnt_demog2['age'].replace(age_replace_vals, np.nan, inplace = True)\n",
    "ptnt_demog2['age'].dropna().describe()"
   ]
  },
  {
   "cell_type": "code",
   "execution_count": 6,
   "metadata": {
    "collapsed": false
   },
   "outputs": [
    {
     "data": {
      "text/plain": [
       "count    44152.000000\n",
       "mean       115.544505\n",
       "std        156.791692\n",
       "min         25.000000\n",
       "25%         41.000000\n",
       "50%         65.000000\n",
       "75%        120.000000\n",
       "max       4154.000000\n",
       "Name: icu_stay, dtype: float64"
      ]
     },
     "metadata": {},
     "output_type": "display_data"
    },
    {
     "data": {
      "text/plain": [
       "count    44152.000000\n",
       "mean       294.413345\n",
       "std        327.554904\n",
       "min          0.000000\n",
       "25%        118.000000\n",
       "50%        193.000000\n",
       "75%        349.000000\n",
       "max       7072.000000\n",
       "Name: hosp_stay, dtype: float64"
      ]
     },
     "metadata": {},
     "output_type": "display_data"
    },
    {
     "data": {
      "text/html": [
       "<div>\n",
       "<table border=\"1\" class=\"dataframe\">\n",
       "  <thead>\n",
       "    <tr style=\"text-align: right;\">\n",
       "      <th></th>\n",
       "      <th>hadm_id</th>\n",
       "      <th>age</th>\n",
       "      <th>icu_stay</th>\n",
       "      <th>hosp_stay</th>\n",
       "      <th>subject_id</th>\n",
       "      <th>first_careunit</th>\n",
       "      <th>gender</th>\n",
       "      <th>marital_status</th>\n",
       "      <th>ethnicity</th>\n",
       "      <th>insurance</th>\n",
       "      <th>admission_type</th>\n",
       "      <th>deathtime</th>\n",
       "      <th>hospital_expire_flag</th>\n",
       "    </tr>\n",
       "    <tr>\n",
       "      <th>icustay_id</th>\n",
       "      <th></th>\n",
       "      <th></th>\n",
       "      <th></th>\n",
       "      <th></th>\n",
       "      <th></th>\n",
       "      <th></th>\n",
       "      <th></th>\n",
       "      <th></th>\n",
       "      <th></th>\n",
       "      <th></th>\n",
       "      <th></th>\n",
       "      <th></th>\n",
       "      <th></th>\n",
       "    </tr>\n",
       "  </thead>\n",
       "  <tbody>\n",
       "  </tbody>\n",
       "</table>\n",
       "</div>"
      ],
      "text/plain": [
       "Empty DataFrame\n",
       "Columns: [hadm_id, age, icu_stay, hosp_stay, subject_id, first_careunit, gender, marital_status, ethnicity, insurance, admission_type, deathtime, hospital_expire_flag]\n",
       "Index: []"
      ]
     },
     "metadata": {},
     "output_type": "display_data"
    },
    {
     "data": {
      "text/html": [
       "<div>\n",
       "<table border=\"1\" class=\"dataframe\">\n",
       "  <thead>\n",
       "    <tr style=\"text-align: right;\">\n",
       "      <th></th>\n",
       "      <th>hadm_id</th>\n",
       "      <th>age</th>\n",
       "      <th>icu_stay</th>\n",
       "      <th>hosp_stay</th>\n",
       "      <th>subject_id</th>\n",
       "      <th>first_careunit</th>\n",
       "      <th>gender</th>\n",
       "      <th>marital_status</th>\n",
       "      <th>ethnicity</th>\n",
       "      <th>insurance</th>\n",
       "      <th>admission_type</th>\n",
       "      <th>deathtime</th>\n",
       "      <th>hospital_expire_flag</th>\n",
       "    </tr>\n",
       "    <tr>\n",
       "      <th>icustay_id</th>\n",
       "      <th></th>\n",
       "      <th></th>\n",
       "      <th></th>\n",
       "      <th></th>\n",
       "      <th></th>\n",
       "      <th></th>\n",
       "      <th></th>\n",
       "      <th></th>\n",
       "      <th></th>\n",
       "      <th></th>\n",
       "      <th></th>\n",
       "      <th></th>\n",
       "      <th></th>\n",
       "    </tr>\n",
       "  </thead>\n",
       "  <tbody>\n",
       "    <tr>\n",
       "      <th>269115</th>\n",
       "      <td>146708</td>\n",
       "      <td>50.0</td>\n",
       "      <td>27.0</td>\n",
       "      <td>0.0</td>\n",
       "      <td>74937</td>\n",
       "      <td>MICU</td>\n",
       "      <td>F</td>\n",
       "      <td>MARRIED</td>\n",
       "      <td>WHITE</td>\n",
       "      <td>Private</td>\n",
       "      <td>EMERGENCY</td>\n",
       "      <td>2103-08-12</td>\n",
       "      <td>1</td>\n",
       "    </tr>\n",
       "  </tbody>\n",
       "</table>\n",
       "</div>"
      ],
      "text/plain": [
       "            hadm_id   age  icu_stay  hosp_stay  subject_id first_careunit  \\\n",
       "icustay_id                                                                  \n",
       "269115       146708  50.0      27.0        0.0       74937           MICU   \n",
       "\n",
       "           gender marital_status ethnicity insurance admission_type  \\\n",
       "icustay_id                                                            \n",
       "269115          F        MARRIED     WHITE   Private      EMERGENCY   \n",
       "\n",
       "            deathtime  hospital_expire_flag  \n",
       "icustay_id                                   \n",
       "269115     2103-08-12                     1  "
      ]
     },
     "metadata": {},
     "output_type": "display_data"
    }
   ],
   "source": [
    "display(ptnt_demog2.icu_stay.dropna().describe())\n",
    "display(ptnt_demog2.hosp_stay.dropna().describe())\n",
    "display(ptnt_demog2[ptnt_demog2.icu_stay <= 0])\n",
    "display(ptnt_demog2[ptnt_demog2.hosp_stay <=0])\n",
    "icu_stay_low = list(ptnt_demog2[ptnt_demog2['icu_stay'] <=0]['icu_stay'].unique())\n",
    "age_replace_vals = list(ptnt_demog2[ptnt_demog2['age'] > 110]['age'].unique())\n",
    "\n",
    "#ptnt_demog2.loc[:,'subject_id'] = ptnt_demog2.index\n",
    "#ptnt_demog2.index = ptnt_demog2.icustay_id\n",
    "#ptnt_demog2.drop('icustay_id', axis = 1, inplace = True)\n",
    "#ptnt_demog2.head()"
   ]
  },
  {
   "cell_type": "markdown",
   "metadata": {},
   "source": [
    "Date and time data imported in string format is converted to pandas.datetime objects"
   ]
  },
  {
   "cell_type": "markdown",
   "metadata": {},
   "source": [
    "## code grabbed from benchmarking exercise"
   ]
  },
  {
   "cell_type": "code",
   "execution_count": 9,
   "metadata": {
    "collapsed": false
   },
   "outputs": [
    {
     "name": "stdout",
     "output_type": "stream",
     "text": [
      "map created\n",
      "created empty diagnosis dataframe\n",
      "filled diagnosis dataframe\n"
     ]
    },
    {
     "data": {
      "text/html": [
       "<div>\n",
       "<table border=\"1\" class=\"dataframe\">\n",
       "  <thead>\n",
       "    <tr style=\"text-align: right;\">\n",
       "      <th></th>\n",
       "      <th>Diabetes mellitus with complications</th>\n",
       "      <th>Complications of surgical procedures or medical care</th>\n",
       "      <th>Congestive heart failure; nonhypertensive</th>\n",
       "      <th>Diabetes mellitus without complication</th>\n",
       "      <th>Chronic kidney disease</th>\n",
       "      <th>Acute and unspecified renal failure</th>\n",
       "      <th>Acute cerebrovascular disease</th>\n",
       "      <th>Other liver diseases</th>\n",
       "      <th>Hypertension with complications and secondary hypertension</th>\n",
       "      <th>Cardiac dysrhythmias</th>\n",
       "      <th>...</th>\n",
       "      <th>Other lower respiratory disease</th>\n",
       "      <th>Conduction disorders</th>\n",
       "      <th>Chronic obstructive pulmonary disease and bronchiectasis</th>\n",
       "      <th>Pleurisy; pneumothorax; pulmonary collapse</th>\n",
       "      <th>Gastrointestinal hemorrhage</th>\n",
       "      <th>Respiratory failure; insufficiency; arrest (adult)</th>\n",
       "      <th>Coronary atherosclerosis and other heart disease</th>\n",
       "      <th>Disorders of lipid metabolism</th>\n",
       "      <th>Shock</th>\n",
       "      <th>Essential hypertension</th>\n",
       "    </tr>\n",
       "  </thead>\n",
       "  <tbody>\n",
       "    <tr>\n",
       "      <th>211552</th>\n",
       "      <td>0</td>\n",
       "      <td>0</td>\n",
       "      <td>1</td>\n",
       "      <td>0</td>\n",
       "      <td>0</td>\n",
       "      <td>1</td>\n",
       "      <td>0</td>\n",
       "      <td>0</td>\n",
       "      <td>0</td>\n",
       "      <td>0</td>\n",
       "      <td>...</td>\n",
       "      <td>0</td>\n",
       "      <td>0</td>\n",
       "      <td>0</td>\n",
       "      <td>0</td>\n",
       "      <td>0</td>\n",
       "      <td>0</td>\n",
       "      <td>0</td>\n",
       "      <td>0</td>\n",
       "      <td>0</td>\n",
       "      <td>0</td>\n",
       "    </tr>\n",
       "    <tr>\n",
       "      <th>294638</th>\n",
       "      <td>0</td>\n",
       "      <td>0</td>\n",
       "      <td>0</td>\n",
       "      <td>0</td>\n",
       "      <td>0</td>\n",
       "      <td>0</td>\n",
       "      <td>0</td>\n",
       "      <td>1</td>\n",
       "      <td>0</td>\n",
       "      <td>0</td>\n",
       "      <td>...</td>\n",
       "      <td>0</td>\n",
       "      <td>0</td>\n",
       "      <td>0</td>\n",
       "      <td>0</td>\n",
       "      <td>0</td>\n",
       "      <td>0</td>\n",
       "      <td>0</td>\n",
       "      <td>0</td>\n",
       "      <td>0</td>\n",
       "      <td>0</td>\n",
       "    </tr>\n",
       "    <tr>\n",
       "      <th>228232</th>\n",
       "      <td>0</td>\n",
       "      <td>0</td>\n",
       "      <td>0</td>\n",
       "      <td>0</td>\n",
       "      <td>0</td>\n",
       "      <td>0</td>\n",
       "      <td>0</td>\n",
       "      <td>0</td>\n",
       "      <td>1</td>\n",
       "      <td>0</td>\n",
       "      <td>...</td>\n",
       "      <td>0</td>\n",
       "      <td>0</td>\n",
       "      <td>0</td>\n",
       "      <td>0</td>\n",
       "      <td>0</td>\n",
       "      <td>0</td>\n",
       "      <td>0</td>\n",
       "      <td>0</td>\n",
       "      <td>0</td>\n",
       "      <td>0</td>\n",
       "    </tr>\n",
       "    <tr>\n",
       "      <th>220597</th>\n",
       "      <td>0</td>\n",
       "      <td>0</td>\n",
       "      <td>1</td>\n",
       "      <td>0</td>\n",
       "      <td>0</td>\n",
       "      <td>1</td>\n",
       "      <td>1</td>\n",
       "      <td>0</td>\n",
       "      <td>0</td>\n",
       "      <td>0</td>\n",
       "      <td>...</td>\n",
       "      <td>0</td>\n",
       "      <td>0</td>\n",
       "      <td>0</td>\n",
       "      <td>0</td>\n",
       "      <td>0</td>\n",
       "      <td>0</td>\n",
       "      <td>0</td>\n",
       "      <td>0</td>\n",
       "      <td>0</td>\n",
       "      <td>1</td>\n",
       "    </tr>\n",
       "    <tr>\n",
       "      <th>232669</th>\n",
       "      <td>0</td>\n",
       "      <td>1</td>\n",
       "      <td>0</td>\n",
       "      <td>0</td>\n",
       "      <td>0</td>\n",
       "      <td>0</td>\n",
       "      <td>0</td>\n",
       "      <td>0</td>\n",
       "      <td>0</td>\n",
       "      <td>0</td>\n",
       "      <td>...</td>\n",
       "      <td>0</td>\n",
       "      <td>0</td>\n",
       "      <td>0</td>\n",
       "      <td>0</td>\n",
       "      <td>0</td>\n",
       "      <td>0</td>\n",
       "      <td>0</td>\n",
       "      <td>0</td>\n",
       "      <td>0</td>\n",
       "      <td>1</td>\n",
       "    </tr>\n",
       "  </tbody>\n",
       "</table>\n",
       "<p>5 rows × 25 columns</p>\n",
       "</div>"
      ],
      "text/plain": [
       "        Diabetes mellitus with complications  \\\n",
       "211552                                     0   \n",
       "294638                                     0   \n",
       "228232                                     0   \n",
       "220597                                     0   \n",
       "232669                                     0   \n",
       "\n",
       "        Complications of surgical procedures or medical care  \\\n",
       "211552                                                  0      \n",
       "294638                                                  0      \n",
       "228232                                                  0      \n",
       "220597                                                  0      \n",
       "232669                                                  1      \n",
       "\n",
       "        Congestive heart failure; nonhypertensive  \\\n",
       "211552                                          1   \n",
       "294638                                          0   \n",
       "228232                                          0   \n",
       "220597                                          1   \n",
       "232669                                          0   \n",
       "\n",
       "        Diabetes mellitus without complication  Chronic kidney disease  \\\n",
       "211552                                       0                       0   \n",
       "294638                                       0                       0   \n",
       "228232                                       0                       0   \n",
       "220597                                       0                       0   \n",
       "232669                                       0                       0   \n",
       "\n",
       "        Acute and unspecified renal failure  Acute cerebrovascular disease  \\\n",
       "211552                                    1                              0   \n",
       "294638                                    0                              0   \n",
       "228232                                    0                              0   \n",
       "220597                                    1                              1   \n",
       "232669                                    0                              0   \n",
       "\n",
       "        Other liver diseases  \\\n",
       "211552                     0   \n",
       "294638                     1   \n",
       "228232                     0   \n",
       "220597                     0   \n",
       "232669                     0   \n",
       "\n",
       "        Hypertension with complications and secondary hypertension  \\\n",
       "211552                                                  0            \n",
       "294638                                                  0            \n",
       "228232                                                  1            \n",
       "220597                                                  0            \n",
       "232669                                                  0            \n",
       "\n",
       "        Cardiac dysrhythmias           ...            \\\n",
       "211552                     0           ...             \n",
       "294638                     0           ...             \n",
       "228232                     0           ...             \n",
       "220597                     0           ...             \n",
       "232669                     0           ...             \n",
       "\n",
       "        Other lower respiratory disease  Conduction disorders  \\\n",
       "211552                                0                     0   \n",
       "294638                                0                     0   \n",
       "228232                                0                     0   \n",
       "220597                                0                     0   \n",
       "232669                                0                     0   \n",
       "\n",
       "        Chronic obstructive pulmonary disease and bronchiectasis  \\\n",
       "211552                                                  0          \n",
       "294638                                                  0          \n",
       "228232                                                  0          \n",
       "220597                                                  0          \n",
       "232669                                                  0          \n",
       "\n",
       "        Pleurisy; pneumothorax; pulmonary collapse  \\\n",
       "211552                                           0   \n",
       "294638                                           0   \n",
       "228232                                           0   \n",
       "220597                                           0   \n",
       "232669                                           0   \n",
       "\n",
       "        Gastrointestinal hemorrhage  \\\n",
       "211552                            0   \n",
       "294638                            0   \n",
       "228232                            0   \n",
       "220597                            0   \n",
       "232669                            0   \n",
       "\n",
       "        Respiratory failure; insufficiency; arrest (adult)  \\\n",
       "211552                                                  0    \n",
       "294638                                                  0    \n",
       "228232                                                  0    \n",
       "220597                                                  0    \n",
       "232669                                                  0    \n",
       "\n",
       "        Coronary atherosclerosis and other heart disease  \\\n",
       "211552                                                 0   \n",
       "294638                                                 0   \n",
       "228232                                                 0   \n",
       "220597                                                 0   \n",
       "232669                                                 0   \n",
       "\n",
       "        Disorders of lipid metabolism  Shock  Essential hypertension  \n",
       "211552                              0      0                       0  \n",
       "294638                              0      0                       0  \n",
       "228232                              0      0                       0  \n",
       "220597                              0      0                       1  \n",
       "232669                              0      0                       1  \n",
       "\n",
       "[5 rows x 25 columns]"
      ]
     },
     "execution_count": 9,
     "metadata": {},
     "output_type": "execute_result"
    }
   ],
   "source": [
    "#phenotypes = add_hcup_ccs_2015_groups(diagnoses, yaml.load(open(args.phenotype_definitions, 'r')))\n",
    "definitions = yaml.load(open('hcup_ccs_2015_definitions.yaml', 'r'))\n",
    "\n",
    "diagnoses = ptnt_demog[['hadm_id', 'icd9_code', 'short_title']].copy()\n",
    "\n",
    "# create mapping of hcup_ccs_2015_definitions to diagnoses icd9 codes\n",
    "def_map = {}\n",
    "for dx in definitions:\n",
    "    for code in definitions[dx]['codes']:\n",
    "        def_map[code] = (dx, definitions[dx]['use_in_benchmark'])\n",
    "\n",
    "print \"map created\"\n",
    "# map hcup_ccs_2015 definitions to icd9 diagnoses codes\n",
    "diagnoses['HCUP_CCS_2015'] = diagnoses.icd9_code.apply(lambda c: def_map[c][0] if c in def_map else None)\n",
    "diagnoses['USE_IN_BENCHMARK'] = diagnoses.icd9_code.apply(lambda c: int(def_map[c][1]) if c in def_map else None)\n",
    "#diagnoses['subject_id'] = diagnoses.index\n",
    "#diagnoses.set_index(np.arange(diagnoses.shape[0]), inplace = True)\n",
    "\n",
    "\n",
    "# create dataframe from the def_map dict so that we can isolate the \n",
    "# definitions that are used in benchmarking\n",
    "\n",
    "def_map_df = pd.DataFrame.from_dict(def_map, orient = 'index')\n",
    "def_map_df.columns = ['Diagnoses', 'Benchmark']\n",
    "diagnoses_bm = list(def_map_df[def_map_df.Benchmark == True].drop_duplicates('Diagnoses').Diagnoses)\n",
    "icustays = list(ptnt_demog2.index)\n",
    "\n",
    "# create dataframe with hcup_ccp diagnoses benchmark categories as columns and\n",
    "# icustay_id information as indices. if the diagnosis is present for a given icustay the \n",
    "# value is 1, otherwise 0. \n",
    "\n",
    "diagnoses2 = pd.DataFrame(columns = diagnoses_bm, index = icustays)\n",
    "diagnoses2.fillna(0, inplace = True)\n",
    "print \"created empty diagnosis dataframe\"\n",
    "for row in diagnoses.iterrows():\n",
    "    if row[1]['USE_IN_BENCHMARK'] == 1:\n",
    "        diagnoses2.loc[row[0]][row[1]['HCUP_CCS_2015']] = 1\n",
    "\n",
    "print \"filled diagnosis dataframe\"\n",
    "diagnoses2.head()"
   ]
  },
  {
   "cell_type": "code",
   "execution_count": 10,
   "metadata": {
    "collapsed": false
   },
   "outputs": [
    {
     "data": {
      "text/html": [
       "<div>\n",
       "<table border=\"1\" class=\"dataframe\">\n",
       "  <thead>\n",
       "    <tr style=\"text-align: right;\">\n",
       "      <th></th>\n",
       "      <th>hadm_id</th>\n",
       "      <th>age</th>\n",
       "      <th>icu_stay</th>\n",
       "      <th>hosp_stay</th>\n",
       "      <th>subject_id</th>\n",
       "      <th>first_careunit</th>\n",
       "      <th>gender</th>\n",
       "      <th>marital_status</th>\n",
       "      <th>ethnicity</th>\n",
       "      <th>insurance</th>\n",
       "      <th>...</th>\n",
       "      <th>Other lower respiratory disease</th>\n",
       "      <th>Conduction disorders</th>\n",
       "      <th>Chronic obstructive pulmonary disease and bronchiectasis</th>\n",
       "      <th>Pleurisy; pneumothorax; pulmonary collapse</th>\n",
       "      <th>Gastrointestinal hemorrhage</th>\n",
       "      <th>Respiratory failure; insufficiency; arrest (adult)</th>\n",
       "      <th>Coronary atherosclerosis and other heart disease</th>\n",
       "      <th>Disorders of lipid metabolism</th>\n",
       "      <th>Shock</th>\n",
       "      <th>Essential hypertension</th>\n",
       "    </tr>\n",
       "    <tr>\n",
       "      <th>icustay_id</th>\n",
       "      <th></th>\n",
       "      <th></th>\n",
       "      <th></th>\n",
       "      <th></th>\n",
       "      <th></th>\n",
       "      <th></th>\n",
       "      <th></th>\n",
       "      <th></th>\n",
       "      <th></th>\n",
       "      <th></th>\n",
       "      <th></th>\n",
       "      <th></th>\n",
       "      <th></th>\n",
       "      <th></th>\n",
       "      <th></th>\n",
       "      <th></th>\n",
       "      <th></th>\n",
       "      <th></th>\n",
       "      <th></th>\n",
       "      <th></th>\n",
       "      <th></th>\n",
       "    </tr>\n",
       "  </thead>\n",
       "  <tbody>\n",
       "    <tr>\n",
       "      <th>211552</th>\n",
       "      <td>145834</td>\n",
       "      <td>76.0</td>\n",
       "      <td>146.0</td>\n",
       "      <td>259.0</td>\n",
       "      <td>3</td>\n",
       "      <td>MICU</td>\n",
       "      <td>M</td>\n",
       "      <td>MARRIED</td>\n",
       "      <td>WHITE</td>\n",
       "      <td>Medicare</td>\n",
       "      <td>...</td>\n",
       "      <td>0</td>\n",
       "      <td>0</td>\n",
       "      <td>0</td>\n",
       "      <td>0</td>\n",
       "      <td>0</td>\n",
       "      <td>0</td>\n",
       "      <td>0</td>\n",
       "      <td>0</td>\n",
       "      <td>0</td>\n",
       "      <td>0</td>\n",
       "    </tr>\n",
       "    <tr>\n",
       "      <th>294638</th>\n",
       "      <td>185777</td>\n",
       "      <td>48.0</td>\n",
       "      <td>41.0</td>\n",
       "      <td>187.0</td>\n",
       "      <td>4</td>\n",
       "      <td>MICU</td>\n",
       "      <td>F</td>\n",
       "      <td>SINGLE</td>\n",
       "      <td>WHITE</td>\n",
       "      <td>Private</td>\n",
       "      <td>...</td>\n",
       "      <td>0</td>\n",
       "      <td>0</td>\n",
       "      <td>0</td>\n",
       "      <td>0</td>\n",
       "      <td>0</td>\n",
       "      <td>0</td>\n",
       "      <td>0</td>\n",
       "      <td>0</td>\n",
       "      <td>0</td>\n",
       "      <td>0</td>\n",
       "    </tr>\n",
       "    <tr>\n",
       "      <th>228232</th>\n",
       "      <td>107064</td>\n",
       "      <td>66.0</td>\n",
       "      <td>89.0</td>\n",
       "      <td>393.0</td>\n",
       "      <td>6</td>\n",
       "      <td>SICU</td>\n",
       "      <td>F</td>\n",
       "      <td>MARRIED</td>\n",
       "      <td>WHITE</td>\n",
       "      <td>Medicare</td>\n",
       "      <td>...</td>\n",
       "      <td>0</td>\n",
       "      <td>0</td>\n",
       "      <td>0</td>\n",
       "      <td>0</td>\n",
       "      <td>0</td>\n",
       "      <td>0</td>\n",
       "      <td>0</td>\n",
       "      <td>0</td>\n",
       "      <td>0</td>\n",
       "      <td>0</td>\n",
       "    </tr>\n",
       "    <tr>\n",
       "      <th>220597</th>\n",
       "      <td>150750</td>\n",
       "      <td>41.0</td>\n",
       "      <td>128.0</td>\n",
       "      <td>118.0</td>\n",
       "      <td>9</td>\n",
       "      <td>MICU</td>\n",
       "      <td>M</td>\n",
       "      <td>NaN</td>\n",
       "      <td>UNKNOWN/NOT SPECIFIED</td>\n",
       "      <td>Medicaid</td>\n",
       "      <td>...</td>\n",
       "      <td>0</td>\n",
       "      <td>0</td>\n",
       "      <td>0</td>\n",
       "      <td>0</td>\n",
       "      <td>0</td>\n",
       "      <td>0</td>\n",
       "      <td>0</td>\n",
       "      <td>0</td>\n",
       "      <td>0</td>\n",
       "      <td>1</td>\n",
       "    </tr>\n",
       "    <tr>\n",
       "      <th>232669</th>\n",
       "      <td>112213</td>\n",
       "      <td>72.0</td>\n",
       "      <td>184.0</td>\n",
       "      <td>305.0</td>\n",
       "      <td>12</td>\n",
       "      <td>SICU</td>\n",
       "      <td>M</td>\n",
       "      <td>MARRIED</td>\n",
       "      <td>WHITE</td>\n",
       "      <td>Medicare</td>\n",
       "      <td>...</td>\n",
       "      <td>0</td>\n",
       "      <td>0</td>\n",
       "      <td>0</td>\n",
       "      <td>0</td>\n",
       "      <td>0</td>\n",
       "      <td>0</td>\n",
       "      <td>0</td>\n",
       "      <td>0</td>\n",
       "      <td>0</td>\n",
       "      <td>1</td>\n",
       "    </tr>\n",
       "  </tbody>\n",
       "</table>\n",
       "<p>5 rows × 38 columns</p>\n",
       "</div>"
      ],
      "text/plain": [
       "            hadm_id   age  icu_stay  hosp_stay  subject_id first_careunit  \\\n",
       "icustay_id                                                                  \n",
       "211552       145834  76.0     146.0      259.0           3           MICU   \n",
       "294638       185777  48.0      41.0      187.0           4           MICU   \n",
       "228232       107064  66.0      89.0      393.0           6           SICU   \n",
       "220597       150750  41.0     128.0      118.0           9           MICU   \n",
       "232669       112213  72.0     184.0      305.0          12           SICU   \n",
       "\n",
       "           gender marital_status              ethnicity insurance  \\\n",
       "icustay_id                                                          \n",
       "211552          M        MARRIED                  WHITE  Medicare   \n",
       "294638          F         SINGLE                  WHITE   Private   \n",
       "228232          F        MARRIED                  WHITE  Medicare   \n",
       "220597          M            NaN  UNKNOWN/NOT SPECIFIED  Medicaid   \n",
       "232669          M        MARRIED                  WHITE  Medicare   \n",
       "\n",
       "                     ...           Other lower respiratory disease  \\\n",
       "icustay_id           ...                                             \n",
       "211552               ...                                         0   \n",
       "294638               ...                                         0   \n",
       "228232               ...                                         0   \n",
       "220597               ...                                         0   \n",
       "232669               ...                                         0   \n",
       "\n",
       "           Conduction disorders  \\\n",
       "icustay_id                        \n",
       "211552                        0   \n",
       "294638                        0   \n",
       "228232                        0   \n",
       "220597                        0   \n",
       "232669                        0   \n",
       "\n",
       "            Chronic obstructive pulmonary disease and bronchiectasis  \\\n",
       "icustay_id                                                             \n",
       "211552                                                      0          \n",
       "294638                                                      0          \n",
       "228232                                                      0          \n",
       "220597                                                      0          \n",
       "232669                                                      0          \n",
       "\n",
       "            Pleurisy; pneumothorax; pulmonary collapse  \\\n",
       "icustay_id                                               \n",
       "211552                                               0   \n",
       "294638                                               0   \n",
       "228232                                               0   \n",
       "220597                                               0   \n",
       "232669                                               0   \n",
       "\n",
       "            Gastrointestinal hemorrhage  \\\n",
       "icustay_id                                \n",
       "211552                                0   \n",
       "294638                                0   \n",
       "228232                                0   \n",
       "220597                                0   \n",
       "232669                                0   \n",
       "\n",
       "            Respiratory failure; insufficiency; arrest (adult)  \\\n",
       "icustay_id                                                       \n",
       "211552                                                      0    \n",
       "294638                                                      0    \n",
       "228232                                                      0    \n",
       "220597                                                      0    \n",
       "232669                                                      0    \n",
       "\n",
       "            Coronary atherosclerosis and other heart disease  \\\n",
       "icustay_id                                                     \n",
       "211552                                                     0   \n",
       "294638                                                     0   \n",
       "228232                                                     0   \n",
       "220597                                                     0   \n",
       "232669                                                     0   \n",
       "\n",
       "            Disorders of lipid metabolism  Shock  Essential hypertension  \n",
       "icustay_id                                                                \n",
       "211552                                  0      0                       0  \n",
       "294638                                  0      0                       0  \n",
       "228232                                  0      0                       0  \n",
       "220597                                  0      0                       1  \n",
       "232669                                  0      0                       1  \n",
       "\n",
       "[5 rows x 38 columns]"
      ]
     },
     "execution_count": 10,
     "metadata": {},
     "output_type": "execute_result"
    }
   ],
   "source": [
    "ptnt_demog3 = ptnt_demog2.merge(diagnoses2,left_index = True, right_index = True, \n",
    "                       how = 'left', sort = True)\n",
    "ptnt_demog3.head()"
   ]
  },
  {
   "cell_type": "code",
   "execution_count": 11,
   "metadata": {
    "collapsed": false
   },
   "outputs": [],
   "source": [
    "ptnt_demog3['icustay_id'] = ptnt_demog3.index\n",
    "ptnt_demog3.index = np.arange(ptnt_demog3.shape[0])\n",
    "ptnt_demog3.to_csv('PTNT_DEMOG_FIRST24_PROCESSED.csv')"
   ]
  },
  {
   "cell_type": "markdown",
   "metadata": {
    "collapsed": false
   },
   "source": [
    "# code remnants\n",
    "\n",
    "#for patient age, only the date information is needed so datetime data is converted to date\n",
    "ptnt_demog['dob'] = ptnt_demog['dob'].apply(lambda x: x.date())\n",
    "ptnt_demog['admittime'] = ptnt_demog['admittime'].apply(lambda x: x.date())\n",
    "ptnt_demog[['dob', 'admittime']].head()\n",
    "\n",
    "#dates_and_times = ['dob', 'dod', 'admittime', 'dischtime', 'deathtime', 'intime', 'outtime']\n",
    "#checking for null values in the data\n",
    "for item in dates_and_times:\n",
    "    isanan = ptnt_demog[item].isnull().values.any()\n",
    "    print \"{}   {}\".format(item, isanan)"
   ]
  },
  {
   "cell_type": "markdown",
   "metadata": {
    "collapsed": false
   },
   "source": [
    "'''the code calculates age of patient at time of admission, hospital stay and ICU stay. \n",
    "    using relativedelta.years to get the age rounded to years,\n",
    "    relativedelta.days to get hospital stay in days and relativedelta.hours\n",
    "    to get icu stay in hours.\n",
    "    '''\n",
    "#age at time of admission is calculated as admittime - dob\n",
    "for index, row in ptnt_demog.iterrows():\n",
    "    age_val = relativedelta(row['admittime'], row['dob']).years\n",
    "    ptnt_demog.set_value(index, 'age', age_val)\n",
    "'''        \n",
    "    #adm_stay in days\n",
    "    adm_stay_val = relativedelta(row['dischtime'],row['admittime'])\n",
    "    adm_stay_val = adm_stay_val.weeks*7 + adm_stay_val.days\n",
    "    #icu_stay in hours\n",
    "    icu_stay_val = relativedelta(row['outtime'],row['intime'])\n",
    "    icu_stay_val = icu_stay_val.weeks*7*24 + icu_stay_val.days*24 + icu_stay_val.hours\n",
    "    ptnt_demog.set_value(index, 'adm_stay_days', adm_stay_val)\n",
    "    ptnt_demog.set_value(index, 'icu_stay_hours', icu_stay_val)\n",
    "'''    \n",
    "ptnt_demog.head()"
   ]
  },
  {
   "cell_type": "markdown",
   "metadata": {},
   "source": [
    "# Reality Check on Ages and Durations of Stay\n",
    "Checking durations of stay and ages on low end for values < 0. Checking ages on the high end at 110yrs. \n",
    "Because I'm not sure what an unreasonable durations of stay would be for ICU or hospital stay will look for \n",
    "outliers in the data using statistical analysis later in preprocessing. \n"
   ]
  },
  {
   "cell_type": "code",
   "execution_count": null,
   "metadata": {
    "collapsed": false
   },
   "outputs": [],
   "source": [
    "ptnt_demog3[ptnt_demog3['age'] >120]['age'].shape"
   ]
  },
  {
   "cell_type": "markdown",
   "metadata": {},
   "source": [
    "## There are approximately 93 patients whos calculated age is > 110. All are > 300yrs. "
   ]
  },
  {
   "cell_type": "code",
   "execution_count": null,
   "metadata": {
    "collapsed": false
   },
   "outputs": [],
   "source": [
    "age_replace_vals = list(ptnt_demog[ptnt_demog['age'] > 110]['age'].unique())\n",
    "\n",
    "\n",
    "ptnt_demog['age'].replace(age_replace_vals, np.nan, inplace = True)\n",
    "ptnt_demog['age'].head()"
   ]
  },
  {
   "cell_type": "code",
   "execution_count": null,
   "metadata": {
    "collapsed": false
   },
   "outputs": [],
   "source": [
    "#checking again for age values > 110\n",
    "ptnt_demog[ptnt_demog['age'] > 110]"
   ]
  },
  {
   "cell_type": "markdown",
   "metadata": {},
   "source": [
    "## Dropping columns that will not be used in analysis. \n",
    "These columns were used to calculate columns like age, admissions stay and ICU stay and are no longer useful. \n",
    "Except admittime which may be used to determine whether survival rates have changed over time. "
   ]
  },
  {
   "cell_type": "code",
   "execution_count": null,
   "metadata": {
    "collapsed": false,
    "scrolled": true
   },
   "outputs": [],
   "source": [
    "# and want to include the subject id as index so i'm creating ptnt_demog2 as a copy, then dropping columns from \n",
    "# ptnt_demog in place as i don't need the subject_id for the current analysis. \n",
    "#ptnt_demog2 = ptnt_demog.drop(['dob', 'expire_flag', 'dod', 'dischtime', 'deathtime', 'intime', 'outtime'],axis = 1)\n",
    "ptnt_demog.drop(['dob','admittime' ],axis = 1, inplace = True)\n",
    "ptnt_demog.head()"
   ]
  },
  {
   "cell_type": "code",
   "execution_count": null,
   "metadata": {
    "collapsed": false
   },
   "outputs": [],
   "source": [
    "'''\n",
    "Sample code that was used to manually calculate dates and times from strings\n",
    "def to_timedelta(time_string): \n",
    "    age = time_string.split()\n",
    "    days = age[0]\n",
    "    hms = age[2].split(\":\")\n",
    "    print hms\n",
    "    delta = timedelta(days = int(days), hours = int(hms[0]), minutes = int(hms[1]), seconds = int(hms[2]))\n",
    "    return delta\n",
    "'''\n",
    "'''this was code to manually convert the dates in the file to datetime objects\n",
    "age = ptnt_demog.age.iloc[0]\n",
    "print age\n",
    "dummy = age.split()\n",
    "print dummy\n",
    "days = dummy[0]\n",
    "print days\n",
    "hms = dummy[2].split(\":\")\n",
    "print hms\n",
    "\n",
    "datetime_object = datetime.strptime(dob, '%Y %m %d %H:%M:%S')\n",
    "\n",
    "\n",
    "\n",
    "\n",
    "and these are scraps of where i figured out i can just use to_datetime\n",
    "ptnt_demog['dod2'] = pd.to_datetime(ptnt_demog['dod']) \n",
    "ptnt_demog.head()\n",
    "onedate = to_timedelta(ptnt_demog.age.iloc[0])\n",
    "otherdate =  to_timedelta(ptnt_demog.age.iloc[1])\n",
    "print onedate - otherdate\n",
    "print onedate\n",
    "\n",
    "'''\n",
    "'''example code for timedelta\n",
    "from datetime import datetime, timedelta\n",
    "# we specify the input and the format...\n",
    "t = datetime.strptime(\"05:20:25\",\"%H:%M:%S\")\n",
    "# ...and use datetime's hour, min and sec properties to build a timedelta\n",
    "delta = timedelta(hours=t.hour, minutes=t.minute, seconds=t.second)\n",
    "\n",
    "\n",
    "#durations like icu stay etc are imported as strings. the code below \n",
    "#converts durations in strings to timedelta for use as variable\n",
    "from datetime import timedelta\n",
    "from datetime import datetime\n",
    "\n",
    "delta = timedelta(days = int(duration[0]), hours = int(duration[1]), minutes = int(duration[2]), seconds = int(duration[3]))\n",
    "print delta\n",
    "'''"
   ]
  },
  {
   "cell_type": "code",
   "execution_count": null,
   "metadata": {
    "collapsed": false
   },
   "outputs": [],
   "source": [
    "ptnt_demog.columns"
   ]
  },
  {
   "cell_type": "code",
   "execution_count": null,
   "metadata": {
    "collapsed": false
   },
   "outputs": [],
   "source": [
    "ptnt_demog.drop('admittime', axis = 1, inplace = True)\n",
    "ptnt_demog2.drop('admittime', axis = 1, inplace = True)"
   ]
  },
  {
   "cell_type": "code",
   "execution_count": null,
   "metadata": {
    "collapsed": true
   },
   "outputs": [],
   "source": [
    "ptnt_demog.to_csv('PTNT_DEMOG_ANGUS_rev.csv')"
   ]
  },
  {
   "cell_type": "code",
   "execution_count": null,
   "metadata": {
    "collapsed": false
   },
   "outputs": [],
   "source": [
    "cat_vars = list(ptnt_demog.columns[ptnt_demog.dtypes == object])\n",
    "num_vars = list(ptnt_demog.columns[ptnt_demog.dtypes == 'float64'])"
   ]
  },
  {
   "cell_type": "code",
   "execution_count": null,
   "metadata": {
    "collapsed": false
   },
   "outputs": [],
   "source": [
    "cat_vars"
   ]
  },
  {
   "cell_type": "code",
   "execution_count": null,
   "metadata": {
    "collapsed": false
   },
   "outputs": [],
   "source": [
    "for item in cat_vars:\n",
    "    \n",
    "    # plot\n",
    "    plt.subplots(figsize=(13,6))\n",
    "    ptnt_demog[item][ptnt_demog.hospital_expire_flag==1].value_counts().plot.bar(\n",
    "        alpha=0.5,label= 'Non_Survival')\n",
    "    ptnt_demog[item][ptnt_demog.hospital_expire_flag==0].value_counts().plot.bar(\n",
    "        alpha=0.1,label= 'Survival')\n",
    "    \n",
    "    # fake plots for KS test, median, etc\n",
    "    '''\n",
    "    plt.plot([], label=' ',color='lightgray')\n",
    "    plt.plot([], label='KS test: p={}'.format(format(p_val,'.3f')),\n",
    "             color='lightgray')\n",
    "    plt.plot([], label='Median (non-surv): {}'.format(format(med_nonsurv,'.2f')),\n",
    "             color='lightgray')\n",
    "    plt.plot([], label='Median (surv): {}'.format(format(med_surv,'.2f')),\n",
    "             color='lightgray')\n",
    "    plt.plot([], label='Variance (non-surv): {}'.format(format(var_nonsurv,'.2f')),\n",
    "             color='lightgray')\n",
    "    plt.plot([], label='Variance (surv): {}'.format(format(var_surv,'.2f')),\n",
    "             color='lightgray')\n",
    "    plt.plot([], label='Skew (non-surv): {}'.format(format(skew_nonsurv,'.2f')),\n",
    "             color='lightgray')\n",
    "    plt.plot([], label='Skew (surv): {}'.format(format(skew_surv,'.2f')),\n",
    "             color='lightgray')\n",
    "    '''\n",
    "    # add title, labels etc.\n",
    "    plt.title(item)\n",
    "    #plt.xlabel(l + ' ' + u)\n",
    "    plt.legend(loc=\"upper left\", bbox_to_anchor=(1,1),fontsize=12)\n",
    "    #plt.xlim(0, data[l].dropna().quantile(0.99))\n",
    "    \n",
    "    # Add lab range if available\n",
    "    #if l in lab_ranges:\n",
    "    #    plt.axvline(lab_ranges[l][0],color='k',linestyle='--')\n",
    "    #    plt.axvline(lab_ranges[l][1],color='k',linestyle='--')"
   ]
  },
  {
   "cell_type": "code",
   "execution_count": null,
   "metadata": {
    "collapsed": false
   },
   "outputs": [],
   "source": [
    "for item in num_vars:\n",
    "    \n",
    "    # plot\n",
    "    plt.subplots(figsize=(13,6))\n",
    "    ptnt_demog2[item][ptnt_demog.hospital_expire_flag==1].plot.hist(\n",
    "        alpha=0.5,label= 'Non_Survival')\n",
    "    ptnt_demog2[item][ptnt_demog.hospital_expire_flag==0].plot.hist(\n",
    "        alpha=0.5,label= 'Survival')\n",
    "    \n",
    "    # fake plots for KS test, median, etc\n",
    "    '''\n",
    "    plt.plot([], label=' ',color='lightgray')\n",
    "    plt.plot([], label='KS test: p={}'.format(format(p_val,'.3f')),\n",
    "             color='lightgray')\n",
    "    plt.plot([], label='Median (non-surv): {}'.format(format(med_nonsurv,'.2f')),\n",
    "             color='lightgray')\n",
    "    plt.plot([], label='Median (surv): {}'.format(format(med_surv,'.2f')),\n",
    "             color='lightgray')\n",
    "    plt.plot([], label='Variance (non-surv): {}'.format(format(var_nonsurv,'.2f')),\n",
    "             color='lightgray')\n",
    "    plt.plot([], label='Variance (surv): {}'.format(format(var_surv,'.2f')),\n",
    "             color='lightgray')\n",
    "    plt.plot([], label='Skew (non-surv): {}'.format(format(skew_nonsurv,'.2f')),\n",
    "             color='lightgray')\n",
    "    plt.plot([], label='Skew (surv): {}'.format(format(skew_surv,'.2f')),\n",
    "             color='lightgray')\n",
    "    '''\n",
    "    # add title, labels etc.\n",
    "    plt.title(item)\n",
    "    #plt.xlabel(l + ' ' + u)\n",
    "    plt.legend(loc=\"upper left\", bbox_to_anchor=(1,1),fontsize=12)\n",
    "    #plt.xlim(0, data[l].dropna().quantile(0.99))\n",
    "    \n",
    "    # Add lab range if available\n",
    "    #if l in lab_ranges:\n",
    "    #    plt.axvline(lab_ranges[l][0],color='k',linestyle='--')\n",
    "    #    plt.axvline(lab_ranges[l][1],color='k',linestyle='--')"
   ]
  },
  {
   "cell_type": "markdown",
   "metadata": {
    "collapsed": false
   },
   "source": [
    "#code for converting sql dates to date-time objects\n",
    "from datetime import datetime\n",
    "dob = ptnt_demog.iloc[0].dob.split()\n",
    "ymd = dob[0].split('-')\n",
    "print ymd\n",
    "ymd.append(dob[1])\n",
    "print ymd\n",
    "dob = \" \".join(ymd)\n",
    "\n",
    "datetime_object = datetime.strptime(dob, '%Y %m %d %H:%M:%S')"
   ]
  },
  {
   "cell_type": "code",
   "execution_count": null,
   "metadata": {
    "collapsed": true
   },
   "outputs": [],
   "source": [
    "from sklearn import preprocessing as prp\n"
   ]
  },
  {
   "cell_type": "code",
   "execution_count": null,
   "metadata": {
    "collapsed": false
   },
   "outputs": [],
   "source": [
    "ptnt_demog.dtypes"
   ]
  },
  {
   "cell_type": "code",
   "execution_count": null,
   "metadata": {
    "collapsed": true
   },
   "outputs": [],
   "source": [
    "ptnt_demog2 = ptnt_demog.copy()"
   ]
  },
  {
   "cell_type": "code",
   "execution_count": null,
   "metadata": {
    "collapsed": false
   },
   "outputs": [],
   "source": [
    "cat_vars = list(ptnt_demog2.columns[ptnt_demog2.dtypes == object])\n",
    "cat_vars"
   ]
  },
  {
   "cell_type": "code",
   "execution_count": null,
   "metadata": {
    "collapsed": false
   },
   "outputs": [],
   "source": [
    "monkey = pd.get_dummies(ptnt_demog2[cat_vars])"
   ]
  },
  {
   "cell_type": "code",
   "execution_count": null,
   "metadata": {
    "collapsed": false
   },
   "outputs": [],
   "source": [
    "ptnt_demog2.drop(cat_vars, axis = 1, inplace = True)\n",
    "ptnt_demog2.head()\n"
   ]
  },
  {
   "cell_type": "code",
   "execution_count": null,
   "metadata": {
    "collapsed": false
   },
   "outputs": [],
   "source": [
    "ptnt_demog2 = ptnt_demog2.join(monkey)\n"
   ]
  },
  {
   "cell_type": "code",
   "execution_count": null,
   "metadata": {
    "collapsed": false
   },
   "outputs": [],
   "source": [
    "cols = list(ptnt_demog2.columns)\n",
    "cols.insert(0, cols.pop(cols.index('hospital_expire_flag')))\n",
    "cols"
   ]
  },
  {
   "cell_type": "code",
   "execution_count": null,
   "metadata": {
    "collapsed": false
   },
   "outputs": [],
   "source": [
    "ptnt_demog2 = ptnt_demog2[cols]\n",
    "ptnt_demog2.head()"
   ]
  },
  {
   "cell_type": "code",
   "execution_count": null,
   "metadata": {
    "collapsed": false
   },
   "outputs": [],
   "source": [
    "ptnt_demog2[ptnt_demog2.columns[:10]].groupby('hospital_expire_flag').hist(alpha = 0.5, figsize = (10, 10))"
   ]
  },
  {
   "cell_type": "code",
   "execution_count": null,
   "metadata": {
    "collapsed": false
   },
   "outputs": [],
   "source": [
    "gr = ptnt_demog2.groupby('hospital_expire_flag')\n",
    "for k, v in gr:\n",
    "    v.plot(kind='hist', alpha=.5, legend = None)"
   ]
  },
  {
   "cell_type": "markdown",
   "metadata": {},
   "source": [
    "## There appears to be very little observable difference between survivors and non-survivors in any of these variables. For this reason this analysis will be paused while a query is run to extract clinical data on septic patients. An initial exploration will then be performed on that data. "
   ]
  },
  {
   "cell_type": "code",
   "execution_count": null,
   "metadata": {
    "collapsed": true
   },
   "outputs": [],
   "source": [
    "ptnt_demog2.drop('admittime', axis=1, inplace = True)"
   ]
  },
  {
   "cell_type": "code",
   "execution_count": null,
   "metadata": {
    "collapsed": false
   },
   "outputs": [],
   "source": [
    "cols=list(ptnt_demog2.columns[1:])\n",
    "cols"
   ]
  },
  {
   "cell_type": "code",
   "execution_count": null,
   "metadata": {
    "collapsed": false
   },
   "outputs": [],
   "source": [
    "monkey = cols[2]\n",
    "monkey"
   ]
  },
  {
   "cell_type": "code",
   "execution_count": null,
   "metadata": {
    "collapsed": false
   },
   "outputs": [],
   "source": [
    "ptnt_demog2.groupby('hospital_expire_flag')[monkey].hist(alpha = 0.3, figsize = (10, 10))"
   ]
  },
  {
   "cell_type": "code",
   "execution_count": null,
   "metadata": {
    "collapsed": false,
    "scrolled": true
   },
   "outputs": [],
   "source": [
    "for item in cols:\n",
    "    \n",
    "    # plot\n",
    "    plt.subplots(figsize=(13,6))\n",
    "    ptnt_demog2[item][ptnt_demog2.hospital_expire_flag==1].plot.hist(\n",
    "        alpha=0.5,label= 'Non_Survival')\n",
    "    ptnt_demog2[item][ptnt_demog2.hospital_expire_flag==0].plot.hist(\n",
    "        alpha=0.5,label= 'Survival')\n",
    "    \n",
    "    # fake plots for KS test, median, etc\n",
    "    '''\n",
    "    plt.plot([], label=' ',color='lightgray')\n",
    "    plt.plot([], label='KS test: p={}'.format(format(p_val,'.3f')),\n",
    "             color='lightgray')\n",
    "    plt.plot([], label='Median (non-surv): {}'.format(format(med_nonsurv,'.2f')),\n",
    "             color='lightgray')\n",
    "    plt.plot([], label='Median (surv): {}'.format(format(med_surv,'.2f')),\n",
    "             color='lightgray')\n",
    "    plt.plot([], label='Variance (non-surv): {}'.format(format(var_nonsurv,'.2f')),\n",
    "             color='lightgray')\n",
    "    plt.plot([], label='Variance (surv): {}'.format(format(var_surv,'.2f')),\n",
    "             color='lightgray')\n",
    "    plt.plot([], label='Skew (non-surv): {}'.format(format(skew_nonsurv,'.2f')),\n",
    "             color='lightgray')\n",
    "    plt.plot([], label='Skew (surv): {}'.format(format(skew_surv,'.2f')),\n",
    "             color='lightgray')\n",
    "    '''\n",
    "    # add title, labels etc.\n",
    "    plt.title(item)\n",
    "    #plt.xlabel(l + ' ' + u)\n",
    "    plt.legend(loc=\"upper left\", bbox_to_anchor=(1,1),fontsize=12)\n",
    "    #plt.xlim(0, data[l].dropna().quantile(0.99))\n",
    "    \n",
    "    # Add lab range if available\n",
    "    #if l in lab_ranges:\n",
    "    #    plt.axvline(lab_ranges[l][0],color='k',linestyle='--')\n",
    "    #    plt.axvline(lab_ranges[l][1],color='k',linestyle='--')"
   ]
  },
  {
   "cell_type": "code",
   "execution_count": null,
   "metadata": {
    "collapsed": false
   },
   "outputs": [],
   "source": [
    "display(ptnt_demog2.shape)\n",
    "display(ptnt_demog2.dropna().shape)"
   ]
  },
  {
   "cell_type": "code",
   "execution_count": null,
   "metadata": {
    "collapsed": false
   },
   "outputs": [],
   "source": [
    "ptnt_demog2.dropna(inplace = True)\n",
    "ptnt_demog2.shape"
   ]
  },
  {
   "cell_type": "code",
   "execution_count": null,
   "metadata": {
    "collapsed": false
   },
   "outputs": [],
   "source": [
    "ptnt_demog2_scaled = ptnt_demog2.copy()\n",
    "for feature_name in ptnt_demog2_scaled.columns[1:]:\n",
    "#    max_value = data2[feature_name].max()\n",
    "#    min_value = data2[feature_name].min()\n",
    "#    data2_norm[feature_name] = (data2[feature_name] - min_value) / (max_value - min_value)\n",
    "    ptnt_demog2_scaled[feature_name] = preprocessing.scale(ptnt_demog2_scaled[feature_name], with_mean = True, \n",
    "                                                  with_std = True)\n",
    "    \n",
    "display(ptnt_demog2_scaled.head())"
   ]
  },
  {
   "cell_type": "code",
   "execution_count": null,
   "metadata": {
    "collapsed": false
   },
   "outputs": [],
   "source": [
    "pca = PCA(n_components = 8).fit(ptnt_demog2_scaled[ptnt_demog2_scaled.columns[1:]])\n",
    "\n",
    "# Generate PCA results plot\n",
    "pca_results = vs.pca_results(ptnt_demog2_scaled[ptnt_demog2_scaled.columns[1:]], pca)\n",
    "\n"
   ]
  },
  {
   "cell_type": "code",
   "execution_count": null,
   "metadata": {
    "collapsed": false
   },
   "outputs": [],
   "source": [
    "features = ptnt_demog2_scaled[ptnt_demog2_scaled.columns[1:]]\n",
    "targets = ptnt_demog2_scaled[ptnt_demog2_scaled.columns[0]]\n",
    "display(features.columns)\n",
    "display(targets.name)"
   ]
  },
  {
   "cell_type": "code",
   "execution_count": null,
   "metadata": {
    "collapsed": true
   },
   "outputs": [],
   "source": [
    "X_train, X_test, y_train, y_test = train_test_split(features, targets, \n",
    "                                                    test_size = 0.30, random_state = 42)"
   ]
  },
  {
   "cell_type": "code",
   "execution_count": null,
   "metadata": {
    "collapsed": false
   },
   "outputs": [],
   "source": [
    "clf_SVC = svm.SVC(C=1.0, cache_size=200, class_weight=None, coef0=0.0,\n",
    "    decision_function_shape=None, degree=3, gamma='auto', kernel='rbf', \n",
    "    max_iter=-1, probability=False, random_state=None, shrinking=True,\n",
    "    tol=0.001, verbose=False).fit(X_train, y_train)\n",
    "\n",
    "scores = cross_val_score(clf_SVC, features, targets, cv=5)\n",
    "display(scores)  "
   ]
  },
  {
   "cell_type": "code",
   "execution_count": null,
   "metadata": {
    "collapsed": false
   },
   "outputs": [],
   "source": [
    "y_predsSVC = clf_SVC.predict(X_test)\n",
    "metrics.confusion_matrix(y_test, y_predsSVC)\n",
    "\n"
   ]
  },
  {
   "cell_type": "code",
   "execution_count": null,
   "metadata": {
    "collapsed": false
   },
   "outputs": [],
   "source": [
    "#X_train, X_test, y_train, y_test = train_test_split(reduced_data, targets,\n",
    "#                                                   test_size = 0.30, \n",
    "#                                                  random_state = 42)\n",
    "\n",
    "clf_MLP = MLPClassifier(solver='sgd', alpha=1e-6, learning_rate = 'adaptive',\n",
    "                    hidden_layer_sizes=(5, 2), random_state=1)\n",
    "\n",
    "clf_MLP.fit(X_train, y_train)                         \n",
    "\n",
    "display(clf_MLP.score(X_test, y_test))\n",
    "y_predsMLP = clf_MLP.predict(X_test)\n",
    "metrics.confusion_matrix(y_test, y_predsMLP)\n",
    "\n",
    "\n"
   ]
  },
  {
   "cell_type": "code",
   "execution_count": null,
   "metadata": {
    "collapsed": false
   },
   "outputs": [],
   "source": [
    "### create classifier\n",
    "clf_GNB = GaussianNB()\n",
    "### fit the classifier on the training features and labels\n",
    "clf_GNB.fit(X_train, y_train)\n",
    "    ### return the fit classifier\n",
    "\n",
    "nb_score = clf_GNB.score(X_test, y_test) \n",
    "\n",
    "print nb_score\n",
    "y_predsGNB = clf_GNB.predict(X_test)\n",
    "metrics.confusion_matrix(y_test, y_predsGNB)\n",
    "\n",
    "\n"
   ]
  },
  {
   "cell_type": "code",
   "execution_count": null,
   "metadata": {
    "collapsed": true
   },
   "outputs": [],
   "source": []
  }
 ],
 "metadata": {
  "kernelspec": {
   "display_name": "Python 2",
   "language": "python",
   "name": "python2"
  },
  "language_info": {
   "codemirror_mode": {
    "name": "ipython",
    "version": 2
   },
   "file_extension": ".py",
   "mimetype": "text/x-python",
   "name": "python",
   "nbconvert_exporter": "python",
   "pygments_lexer": "ipython2",
   "version": "2.7.12"
  }
 },
 "nbformat": 4,
 "nbformat_minor": 2
}

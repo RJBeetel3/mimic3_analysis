{
 "cells": [
  {
   "cell_type": "code",
   "execution_count": 1,
   "metadata": {
    "collapsed": false
   },
   "outputs": [],
   "source": [
    "import sys\n",
    "import pandas as pd\n",
    "import datetime as datetime\n",
    "import numpy as np\n",
    "from dateutil.relativedelta import relativedelta\n",
    "from sklearn.preprocessing import OneHotEncoder\n",
    "import matplotlib\n",
    "import matplotlib.pyplot as plt\n",
    "#import psycopg2\n",
    "from scipy.stats import ks_2samp\n",
    "import scipy.stats as scats\n",
    "import visuals as vs\n",
    "from sklearn.decomposition import PCA\n",
    "from sklearn import preprocessing\n",
    "from sklearn.neural_network import MLPClassifier\n",
    "from sklearn.naive_bayes import GaussianNB\n",
    "from sklearn import metrics\n",
    "from sklearn import svm\n",
    "from sklearn.model_selection import cross_val_score\n",
    "from sklearn.model_selection import train_test_split\n",
    "from sklearn.feature_selection import SelectKBest\n",
    "from sklearn.feature_selection import chi2\n",
    "from heapq import nlargest\n",
    "plt.style.use('ggplot') \n",
    "%matplotlib inline"
   ]
  },
  {
   "cell_type": "markdown",
   "metadata": {},
   "source": [
    "# MIMIC-III Critical Care Database\n",
    "\n",
    "MIMIC-III (Medical Information Mart for Intensive Care III) is a large, freely-available database comprising deidentified health-related data associated with over forty thousand patients who stayed in critical care units of the Beth Israel Deaconess Medical Center between 2001 and 2012.\n",
    "\n",
    "The database includes information such as demographics, vital sign measurements made at the bedside (~1 data point per hour), laboratory test results, procedures, medications, caregiver notes, imaging reports, and mortality (both in and out of hospital).\n",
    "\n",
    "MIMIC supports a diverse range of analytic studies spanning epidemiology, clinical decision-rule improvement, and electronic tool development. It is notable for three factors:\n",
    "\n",
    "it is freely available to researchers worldwide\n",
    "it encompasses a diverse and very large population of ICU patients\n",
    "it contains high temporal resolution data including lab results, electronic documentation, and bedside monitor trends and waveforms.\n",
    "\n",
    "Citations: \n",
    "MIMIC-III, a freely accessible critical care database. Johnson AEW, Pollard TJ, Shen L, Lehman L, Feng M, Ghassemi M, Moody B, Szolovits P, Celi LA, and Mark RG. Scientific Data (2016). DOI: 10.1038/sdata.2016.35. Available at: http://www.nature.com/articles/sdata201635\n",
    "\n",
    "Pollard, T. J. & Johnson, A. E. W. The MIMIC-III Clinical Database http://dx.doi.org/10.13026/C2XW26 (2016).\n",
    "\n"
   ]
  },
  {
   "cell_type": "markdown",
   "metadata": {},
   "source": [
    "# IMPORTING DATA\n",
    "The mimic III database was downloaded and reconstructed locally using posgresql. The database was managed graphically using Portico. \n",
    "A query was run on the mimic III database to generate chart data for the first 24hrs of a patients icu stay as well as demographic data for patients diagnosed with sepsis according to the Angus criteria. \n",
    "(Angus et al, 2001. Epidemiology of severe sepsis in the United States; http://www.ncbi.nlm.nih.gov/pubmed/11445675 )\n",
    "\n",
    "The query was exported from Porticoto the file LAB_EVENTS_ANGUS_FIRST24.csv. The data was read into a pandas dataframe lab_events. \n"
   ]
  },
  {
   "cell_type": "code",
   "execution_count": 14,
   "metadata": {
    "collapsed": false
   },
   "outputs": [
    {
     "data": {
      "text/html": [
       "<div>\n",
       "<table border=\"1\" class=\"dataframe\">\n",
       "  <thead>\n",
       "    <tr style=\"text-align: right;\">\n",
       "      <th></th>\n",
       "      <th>icustay_id</th>\n",
       "      <th>intime</th>\n",
       "      <th>outtime</th>\n",
       "      <th>charttime</th>\n",
       "      <th>label</th>\n",
       "      <th>charttime.1</th>\n",
       "      <th>valuenum</th>\n",
       "      <th>flag</th>\n",
       "      <th>gender</th>\n",
       "      <th>hospital_expire_flag</th>\n",
       "    </tr>\n",
       "    <tr>\n",
       "      <th>subject_id</th>\n",
       "      <th></th>\n",
       "      <th></th>\n",
       "      <th></th>\n",
       "      <th></th>\n",
       "      <th></th>\n",
       "      <th></th>\n",
       "      <th></th>\n",
       "      <th></th>\n",
       "      <th></th>\n",
       "      <th></th>\n",
       "    </tr>\n",
       "  </thead>\n",
       "  <tbody>\n",
       "    <tr>\n",
       "      <th>24802</th>\n",
       "      <td>205291</td>\n",
       "      <td>2159-02-01 10:29:42</td>\n",
       "      <td>2159-02-02 16:05:51</td>\n",
       "      <td>2159-02-01 07:33:00</td>\n",
       "      <td>pH</td>\n",
       "      <td>2159-02-01 07:33:00</td>\n",
       "      <td>7.32</td>\n",
       "      <td>abnormal</td>\n",
       "      <td>F</td>\n",
       "      <td>0</td>\n",
       "    </tr>\n",
       "    <tr>\n",
       "      <th>24802</th>\n",
       "      <td>205291</td>\n",
       "      <td>2159-02-01 10:29:42</td>\n",
       "      <td>2159-02-02 16:05:51</td>\n",
       "      <td>2159-02-01 09:33:00</td>\n",
       "      <td>pH</td>\n",
       "      <td>2159-02-01 09:33:00</td>\n",
       "      <td>7.39</td>\n",
       "      <td>NaN</td>\n",
       "      <td>F</td>\n",
       "      <td>0</td>\n",
       "    </tr>\n",
       "    <tr>\n",
       "      <th>24802</th>\n",
       "      <td>205291</td>\n",
       "      <td>2159-02-01 10:29:42</td>\n",
       "      <td>2159-02-02 16:05:51</td>\n",
       "      <td>2159-02-01 10:13:00</td>\n",
       "      <td>pH</td>\n",
       "      <td>2159-02-01 10:13:00</td>\n",
       "      <td>7.46</td>\n",
       "      <td>abnormal</td>\n",
       "      <td>F</td>\n",
       "      <td>0</td>\n",
       "    </tr>\n",
       "    <tr>\n",
       "      <th>24802</th>\n",
       "      <td>205291</td>\n",
       "      <td>2159-02-01 10:29:42</td>\n",
       "      <td>2159-02-02 16:05:51</td>\n",
       "      <td>2159-02-01 10:55:00</td>\n",
       "      <td>pH</td>\n",
       "      <td>2159-02-01 10:55:00</td>\n",
       "      <td>7.35</td>\n",
       "      <td>NaN</td>\n",
       "      <td>F</td>\n",
       "      <td>0</td>\n",
       "    </tr>\n",
       "    <tr>\n",
       "      <th>24804</th>\n",
       "      <td>267509</td>\n",
       "      <td>2160-12-16 00:14:00</td>\n",
       "      <td>2160-12-21 13:57:00</td>\n",
       "      <td>2160-12-16 08:50:00</td>\n",
       "      <td>pH</td>\n",
       "      <td>2160-12-16 08:50:00</td>\n",
       "      <td>5.00</td>\n",
       "      <td>NaN</td>\n",
       "      <td>M</td>\n",
       "      <td>0</td>\n",
       "    </tr>\n",
       "  </tbody>\n",
       "</table>\n",
       "</div>"
      ],
      "text/plain": [
       "            icustay_id               intime              outtime  \\\n",
       "subject_id                                                         \n",
       "24802           205291  2159-02-01 10:29:42  2159-02-02 16:05:51   \n",
       "24802           205291  2159-02-01 10:29:42  2159-02-02 16:05:51   \n",
       "24802           205291  2159-02-01 10:29:42  2159-02-02 16:05:51   \n",
       "24802           205291  2159-02-01 10:29:42  2159-02-02 16:05:51   \n",
       "24804           267509  2160-12-16 00:14:00  2160-12-21 13:57:00   \n",
       "\n",
       "                      charttime label          charttime.1  valuenum  \\\n",
       "subject_id                                                             \n",
       "24802       2159-02-01 07:33:00    pH  2159-02-01 07:33:00      7.32   \n",
       "24802       2159-02-01 09:33:00    pH  2159-02-01 09:33:00      7.39   \n",
       "24802       2159-02-01 10:13:00    pH  2159-02-01 10:13:00      7.46   \n",
       "24802       2159-02-01 10:55:00    pH  2159-02-01 10:55:00      7.35   \n",
       "24804       2160-12-16 08:50:00    pH  2160-12-16 08:50:00      5.00   \n",
       "\n",
       "                flag gender  hospital_expire_flag  \n",
       "subject_id                                         \n",
       "24802       abnormal      F                     0  \n",
       "24802            NaN      F                     0  \n",
       "24802       abnormal      F                     0  \n",
       "24802            NaN      F                     0  \n",
       "24804            NaN      M                     0  "
      ]
     },
     "execution_count": 14,
     "metadata": {},
     "output_type": "execute_result"
    }
   ],
   "source": [
    "data = pd.DataFrame.from_csv('LAB_EVENTS_FIRST24.csv')\n",
    "data.head()"
   ]
  },
  {
   "cell_type": "markdown",
   "metadata": {},
   "source": [
    "## Reorganizing the data\n",
    "The imported data uses subject_id as the index. The following code moves the subject_id data to a column, creates\n",
    "a proper index and reorganizes the columns to have the lab results grouped together. "
   ]
  },
  {
   "cell_type": "code",
   "execution_count": 15,
   "metadata": {
    "collapsed": false
   },
   "outputs": [
    {
     "name": "stdout",
     "output_type": "stream",
     "text": [
      "complete\n"
     ]
    }
   ],
   "source": [
    "data['subject_id'] = data.index\n",
    "data.set_index(np.arange(data.shape[0]), inplace = True)\n",
    "cols = list(data.columns)\n",
    "cols.insert(0, cols.pop(cols.index('icustay_id')))\n",
    "cols.insert(1, cols.pop(cols.index('subject_id')))\n",
    "data = data[cols]\n",
    "print \"complete\""
   ]
  },
  {
   "cell_type": "code",
   "execution_count": 16,
   "metadata": {
    "collapsed": false
   },
   "outputs": [
    {
     "data": {
      "text/html": [
       "<div>\n",
       "<table border=\"1\" class=\"dataframe\">\n",
       "  <thead>\n",
       "    <tr style=\"text-align: right;\">\n",
       "      <th></th>\n",
       "      <th>icustay_id</th>\n",
       "      <th>subject_id</th>\n",
       "      <th>intime</th>\n",
       "      <th>outtime</th>\n",
       "      <th>charttime</th>\n",
       "      <th>label</th>\n",
       "      <th>charttime.1</th>\n",
       "      <th>valuenum</th>\n",
       "      <th>flag</th>\n",
       "      <th>gender</th>\n",
       "      <th>hospital_expire_flag</th>\n",
       "    </tr>\n",
       "  </thead>\n",
       "  <tbody>\n",
       "    <tr>\n",
       "      <th>0</th>\n",
       "      <td>205291</td>\n",
       "      <td>24802</td>\n",
       "      <td>2159-02-01 10:29:42</td>\n",
       "      <td>2159-02-02 16:05:51</td>\n",
       "      <td>2159-02-01 07:33:00</td>\n",
       "      <td>pH</td>\n",
       "      <td>2159-02-01 07:33:00</td>\n",
       "      <td>7.32</td>\n",
       "      <td>abnormal</td>\n",
       "      <td>F</td>\n",
       "      <td>0</td>\n",
       "    </tr>\n",
       "    <tr>\n",
       "      <th>1</th>\n",
       "      <td>205291</td>\n",
       "      <td>24802</td>\n",
       "      <td>2159-02-01 10:29:42</td>\n",
       "      <td>2159-02-02 16:05:51</td>\n",
       "      <td>2159-02-01 09:33:00</td>\n",
       "      <td>pH</td>\n",
       "      <td>2159-02-01 09:33:00</td>\n",
       "      <td>7.39</td>\n",
       "      <td>NaN</td>\n",
       "      <td>F</td>\n",
       "      <td>0</td>\n",
       "    </tr>\n",
       "    <tr>\n",
       "      <th>2</th>\n",
       "      <td>205291</td>\n",
       "      <td>24802</td>\n",
       "      <td>2159-02-01 10:29:42</td>\n",
       "      <td>2159-02-02 16:05:51</td>\n",
       "      <td>2159-02-01 10:13:00</td>\n",
       "      <td>pH</td>\n",
       "      <td>2159-02-01 10:13:00</td>\n",
       "      <td>7.46</td>\n",
       "      <td>abnormal</td>\n",
       "      <td>F</td>\n",
       "      <td>0</td>\n",
       "    </tr>\n",
       "    <tr>\n",
       "      <th>3</th>\n",
       "      <td>205291</td>\n",
       "      <td>24802</td>\n",
       "      <td>2159-02-01 10:29:42</td>\n",
       "      <td>2159-02-02 16:05:51</td>\n",
       "      <td>2159-02-01 10:55:00</td>\n",
       "      <td>pH</td>\n",
       "      <td>2159-02-01 10:55:00</td>\n",
       "      <td>7.35</td>\n",
       "      <td>NaN</td>\n",
       "      <td>F</td>\n",
       "      <td>0</td>\n",
       "    </tr>\n",
       "    <tr>\n",
       "      <th>4</th>\n",
       "      <td>267509</td>\n",
       "      <td>24804</td>\n",
       "      <td>2160-12-16 00:14:00</td>\n",
       "      <td>2160-12-21 13:57:00</td>\n",
       "      <td>2160-12-16 08:50:00</td>\n",
       "      <td>pH</td>\n",
       "      <td>2160-12-16 08:50:00</td>\n",
       "      <td>5.00</td>\n",
       "      <td>NaN</td>\n",
       "      <td>M</td>\n",
       "      <td>0</td>\n",
       "    </tr>\n",
       "  </tbody>\n",
       "</table>\n",
       "</div>"
      ],
      "text/plain": [
       "   icustay_id  subject_id               intime              outtime  \\\n",
       "0      205291       24802  2159-02-01 10:29:42  2159-02-02 16:05:51   \n",
       "1      205291       24802  2159-02-01 10:29:42  2159-02-02 16:05:51   \n",
       "2      205291       24802  2159-02-01 10:29:42  2159-02-02 16:05:51   \n",
       "3      205291       24802  2159-02-01 10:29:42  2159-02-02 16:05:51   \n",
       "4      267509       24804  2160-12-16 00:14:00  2160-12-21 13:57:00   \n",
       "\n",
       "             charttime label          charttime.1  valuenum      flag gender  \\\n",
       "0  2159-02-01 07:33:00    pH  2159-02-01 07:33:00      7.32  abnormal      F   \n",
       "1  2159-02-01 09:33:00    pH  2159-02-01 09:33:00      7.39       NaN      F   \n",
       "2  2159-02-01 10:13:00    pH  2159-02-01 10:13:00      7.46  abnormal      F   \n",
       "3  2159-02-01 10:55:00    pH  2159-02-01 10:55:00      7.35       NaN      F   \n",
       "4  2160-12-16 08:50:00    pH  2160-12-16 08:50:00      5.00       NaN      M   \n",
       "\n",
       "   hospital_expire_flag  \n",
       "0                     0  \n",
       "1                     0  \n",
       "2                     0  \n",
       "3                     0  \n",
       "4                     0  "
      ]
     },
     "execution_count": 16,
     "metadata": {},
     "output_type": "execute_result"
    }
   ],
   "source": [
    "data.head()"
   ]
  },
  {
   "cell_type": "code",
   "execution_count": 17,
   "metadata": {
    "collapsed": false
   },
   "outputs": [],
   "source": [
    "data2 = data.drop_duplicates('icustay_id', keep = 'first')\n",
    "data3 = data.drop_duplicates('subject_id', keep = 'first')"
   ]
  },
  {
   "cell_type": "code",
   "execution_count": 18,
   "metadata": {
    "collapsed": false
   },
   "outputs": [
    {
     "name": "stdout",
     "output_type": "stream",
     "text": [
      "The number of unique ICU stays = 46654\n",
      "The number of unique patients  = 35688\n"
     ]
    }
   ],
   "source": [
    "print \"The number of unique ICU stays = {}\".format(data2.shape[0])\n",
    "print \"The number of unique patients  = {}\".format(data3.shape[0])"
   ]
  },
  {
   "cell_type": "code",
   "execution_count": 19,
   "metadata": {
    "collapsed": false
   },
   "outputs": [
    {
     "data": {
      "text/plain": [
       "(369074, 11)"
      ]
     },
     "metadata": {},
     "output_type": "display_data"
    },
    {
     "data": {
      "text/html": [
       "<div>\n",
       "<table border=\"1\" class=\"dataframe\">\n",
       "  <thead>\n",
       "    <tr style=\"text-align: right;\">\n",
       "      <th></th>\n",
       "      <th>icustay_id</th>\n",
       "      <th>subject_id</th>\n",
       "      <th>intime</th>\n",
       "      <th>outtime</th>\n",
       "      <th>charttime</th>\n",
       "      <th>label</th>\n",
       "      <th>charttime.1</th>\n",
       "      <th>valuenum</th>\n",
       "      <th>flag</th>\n",
       "      <th>gender</th>\n",
       "      <th>hospital_expire_flag</th>\n",
       "    </tr>\n",
       "  </thead>\n",
       "  <tbody>\n",
       "    <tr>\n",
       "      <th>5</th>\n",
       "      <td>204824</td>\n",
       "      <td>24846</td>\n",
       "      <td>2122-12-23 03:05:01</td>\n",
       "      <td>2122-12-23 18:34:40</td>\n",
       "      <td>2122-12-23 00:51:00</td>\n",
       "      <td>Lactate</td>\n",
       "      <td>2122-12-23 00:51:00</td>\n",
       "      <td>3.7</td>\n",
       "      <td>abnormal</td>\n",
       "      <td>M</td>\n",
       "      <td>0</td>\n",
       "    </tr>\n",
       "    <tr>\n",
       "      <th>7</th>\n",
       "      <td>206949</td>\n",
       "      <td>24825</td>\n",
       "      <td>2167-01-27 15:21:31</td>\n",
       "      <td>2167-01-30 17:33:46</td>\n",
       "      <td>2167-01-27 16:32:00</td>\n",
       "      <td>Lactate</td>\n",
       "      <td>2167-01-27 16:32:00</td>\n",
       "      <td>2.5</td>\n",
       "      <td>abnormal</td>\n",
       "      <td>M</td>\n",
       "      <td>1</td>\n",
       "    </tr>\n",
       "    <tr>\n",
       "      <th>24</th>\n",
       "      <td>257200</td>\n",
       "      <td>24747</td>\n",
       "      <td>2168-12-05 00:22:53</td>\n",
       "      <td>2168-12-08 21:08:34</td>\n",
       "      <td>2168-12-04 21:52:00</td>\n",
       "      <td>Lactate</td>\n",
       "      <td>2168-12-04 21:52:00</td>\n",
       "      <td>2.0</td>\n",
       "      <td>NaN</td>\n",
       "      <td>F</td>\n",
       "      <td>0</td>\n",
       "    </tr>\n",
       "    <tr>\n",
       "      <th>27</th>\n",
       "      <td>257200</td>\n",
       "      <td>24747</td>\n",
       "      <td>2168-12-05 00:22:53</td>\n",
       "      <td>2168-12-08 21:08:34</td>\n",
       "      <td>2168-12-05 01:06:00</td>\n",
       "      <td>Lactate</td>\n",
       "      <td>2168-12-05 01:06:00</td>\n",
       "      <td>1.2</td>\n",
       "      <td>NaN</td>\n",
       "      <td>F</td>\n",
       "      <td>0</td>\n",
       "    </tr>\n",
       "    <tr>\n",
       "      <th>29</th>\n",
       "      <td>282673</td>\n",
       "      <td>24868</td>\n",
       "      <td>2176-11-10 23:55:37</td>\n",
       "      <td>2176-11-28 21:30:35</td>\n",
       "      <td>2176-11-11 03:09:00</td>\n",
       "      <td>Lactate</td>\n",
       "      <td>2176-11-11 03:09:00</td>\n",
       "      <td>5.6</td>\n",
       "      <td>abnormal</td>\n",
       "      <td>M</td>\n",
       "      <td>0</td>\n",
       "    </tr>\n",
       "  </tbody>\n",
       "</table>\n",
       "</div>"
      ],
      "text/plain": [
       "    icustay_id  subject_id               intime              outtime  \\\n",
       "5       204824       24846  2122-12-23 03:05:01  2122-12-23 18:34:40   \n",
       "7       206949       24825  2167-01-27 15:21:31  2167-01-30 17:33:46   \n",
       "24      257200       24747  2168-12-05 00:22:53  2168-12-08 21:08:34   \n",
       "27      257200       24747  2168-12-05 00:22:53  2168-12-08 21:08:34   \n",
       "29      282673       24868  2176-11-10 23:55:37  2176-11-28 21:30:35   \n",
       "\n",
       "              charttime    label          charttime.1  valuenum      flag  \\\n",
       "5   2122-12-23 00:51:00  Lactate  2122-12-23 00:51:00       3.7  abnormal   \n",
       "7   2167-01-27 16:32:00  Lactate  2167-01-27 16:32:00       2.5  abnormal   \n",
       "24  2168-12-04 21:52:00  Lactate  2168-12-04 21:52:00       2.0       NaN   \n",
       "27  2168-12-05 01:06:00  Lactate  2168-12-05 01:06:00       1.2       NaN   \n",
       "29  2176-11-11 03:09:00  Lactate  2176-11-11 03:09:00       5.6  abnormal   \n",
       "\n",
       "   gender  hospital_expire_flag  \n",
       "5       M                     0  \n",
       "7       M                     1  \n",
       "24      F                     0  \n",
       "27      F                     0  \n",
       "29      M                     0  "
      ]
     },
     "metadata": {},
     "output_type": "display_data"
    },
    {
     "data": {
      "text/plain": [
       "array(['pH', 'Lactate', 'Oxygen Saturation'], dtype=object)"
      ]
     },
     "metadata": {},
     "output_type": "display_data"
    }
   ],
   "source": [
    "# display the different measurements captured in the database query\n",
    "labels = data.label.unique()\n",
    "display(data.shape)\n",
    "display(data[(data.label=='Lactate') & (~(data.valuenum.isnull()))].head())\n",
    "display(labels)"
   ]
  },
  {
   "cell_type": "code",
   "execution_count": 20,
   "metadata": {
    "collapsed": false
   },
   "outputs": [
    {
     "name": "stdout",
     "output_type": "stream",
     "text": [
      "the number of samples for pH is 45343\n",
      "the number of samples for Lactate is 31261\n",
      "the number of samples for Oxygen Saturation is 19243\n"
     ]
    }
   ],
   "source": [
    "for item in labels:\n",
    "    print \"the number of samples for {} is {}\".format(item, data['icustay_id'][data.label == item].dropna().unique().shape[0])"
   ]
  },
  {
   "cell_type": "code",
   "execution_count": 42,
   "metadata": {
    "collapsed": false
   },
   "outputs": [
    {
     "name": "stdout",
     "output_type": "stream",
     "text": [
      "complete\n"
     ]
    }
   ],
   "source": [
    "# height and weight are left out from the calculated measures because there was only one\n",
    "# measurement so they are constant.\n",
    "mean_dict_names = {'Lactate_mean_df':'Lactate',\n",
    "                   'pH_mean_df':'pH',\n",
    "                   'O2sat_mean_df':'Oxygen Saturation',  \n",
    "                  }\n",
    "    \n",
    "med_dict_names = {'Lactate_med_df':'Lactate',\n",
    "                   'pH_med_df':'pH',\n",
    "                   'O2sat_med_df':'Oxygen Saturation',  \n",
    "                  }\n",
    "\n",
    "std_dict_names = {'Lactate_std_df':'Lactate',\n",
    "                   'pH_std_df':'pH',\n",
    "                   'O2sat_std_df':'Oxygen Saturation',  \n",
    "                  }\n",
    "\n",
    "skew_dict_names = {'Lactate_skew_df':'Lactate',\n",
    "                   'pH_skew_df':'pH',\n",
    "                   'O2sat_skew_df':'Oxygen Saturation',  \n",
    "                  }\n",
    "\n",
    "kurt_dict_names = {'Lactate_kurt_df':'Lactate', \n",
    "                   'pH_kurt_df':'pH', \n",
    "                   'O2sat_kurt_df':'Oxygen Saturation'}\n",
    "\n",
    "\n",
    "min_dict_names = {'Lactate_min_df':'Lactate',\n",
    "                   'pH_min_df':'pH',\n",
    "                   'O2sat_min_df':'Oxygen Saturation',  \n",
    "                  }\n",
    "\n",
    "max_dict_names = {'Lactate_max_df':'Lactate',\n",
    "                   'pH_max_df':'pH',\n",
    "                   'O2sat_max_df':'Oxygen Saturation',  \n",
    "                  }\n",
    "                  \n",
    "mean_dict = {}\n",
    "med_dict = {}\n",
    "std_dict = {}\n",
    "skew_dict = {}\n",
    "kurt_dict = {}\n",
    "min_dict = {}\n",
    "max_dict = {}\n",
    "# ITERATING THROUGH THE VARIABLES, CALCULATING MEANS, MEDIANS, STD, SKEWNESS, MIN AND MAX'S FOR EACH ITERATION\n",
    "for key in mean_dict_names.keys():\n",
    "    mean_dict[key] = pd.DataFrame(data[data.label == mean_dict_names[key]].groupby('icustay_id')['valuenum'].mean())\n",
    "    mean_dict[key].columns = [key[:-3]]\n",
    "    mean_dict[key]['hospital_expired_flag'] = data.groupby('icustay_id').hospital_expire_flag.first()\n",
    "    mean_dict[key]['gender'] = data.groupby('icustay_id').gender.first()\n",
    "\n",
    "for key in med_dict_names.keys():\n",
    "    med_dict[key] = pd.DataFrame(data[data.label == med_dict_names[key]].groupby('icustay_id')['valuenum'].median())\n",
    "    med_dict[key].columns = [key[:-3]]\n",
    "    med_dict[key]['hospital_expired_flag'] = data.groupby('icustay_id').hospital_expire_flag.first()\n",
    "    med_dict[key]['gender'] = data.groupby('icustay_id').gender.first()\n",
    "\n",
    "for key in std_dict_names.keys(): \n",
    "    std_dict[key] = pd.DataFrame(data[data.label == std_dict_names[key]].groupby('icustay_id')['valuenum'].std())\n",
    "    std_dict[key].columns = [key[:-3]]\n",
    "    std_dict[key]['hospital_expire_flag'] = data.groupby('icustay_id').hospital_expire_flag.first()\n",
    "    std_dict[key]['gender'] = data.groupby('icustay_id').gender.first()\n",
    "\n",
    "for key in skew_dict_names.keys(): \n",
    "    skew_dict[key] = pd.DataFrame(data[data.label == skew_dict_names[key]].groupby('icustay_id')['valuenum'].skew())\n",
    "    skew_dict[key].columns = [key[:-3]]\n",
    "    skew_dict[key]['hospital_expired_flag'] = data.groupby('icustay_id').hospital_expire_flag.first()\n",
    "    skew_dict[key]['gender'] = data.groupby('icustay_id').gender.first()\n",
    "\n",
    "\n",
    "\n",
    "for key in min_dict_names.keys():   \n",
    "    min_dict[key] = pd.DataFrame(data[data.label == min_dict_names[key]].groupby('icustay_id')['valuenum'].min())\n",
    "    min_dict[key].columns = [key[:-3]]\n",
    "    min_dict[key]['hospital_expired_flag'] = data.groupby('icustay_id').hospital_expire_flag.first()\n",
    "    min_dict[key]['gender'] = data.groupby('icustay_id').gender.first()\n",
    "\n",
    "for key in max_dict_names.keys():       \n",
    "    max_dict[key] = pd.DataFrame(data[data.label == max_dict_names[key]].groupby('icustay_id')['valuenum'].max())\n",
    "    max_dict[key].columns = [key[:-3]]\n",
    "    max_dict[key]['hospital_expired_flag'] = data.groupby('icustay_id').hospital_expire_flag.first()\n",
    "    max_dict[key]['gender'] = data.groupby('icustay_id').gender.first()\n",
    "\n",
    "print \"complete\""
   ]
  },
  {
   "cell_type": "code",
   "execution_count": 87,
   "metadata": {
    "collapsed": false
   },
   "outputs": [
    {
     "data": {
      "text/html": [
       "<div>\n",
       "<table border=\"1\" class=\"dataframe\">\n",
       "  <thead>\n",
       "    <tr style=\"text-align: right;\">\n",
       "      <th></th>\n",
       "      <th>O2sat_mean</th>\n",
       "      <th>hospital_expired_flag</th>\n",
       "      <th>gender</th>\n",
       "    </tr>\n",
       "    <tr>\n",
       "      <th>icustay_id</th>\n",
       "      <th></th>\n",
       "      <th></th>\n",
       "      <th></th>\n",
       "    </tr>\n",
       "  </thead>\n",
       "  <tbody>\n",
       "    <tr>\n",
       "      <th>200001</th>\n",
       "      <td>92.0</td>\n",
       "      <td>0</td>\n",
       "      <td>F</td>\n",
       "    </tr>\n",
       "    <tr>\n",
       "      <th>200003</th>\n",
       "      <td>97.0</td>\n",
       "      <td>0</td>\n",
       "      <td>M</td>\n",
       "    </tr>\n",
       "    <tr>\n",
       "      <th>200009</th>\n",
       "      <td>98.0</td>\n",
       "      <td>0</td>\n",
       "      <td>F</td>\n",
       "    </tr>\n",
       "    <tr>\n",
       "      <th>200014</th>\n",
       "      <td>93.0</td>\n",
       "      <td>0</td>\n",
       "      <td>M</td>\n",
       "    </tr>\n",
       "    <tr>\n",
       "      <th>200019</th>\n",
       "      <td>99.0</td>\n",
       "      <td>1</td>\n",
       "      <td>F</td>\n",
       "    </tr>\n",
       "  </tbody>\n",
       "</table>\n",
       "</div>"
      ],
      "text/plain": [
       "            O2sat_mean  hospital_expired_flag gender\n",
       "icustay_id                                          \n",
       "200001            92.0                      0      F\n",
       "200003            97.0                      0      M\n",
       "200009            98.0                      0      F\n",
       "200014            93.0                      0      M\n",
       "200019            99.0                      1      F"
      ]
     },
     "execution_count": 87,
     "metadata": {},
     "output_type": "execute_result"
    }
   ],
   "source": [
    "mean_dict[mean_dict_names.keys()[0]].head()"
   ]
  },
  {
   "cell_type": "code",
   "execution_count": 95,
   "metadata": {
    "collapsed": false
   },
   "outputs": [
    {
     "data": {
      "text/html": [
       "<div>\n",
       "<table border=\"1\" class=\"dataframe\">\n",
       "  <thead>\n",
       "    <tr style=\"text-align: right;\">\n",
       "      <th></th>\n",
       "      <th>pH_kurt</th>\n",
       "      <th>hospital_expired_flag</th>\n",
       "      <th>gender</th>\n",
       "    </tr>\n",
       "    <tr>\n",
       "      <th>icustay_id</th>\n",
       "      <th></th>\n",
       "      <th></th>\n",
       "      <th></th>\n",
       "    </tr>\n",
       "  </thead>\n",
       "  <tbody>\n",
       "    <tr>\n",
       "      <th>205291</th>\n",
       "      <td>-1.721057</td>\n",
       "      <td>0</td>\n",
       "      <td>F</td>\n",
       "    </tr>\n",
       "    <tr>\n",
       "      <th>267509</th>\n",
       "      <td>NaN</td>\n",
       "      <td>0</td>\n",
       "      <td>M</td>\n",
       "    </tr>\n",
       "    <tr>\n",
       "      <th>204824</th>\n",
       "      <td>1.838999</td>\n",
       "      <td>0</td>\n",
       "      <td>M</td>\n",
       "    </tr>\n",
       "    <tr>\n",
       "      <th>210799</th>\n",
       "      <td>-0.273004</td>\n",
       "      <td>0</td>\n",
       "      <td>F</td>\n",
       "    </tr>\n",
       "    <tr>\n",
       "      <th>206949</th>\n",
       "      <td>-1.121281</td>\n",
       "      <td>1</td>\n",
       "      <td>M</td>\n",
       "    </tr>\n",
       "  </tbody>\n",
       "</table>\n",
       "</div>"
      ],
      "text/plain": [
       "             pH_kurt  hospital_expired_flag gender\n",
       "icustay_id                                        \n",
       "205291     -1.721057                      0      F\n",
       "267509           NaN                      0      M\n",
       "204824      1.838999                      0      M\n",
       "210799     -0.273004                      0      F\n",
       "206949     -1.121281                      1      M"
      ]
     },
     "execution_count": 95,
     "metadata": {},
     "output_type": "execute_result"
    }
   ],
   "source": [
    "# KURTOSIS CAN'T BE CALCULATED USING GROUPBY SO WE HAVE TO GET TRICKSY\n",
    "for key in kurt_dict_names.keys(): \n",
    "    stays = []\n",
    "    kurts = []\n",
    "    \n",
    "    stays = data.icustay_id.unique()\n",
    "    for stay in icustays:\n",
    "        kurts.append(data[data.icustay_id == stay]['valuenum'].kurtosis())\n",
    "    kurts_df = pd.DataFrame({key[:-3]:kurts, \n",
    "                                   'icustay_id':stays \n",
    "                                  })\n",
    "    \n",
    "    hosp_exp = pd.DataFrame(data.groupby('icustay_id').hospital_expire_flag.first())\n",
    "    gend = pd.DataFrame(data.groupby('icustay_id').gender.first())\n",
    "    kurts_df.set_index(['icustay_id'], inplace = True)\n",
    "    kurts_df = kurts_df.merge(hosp_exp, left_index = True, right_index = True, how = 'left', sort = True)\n",
    "    kurt_dict[key] = kurts_df.merge(gend, left_index = True, right_index = True, how = 'left', sort = True)\n",
    "    kurt_dict[key].rename(columns={'hospital_expire_flag':'hospital_expired_flag'}, inplace = True)\n",
    "\n",
    "    \n",
    "kurt_dict[key].head()"
   ]
  },
  {
   "cell_type": "markdown",
   "metadata": {},
   "source": [
    "'''\n",
    "monkey = pd.DataFrame({key[:-3]:kurts, 'icustay_id':stays})\n",
    "hosp_exp = data.groupby('icustay_id').hospital_expire_flag.first()\n",
    "gend = data.groupby('icustay_id').gender.first()\n",
    "display(hosp_exp.head())\n",
    "display(gend.head())\n",
    "\n",
    "monkey.set_index(['icustay_id'], inplace = True)\n",
    "monkey = monkey.merge(pd.DataFrame(hosp_exp), left_index = True, right_index = True, how = 'left', sort = True )\n",
    "monkey = monkey.merge(pd.DataFrame(gend), left_index = True, right_index = True, how = 'left', sort = True )\n",
    "\n",
    "monkey.head()\n",
    "'''"
   ]
  },
  {
   "cell_type": "markdown",
   "metadata": {},
   "source": [
    "## IMPORT PATIENT DEMOGRAPHIC DATA INCLUDING GENDER AND SURVIVAL\n",
    "PREVIOUSLY MERGED WITH LABEVENTS DATA BUT MORE RECENT QUERIES OF LABEVENTS DATA INCLUDED HOSPITAL EXPIRE FLAG AS WELL AS GENDER SO THIS MAY BE REMOVED. "
   ]
  },
  {
   "cell_type": "code",
   "execution_count": 97,
   "metadata": {
    "collapsed": false
   },
   "outputs": [
    {
     "data": {
      "text/plain": [
       "(61532, 10)"
      ]
     },
     "execution_count": 97,
     "metadata": {},
     "output_type": "execute_result"
    }
   ],
   "source": [
    "ptnt_demog = pd.DataFrame.from_csv('PTNT_DEMOG_FIRST24.csv')\n",
    "ptnt_demog.shape"
   ]
  },
  {
   "cell_type": "code",
   "execution_count": 98,
   "metadata": {
    "collapsed": false
   },
   "outputs": [
    {
     "data": {
      "text/html": [
       "<div>\n",
       "<table border=\"1\" class=\"dataframe\">\n",
       "  <thead>\n",
       "    <tr style=\"text-align: right;\">\n",
       "      <th></th>\n",
       "      <th>gender</th>\n",
       "      <th>dob</th>\n",
       "      <th>hadm_id</th>\n",
       "      <th>admittime</th>\n",
       "      <th>marital_status</th>\n",
       "      <th>ethnicity</th>\n",
       "      <th>insurance</th>\n",
       "      <th>hospital_expire_flag</th>\n",
       "      <th>icustay_id</th>\n",
       "      <th>first_careunit</th>\n",
       "    </tr>\n",
       "    <tr>\n",
       "      <th>subject_id</th>\n",
       "      <th></th>\n",
       "      <th></th>\n",
       "      <th></th>\n",
       "      <th></th>\n",
       "      <th></th>\n",
       "      <th></th>\n",
       "      <th></th>\n",
       "      <th></th>\n",
       "      <th></th>\n",
       "      <th></th>\n",
       "    </tr>\n",
       "  </thead>\n",
       "  <tbody>\n",
       "    <tr>\n",
       "      <th>2</th>\n",
       "      <td>M</td>\n",
       "      <td>2138-07-17 00:00:00</td>\n",
       "      <td>163353</td>\n",
       "      <td>2138-07-17 19:04:00</td>\n",
       "      <td>NaN</td>\n",
       "      <td>ASIAN</td>\n",
       "      <td>Private</td>\n",
       "      <td>0</td>\n",
       "      <td>243653</td>\n",
       "      <td>NICU</td>\n",
       "    </tr>\n",
       "    <tr>\n",
       "      <th>3</th>\n",
       "      <td>M</td>\n",
       "      <td>2025-04-11 00:00:00</td>\n",
       "      <td>145834</td>\n",
       "      <td>2101-10-20 19:08:00</td>\n",
       "      <td>MARRIED</td>\n",
       "      <td>WHITE</td>\n",
       "      <td>Medicare</td>\n",
       "      <td>0</td>\n",
       "      <td>211552</td>\n",
       "      <td>MICU</td>\n",
       "    </tr>\n",
       "    <tr>\n",
       "      <th>4</th>\n",
       "      <td>F</td>\n",
       "      <td>2143-05-12 00:00:00</td>\n",
       "      <td>185777</td>\n",
       "      <td>2191-03-16 00:28:00</td>\n",
       "      <td>SINGLE</td>\n",
       "      <td>WHITE</td>\n",
       "      <td>Private</td>\n",
       "      <td>0</td>\n",
       "      <td>294638</td>\n",
       "      <td>MICU</td>\n",
       "    </tr>\n",
       "    <tr>\n",
       "      <th>5</th>\n",
       "      <td>M</td>\n",
       "      <td>2103-02-02 00:00:00</td>\n",
       "      <td>178980</td>\n",
       "      <td>2103-02-02 04:31:00</td>\n",
       "      <td>NaN</td>\n",
       "      <td>ASIAN</td>\n",
       "      <td>Private</td>\n",
       "      <td>0</td>\n",
       "      <td>214757</td>\n",
       "      <td>NICU</td>\n",
       "    </tr>\n",
       "    <tr>\n",
       "      <th>6</th>\n",
       "      <td>F</td>\n",
       "      <td>2109-06-21 00:00:00</td>\n",
       "      <td>107064</td>\n",
       "      <td>2175-05-30 07:15:00</td>\n",
       "      <td>MARRIED</td>\n",
       "      <td>WHITE</td>\n",
       "      <td>Medicare</td>\n",
       "      <td>0</td>\n",
       "      <td>228232</td>\n",
       "      <td>SICU</td>\n",
       "    </tr>\n",
       "  </tbody>\n",
       "</table>\n",
       "</div>"
      ],
      "text/plain": [
       "           gender                  dob  hadm_id            admittime  \\\n",
       "subject_id                                                             \n",
       "2               M  2138-07-17 00:00:00   163353  2138-07-17 19:04:00   \n",
       "3               M  2025-04-11 00:00:00   145834  2101-10-20 19:08:00   \n",
       "4               F  2143-05-12 00:00:00   185777  2191-03-16 00:28:00   \n",
       "5               M  2103-02-02 00:00:00   178980  2103-02-02 04:31:00   \n",
       "6               F  2109-06-21 00:00:00   107064  2175-05-30 07:15:00   \n",
       "\n",
       "           marital_status ethnicity insurance  hospital_expire_flag  \\\n",
       "subject_id                                                            \n",
       "2                     NaN     ASIAN   Private                     0   \n",
       "3                 MARRIED     WHITE  Medicare                     0   \n",
       "4                  SINGLE     WHITE   Private                     0   \n",
       "5                     NaN     ASIAN   Private                     0   \n",
       "6                 MARRIED     WHITE  Medicare                     0   \n",
       "\n",
       "            icustay_id first_careunit  \n",
       "subject_id                             \n",
       "2               243653           NICU  \n",
       "3               211552           MICU  \n",
       "4               294638           MICU  \n",
       "5               214757           NICU  \n",
       "6               228232           SICU  "
      ]
     },
     "execution_count": 98,
     "metadata": {},
     "output_type": "execute_result"
    }
   ],
   "source": [
    "ptnt_demog.head()"
   ]
  },
  {
   "cell_type": "code",
   "execution_count": 99,
   "metadata": {
    "collapsed": false,
    "scrolled": false
   },
   "outputs": [
    {
     "name": "stdout",
     "output_type": "stream",
     "text": [
      "M\n",
      "29.4148937564    -5.88831082013\n",
      "F\n",
      "29.5199689566    -5.97579343281\n",
      "M\n",
      "29.4148937564    -5.88831082013\n",
      "F\n",
      "29.5199689566    -5.97579343281\n",
      "M\n",
      "29.4148937564    -5.88831082013\n",
      "F\n",
      "29.5199689566    -5.97579343281\n"
     ]
    },
    {
     "data": {
      "image/png": "[encoded data removed]",
      "text/plain": [
       "<matplotlib.figure.Figure at 0x11a3f2c90>"
      ]
     },
     "metadata": {},
     "output_type": "display_data"
    },
    {
     "data": {
      "image/png": "[encoded data removed]",
      "text/plain": [
       "<matplotlib.figure.Figure at 0x11f6727d0>"
      ]
     },
     "metadata": {},
     "output_type": "display_data"
    },
    {
     "data": {
      "image/png": "[encoded data removed]",
      "text/plain": [
       "<matplotlib.figure.Figure at 0x11b389910>"
      ]
     },
     "metadata": {},
     "output_type": "display_data"
    },
    {
     "data": {
      "image/png": "[encoded data removed]",
      "text/plain": [
       "<matplotlib.figure.Figure at 0x115830990>"
      ]
     },
     "metadata": {},
     "output_type": "display_data"
    },
    {
     "data": {
      "image/png": "[encoded data removed]",
      "text/plain": [
       "<matplotlib.figure.Figure at 0x11a2e41d0>"
      ]
     },
     "metadata": {},
     "output_type": "display_data"
    },
    {
     "data": {
      "image/png": "[encoded data removed]",
      "text/plain": [
       "<matplotlib.figure.Figure at 0x11a780ed0>"
      ]
     },
     "metadata": {},
     "output_type": "display_data"
    }
   ],
   "source": [
    "#mean_dict[mean_dict.keys()[0]].head()\n",
    "dummy = kurt_dict\n",
    "\n",
    "for col in dummy.keys():\n",
    "    \n",
    "    col2 = dummy[col].columns[0]\n",
    "    \n",
    "    \n",
    "    gender = ['M', 'F'] \n",
    "    \n",
    "    for gend in gender:\n",
    "        \n",
    "        print gend\n",
    "        dead = dummy[col][(dummy[col].hospital_expired_flag == 1)&\n",
    "                              (dummy[col].gender == gend)]\n",
    "                          #&(const_dict[col][col2] >20)]\n",
    "        dead.name = 'Non_Survivors'\n",
    "        live = dummy[col][(dummy[col].hospital_expired_flag == 0)&\n",
    "                              (dummy[col].gender == gend)]\n",
    "                          #&(const_dict[col][col2] >20)]\n",
    "        live.name = 'Survivors'\n",
    "    \n",
    "    \n",
    "    \n",
    "    \n",
    "    #dummy = mean_dict[key][mean_dict[key].gender == 'F']\n",
    "    #dummy = skew_dict[key].merge(pd.DataFrame(ptnt_demog['hospital_expire_flag']), \n",
    "    #                                   left_index = True, right_index = True, how='left', sort = True)\n",
    "    \n",
    "        maxx = 0.99\n",
    "        minn = 0.01\n",
    "    \n",
    "        live_max = live[col2].dropna().quantile(0.999)\n",
    "        live_min = live[col2].dropna().quantile(0.01)\n",
    "        dead_max = dead[col2].dropna().quantile(0.999)\n",
    "        dead_min = dead[col2].dropna().quantile(0.01)\n",
    "        maxlim = max(live_max, dead_max)\n",
    "        minlim = min(live_min, dead_min)\n",
    "   \n",
    "        \n",
    "        plt.subplots(figsize=(10,4))\n",
    "        live[(live[col2] < live_max) & (live[col2] > live_min)][col2].plot.kde(\n",
    "                                                                            alpha=1.0,label='Survival')\n",
    "    \n",
    "        dead[(dead[col2] < dead_max) & (dead[col2] > dead_min)][col2].plot.kde(\n",
    "                                                                            alpha=1.0,label='Non-Survivors')\n",
    "        # add title, labels etc.\n",
    "        plt.title('{} measurement on ICU admission'.format(col) + \n",
    "                   'vs ICU mortality by gender = {}\\n'.format(gend))\n",
    "        plt.xlabel(col)\n",
    "        plt.legend(loc=\"upper left\", bbox_to_anchor=(1,1),fontsize=12)\n",
    "   \n",
    "    \n",
    "        print \"{}    {}\".format(maxlim, minlim)\n",
    "        plt.xlim(minlim, maxlim)"
   ]
  },
  {
   "cell_type": "code",
   "execution_count": 74,
   "metadata": {
    "collapsed": false
   },
   "outputs": [
    {
     "data": {
      "text/html": [
       "<div>\n",
       "<table border=\"1\" class=\"dataframe\">\n",
       "  <thead>\n",
       "    <tr style=\"text-align: right;\">\n",
       "      <th></th>\n",
       "      <th>icustay_id</th>\n",
       "      <th>subject_id</th>\n",
       "      <th>intime</th>\n",
       "      <th>outtime</th>\n",
       "      <th>charttime</th>\n",
       "      <th>label</th>\n",
       "      <th>charttime.1</th>\n",
       "      <th>valuenum</th>\n",
       "      <th>flag</th>\n",
       "      <th>gender</th>\n",
       "      <th>hospital_expire_flag</th>\n",
       "    </tr>\n",
       "  </thead>\n",
       "  <tbody>\n",
       "    <tr>\n",
       "      <th>0</th>\n",
       "      <td>205291</td>\n",
       "      <td>24802</td>\n",
       "      <td>2159-02-01 10:29:42</td>\n",
       "      <td>2159-02-02 16:05:51</td>\n",
       "      <td>2159-02-01 07:33:00</td>\n",
       "      <td>pH</td>\n",
       "      <td>2159-02-01 07:33:00</td>\n",
       "      <td>7.32</td>\n",
       "      <td>abnormal</td>\n",
       "      <td>F</td>\n",
       "      <td>0</td>\n",
       "    </tr>\n",
       "    <tr>\n",
       "      <th>4</th>\n",
       "      <td>267509</td>\n",
       "      <td>24804</td>\n",
       "      <td>2160-12-16 00:14:00</td>\n",
       "      <td>2160-12-21 13:57:00</td>\n",
       "      <td>2160-12-16 08:50:00</td>\n",
       "      <td>pH</td>\n",
       "      <td>2160-12-16 08:50:00</td>\n",
       "      <td>5.00</td>\n",
       "      <td>NaN</td>\n",
       "      <td>M</td>\n",
       "      <td>0</td>\n",
       "    </tr>\n",
       "    <tr>\n",
       "      <th>5</th>\n",
       "      <td>204824</td>\n",
       "      <td>24846</td>\n",
       "      <td>2122-12-23 03:05:01</td>\n",
       "      <td>2122-12-23 18:34:40</td>\n",
       "      <td>2122-12-23 00:51:00</td>\n",
       "      <td>Lactate</td>\n",
       "      <td>2122-12-23 00:51:00</td>\n",
       "      <td>3.70</td>\n",
       "      <td>abnormal</td>\n",
       "      <td>M</td>\n",
       "      <td>0</td>\n",
       "    </tr>\n",
       "    <tr>\n",
       "      <th>6</th>\n",
       "      <td>210799</td>\n",
       "      <td>24772</td>\n",
       "      <td>2182-09-05 09:54:52</td>\n",
       "      <td>2182-09-17 12:13:23</td>\n",
       "      <td>2182-09-05 16:27:00</td>\n",
       "      <td>Oxygen Saturation</td>\n",
       "      <td>2182-09-05 16:27:00</td>\n",
       "      <td>60.00</td>\n",
       "      <td>NaN</td>\n",
       "      <td>F</td>\n",
       "      <td>0</td>\n",
       "    </tr>\n",
       "    <tr>\n",
       "      <th>7</th>\n",
       "      <td>206949</td>\n",
       "      <td>24825</td>\n",
       "      <td>2167-01-27 15:21:31</td>\n",
       "      <td>2167-01-30 17:33:46</td>\n",
       "      <td>2167-01-27 16:32:00</td>\n",
       "      <td>Lactate</td>\n",
       "      <td>2167-01-27 16:32:00</td>\n",
       "      <td>2.50</td>\n",
       "      <td>abnormal</td>\n",
       "      <td>M</td>\n",
       "      <td>1</td>\n",
       "    </tr>\n",
       "  </tbody>\n",
       "</table>\n",
       "</div>"
      ],
      "text/plain": [
       "   icustay_id  subject_id               intime              outtime  \\\n",
       "0      205291       24802  2159-02-01 10:29:42  2159-02-02 16:05:51   \n",
       "4      267509       24804  2160-12-16 00:14:00  2160-12-21 13:57:00   \n",
       "5      204824       24846  2122-12-23 03:05:01  2122-12-23 18:34:40   \n",
       "6      210799       24772  2182-09-05 09:54:52  2182-09-17 12:13:23   \n",
       "7      206949       24825  2167-01-27 15:21:31  2167-01-30 17:33:46   \n",
       "\n",
       "             charttime              label          charttime.1  valuenum  \\\n",
       "0  2159-02-01 07:33:00                 pH  2159-02-01 07:33:00      7.32   \n",
       "4  2160-12-16 08:50:00                 pH  2160-12-16 08:50:00      5.00   \n",
       "5  2122-12-23 00:51:00            Lactate  2122-12-23 00:51:00      3.70   \n",
       "6  2182-09-05 16:27:00  Oxygen Saturation  2182-09-05 16:27:00     60.00   \n",
       "7  2167-01-27 16:32:00            Lactate  2167-01-27 16:32:00      2.50   \n",
       "\n",
       "       flag gender  hospital_expire_flag  \n",
       "0  abnormal      F                     0  \n",
       "4       NaN      M                     0  \n",
       "5  abnormal      M                     0  \n",
       "6       NaN      F                     0  \n",
       "7  abnormal      M                     1  "
      ]
     },
     "execution_count": 74,
     "metadata": {},
     "output_type": "execute_result"
    }
   ],
   "source": [
    "data2.head()"
   ]
  },
  {
   "cell_type": "code",
   "execution_count": 78,
   "metadata": {
    "collapsed": false
   },
   "outputs": [
    {
     "data": {
      "text/plain": [
       "'O2sat_mean_df'"
      ]
     },
     "execution_count": 78,
     "metadata": {},
     "output_type": "execute_result"
    }
   ],
   "source": [
    "col"
   ]
  },
  {
   "cell_type": "code",
   "execution_count": 80,
   "metadata": {
    "collapsed": false
   },
   "outputs": [],
   "source": [
    "data2 = data.drop_duplicates('icustay_id', keep = 'first')\n",
    "data3 = data2.drop(['label', 'charttime.1', 'valuenum'], axis = 1)\n",
    "data3.set_index(['icustay_id'], inplace = True)\n",
    "\n",
    "for col in mean_dict.keys():\n",
    "    col2 = mean_dict_names[col]\n",
    "    data3 = data3.merge(pd.DataFrame(mean_dict[col][col[:-3]]), left_index = True, right_index = True, \n",
    "                       how = 'left', sort = True)\n",
    "    newcols = list(data3.columns)\n",
    "    newcols.pop()\n",
    "    newcols.append(col)\n",
    "    data3.columns = newcols"
   ]
  },
  {
   "cell_type": "code",
   "execution_count": 81,
   "metadata": {
    "collapsed": false
   },
   "outputs": [
    {
     "data": {
      "text/html": [
       "<div>\n",
       "<table border=\"1\" class=\"dataframe\">\n",
       "  <thead>\n",
       "    <tr style=\"text-align: right;\">\n",
       "      <th></th>\n",
       "      <th>icustay_id</th>\n",
       "      <th>subject_id</th>\n",
       "      <th>Lactate_max_df</th>\n",
       "      <th>Lactate_mean_df</th>\n",
       "      <th>Lactate_med_df</th>\n",
       "      <th>Lactate_min_df</th>\n",
       "      <th>Lactate_skew_df</th>\n",
       "      <th>Lactate_std_df</th>\n",
       "      <th>O2sat_max_df</th>\n",
       "      <th>O2sat_mean_df</th>\n",
       "      <th>...</th>\n",
       "      <th>gender</th>\n",
       "      <th>hospital_expire_flag</th>\n",
       "      <th>intime</th>\n",
       "      <th>outtime</th>\n",
       "      <th>pH_max_df</th>\n",
       "      <th>pH_mean_df</th>\n",
       "      <th>pH_med_df</th>\n",
       "      <th>pH_min_df</th>\n",
       "      <th>pH_skew_df</th>\n",
       "      <th>pH_std_df</th>\n",
       "    </tr>\n",
       "  </thead>\n",
       "  <tbody>\n",
       "    <tr>\n",
       "      <th>0</th>\n",
       "      <td>205291</td>\n",
       "      <td>24802</td>\n",
       "      <td>0.8</td>\n",
       "      <td>0.800000</td>\n",
       "      <td>0.8</td>\n",
       "      <td>0.8</td>\n",
       "      <td>NaN</td>\n",
       "      <td>NaN</td>\n",
       "      <td>99.0</td>\n",
       "      <td>92.875000</td>\n",
       "      <td>...</td>\n",
       "      <td>F</td>\n",
       "      <td>0</td>\n",
       "      <td>2159-02-01 10:29:42</td>\n",
       "      <td>2159-02-02 16:05:51</td>\n",
       "      <td>7.46</td>\n",
       "      <td>7.325833</td>\n",
       "      <td>7.325</td>\n",
       "      <td>7.26</td>\n",
       "      <td>1.114474</td>\n",
       "      <td>0.057597</td>\n",
       "    </tr>\n",
       "    <tr>\n",
       "      <th>1</th>\n",
       "      <td>267509</td>\n",
       "      <td>24804</td>\n",
       "      <td>NaN</td>\n",
       "      <td>NaN</td>\n",
       "      <td>NaN</td>\n",
       "      <td>NaN</td>\n",
       "      <td>NaN</td>\n",
       "      <td>NaN</td>\n",
       "      <td>NaN</td>\n",
       "      <td>NaN</td>\n",
       "      <td>...</td>\n",
       "      <td>M</td>\n",
       "      <td>0</td>\n",
       "      <td>2160-12-16 00:14:00</td>\n",
       "      <td>2160-12-21 13:57:00</td>\n",
       "      <td>5.00</td>\n",
       "      <td>5.000000</td>\n",
       "      <td>5.000</td>\n",
       "      <td>5.00</td>\n",
       "      <td>NaN</td>\n",
       "      <td>0.000000</td>\n",
       "    </tr>\n",
       "    <tr>\n",
       "      <th>2</th>\n",
       "      <td>204824</td>\n",
       "      <td>24846</td>\n",
       "      <td>3.7</td>\n",
       "      <td>2.866667</td>\n",
       "      <td>2.7</td>\n",
       "      <td>2.2</td>\n",
       "      <td>0.93522</td>\n",
       "      <td>0.763763</td>\n",
       "      <td>NaN</td>\n",
       "      <td>NaN</td>\n",
       "      <td>...</td>\n",
       "      <td>M</td>\n",
       "      <td>0</td>\n",
       "      <td>2122-12-23 03:05:01</td>\n",
       "      <td>2122-12-23 18:34:40</td>\n",
       "      <td>6.50</td>\n",
       "      <td>6.500000</td>\n",
       "      <td>6.500</td>\n",
       "      <td>6.50</td>\n",
       "      <td>NaN</td>\n",
       "      <td>NaN</td>\n",
       "    </tr>\n",
       "    <tr>\n",
       "      <th>3</th>\n",
       "      <td>210799</td>\n",
       "      <td>24772</td>\n",
       "      <td>4.5</td>\n",
       "      <td>4.500000</td>\n",
       "      <td>4.5</td>\n",
       "      <td>4.5</td>\n",
       "      <td>NaN</td>\n",
       "      <td>NaN</td>\n",
       "      <td>95.0</td>\n",
       "      <td>74.142857</td>\n",
       "      <td>...</td>\n",
       "      <td>F</td>\n",
       "      <td>0</td>\n",
       "      <td>2182-09-05 09:54:52</td>\n",
       "      <td>2182-09-17 12:13:23</td>\n",
       "      <td>7.56</td>\n",
       "      <td>7.402000</td>\n",
       "      <td>7.380</td>\n",
       "      <td>7.31</td>\n",
       "      <td>0.741323</td>\n",
       "      <td>0.072329</td>\n",
       "    </tr>\n",
       "    <tr>\n",
       "      <th>4</th>\n",
       "      <td>206949</td>\n",
       "      <td>24825</td>\n",
       "      <td>2.5</td>\n",
       "      <td>2.500000</td>\n",
       "      <td>2.5</td>\n",
       "      <td>2.5</td>\n",
       "      <td>NaN</td>\n",
       "      <td>NaN</td>\n",
       "      <td>NaN</td>\n",
       "      <td>NaN</td>\n",
       "      <td>...</td>\n",
       "      <td>M</td>\n",
       "      <td>1</td>\n",
       "      <td>2167-01-27 15:21:31</td>\n",
       "      <td>2167-01-30 17:33:46</td>\n",
       "      <td>7.41</td>\n",
       "      <td>6.603333</td>\n",
       "      <td>7.400</td>\n",
       "      <td>5.00</td>\n",
       "      <td>-1.731950</td>\n",
       "      <td>1.388536</td>\n",
       "    </tr>\n",
       "  </tbody>\n",
       "</table>\n",
       "<p>5 rows × 26 columns</p>\n",
       "</div>"
      ],
      "text/plain": [
       "   icustay_id  subject_id  Lactate_max_df  Lactate_mean_df  Lactate_med_df  \\\n",
       "0      205291       24802             0.8         0.800000             0.8   \n",
       "1      267509       24804             NaN              NaN             NaN   \n",
       "2      204824       24846             3.7         2.866667             2.7   \n",
       "3      210799       24772             4.5         4.500000             4.5   \n",
       "4      206949       24825             2.5         2.500000             2.5   \n",
       "\n",
       "   Lactate_min_df  Lactate_skew_df  Lactate_std_df  O2sat_max_df  \\\n",
       "0             0.8              NaN             NaN          99.0   \n",
       "1             NaN              NaN             NaN           NaN   \n",
       "2             2.2          0.93522        0.763763           NaN   \n",
       "3             4.5              NaN             NaN          95.0   \n",
       "4             2.5              NaN             NaN           NaN   \n",
       "\n",
       "   O2sat_mean_df    ...     gender  hospital_expire_flag               intime  \\\n",
       "0      92.875000    ...          F                     0  2159-02-01 10:29:42   \n",
       "1            NaN    ...          M                     0  2160-12-16 00:14:00   \n",
       "2            NaN    ...          M                     0  2122-12-23 03:05:01   \n",
       "3      74.142857    ...          F                     0  2182-09-05 09:54:52   \n",
       "4            NaN    ...          M                     1  2167-01-27 15:21:31   \n",
       "\n",
       "               outtime pH_max_df pH_mean_df pH_med_df  pH_min_df pH_skew_df  \\\n",
       "0  2159-02-02 16:05:51      7.46   7.325833     7.325       7.26   1.114474   \n",
       "1  2160-12-21 13:57:00      5.00   5.000000     5.000       5.00        NaN   \n",
       "2  2122-12-23 18:34:40      6.50   6.500000     6.500       6.50        NaN   \n",
       "3  2182-09-17 12:13:23      7.56   7.402000     7.380       7.31   0.741323   \n",
       "4  2167-01-30 17:33:46      7.41   6.603333     7.400       5.00  -1.731950   \n",
       "\n",
       "  pH_std_df  \n",
       "0  0.057597  \n",
       "1  0.000000  \n",
       "2       NaN  \n",
       "3  0.072329  \n",
       "4  1.388536  \n",
       "\n",
       "[5 rows x 26 columns]"
      ]
     },
     "execution_count": 81,
     "metadata": {},
     "output_type": "execute_result"
    }
   ],
   "source": [
    "# A MORE EFFICIENT WAY TO CODE THIS WOULD BE TO MAKE A DICT OF DICTS AND DATAFRAMES\n",
    "# AND ADD A NESTED LOOP\n",
    "\n",
    "for col in med_dict.keys():\n",
    "    col2 = med_dict_names[col]\n",
    "    data3 = data3.merge(pd.DataFrame(med_dict[col][col[:-3]]), left_index = True, right_index = True, \n",
    "                       how = 'left', sort = True)\n",
    "    newcols = list(data3.columns)\n",
    "    newcols.pop()\n",
    "    newcols.append(col)\n",
    "    data3.columns = newcols\n",
    "    \n",
    "for col in std_dict.keys():\n",
    "    col2 = std_dict_names[col]\n",
    "    data3 = data3.merge(pd.DataFrame(std_dict[col][col[:-3]]), left_index = True, right_index = True, \n",
    "                       how = 'left', sort = True)\n",
    "    newcols = list(data3.columns)\n",
    "    newcols.pop()\n",
    "    newcols.append(col)\n",
    "    data3.columns = newcols\n",
    "\n",
    "for col in skew_dict.keys():\n",
    "    col2 = skew_dict_names[col]\n",
    "    data3 = data3.merge(pd.DataFrame(skew_dict[col][col[:-3]]), left_index = True, right_index = True, \n",
    "                       how = 'left', sort = True)\n",
    "    newcols = list(data3.columns)\n",
    "    newcols.pop()\n",
    "    newcols.append(col)\n",
    "    data3.columns = newcols\n",
    "    \n",
    "for col in kurt_dict.keys():\n",
    "    col2 = kurt_dict_names[col]\n",
    "    data3 = data3.merge(pd.DataFrame(kurt_dict[col][col[:-3]]), left_index = True, right_index = True, \n",
    "                       how = 'left', sort = True)\n",
    "    newcols = list(data3.columns)\n",
    "    newcols.pop()\n",
    "    newcols.append(col)\n",
    "    data3.columns = newcols\n",
    "    \n",
    "for col in min_dict.keys():\n",
    "    col2 = min_dict_names[col]\n",
    "    data3 = data3.merge(pd.DataFrame(min_dict[col][col[:-3]]), left_index = True, right_index = True, \n",
    "                       how = 'left', sort = True)\n",
    "    newcols = list(data3.columns)\n",
    "    newcols.pop()\n",
    "    newcols.append(col)\n",
    "    data3.columns = newcols\n",
    "    \n",
    "for col in max_dict.keys():\n",
    "    col2 = max_dict_names[col]\n",
    "    data3 = data3.merge(pd.DataFrame(max_dict[col][col[:-3]]), left_index = True, right_index = True, \n",
    "                       how = 'left', sort = True)\n",
    "    newcols = list(data3.columns)\n",
    "    newcols.pop()\n",
    "    newcols.append(col)\n",
    "    data3.columns = newcols\n",
    "\n",
    "data3['icustay_id'] = data3.index\n",
    "cols = list(data3.columns)\n",
    "cols.sort()\n",
    "cols.insert(0, cols.pop(cols.index('icustay_id')))\n",
    "cols.insert(1, cols.pop(cols.index('subject_id')))\n",
    "data3 = data3[cols]\n",
    "data3.set_index(np.arange(data3.shape[0]), inplace = True)\n",
    "data3.head()"
   ]
  },
  {
   "cell_type": "markdown",
   "metadata": {},
   "source": [
    "## Determine which variables are continuous / float64\n"
   ]
  },
  {
   "cell_type": "code",
   "execution_count": 98,
   "metadata": {
    "collapsed": false
   },
   "outputs": [
    {
     "data": {
      "text/plain": [
       "(1480, 18)"
      ]
     },
     "metadata": {},
     "output_type": "display_data"
    },
    {
     "data": {
      "text/plain": [
       "(1480,)"
      ]
     },
     "metadata": {},
     "output_type": "display_data"
    }
   ],
   "source": [
    "data4 = data3.dropna()\n",
    "X_continuous = data4[list(data4.columns[data4.dtypes == 'float64'])]\n",
    "y = data4['hospital_expire_flag']\n",
    "display(X_continuous.shape)\n",
    "display(y.shape)\n",
    "\n",
    "below_zeros = list(X_continuous.columns[X_continuous.min() < 0])\n",
    "below_zeros\n",
    "\n",
    "for col in below_zeros:\n",
    "    col_min = X_continuous[col].min()\n",
    "    X_continuous[col] = X_continuous[col].apply(lambda x: x-col_min)\n",
    "\n",
    "    \n",
    "    \n",
    "X_continuous.min()"
   ]
  },
  {
   "cell_type": "code",
   "execution_count": 141,
   "metadata": {
    "collapsed": false
   },
   "outputs": [
    {
     "data": {
      "text/plain": [
       "Index([u'Lactate_mean_df', u'Lactate_min_df', u'Lactate_max_df',\n",
       "       u'Lactate_med_df', u'pH_med_df', u'Lactate_std_df', u'pH_mean_df',\n",
       "       u'pH_max_df', u'O2sat_mean_df', u'O2sat_med_df'],\n",
       "      dtype='object')"
      ]
     },
     "execution_count": 141,
     "metadata": {},
     "output_type": "execute_result"
    }
   ],
   "source": []
  },
  {
   "cell_type": "code",
   "execution_count": 146,
   "metadata": {
    "collapsed": false
   },
   "outputs": [
    {
     "name": "stdout",
     "output_type": "stream",
     "text": [
      "2.52489354181e-120    544.013807551   Lactate_max_df\n",
      "3.6289280322e-97    437.586232248   Lactate_mean_df\n",
      "1.55185072372e-93    420.903221406   Lactate_med_df\n",
      "9.48185065197e-87    389.728913781   Lactate_min_df\n",
      "0.545751698307    0.364983084542   Lactate_skew_df\n",
      "9.80841988588e-16    64.4685770291   Lactate_std_df\n",
      "3.36565643467e-05    17.1992700934   O2sat_max_df\n",
      "7.07213067734e-05    15.7914518149   O2sat_mean_df\n",
      "4.92391012065e-05    16.4771825888   O2sat_med_df\n",
      "1.04335003448e-08    32.7587608269   O2sat_min_df\n",
      "0.953004385098    0.00347325955564   O2sat_skew_df\n",
      "0.0928924872035    2.82351997   O2sat_std_df\n",
      "0.753234418199    0.0988331501691   pH_max_df\n",
      "0.570982187493    0.321041875851   pH_mean_df\n",
      "0.638617223257    0.22055518138   pH_med_df\n",
      "0.192918447761    1.69518829172   pH_min_df\n",
      "0.0232548283869    5.14936853517   pH_skew_df\n",
      "0.144322874219    2.13125155366   pH_std_df\n",
      "0.545751698307    0.364983084542   Lactatate_skew_df\n"
     ]
    },
    {
     "data": {
      "text/plain": [
       "Index([u'Lactate_max_df', u'Lactate_mean_df', u'Lactate_med_df',\n",
       "       u'Lactate_min_df', u'Lactate_std_df', u'O2sat_min_df', u'O2sat_max_df',\n",
       "       u'O2sat_med_df', u'O2sat_mean_df', u'pH_skew_df'],\n",
       "      dtype='object')"
      ]
     },
     "execution_count": 146,
     "metadata": {},
     "output_type": "execute_result"
    }
   ],
   "source": [
    "selector = SelectKBest(k=10, score_func = chi2)\n",
    "selector.fit(X_continuous, y)\n",
    "\n",
    "for i in range(len(selector.pvalues_)):\n",
    "    print \"{}    {}   {}\".format(selector.pvalues_[i], selector.scores_[i], X_continuous.columns[i])\n",
    "#X_new, p_vals = SelectKBest(chi2, k=10).fit_transform(X_continuous, y)\n",
    "#X_new.shape\n",
    "largest = pd.Series(selector.scores_).nlargest(10)\n",
    "X_continuous.columns[largest.index]"
   ]
  },
  {
   "cell_type": "code",
   "execution_count": 142,
   "metadata": {
    "collapsed": true
   },
   "outputs": [],
   "source": [
    "monkey = X_continuous.columns[largest.index]"
   ]
  },
  {
   "cell_type": "code",
   "execution_count": 143,
   "metadata": {
    "collapsed": false
   },
   "outputs": [
    {
     "data": {
      "text/plain": [
       "Index([u'Lactate_mean_df', u'Lactate_min_df', u'Lactate_max_df',\n",
       "       u'Lactate_med_df', u'pH_med_df', u'Lactate_std_df', u'pH_mean_df',\n",
       "       u'pH_max_df', u'O2sat_mean_df', u'O2sat_med_df'],\n",
       "      dtype='object')"
      ]
     },
     "execution_count": 143,
     "metadata": {},
     "output_type": "execute_result"
    }
   ],
   "source": [
    "monkey\n",
    "\n"
   ]
  },
  {
   "cell_type": "code",
   "execution_count": 82,
   "metadata": {
    "collapsed": true
   },
   "outputs": [],
   "source": [
    "data3.to_csv('LAB_EVENTS_FIRST24_PROCESSED.csv')"
   ]
  },
  {
   "cell_type": "code",
   "execution_count": null,
   "metadata": {
    "collapsed": false
   },
   "outputs": [],
   "source": [
    "ptnt_demog = pd.DataFrame.from_csv('PTNT_DEMOG_ANGUS_rev.csv')\n",
    "ptnt_demog.shape"
   ]
  },
  {
   "cell_type": "code",
   "execution_count": null,
   "metadata": {
    "collapsed": false
   },
   "outputs": [],
   "source": [
    "display(data3.columns)\n",
    "display(ptnt_demog.columns)"
   ]
  },
  {
   "cell_type": "code",
   "execution_count": null,
   "metadata": {
    "collapsed": false
   },
   "outputs": [],
   "source": [
    "ptnt_demog2 = ptnt_demog[['gender', 'marital_status', 'ethnicity', 'insurance', 'first_careunit', \n",
    "                          'age', 'hospital_expire_flag']]\n",
    "ptnt_demog2.head()"
   ]
  },
  {
   "cell_type": "markdown",
   "metadata": {},
   "source": [
    "## Merging the patient demographic and summary chart data"
   ]
  },
  {
   "cell_type": "code",
   "execution_count": null,
   "metadata": {
    "collapsed": false
   },
   "outputs": [],
   "source": [
    "data4 = data3.copy()\n",
    "data4 = data4.merge(ptnt_demog2, left_index = True, right_index = True, how='left', sort = True)\n",
    "data4.head()"
   ]
  },
  {
   "cell_type": "code",
   "execution_count": null,
   "metadata": {
    "collapsed": false
   },
   "outputs": [],
   "source": [
    "data4.isnull().sum()"
   ]
  },
  {
   "cell_type": "code",
   "execution_count": null,
   "metadata": {
    "collapsed": false
   },
   "outputs": [],
   "source": [
    "#df[np.isfinite(df['EPS'])]\n",
    "#data4[np.isfinite(data4['CO_max'])].shape\n",
    "#data5 = data4.drop(['CO_max', 'HR2_mean'], axis = 1)\n",
    "# DROP COLUMNS WHERE THERE ARE (ARBITRARILY) < 7600 VALUES\n",
    "data5 = data4[data4.columns[data4.isnull().sum() < 7600]]\n",
    "data5.head()\n",
    "\n"
   ]
  },
  {
   "cell_type": "code",
   "execution_count": null,
   "metadata": {
    "collapsed": false
   },
   "outputs": [],
   "source": [
    "data5.dtypes"
   ]
  },
  {
   "cell_type": "code",
   "execution_count": null,
   "metadata": {
    "collapsed": false
   },
   "outputs": [],
   "source": [
    "float_vars = data5.dtypes[data5.dtypes == 'float'].index\n",
    "cat_vars = data5.dtypes[data5.dtypes == 'object'].index\n",
    "int_vars = data5.dtypes[data5.dtypes == 'int64'].index\n",
    "cat_vars = cat_vars.drop(['value'])"
   ]
  },
  {
   "cell_type": "code",
   "execution_count": null,
   "metadata": {
    "collapsed": false
   },
   "outputs": [],
   "source": [
    "#int_vars = int_vars.drop(['subject_id', 'hospital_expire_flag', 'angus'])\n",
    "#int_vars"
   ]
  },
  {
   "cell_type": "code",
   "execution_count": null,
   "metadata": {
    "collapsed": false
   },
   "outputs": [],
   "source": [
    "# HR2\n",
    "display(data5.dropna().shape)\n",
    "display(data5[data5.hospital_expire_flag == 1].dropna().shape)\n",
    "display(data5[data5.hospital_expire_flag == 0].dropna().shape)"
   ]
  },
  {
   "cell_type": "code",
   "execution_count": null,
   "metadata": {
    "collapsed": false
   },
   "outputs": [],
   "source": [
    "for thing in cat_vars[1:2]:\n",
    "    cats = list(data5[thing].unique())\n",
    "    print cats"
   ]
  },
  {
   "cell_type": "code",
   "execution_count": null,
   "metadata": {
    "collapsed": false
   },
   "outputs": [],
   "source": [
    "for thing in cat_vars[:2]:\n",
    "    datadict = dict()\n",
    "    cats = list(data5[thing].unique())\n",
    "    print thing\n",
    "    print cats\n",
    "\n"
   ]
  },
  {
   "cell_type": "code",
   "execution_count": null,
   "metadata": {
    "collapsed": false,
    "scrolled": false
   },
   "outputs": [],
   "source": [
    "for thing in cat_vars:\n",
    "    datadict = dict()\n",
    "    cats = list(data5[thing].unique())\n",
    "    print thing\n",
    "    print cats\n",
    "\n",
    "    for cat in cats:\n",
    "        dead = data5[thing][(data5[thing] == cat) & (data5.hospital_expire_flag == 1)].dropna().count()\n",
    "        live = data5[thing][(data5[thing] == cat) & (data5.hospital_expire_flag == 0)].dropna().count()\n",
    "        total = float(live) + dead\n",
    "        datadict[cat] = (live/total, dead/total)\n",
    "\n",
    "    frame = pd.DataFrame.from_dict(datadict)\n",
    "    frame.index = ['Survivors', 'Non_Survivors']\n",
    "    \n",
    "    frame.transpose().plot.bar(stacked = True, figsize = (13,6), edgecolor = 'black', linewidth = 3, \n",
    "                                 alpha = 0.5, title = \"Percent Survival Rate for \" + thing)\n",
    "    plt.show()\n"
   ]
  },
  {
   "cell_type": "code",
   "execution_count": null,
   "metadata": {
    "collapsed": false
   },
   "outputs": [],
   "source": [
    "len(int_vars)\n",
    "int_vars[1:len(int_vars)-1]"
   ]
  },
  {
   "cell_type": "code",
   "execution_count": null,
   "metadata": {
    "collapsed": false,
    "scrolled": true
   },
   "outputs": [],
   "source": [
    "for thing in int_vars[1:len(int_vars)-1]:\n",
    "    datadict = dict()\n",
    "    cats = list(data5[thing].unique())\n",
    "    print thing\n",
    "    print cats\n",
    "\n",
    "    for cat in cats:\n",
    "        dead = data5[thing][(data5[thing] == cat) & (data5.hospital_expire_flag == 1)].dropna().count()\n",
    "        live = data5[thing][(data5[thing] == cat) & (data5.hospital_expire_flag == 0)].dropna().count()\n",
    "        #total = float(live) + dead\n",
    "        #datadict[cat] = (live/total, dead/total)\n",
    "        datadict[cat] = (live, dead)\n",
    "    frame = pd.DataFrame.from_dict(datadict)\n",
    "    frame.index = ['Survivors', 'Non_Survivors']\n",
    "    \n",
    "    frame.transpose().plot.bar(stacked = True, figsize = (13,6), edgecolor = 'black', linewidth = 3, \n",
    "                                 alpha = 0.5, title = \"Percent Survival Rate for \" + thing)\n",
    "    plt.show()\n"
   ]
  },
  {
   "cell_type": "code",
   "execution_count": null,
   "metadata": {
    "collapsed": false
   },
   "outputs": [],
   "source": [
    "float_vars"
   ]
  },
  {
   "cell_type": "code",
   "execution_count": null,
   "metadata": {
    "collapsed": false,
    "scrolled": false
   },
   "outputs": [],
   "source": [
    "for thing in float_vars:\n",
    "    # plot\n",
    "    plt.subplots(figsize=(13,6))\n",
    "    data5[thing][data5.hospital_expire_flag==1].dropna().plot.kde(\n",
    "        alpha=1.0,label='Non-survival')\n",
    "    data5[thing][data5.hospital_expire_flag==0].dropna().plot.kde(\n",
    "        alpha=1.0,label='Survival')\n",
    "    \n",
    "  \n",
    "\n",
    "    # add title, labels etc.\n",
    "    plt.title('First {} measurement on ICU admission '.format(thing.lower()) +\n",
    "               'vs ICU mortality \\n')\n",
    "    plt.xlabel(thing)\n",
    "    plt.legend(loc=\"upper left\", bbox_to_anchor=(1,1),fontsize=12)\n",
    "   # plt.xlim(0, data5[thing].dropna().quantile(0.99))\n",
    "    \n",
    "  "
   ]
  },
  {
   "cell_type": "code",
   "execution_count": null,
   "metadata": {
    "collapsed": false
   },
   "outputs": [],
   "source": [
    "dead_men = data5.gender[(data5['gender']=='M') & (data5.hospital_expire_flag ==1)].dropna().count()\n",
    "dead_women = data5.gender[(data5['gender']=='F') & (data5.hospital_expire_flag ==1)].dropna().count()\n",
    "live_men = data5.gender[(data5['gender']=='M') & (data5.hospital_expire_flag ==0)].dropna().count()\n",
    "live_women = data5.gender[(data5['gender']=='F') & (data5.hospital_expire_flag ==0)].dropna().count()\n",
    "survival = pd.DataFrame([[live_men, live_women], \n",
    "                        [dead_men, dead_women]], \n",
    "                       columns = ['Men', 'Women'],\n",
    "                       index = ['Survivors', 'Non_Survivors'])\n",
    "survival"
   ]
  },
  {
   "cell_type": "code",
   "execution_count": null,
   "metadata": {
    "collapsed": false
   },
   "outputs": [],
   "source": [
    "survival.transpose().plot.bar(stacked = True, figsize = (13,6), edgecolor = 'black', linewidth = 3, \n",
    "                             alpha = 0.5)"
   ]
  },
  {
   "cell_type": "code",
   "execution_count": null,
   "metadata": {
    "collapsed": false
   },
   "outputs": [],
   "source": [
    "np.arange(2)"
   ]
  },
  {
   "cell_type": "code",
   "execution_count": null,
   "metadata": {
    "collapsed": false
   },
   "outputs": [],
   "source": [
    "ind = np.arange(1,3)    # the x locations for the groups\n",
    "width = 0.25       # the width of the bars: can also be len(x) sequence\n",
    "\n",
    "plt.figure(figsize= (20,10))\n",
    "p1 = plt.bar(ind - width/2, survival.iloc[0], width, color = 'green', edgecolor = 'black',\n",
    "            linewidth = 3)\n",
    "p2 = plt.bar(ind - width/2, survival.iloc[1], width, color = 'red', edgecolor = 'black', \n",
    "             linewidth = 3, bottom=survival.iloc[0])\n",
    "\n",
    "plt.ylabel('Number of Patients')\n",
    "plt.title('Survivors vs. Non-Survivors')\n",
    "plt.xticks(ind, ('Men', 'Women'))\n",
    "#plt.yticks(np.arange(0, 81, 10))\n",
    "plt.legend((p1[0], p2[0]), ('Survivors', 'Non_Survivors'))\n",
    "\n",
    "plt.show()"
   ]
  },
  {
   "cell_type": "code",
   "execution_count": null,
   "metadata": {
    "collapsed": true
   },
   "outputs": [],
   "source": []
  },
  {
   "cell_type": "code",
   "execution_count": null,
   "metadata": {
    "collapsed": false
   },
   "outputs": [],
   "source": [
    "#ax = skew_df.plot.bar(figsize = (20,7), title = 'Skewness Values for Different Data Transforms')\n",
    "#ax.set_ylabel(\"Skewness\")\n",
    "#data5.groupby(['hospital_expire_flag'])[['gender']].count().plot(kind='bar', stacked = True )\n",
    "data5[cat_vars].plot.hist()"
   ]
  },
  {
   "cell_type": "code",
   "execution_count": null,
   "metadata": {
    "collapsed": false
   },
   "outputs": [],
   "source": [
    "'''\n",
    "# a dictionary is created containing units of measure for the different lab measurements\n",
    "labs = {'ANIONGAP': 'mEq/L',\n",
    "        'ALBUMIN': 'g/dL',\n",
    "        'BICARBONATE': 'mEq/L',\n",
    "        'BILIRUBIN': 'mg/dL',\n",
    "        'BUN': '',\n",
    "        'CHLORIDE': 'mEq/L',\n",
    "        'CREATININE': 'mg/dL',\n",
    "        'GLUCOSE': 'mg/dL',\n",
    "        'HEMATOCRIT': '%',\n",
    "        'HEMOGLOBIN': 'g/dL',\n",
    "        'INR': '',\n",
    "        'LACTATE': 'mmol/L',\n",
    "        'MAGNESIUM': 'mmol/L',\n",
    "        'PHOSPHATE': 'mg/dL',\n",
    "        'PLATELET': 'K/uL',\n",
    "        'POTASSIUM': 'mEq/L',\n",
    "        'PT': '',\n",
    "        'PTT': 'sec',\n",
    "        'SODIUM':'mmol/L',\n",
    "        'WBC': ''}\n",
    "'''\n",
    "# a list is created containing units of measure for the lab measurements\n",
    "lab_units = ['g/dL',\n",
    "        'mEq/L',\n",
    "        'mEq/L',\n",
    "        'mg/dL',\n",
    "        '',\n",
    "        'mEq/L',\n",
    "        'mg/dL',\n",
    "        'mg/dL',\n",
    "        '%', \n",
    "        'g/dL',\n",
    "        '',\n",
    "        'mmol/L',\n",
    "        'mmol/L',\n",
    "        'mg/dL',\n",
    "        'K/uL',\n",
    "        'mEq/L',\n",
    "        '',\n",
    "        'sec',\n",
    "        'mmol/L',\n",
    "        '']\n",
    "\n",
    "# currently using lab_measures and lab_units to create the dict. \n",
    "# could be done more succinctly using the dictionary described above\n",
    "labs_dict = dict(zip(lab_measures, lab_units))\n",
    "print labs_dict\n"
   ]
  },
  {
   "cell_type": "code",
   "execution_count": null,
   "metadata": {
    "collapsed": false,
    "scrolled": false
   },
   "outputs": [],
   "source": [
    "for l, u in iter(sorted(labs_dict.iteritems())):\n",
    "    # count patients\n",
    "    n_nonsurv = data[l][data.mort_icu==1].dropna().count()\n",
    "    n_surv = data[l][data.mort_icu==0].dropna().count()\n",
    "    \n",
    "    # get median, variance, skewness\n",
    "    med_nonsurv = data[l][data.mort_icu==1].dropna().median()\n",
    "    med_surv = data[l][data.mort_icu==0].dropna().median()\n",
    "    var_nonsurv = data[l][data.mort_icu==1].dropna().var()\n",
    "    var_surv = data[l][data.mort_icu==0].dropna().var()\n",
    "    skew_nonsurv = data[l][data.mort_icu==1].dropna().skew()\n",
    "    skew_surv = data[l][data.mort_icu==0].dropna().skew() \n",
    "    \n",
    "    # Are the 2 samples drawn from the same continuous distribution? \n",
    "    # Try Kolmogorov Smirnov test \n",
    "    ks_stat, p_val = ks_2samp(data[l][data.mort_icu==1].dropna(),\n",
    "                              data[l][data.mort_icu==0].dropna())\n",
    "\n",
    "    # plot\n",
    "    plt.subplots(figsize=(13,6))\n",
    "    data[l][data.mort_icu==1].dropna().plot.kde(\n",
    "        alpha=1.0,label='Non-survival (n={})'.format(n_nonsurv))\n",
    "    data[l][data.mort_icu==0].dropna().plot.kde(\n",
    "        alpha=1.0,label='Survival (n={})'.format(n_surv))\n",
    "    \n",
    "    # fake plots for KS test, median, etc\n",
    "    plt.plot([], label=' ',color='lightgray')\n",
    "    plt.plot([], label='KS test: p={}'.format(format(p_val,'.3f')),\n",
    "             color='lightgray')\n",
    "    plt.plot([], label='Median (non-surv): {}'.format(format(med_nonsurv,'.2f')),\n",
    "             color='lightgray')\n",
    "    plt.plot([], label='Median (surv): {}'.format(format(med_surv,'.2f')),\n",
    "             color='lightgray')\n",
    "    plt.plot([], label='Variance (non-surv): {}'.format(format(var_nonsurv,'.2f')),\n",
    "             color='lightgray')\n",
    "    plt.plot([], label='Variance (surv): {}'.format(format(var_surv,'.2f')),\n",
    "             color='lightgray')\n",
    "    plt.plot([], label='Skew (non-surv): {}'.format(format(skew_nonsurv,'.2f')),\n",
    "             color='lightgray')\n",
    "    plt.plot([], label='Skew (surv): {}'.format(format(skew_surv,'.2f')),\n",
    "             color='lightgray')\n",
    "\n",
    "    # add title, labels etc.\n",
    "    plt.title('First {} measurement on ICU admission '.format(l.lower()) +\n",
    "               'vs ICU mortality \\n')\n",
    "    plt.xlabel(l + ' ' + u)\n",
    "    plt.legend(loc=\"upper left\", bbox_to_anchor=(1,1),fontsize=12)\n",
    "    plt.xlim(0, data[l].dropna().quantile(0.99))\n",
    "    \n",
    "    # Add lab range if available\n",
    "    if l in lab_ranges:\n",
    "        plt.axvline(lab_ranges[l][0],color='k',linestyle='--')\n",
    "        plt.axvline(lab_ranges[l][1],color='k',linestyle='--')"
   ]
  },
  {
   "cell_type": "markdown",
   "metadata": {},
   "source": [
    "## Generating box-plots for each variable for both survival and non-survival groups. "
   ]
  },
  {
   "cell_type": "code",
   "execution_count": null,
   "metadata": {
    "collapsed": false,
    "scrolled": false
   },
   "outputs": [],
   "source": [
    "# Plot first laboratory measurement on ICU admission vs ICU mortality\n",
    "# Would be clearer to plot CDF\n",
    "# Additional variables to be added: magnesium, phosphate, calcium\n",
    "\n",
    "labs = {'ANIONGAP': 'mEq/L',\n",
    "        'ALBUMIN': 'g/dL',\n",
    "        'BICARBONATE': 'mEq/L',\n",
    "        'BILIRUBIN': 'mg/dL',\n",
    "        'BUN': '',\n",
    "        'CHLORIDE': 'mEq/L',\n",
    "        'CREATININE': 'mg/dL',\n",
    "        'GLUCOSE': 'mg/dL',\n",
    "        'HEMATOCRIT': '%',\n",
    "        'HEMOGLOBIN': 'g/dL',\n",
    "        'INR': '',\n",
    "        'LACTATE': 'mmol/L',\n",
    "        'MAGNESIUM': 'mmol/L',\n",
    "        'PHOSPHATE': 'mg/dL',\n",
    "        'PLATELET': 'K/uL',\n",
    "        'POTASSIUM': 'mEq/L',\n",
    "        'PT': '',\n",
    "        'PTT': 'sec',\n",
    "        'SODIUM':'mmol/L',\n",
    "        'WBC': ''}\n",
    "\n",
    "for l, u in iter(sorted(labs.iteritems())):\n",
    "    # count patients\n",
    "    n_nonsurv = data[l.lower()+'_1st'][data.mort_icu==1].dropna().count()\n",
    "    n_surv = data[l.lower()+'_1st'][data.mort_icu==0].dropna().count()\n",
    "    \n",
    "    # get median, variance, skewness\n",
    "    med_nonsurv = data[l.lower()+'_1st'][data.mort_icu==1].dropna().median()\n",
    "    med_surv = data[l.lower()+'_1st'][data.mort_icu==0].dropna().median()\n",
    "    var_nonsurv = data[l.lower()+'_1st'][data.mort_icu==1].dropna().var()\n",
    "    var_surv = data[l.lower()+'_1st'][data.mort_icu==0].dropna().var()\n",
    "    skew_nonsurv = data[l.lower()+'_1st'][data.mort_icu==1].dropna().skew()\n",
    "    skew_surv = data[l.lower()+'_1st'][data.mort_icu==0].dropna().skew() \n",
    "    \n",
    "    # Are the 2 samples drawn from the same continuous distribution? \n",
    "    # Try Kolmogorov Smirnov test \n",
    "    ks_stat, p_val = ks_2samp(data[l.lower()+'_1st'][data.mort_icu==1].dropna(),\n",
    "                              data[l.lower()+'_1st'][data.mort_icu==0].dropna())\n",
    "\n",
    "    # plot\n",
    "    #fig, ax1 = plt.subplots(figsize=(13, 6))\n",
    "    #fig.canvas.set_window_title('A Boxplot Example')\n",
    "    #plt.subplots(figsize=(13,6))\n",
    "    #box_data = data[['mort_icu', l.lower()+'_1st']].dropna()\n",
    "    data[['mort_icu', l.lower()+'_1st']].dropna().boxplot(by='mort_icu', figsize = (13,5))\n",
    "   #data[['mort_icu', l.lower()+'_1st']].dropna().boxplot(by='mort_icu', figsize = (13,5))\n",
    "    #    label='Non-survival (n={})'.format(n_nonsurv))\n",
    "    plt.suptitle(\"\")\n",
    "    '''\n",
    "    data[l.lower()+'_1st'][data.mort_icu==0].dropna().plot.box(\n",
    "        label='Survival (n={})'.format(n_surv))\n",
    "    '''\n",
    "    \n",
    "    # fake plots for KS test, median, etc\n",
    "    plt.plot([], label=' ',color='lightgray')\n",
    "    plt.plot([], label='KS test: p={}'.format(format(p_val,'.3f')),\n",
    "             color='lightgray')\n",
    "    plt.plot([], label='Median (non-surv): {}'.format(format(med_nonsurv,'.2f')),\n",
    "             color='lightgray')\n",
    "    plt.plot([], label='Median (surv): {}'.format(format(med_surv,'.2f')),\n",
    "             color='lightgray')\n",
    "    plt.plot([], label='Variance (non-surv): {}'.format(format(var_nonsurv,'.2f')),\n",
    "             color='lightgray')\n",
    "    plt.plot([], label='Variance (surv): {}'.format(format(var_surv,'.2f')),\n",
    "             color='lightgray')\n",
    "    plt.plot([], label='Skew (non-surv): {}'.format(format(skew_nonsurv,'.2f')),\n",
    "             color='lightgray')\n",
    "    plt.plot([], label='Skew (surv): {}'.format(format(skew_surv,'.2f')),\n",
    "             color='lightgray')\n",
    "    \n",
    "   # add title, labels etc.\n",
    "    plt.title('First {} measurement on ICU admission '.format(l.lower()) +\n",
    "               'vs ICU mortality \\n')\n",
    "    \n",
    "    plt.xlabel(l + ' ' + u)\n",
    "    plt.legend(loc=\"upper left\", bbox_to_anchor=(1,1),fontsize=12)\n",
    "   # plt.xlim(0, data[l.lower()+'_1st'].dropna().quantile(0.99))\n",
    "    \n",
    "    # Add lab range if available\n",
    "    if l in lab_ranges:\n",
    "        plt.axvline(lab_ranges[l][0],color='k',linestyle='--')\n",
    "        plt.axvline(lab_ranges[l][1],color='k',linestyle='--')\n",
    "    \n",
    "    "
   ]
  },
  {
   "cell_type": "markdown",
   "metadata": {},
   "source": [
    "## From the density plots above, a list of variables was generated for which the distribution was very similar between survival and non-survival groups. (Maybe include similarity threshold??)"
   ]
  },
  {
   "cell_type": "code",
   "execution_count": null,
   "metadata": {
    "collapsed": false
   },
   "outputs": [],
   "source": [
    "# Generate list of variables which, from density plots above, are similar between surivial and non-survival groups\n",
    "cols_list = list(data.columns)\n",
    "remove_list = ['chloride_1st', 'glucose_1st', 'hematocrit_1st', 'hemoglobin_1st', 'platelet_1st']\n",
    "for element in remove_list:\n",
    "    cols_list.remove(element)\n",
    "    \n",
    "display(cols_list)"
   ]
  },
  {
   "cell_type": "code",
   "execution_count": null,
   "metadata": {
    "collapsed": false
   },
   "outputs": [],
   "source": [
    "# data4 includes all variables except those identified as similar between survival and non-survival groups. \n",
    "data2 = data[cols_list]\n",
    "data2.head()"
   ]
  },
  {
   "cell_type": "markdown",
   "metadata": {},
   "source": [
    "## Removing data points that include any NaN values"
   ]
  },
  {
   "cell_type": "code",
   "execution_count": null,
   "metadata": {
    "collapsed": false
   },
   "outputs": [],
   "source": [
    "# remove samples which have any values that are nan\n",
    "data2 = data2.dropna()\n",
    "data2.set_index(np.arange(data2.shape[0]), inplace = True)\n",
    "data2.head()"
   ]
  },
  {
   "cell_type": "markdown",
   "metadata": {},
   "source": [
    "## The survival rate calculated below indicates that 82% of patients survived. "
   ]
  },
  {
   "cell_type": "code",
   "execution_count": null,
   "metadata": {
    "collapsed": false
   },
   "outputs": [],
   "source": [
    "dead = data2['mort_icu'][data2.mort_icu==1].count()\n",
    "survivors = data2['mort_icu'][data2.mort_icu==0].count()\n",
    "survival_rate = float(survivors)/(dead+survivors)\n",
    "print \"Number of  patients deceased = {}\".format(dead)\n",
    "print \"Number of patients           = {}\".format(dead + survivors)\n",
    "print \"Survival Rate                = {}\".format(survival_rate * 100)"
   ]
  },
  {
   "cell_type": "markdown",
   "metadata": {},
   "source": [
    "## Support Vector Machine Classification on un-processed data with variables selected based on visual inspection\n",
    "The variables enumerated in 'remove_list' were observed for both survivors and non-survivors and appeared to be very similar in distribution. Because they appeared to be very similar for both groups, they were excluded as features for classification. "
   ]
  },
  {
   "cell_type": "code",
   "execution_count": null,
   "metadata": {
    "collapsed": false
   },
   "outputs": [],
   "source": [
    "X_train, X_test, y_train, y_test = train_test_split(data2[data2.columns[1:]], data2['mort_icu'], \n",
    "                                                    test_size = 0.30, random_state = 42)\n",
    "\n",
    "clf_SVC = svm.SVC(C=1.0, cache_size=200, class_weight=None, coef0=0.0,\n",
    "    decision_function_shape=None, degree=3, gamma='auto', kernel='rbf', \n",
    "    max_iter=-1, probability=False, random_state=None, shrinking=True,\n",
    "    tol=0.001, verbose=False).fit(X_train, y_train)\n",
    "\n",
    "scores = cross_val_score(clf_SVC, data2[data2.columns[1:]], data2['mort_icu'], cv=5)\n",
    "display(scores)  \n"
   ]
  },
  {
   "cell_type": "code",
   "execution_count": null,
   "metadata": {
    "collapsed": false,
    "scrolled": true
   },
   "outputs": [],
   "source": [
    "clf_SVC.score(X_test, y_test)\n",
    "y_predsSVC = clf_SVC.predict(X_test)\n",
    "display(metrics.confusion_matrix(y_test, y_predsSVC))"
   ]
  },
  {
   "cell_type": "markdown",
   "metadata": {},
   "source": [
    "## The Confusion Matrix indicates that the classifier simply predicts survival for each patient which, because 82% of the patients survived, results in 82% Accuracy. "
   ]
  },
  {
   "cell_type": "markdown",
   "metadata": {},
   "source": [
    "## Gaussian Naive Bayes Classification on un-processed data with variables selected based on visual inspection"
   ]
  },
  {
   "cell_type": "code",
   "execution_count": null,
   "metadata": {
    "collapsed": false
   },
   "outputs": [],
   "source": [
    "X_train, X_test, y_train, y_test = train_test_split(data2[data2.columns[1:]], data2['mort_icu'], \n",
    "                                                    test_size = 0.40, random_state = 42)\n",
    "\n",
    "### create classifier\n",
    "clf_GNB = GaussianNB()\n",
    "### fit the classifier on the training features and labels\n",
    "clf_GNB.fit(X_train, y_train)\n",
    "    ### return the fit classifier\n",
    "\n",
    "nb_score = clf_GNB.score(X_test, y_test) \n",
    "\n",
    "print nb_score\n",
    "y_predsGNB = clf_GNB.predict(X_test)\n",
    "metrics.confusion_matrix(y_test, y_predsGNB)\n",
    "\n"
   ]
  },
  {
   "cell_type": "markdown",
   "metadata": {},
   "source": [
    "## The Confusion Matrix indicates that the classifier predicts survival rates with ~78% accuracy with a mixture of predictions rather than predicting all survival as was the case for the SVM classifier. Unfortunately, the accuracy is not better than predicting all survivors. "
   ]
  },
  {
   "cell_type": "markdown",
   "metadata": {},
   "source": [
    "## Multi-Layer Perceptron Classification on un-processed data with variables selected based on visual inspection"
   ]
  },
  {
   "cell_type": "code",
   "execution_count": null,
   "metadata": {
    "collapsed": false
   },
   "outputs": [],
   "source": [
    "\n",
    "X_train, X_test, y_train, y_test = train_test_split(data2[data2.columns[1:]], data2['mort_icu'], \n",
    "                                                    test_size = 0.20, random_state = 42)\n",
    "\n",
    "clf_MLP = MLPClassifier(solver='lbfgs', alpha=1e-5,\n",
    "                    hidden_layer_sizes=(7, 4), random_state=1)\n",
    "\n",
    "clf_MLP.fit(X_train, y_train)                         \n",
    "\n",
    "display(clf_MLP.score(X_test, y_test))\n",
    "y_predsMLP = clf_MLP.predict(X_test)\n",
    "metrics.confusion_matrix(y_test, y_predsMLP)\n",
    "\n",
    "\n"
   ]
  },
  {
   "cell_type": "markdown",
   "metadata": {},
   "source": [
    "## Creating a Dataframe of skewness measurements for the raw data and for different transforms to calculate what transform does the best job of normalizing the data"
   ]
  },
  {
   "cell_type": "code",
   "execution_count": null,
   "metadata": {
    "collapsed": false
   },
   "outputs": [],
   "source": [
    "# create dict from which we'll build skew measures dataframe\n",
    "skew_dict2 = {data2.columns[1]:\n",
    "              {\n",
    "             'raw_skew': scats.skew(data2[data2.columns[1]]), \n",
    "             'sqrt_skew': scats.skew(np.sqrt(data2[data2.columns[1]])), \n",
    "             'log_skew': scats.skew(np.log(data2[data2.columns[1]].add(1))),  \n",
    "             'boxcox_skew': scats.skew(scats.boxcox(data2[data2.columns[1]].add(1))[0])\n",
    "             }\n",
    "             }\n",
    "\n",
    "print skew_dict2\n",
    "skew_df = pd.DataFrame.from_dict(skew_dict2, orient = 'index')  \n",
    "skew_df"
   ]
  },
  {
   "cell_type": "code",
   "execution_count": null,
   "metadata": {
    "collapsed": false
   },
   "outputs": [],
   "source": [
    "# re-order columns\n",
    "skew_df = skew_df[['raw_skew', 'sqrt_skew', 'log_skew', 'boxcox_skew']]\n"
   ]
  },
  {
   "cell_type": "code",
   "execution_count": null,
   "metadata": {
    "collapsed": false
   },
   "outputs": [],
   "source": [
    "skew_df"
   ]
  },
  {
   "cell_type": "code",
   "execution_count": null,
   "metadata": {
    "collapsed": false
   },
   "outputs": [],
   "source": [
    "              \n",
    "for col in data2.columns[2:]:\n",
    "    raw_skew = scats.skew(data2[col])\n",
    "    \n",
    "    sqrt_skew = scats.skew(np.sqrt(data2[col]))\n",
    "    log_skew = scats.skew(np.log(data2[col].add(1)))\n",
    "        #print \"{} logskew = {}\".format(col, new_skew_val2)\n",
    "    boxcox_skew = scats.skew(scats.boxcox(data2[col].add(1))[0])\n",
    "    new_row = pd.Series([raw_skew, sqrt_skew, log_skew, boxcox_skew],\n",
    "                        #index=['measurement', 'raw_skew', 'sqrt_skew', 'log_skew', 'boxcox_skew'],\n",
    "                        index=['raw_skew', 'sqrt_skew', 'log_skew', 'boxcox_skew'],\n",
    "                       name = col)\n",
    "\n",
    "    skew_df = skew_df.append(new_row)#, ignore_index = True)\n",
    "\n",
    "skew_df"
   ]
  },
  {
   "cell_type": "code",
   "execution_count": null,
   "metadata": {
    "collapsed": true
   },
   "outputs": [],
   "source": [
    "skew_df.columns.name = 'Skewness Values'\n",
    "skew_df.index.name = 'Lab Measures'"
   ]
  },
  {
   "cell_type": "markdown",
   "metadata": {},
   "source": [
    "## The figure below shows the skewness values for each lab measurement for normalized data that has been transformed by taking the log, the square root and using the box-cox function. It can be seen that the box-cox function performed better than other transforms in reducing skewness. \n"
   ]
  },
  {
   "cell_type": "code",
   "execution_count": null,
   "metadata": {
    "collapsed": false
   },
   "outputs": [],
   "source": [
    "ax = skew_df.plot.bar(figsize = (20,7), title = 'Skewness Values for Different Data Transforms')\n",
    "ax.set_ylabel(\"Skewness\")"
   ]
  },
  {
   "cell_type": "code",
   "execution_count": null,
   "metadata": {
    "collapsed": false,
    "scrolled": true
   },
   "outputs": [],
   "source": [
    "#sqrt_norm_data = np.sqrt(data2_norm[data2_norm.columns[1:]])\n",
    "#log_norm_data = np.log(data2_norm[data2_norm.columns[1:]].add(1))\n",
    "boxcox_data = data2.copy()\n",
    "for feature_name in data2.columns[1:]:\n",
    "    boxcox_data[feature_name] = scats.boxcox(data2[feature_name].add(1))[0]\n",
    "\n",
    "boxcox_data.head()"
   ]
  },
  {
   "cell_type": "markdown",
   "metadata": {},
   "source": [
    "## Code to identify outliers in normalized data"
   ]
  },
  {
   "cell_type": "code",
   "execution_count": null,
   "metadata": {
    "collapsed": true
   },
   "outputs": [],
   "source": [
    "names_dict = {}\n",
    "suffix = '_outliers'\n",
    "\n",
    "\n",
    "for feature in boxcox_data.keys():\n",
    "    if feature != 'mort_icu':\n",
    "        # TODO: Calculate Q1 (25th percentile of the data) for the given feature\n",
    "        Q1 = np.percentile(boxcox_data[feature], 25)\n",
    "\n",
    "        # TODO: Calculate Q3 (75th percentile of the data) for the given feature\n",
    "        Q3 = np.percentile(boxcox_data[feature], 75)\n",
    "\n",
    "        # TODO: Use the interquartile range to calculate an outlier step (1.5 times the interquartile range)\n",
    "        step = 1.5*(Q3 - Q1)\n",
    "\n",
    "        # Display the outliers\n",
    "        # print \"Data points considered outliers for the feature '{}':\".format(feature)\n",
    "        # display(data2[~((data2[feature] >= Q1 - step) & (data2[feature] <= Q3 + step))])\n",
    "        names_dict[feature+suffix] = boxcox_data[~((boxcox_data[feature] >= Q1 - step) & (boxcox_data[feature] <= Q3 + step))].index\n",
    "# OPTIONAL: Select the indices for data points you wish to remove"
   ]
  },
  {
   "cell_type": "markdown",
   "metadata": {},
   "source": [
    "## Code to remove datapoints from normalized data with 3 or more variables that are outliers"
   ]
  },
  {
   "cell_type": "code",
   "execution_count": null,
   "metadata": {
    "collapsed": false
   },
   "outputs": [],
   "source": [
    "all_outliers = []\n",
    "for feature in names_dict.keys():\n",
    "    all_outliers.extend(names_dict[feature])\n",
    "print \"the total outlier indices = {}\".format(len(all_outliers))\n",
    "indices, counts = np.unique(all_outliers, return_counts = True)\n",
    "outlier_dict = {'counts': counts,\n",
    "                'indices': indices\n",
    "               }\n",
    "outlier_df = pd.DataFrame(outlier_dict)\n",
    "\n",
    "outliers  = list(outlier_df[outlier_df.counts >= 2].indices.values)\n",
    "print \"the following data points have >2 outlying feature and will be removed: \\n{}\".format(outliers)\n",
    "# Remove the outliers, if any were specified\n",
    "\n",
    "\n",
    "boxcox_data2 = boxcox_data.drop(boxcox_data.index[outliers]).reset_index(drop = True)"
   ]
  },
  {
   "cell_type": "code",
   "execution_count": null,
   "metadata": {
    "collapsed": false
   },
   "outputs": [],
   "source": [
    "\n",
    "# I believe this can be done more efficiently with sklearn.preprocessing.scale\n",
    "boxcox_data_scaled = boxcox_data2.copy()\n",
    "for feature_name in boxcox_data2.columns[1:]:\n",
    "#    max_value = data2[feature_name].max()\n",
    "#    min_value = data2[feature_name].min()\n",
    "#    data2_norm[feature_name] = (data2[feature_name] - min_value) / (max_value - min_value)\n",
    "    boxcox_data_scaled[feature_name] = preprocessing.scale(boxcox_data_scaled[feature_name], with_mean = True, \n",
    "                                                  with_std = True)\n",
    "    \n",
    "display(boxcox_data_scaled.head())\n",
    "display(boxcox_data.head())\n"
   ]
  },
  {
   "cell_type": "code",
   "execution_count": null,
   "metadata": {
    "collapsed": false
   },
   "outputs": [],
   "source": [
    "#remove_list"
   ]
  },
  {
   "cell_type": "code",
   "execution_count": null,
   "metadata": {
    "collapsed": false
   },
   "outputs": [],
   "source": [
    "'''\n",
    "# a dictionary is created containing units of measure for the different lab measurements\n",
    "labs_dict2 = labs_dict\n",
    "\n",
    "# could be done more succinctly using the dictionary described above\n",
    "\n",
    "for item in remove_list:\n",
    "    del labs_dict2[item]\n",
    "\n",
    "print labs_dict2\n",
    "print boxcox_data_scaled.columns\n",
    "\n",
    "import collections\n",
    "labs_dict3 = collections.OrderedDict(sorted(labs_dict2.items()))\n",
    "labs_dict3\n",
    "'''"
   ]
  },
  {
   "cell_type": "markdown",
   "metadata": {},
   "source": [
    "## Plotting frequency distribution for each lab measurement for both survival and non-survival groups. "
   ]
  },
  {
   "cell_type": "code",
   "execution_count": null,
   "metadata": {
    "collapsed": false,
    "scrolled": false
   },
   "outputs": [],
   "source": [
    "for l, u in iter(sorted(labs_dict.iteritems())):\n",
    "    # count patients\n",
    "    n_nonsurv = boxcox_data_scaled[l][boxcox_data_scaled.mort_icu==1].dropna().count()\n",
    "    n_surv = boxcox_data_scaled[l][boxcox_data_scaled.mort_icu==0].dropna().count()\n",
    "    \n",
    "    # get median, variance, skewness\n",
    "    med_nonsurv = boxcox_data_scaled[l][boxcox_data_scaled.mort_icu==1].dropna().median()\n",
    "    med_surv = boxcox_data_scaled[l][boxcox_data_scaled.mort_icu==0].dropna().median()\n",
    "    var_nonsurv = boxcox_data_scaled[l][boxcox_data_scaled.mort_icu==1].dropna().var()\n",
    "    var_surv = boxcox_data_scaled[l][boxcox_data_scaled.mort_icu==0].dropna().var()\n",
    "    skew_nonsurv = boxcox_data_scaled[l][boxcox_data_scaled.mort_icu==1].dropna().skew()\n",
    "    skew_surv = boxcox_data_scaled[l][boxcox_data_scaled.mort_icu==0].dropna().skew() \n",
    "    \n",
    "    # Are the 2 samples drawn from the same continuous distribution? \n",
    "    # Try Kolmogorov Smirnov test \n",
    "    ks_stat, p_val = ks_2samp(boxcox_data_scaled[l][boxcox_data_scaled.mort_icu==1].dropna(),\n",
    "                              boxcox_data_scaled[l][boxcox_data_scaled.mort_icu==0].dropna())\n",
    "\n",
    "    # plot\n",
    "    plt.subplots(figsize=(13,6))\n",
    "    boxcox_data_scaled[l][boxcox_data_scaled.mort_icu==1].dropna().plot.kde(\n",
    "        alpha=1.0,label='Non-survival (n={})'.format(n_nonsurv))\n",
    "    boxcox_data_scaled[l][boxcox_data_scaled.mort_icu==0].dropna().plot.kde(\n",
    "        alpha=1.0,label='Survival (n={})'.format(n_surv))\n",
    "    \n",
    "    # fake plots for KS test, median, etc\n",
    "    plt.plot([], label=' ',color='lightgray')\n",
    "    plt.plot([], label='KS test: p={}'.format(format(p_val,'.3f')),\n",
    "             color='lightgray')\n",
    "    plt.plot([], label='Median (non-surv): {}'.format(format(med_nonsurv,'.2f')),\n",
    "             color='lightgray')\n",
    "    plt.plot([], label='Median (surv): {}'.format(format(med_surv,'.2f')),\n",
    "             color='lightgray')\n",
    "    plt.plot([], label='Variance (non-surv): {}'.format(format(var_nonsurv,'.2f')),\n",
    "             color='lightgray')\n",
    "    plt.plot([], label='Variance (surv): {}'.format(format(var_surv,'.2f')),\n",
    "             color='lightgray')\n",
    "    plt.plot([], label='Skew (non-surv): {}'.format(format(skew_nonsurv,'.2f')),\n",
    "             color='lightgray')\n",
    "    plt.plot([], label='Skew (surv): {}'.format(format(skew_surv,'.2f')),\n",
    "             color='lightgray')\n",
    "\n",
    "    # add title, labels etc.\n",
    "    plt.title('First {} measurement on ICU admission '.format(l.lower()) +\n",
    "               'vs ICU mortality \\n')\n",
    "    plt.xlabel(l + ' ' + u)\n",
    "    plt.legend(loc=\"upper left\", bbox_to_anchor=(1,1),fontsize=12)\n",
    "    #plt.xlim(0, boxcox_data_scaled[l].dropna().quantile(0.99))\n",
    "    \n",
    "    # Add lab range if available\n",
    "    if l in lab_ranges:\n",
    "        plt.axvline(lab_ranges[l][0],color='k',linestyle='--')\n",
    "        plt.axvline(lab_ranges[l][1],color='k',linestyle='--')"
   ]
  },
  {
   "cell_type": "markdown",
   "metadata": {},
   "source": [
    "## Performing PCA on box-cox transformed, scaled data with outliers removed"
   ]
  },
  {
   "cell_type": "code",
   "execution_count": null,
   "metadata": {
    "collapsed": false,
    "scrolled": false
   },
   "outputs": [],
   "source": [
    "# principle component analysis is used to reduce the dimensionality of data\n",
    "\n",
    "#pca = PCA(n_components = 4).fit(data2)\n",
    "pca = PCA(n_components = 4).fit(boxcox_data_scaled[boxcox_data_scaled.columns[1:]])\n",
    "\n",
    "# Generate PCA results plot\n",
    "pca_results = vs.pca_results(boxcox_data_scaled[boxcox_data_scaled.columns[1:]], pca)\n"
   ]
  },
  {
   "cell_type": "code",
   "execution_count": null,
   "metadata": {
    "collapsed": false,
    "scrolled": true
   },
   "outputs": [],
   "source": [
    "reduced_data = pca.transform(boxcox_data_scaled[boxcox_data_scaled.columns[1:]])\n",
    "# Create a DataFrame for the reduced data\n",
    "reduced_data = pd.DataFrame(reduced_data, columns = ['Dimension 1', 'Dimension 2', 'Dimension 3', 'Dimension 4']) #,\n",
    "                                                    #'Dimension 5', 'Dimension 6','Dimension 7', 'Dimension 8'])\n",
    "reduced_data.head()"
   ]
  },
  {
   "cell_type": "markdown",
   "metadata": {},
   "source": [
    "## Scatterplot of Box-Cox transformed data with outliers removed. "
   ]
  },
  {
   "cell_type": "code",
   "execution_count": null,
   "metadata": {
    "collapsed": false,
    "scrolled": true
   },
   "outputs": [],
   "source": [
    "pd.scatter_matrix(boxcox_data_scaled[1:], alpha = 0.3, figsize = (14,8), diagonal = 'kde');"
   ]
  },
  {
   "cell_type": "markdown",
   "metadata": {},
   "source": [
    "## Normalized data principle components split into training and testing groups. A Gaussian Naive Bayes classifier is trained and tested. "
   ]
  },
  {
   "cell_type": "code",
   "execution_count": null,
   "metadata": {
    "collapsed": false
   },
   "outputs": [],
   "source": [
    "# Training using 80% of data and testing using 20%. \n",
    "X_train, X_test, y_train, y_test = train_test_split(reduced_data, \n",
    "                                                    boxcox_data_scaled['mort_icu'], test_size = .30, random_state = 42)\n",
    "\n",
    "\n",
    "### create classifier\n",
    "clf_GNB = GaussianNB()\n",
    "### fit the classifier on the training features and labels\n",
    "clf_GNB.fit(X_train, y_train)\n",
    "    ### return the fit classifier\n",
    "\n",
    "nb_score = clf_GNB.score(X_test, y_test) \n",
    "\n",
    "print nb_score\n",
    "y_predsGNB = clf_GNB.predict(X_test)\n",
    "metrics.confusion_matrix(y_test, y_predsGNB)\n"
   ]
  },
  {
   "cell_type": "markdown",
   "metadata": {},
   "source": [
    "## Box-Cox transformed data principle components split into training and testing groups. A Gaussian Naive Bayes classifier is trained and tested. "
   ]
  },
  {
   "cell_type": "markdown",
   "metadata": {},
   "source": [
    "## Neural Network Classifier was trained and tested using principle components of normalized data ."
   ]
  },
  {
   "cell_type": "code",
   "execution_count": null,
   "metadata": {
    "collapsed": false
   },
   "outputs": [],
   "source": [
    "X_train, X_test, y_train, y_test = train_test_split(boxcox_data_scaled[boxcox_data_scaled.columns[1:]], \n",
    "                                                    boxcox_data_scaled['mort_icu'], test_size = 0.40, random_state = 42)\n",
    "\n",
    "\n",
    "clf = MLPClassifier(solver='sgd', alpha=1e-6, learning_rate = 'adaptive',\n",
    "                    hidden_layer_sizes=(5, 2), random_state=1)\n",
    "\n",
    "clf.fit(X_train, y_train)                         \n",
    "\n",
    "display(clf.score(X_test, y_test))\n",
    "y_predsMLP = clf.predict(X_test)\n",
    "metrics.confusion_matrix(y_test, y_predsMLP)\n",
    "\n"
   ]
  },
  {
   "cell_type": "code",
   "execution_count": null,
   "metadata": {
    "collapsed": false
   },
   "outputs": [],
   "source": [
    "data[data.columns[5:]].head()"
   ]
  },
  {
   "cell_type": "markdown",
   "metadata": {},
   "source": [
    "## Neural Network Classifier was trained and tested using principle components of normalized data ."
   ]
  },
  {
   "cell_type": "code",
   "execution_count": null,
   "metadata": {
    "collapsed": false
   },
   "outputs": [],
   "source": [
    "boxcox_dead = boxcox_data_scaled[boxcox_data_scaled.mort_icu == 1]\n",
    "boxcox_survivors = boxcox_data_scaled[boxcox_data_scaled.mort_icu == 0]\n",
    "display(boxcox_dead.shape[0])\n",
    "display(boxcox_survivors.shape[0])\n",
    "boxcox_survivors_reduced = boxcox_survivors.sample(boxcox_dead.shape[0])\n",
    "frames = [boxcox_survivors_reduced, boxcox_dead]\n",
    "boxcox_even = pd.concat(frames)\n",
    "boxcox_even.shape"
   ]
  },
  {
   "cell_type": "code",
   "execution_count": null,
   "metadata": {
    "collapsed": false
   },
   "outputs": [],
   "source": [
    "num_samps = boxcox_even.shape[0]\n",
    "display(num_samps)\n",
    "\n",
    "boxcox_even2 = boxcox_even.sample(n=num_samps)\n",
    "#boxcox_even2.shape()\n",
    "boxcox_even2.shape"
   ]
  },
  {
   "cell_type": "code",
   "execution_count": null,
   "metadata": {
    "collapsed": false
   },
   "outputs": [],
   "source": [
    "boxcox_even2.head(10)"
   ]
  },
  {
   "cell_type": "code",
   "execution_count": null,
   "metadata": {
    "collapsed": false
   },
   "outputs": [],
   "source": [
    "# Training using 80% of data and testing using 20%. \n",
    "X_train, X_test, y_train, y_test = train_test_split(boxcox_even2[boxcox_even2.columns[1:]], \n",
    "                                                    boxcox_even['mort_icu'], test_size = 0.40, \n",
    "                                                    random_state = 42)\n",
    "\n",
    "### create classifier\n",
    "clf_GNB = GaussianNB()\n",
    "### fit the classifier on the training features and labels\n",
    "clf_GNB.fit(X_train, y_train)\n",
    "    ### return the fit classifier\n",
    "\n",
    "nb_score = clf_GNB.score(X_test, y_test) \n",
    "\n",
    "print nb_score\n",
    "y_predsGNB = clf_GNB.predict(X_test)\n",
    "metrics.confusion_matrix(y_test, y_predsGNB)\n"
   ]
  },
  {
   "cell_type": "markdown",
   "metadata": {},
   "source": [
    "## Support Vector Machine Classification on un-processed data with variables selected based on visual inspection\n",
    "The variables enumerated in 'remove_list' were observed for both survivors and non-survivors and appeared to be very similar in distribution. Because they appeared to be very similar for both groups, they were excluded as features for classification. "
   ]
  },
  {
   "cell_type": "code",
   "execution_count": null,
   "metadata": {
    "collapsed": false
   },
   "outputs": [],
   "source": [
    "X_train, X_test, y_train, y_test = train_test_split(boxcox_even2[boxcox_even2.columns[1:]], \n",
    "                                                    boxcox_even['mort_icu'], test_size = 0.30, \n",
    "                                                    random_state = 42)\n",
    "\n",
    "\n",
    "\n",
    "clf_SVC = svm.SVC(C=1.0, cache_size=200, class_weight=None, coef0=0.0,\n",
    "    decision_function_shape=None, degree=3, gamma='auto', kernel='rbf', \n",
    "    max_iter=-1, probability=False, random_state=None, shrinking=True,\n",
    "    tol=0.001, verbose=False).fit(X_train, y_train)\n",
    "\n",
    "scores = cross_val_score(clf_SVC, boxcox_data_scaled[boxcox_data_scaled.columns[1:]], \n",
    "                         boxcox_data_scaled['mort_icu'], cv=5)\n",
    "display(scores)  \n",
    "y_predsSVC = clf_SVC.predict(X_test)\n",
    "display(metrics.confusion_matrix(y_test, y_predsSVC))"
   ]
  },
  {
   "cell_type": "code",
   "execution_count": null,
   "metadata": {
    "collapsed": false,
    "scrolled": true
   },
   "outputs": [],
   "source": [
    "display(clf_SVC.score(X_test, y_test))\n",
    "y_predsSVC = clf_SVC.predict(X_test)\n",
    "display(metrics.confusion_matrix(y_test, y_predsSVC))"
   ]
  },
  {
   "cell_type": "code",
   "execution_count": null,
   "metadata": {
    "collapsed": false
   },
   "outputs": [],
   "source": [
    "X_train, X_test, y_train, y_test = train_test_split(boxcox_even2[boxcox_even2.columns[1:]], \n",
    "                                                    boxcox_even['mort_icu'], test_size = 0.30, \n",
    "                                                    random_state = 42)\n",
    "\n",
    "clf = MLPClassifier(solver='sgd', alpha=1e-6, learning_rate = 'adaptive',\n",
    "                    hidden_layer_sizes=(5, 2), random_state=1)\n",
    "\n",
    "clf.fit(X_train, y_train)                         \n",
    "\n",
    "display(clf.score(X_test, y_test))\n",
    "y_predsMLP = clf.predict(X_test)\n",
    "metrics.confusion_matrix(y_test, y_predsMLP)\n",
    "\n"
   ]
  },
  {
   "cell_type": "code",
   "execution_count": null,
   "metadata": {
    "collapsed": true
   },
   "outputs": [],
   "source": []
  },
  {
   "cell_type": "code",
   "execution_count": null,
   "metadata": {
    "collapsed": true
   },
   "outputs": [],
   "source": [
    "print \"monkey\""
   ]
  },
  {
   "cell_type": "code",
   "execution_count": null,
   "metadata": {
    "collapsed": true
   },
   "outputs": [],
   "source": []
  },
  {
   "cell_type": "code",
   "execution_count": null,
   "metadata": {
    "collapsed": false
   },
   "outputs": [],
   "source": [
    "diagnoses_codes = pd.DataFrame.from_csv('IDC9_DEADLY_DIAGNOSES.csv')\n",
    "diagnoses_codes.head()"
   ]
  },
  {
   "cell_type": "code",
   "execution_count": null,
   "metadata": {
    "collapsed": false
   },
   "outputs": [],
   "source": [
    "diagnoses_list = diagnoses_codes.icd9_code.unique()\n",
    "diagnoses_list2 = diagnoses_codes.diagnosis.unique()\n",
    "display(len(diagnoses_list))\n",
    "display(len(diagnoses_list2))"
   ]
  },
  {
   "cell_type": "code",
   "execution_count": null,
   "metadata": {
    "collapsed": false
   },
   "outputs": [],
   "source": [
    "unique_codes = diagnoses_codes.drop_duplicates(['icd9_code', 'short_title'])\n",
    "unique_codes.shape\n"
   ]
  },
  {
   "cell_type": "code",
   "execution_count": null,
   "metadata": {
    "collapsed": false,
    "scrolled": true
   },
   "outputs": [],
   "source": [
    "unique_codes.head()"
   ]
  },
  {
   "cell_type": "code",
   "execution_count": null,
   "metadata": {
    "collapsed": false
   },
   "outputs": [],
   "source": [
    "len(diagnoses_list)"
   ]
  },
  {
   "cell_type": "code",
   "execution_count": null,
   "metadata": {
    "collapsed": false
   },
   "outputs": [],
   "source": [
    "diag_counts = diagnoses_codes.icd9_code.value_counts()"
   ]
  },
  {
   "cell_type": "code",
   "execution_count": null,
   "metadata": {
    "collapsed": false
   },
   "outputs": [],
   "source": [
    "diag_counts[0:10]"
   ]
  },
  {
   "cell_type": "code",
   "execution_count": null,
   "metadata": {
    "collapsed": false,
    "scrolled": true
   },
   "outputs": [],
   "source": [
    "diagnoses_list[0:10]"
   ]
  },
  {
   "cell_type": "code",
   "execution_count": null,
   "metadata": {
    "collapsed": false
   },
   "outputs": [],
   "source": [
    "boxcox_data_scaled.columns"
   ]
  },
  {
   "cell_type": "code",
   "execution_count": null,
   "metadata": {
    "collapsed": false
   },
   "outputs": [],
   "source": [
    "boxcox_data_scaled_subset = boxcox_data_scaled[['mort_icu', 'albumin_1st', 'bicarbonate_1st', 'inr_1st', 'phosphate_1st',\n",
    "                                                'ptt_1st']]\n",
    "boxcox_data_scaled_subset.head()"
   ]
  },
  {
   "cell_type": "code",
   "execution_count": null,
   "metadata": {
    "collapsed": false,
    "scrolled": false
   },
   "outputs": [],
   "source": [
    "# principle component analysis is used to reduce the dimensionality of data\n",
    "\n",
    "#pca = PCA(n_components = 4).fit(data2)\n",
    "pca = PCA(n_components = 3).fit(boxcox_data_scaled[boxcox_data_scaled.columns[1:]])\n",
    "\n",
    "# Generate PCA results plot\n",
    "pca_results = vs.pca_results(boxcox_data_scaled[boxcox_data_scaled.columns[1:]], pca)\n"
   ]
  },
  {
   "cell_type": "code",
   "execution_count": null,
   "metadata": {
    "collapsed": false,
    "scrolled": true
   },
   "outputs": [],
   "source": [
    "reduced_data = pca.transform(boxcox_data_scaled[boxcox_data_scaled.columns[1:]])\n",
    "# Create a DataFrame for the reduced data\n",
    "reduced_data = pd.DataFrame(reduced_data, columns = ['Dimension 1', 'Dimension 2', 'Dimension 3', 'Dimension 4']) #,\n",
    "                                                    #'Dimension 5', 'Dimension 6','Dimension 7', 'Dimension 8'])\n",
    "reduced_data.head()"
   ]
  },
  {
   "cell_type": "markdown",
   "metadata": {},
   "source": [
    "## Scatterplot of Box-Cox transformed data with outliers removed. "
   ]
  },
  {
   "cell_type": "markdown",
   "metadata": {},
   "source": [
    "## Normalized data principle components split into training and testing groups. A Gaussian Naive Bayes classifier is trained and tested. "
   ]
  },
  {
   "cell_type": "code",
   "execution_count": null,
   "metadata": {
    "collapsed": false
   },
   "outputs": [],
   "source": [
    "feat_list = list(boxcox_data_scaled_subset.columns[1:])\n",
    "feat_list"
   ]
  },
  {
   "cell_type": "code",
   "execution_count": null,
   "metadata": {
    "collapsed": false
   },
   "outputs": [],
   "source": [
    "# Training using 80% of data and testing using 20%. \n",
    "X_train, X_test, y_train, y_test = train_test_split(boxcox_data_scaled_subset[feat_list], \n",
    "                                                    boxcox_data_scaled_subset['mort_icu'], \n",
    "                                                    test_size = .30, random_state = 42)\n",
    "\n",
    "\n",
    "### create classifier\n",
    "clf_GNB = GaussianNB()\n",
    "### fit the classifier on the training features and labels\n",
    "clf_GNB.fit(X_train, y_train)\n",
    "    ### return the fit classifier\n",
    "\n",
    "nb_score = clf_GNB.score(X_test, y_test) \n",
    "\n",
    "print nb_score\n",
    "y_predsGNB = clf_GNB.predict(X_test)\n",
    "metrics.confusion_matrix(y_test, y_predsGNB)\n"
   ]
  },
  {
   "cell_type": "code",
   "execution_count": null,
   "metadata": {
    "collapsed": true
   },
   "outputs": [],
   "source": []
  }
 ],
 "metadata": {
  "kernelspec": {
   "display_name": "Python 2",
   "language": "python",
   "name": "python2"
  },
  "language_info": {
   "codemirror_mode": {
    "name": "ipython",
    "version": 2
   },
   "file_extension": ".py",
   "mimetype": "text/x-python",
   "name": "python",
   "nbconvert_exporter": "python",
   "pygments_lexer": "ipython2",
   "version": "2.7.12"
  }
 },
 "nbformat": 4,
 "nbformat_minor": 2
}

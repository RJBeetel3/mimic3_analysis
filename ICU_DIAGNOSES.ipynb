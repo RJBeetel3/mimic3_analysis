{
 "cells": [
  {
   "cell_type": "markdown",
   "metadata": {},
   "source": [
    "# The first lab results will be used to predict patient diagnoses for the X most common causes of death in ICU patients recorded in the MIMIC III database."
   ]
  },
  {
   "cell_type": "markdown",
   "metadata": {},
   "source": [
    "# MIMIC-III Critical Care Database\n",
    "\n",
    "MIMIC-III (Medical Information Mart for Intensive Care III) is a large, freely-available database comprising deidentified health-related data associated with over forty thousand patients who stayed in critical care units of the Beth Israel Deaconess Medical Center between 2001 and 2012.\n",
    "\n",
    "The database includes information such as demographics, vital sign measurements made at the bedside (~1 data point per hour), laboratory test results, procedures, medications, caregiver notes, imaging reports, and mortality (both in and out of hospital).\n",
    "\n",
    "MIMIC supports a diverse range of analytic studies spanning epidemiology, clinical decision-rule improvement, and electronic tool development. It is notable for three factors:\n",
    "\n",
    "it is freely available to researchers worldwide\n",
    "it encompasses a diverse and very large population of ICU patients\n",
    "it contains high temporal resolution data including lab results, electronic documentation, and bedside monitor trends and waveforms.\n",
    "\n",
    "Citations: \n",
    "MIMIC-III, a freely accessible critical care database. Johnson AEW, Pollard TJ, Shen L, Lehman L, Feng M, Ghassemi M, Moody B, Szolovits P, Celi LA, and Mark RG. Scientific Data (2016). DOI: 10.1038/sdata.2016.35. Available at: http://www.nature.com/articles/sdata201635\n",
    "\n",
    "Pollard, T. J. & Johnson, A. E. W. The MIMIC-III Clinical Database http://dx.doi.org/10.13026/C2XW26 (2016)."
   ]
  },
  {
   "cell_type": "code",
   "execution_count": 1,
   "metadata": {
    "collapsed": true
   },
   "outputs": [],
   "source": [
    "import sys\n",
    "import pandas as pd\n",
    "import datetime as datetime\n",
    "import numpy as np\n",
    "from dateutil.relativedelta import relativedelta\n",
    "from sklearn.preprocessing import OneHotEncoder\n",
    "import matplotlib\n",
    "import matplotlib.pyplot as plt\n",
    "#import psycopg2\n",
    "from scipy.stats import ks_2samp\n",
    "import scipy.stats as scats\n",
    "import visuals as vs\n",
    "from sklearn.decomposition import PCA\n",
    "from sklearn import preprocessing\n",
    "from sklearn.neural_network import MLPClassifier\n",
    "from sklearn.naive_bayes import GaussianNB\n",
    "from sklearn import metrics\n",
    "from sklearn import svm\n",
    "from sklearn.model_selection import cross_val_score\n",
    "from sklearn.model_selection import train_test_split\n",
    "\n",
    "plt.style.use('ggplot') \n",
    "%matplotlib inline"
   ]
  },
  {
   "cell_type": "markdown",
   "metadata": {},
   "source": [
    "# IMPORTING DATA\n",
    "The mimic III database was downloaded and reconstructed locally using posgresql. The database was managed graphically using Portico. \n",
    "The mimic III database was queried for information regarding ICD-9 codes and corresponding plain text diagnosis for patients who died while in the hospital. Data was then imported and analyzed to determine the X most common codes/diagnoses. \n"
   ]
  },
  {
   "cell_type": "code",
   "execution_count": 23,
   "metadata": {
    "collapsed": false
   },
   "outputs": [
    {
     "data": {
      "text/html": [
       "<div>\n",
       "<table border=\"1\" class=\"dataframe\">\n",
       "  <thead>\n",
       "    <tr style=\"text-align: right;\">\n",
       "      <th></th>\n",
       "      <th>diagnosis</th>\n",
       "      <th>icd9_code</th>\n",
       "      <th>short_title</th>\n",
       "      <th>icustay_id</th>\n",
       "    </tr>\n",
       "  </thead>\n",
       "  <tbody>\n",
       "    <tr>\n",
       "      <th>0</th>\n",
       "      <td>DYSPNEA</td>\n",
       "      <td>48241</td>\n",
       "      <td>Meth sus pneum d/t Staph</td>\n",
       "      <td>280836</td>\n",
       "    </tr>\n",
       "    <tr>\n",
       "      <th>1</th>\n",
       "      <td>DYSPNEA</td>\n",
       "      <td>4280</td>\n",
       "      <td>CHF NOS</td>\n",
       "      <td>280836</td>\n",
       "    </tr>\n",
       "    <tr>\n",
       "      <th>2</th>\n",
       "      <td>DYSPNEA</td>\n",
       "      <td>51881</td>\n",
       "      <td>Acute respiratry failure</td>\n",
       "      <td>280836</td>\n",
       "    </tr>\n",
       "    <tr>\n",
       "      <th>3</th>\n",
       "      <td>DYSPNEA</td>\n",
       "      <td>5845</td>\n",
       "      <td>Ac kidny fail, tubr necr</td>\n",
       "      <td>280836</td>\n",
       "    </tr>\n",
       "    <tr>\n",
       "      <th>4</th>\n",
       "      <td>DYSPNEA</td>\n",
       "      <td>4275</td>\n",
       "      <td>Cardiac arrest</td>\n",
       "      <td>280836</td>\n",
       "    </tr>\n",
       "  </tbody>\n",
       "</table>\n",
       "</div>"
      ],
      "text/plain": [
       "  diagnosis icd9_code               short_title  icustay_id\n",
       "0   DYSPNEA     48241  Meth sus pneum d/t Staph      280836\n",
       "1   DYSPNEA      4280                   CHF NOS      280836\n",
       "2   DYSPNEA     51881  Acute respiratry failure      280836\n",
       "3   DYSPNEA      5845  Ac kidny fail, tubr necr      280836\n",
       "4   DYSPNEA      4275            Cardiac arrest      280836"
      ]
     },
     "execution_count": 23,
     "metadata": {},
     "output_type": "execute_result"
    }
   ],
   "source": [
    "diagnoses_codes = pd.DataFrame.from_csv('IDC9_DEADLY_DIAGNOSES.csv')\n",
    "diagnoses_codes['icustay_id'] = diagnoses_codes.index\n",
    "diagnoses_codes.set_index(np.arange(diagnoses_codes.shape[0]), inplace = True)\n",
    "\n",
    "diagnoses_codes.head()"
   ]
  },
  {
   "cell_type": "code",
   "execution_count": 5,
   "metadata": {
    "collapsed": false
   },
   "outputs": [
    {
     "data": {
      "text/plain": [
       "(94763, 3)"
      ]
     },
     "execution_count": 5,
     "metadata": {},
     "output_type": "execute_result"
    }
   ],
   "source": [
    "diagnoses_codes.shape"
   ]
  },
  {
   "cell_type": "code",
   "execution_count": 4,
   "metadata": {
    "collapsed": false
   },
   "outputs": [
    {
     "data": {
      "text/plain": [
       "(3254, 1)"
      ]
     },
     "execution_count": 4,
     "metadata": {},
     "output_type": "execute_result"
    }
   ],
   "source": [
    "# data was grouped by the IDC-9 code and the plain text diagnoses. It appears that multiple codes may correspond \n",
    "# to the same plain text diagnoses so the same will be done for just ICD-9 codes and just plain text to verify. \n",
    "diagnoses_counts = diagnoses_codes.groupby(['icd9_code', 'short_title']).count()\n",
    "diagnoses_counts.shape"
   ]
  },
  {
   "cell_type": "code",
   "execution_count": 17,
   "metadata": {
    "collapsed": false,
    "scrolled": true
   },
   "outputs": [
    {
     "name": "stderr",
     "output_type": "stream",
     "text": [
      "/Users/robertbeetel/anaconda/lib/python2.7/site-packages/ipykernel/__main__.py:1: FutureWarning: sort(columns=....) is deprecated, use sort_values(by=.....)\n",
      "  if __name__ == '__main__':\n"
     ]
    },
    {
     "data": {
      "text/html": [
       "<div>\n",
       "<table border=\"1\" class=\"dataframe\">\n",
       "  <thead>\n",
       "    <tr style=\"text-align: right;\">\n",
       "      <th></th>\n",
       "      <th></th>\n",
       "      <th>diagnosis</th>\n",
       "    </tr>\n",
       "    <tr>\n",
       "      <th>icd9_code</th>\n",
       "      <th>short_title</th>\n",
       "      <th></th>\n",
       "    </tr>\n",
       "  </thead>\n",
       "  <tbody>\n",
       "    <tr>\n",
       "      <th>51881</th>\n",
       "      <th>Acute respiratry failure</th>\n",
       "      <td>2668</td>\n",
       "    </tr>\n",
       "    <tr>\n",
       "      <th>4019</th>\n",
       "      <th>Hypertension NOS</th>\n",
       "      <td>2260</td>\n",
       "    </tr>\n",
       "    <tr>\n",
       "      <th>42731</th>\n",
       "      <th>Atrial fibrillation</th>\n",
       "      <td>2237</td>\n",
       "    </tr>\n",
       "    <tr>\n",
       "      <th>4280</th>\n",
       "      <th>CHF NOS</th>\n",
       "      <td>2195</td>\n",
       "    </tr>\n",
       "    <tr>\n",
       "      <th>5849</th>\n",
       "      <th>Acute kidney failure NOS</th>\n",
       "      <td>2132</td>\n",
       "    </tr>\n",
       "  </tbody>\n",
       "</table>\n",
       "</div>"
      ],
      "text/plain": [
       "                                    diagnosis\n",
       "icd9_code short_title                        \n",
       "51881     Acute respiratry failure       2668\n",
       "4019      Hypertension NOS               2260\n",
       "42731     Atrial fibrillation            2237\n",
       "4280      CHF NOS                        2195\n",
       "5849      Acute kidney failure NOS       2132"
      ]
     },
     "execution_count": 17,
     "metadata": {},
     "output_type": "execute_result"
    }
   ],
   "source": [
    "diagnoses_counts.sort(['diagnosis'], ascending = False).head()"
   ]
  },
  {
   "cell_type": "code",
   "execution_count": 30,
   "metadata": {
    "collapsed": false
   },
   "outputs": [
    {
     "data": {
      "text/plain": [
       "(2337, 3)"
      ]
     },
     "metadata": {},
     "output_type": "display_data"
    },
    {
     "data": {
      "text/html": [
       "<div>\n",
       "<table border=\"1\" class=\"dataframe\">\n",
       "  <thead>\n",
       "    <tr style=\"text-align: right;\">\n",
       "      <th></th>\n",
       "      <th>icd9_code</th>\n",
       "      <th>short_title</th>\n",
       "      <th>icustay_id</th>\n",
       "    </tr>\n",
       "    <tr>\n",
       "      <th>diagnosis</th>\n",
       "      <th></th>\n",
       "      <th></th>\n",
       "      <th></th>\n",
       "    </tr>\n",
       "  </thead>\n",
       "  <tbody>\n",
       "    <tr>\n",
       "      <th>? SEROTONIN SYNDROME</th>\n",
       "      <td>1</td>\n",
       "      <td>1</td>\n",
       "      <td>1</td>\n",
       "    </tr>\n",
       "    <tr>\n",
       "      <th>(AML) ACUTE MYELOGENOUS LEUKEMIA</th>\n",
       "      <td>6</td>\n",
       "      <td>6</td>\n",
       "      <td>6</td>\n",
       "    </tr>\n",
       "    <tr>\n",
       "      <th>(AML) ACUTE MYELOGENOUS LEUKEMIA;HYPOTENSION</th>\n",
       "      <td>1</td>\n",
       "      <td>1</td>\n",
       "      <td>1</td>\n",
       "    </tr>\n",
       "    <tr>\n",
       "      <th>0681</th>\n",
       "      <td>1</td>\n",
       "      <td>1</td>\n",
       "      <td>1</td>\n",
       "    </tr>\n",
       "    <tr>\n",
       "      <th>12-AQV</th>\n",
       "      <td>1</td>\n",
       "      <td>1</td>\n",
       "      <td>1</td>\n",
       "    </tr>\n",
       "  </tbody>\n",
       "</table>\n",
       "</div>"
      ],
      "text/plain": [
       "                                              icd9_code  short_title  \\\n",
       "diagnosis                                                              \n",
       " ? SEROTONIN SYNDROME                                 1            1   \n",
       "(AML) ACUTE MYELOGENOUS LEUKEMIA                      6            6   \n",
       "(AML) ACUTE MYELOGENOUS LEUKEMIA;HYPOTENSION          1            1   \n",
       "0681                                                  1            1   \n",
       "12-AQV                                                1            1   \n",
       "\n",
       "                                              icustay_id  \n",
       "diagnosis                                                 \n",
       " ? SEROTONIN SYNDROME                                  1  \n",
       "(AML) ACUTE MYELOGENOUS LEUKEMIA                       6  \n",
       "(AML) ACUTE MYELOGENOUS LEUKEMIA;HYPOTENSION           1  \n",
       "0681                                                   1  \n",
       "12-AQV                                                 1  "
      ]
     },
     "execution_count": 30,
     "metadata": {},
     "output_type": "execute_result"
    }
   ],
   "source": [
    "# data was grouped by the IDC-9 code and the plain text diagnoses. It appears that multiple codes may correspond \n",
    "# to the same plain text diagnoses so the same will be done for just ICD-9 codes and just plain text to verify. \n",
    "diagnoses_codes_unique = diagnoses_codes.drop_duplicates('icustay_id')\n",
    "diagnoses_counts3 = diagnoses_codes_unique.groupby(['diagnosis']).count()\n",
    "\n",
    "display(diagnoses_counts3.shape)\n",
    "diagnoses_counts3.head()\n"
   ]
  },
  {
   "cell_type": "code",
   "execution_count": 31,
   "metadata": {
    "collapsed": false,
    "scrolled": false
   },
   "outputs": [
    {
     "name": "stderr",
     "output_type": "stream",
     "text": [
      "/Users/robertbeetel/anaconda/lib/python2.7/site-packages/ipykernel/__main__.py:1: FutureWarning: sort(columns=....) is deprecated, use sort_values(by=.....)\n",
      "  if __name__ == '__main__':\n"
     ]
    },
    {
     "data": {
      "text/html": [
       "<div>\n",
       "<table border=\"1\" class=\"dataframe\">\n",
       "  <thead>\n",
       "    <tr style=\"text-align: right;\">\n",
       "      <th></th>\n",
       "      <th>icd9_code</th>\n",
       "      <th>short_title</th>\n",
       "      <th>icustay_id</th>\n",
       "    </tr>\n",
       "    <tr>\n",
       "      <th>diagnosis</th>\n",
       "      <th></th>\n",
       "      <th></th>\n",
       "      <th></th>\n",
       "    </tr>\n",
       "  </thead>\n",
       "  <tbody>\n",
       "    <tr>\n",
       "      <th>SEPSIS</th>\n",
       "      <td>311</td>\n",
       "      <td>311</td>\n",
       "      <td>311</td>\n",
       "    </tr>\n",
       "    <tr>\n",
       "      <th>PNEUMONIA</th>\n",
       "      <td>289</td>\n",
       "      <td>289</td>\n",
       "      <td>289</td>\n",
       "    </tr>\n",
       "    <tr>\n",
       "      <th>INTRACRANIAL HEMORRHAGE</th>\n",
       "      <td>241</td>\n",
       "      <td>241</td>\n",
       "      <td>241</td>\n",
       "    </tr>\n",
       "    <tr>\n",
       "      <th>CONGESTIVE HEART FAILURE</th>\n",
       "      <td>145</td>\n",
       "      <td>145</td>\n",
       "      <td>145</td>\n",
       "    </tr>\n",
       "    <tr>\n",
       "      <th>ALTERED MENTAL STATUS</th>\n",
       "      <td>100</td>\n",
       "      <td>100</td>\n",
       "      <td>100</td>\n",
       "    </tr>\n",
       "    <tr>\n",
       "      <th>ABDOMINAL PAIN</th>\n",
       "      <td>96</td>\n",
       "      <td>96</td>\n",
       "      <td>96</td>\n",
       "    </tr>\n",
       "    <tr>\n",
       "      <th>HYPOTENSION</th>\n",
       "      <td>90</td>\n",
       "      <td>90</td>\n",
       "      <td>90</td>\n",
       "    </tr>\n",
       "    <tr>\n",
       "      <th>S/P FALL</th>\n",
       "      <td>84</td>\n",
       "      <td>84</td>\n",
       "      <td>84</td>\n",
       "    </tr>\n",
       "    <tr>\n",
       "      <th>CARDIAC ARREST</th>\n",
       "      <td>79</td>\n",
       "      <td>79</td>\n",
       "      <td>79</td>\n",
       "    </tr>\n",
       "    <tr>\n",
       "      <th>SUBARACHNOID HEMORRHAGE</th>\n",
       "      <td>72</td>\n",
       "      <td>72</td>\n",
       "      <td>72</td>\n",
       "    </tr>\n",
       "  </tbody>\n",
       "</table>\n",
       "</div>"
      ],
      "text/plain": [
       "                          icd9_code  short_title  icustay_id\n",
       "diagnosis                                                   \n",
       "SEPSIS                          311          311         311\n",
       "PNEUMONIA                       289          289         289\n",
       "INTRACRANIAL HEMORRHAGE         241          241         241\n",
       "CONGESTIVE HEART FAILURE        145          145         145\n",
       "ALTERED MENTAL STATUS           100          100         100\n",
       "ABDOMINAL PAIN                   96           96          96\n",
       "HYPOTENSION                      90           90          90\n",
       "S/P FALL                         84           84          84\n",
       "CARDIAC ARREST                   79           79          79\n",
       "SUBARACHNOID HEMORRHAGE          72           72          72"
      ]
     },
     "execution_count": 31,
     "metadata": {},
     "output_type": "execute_result"
    }
   ],
   "source": [
    "diagnoses_counts3.sort(['icustay_id'], ascending = False).head(10)"
   ]
  },
  {
   "cell_type": "code",
   "execution_count": 18,
   "metadata": {
    "collapsed": false
   },
   "outputs": [
    {
     "data": {
      "text/plain": [
       "(2337, 2)"
      ]
     },
     "metadata": {},
     "output_type": "display_data"
    },
    {
     "data": {
      "text/html": [
       "<div>\n",
       "<table border=\"1\" class=\"dataframe\">\n",
       "  <thead>\n",
       "    <tr style=\"text-align: right;\">\n",
       "      <th></th>\n",
       "      <th>icd9_code</th>\n",
       "      <th>short_title</th>\n",
       "    </tr>\n",
       "    <tr>\n",
       "      <th>diagnosis</th>\n",
       "      <th></th>\n",
       "      <th></th>\n",
       "    </tr>\n",
       "  </thead>\n",
       "  <tbody>\n",
       "    <tr>\n",
       "      <th>? SEROTONIN SYNDROME</th>\n",
       "      <td>12</td>\n",
       "      <td>12</td>\n",
       "    </tr>\n",
       "    <tr>\n",
       "      <th>(AML) ACUTE MYELOGENOUS LEUKEMIA</th>\n",
       "      <td>106</td>\n",
       "      <td>106</td>\n",
       "    </tr>\n",
       "    <tr>\n",
       "      <th>(AML) ACUTE MYELOGENOUS LEUKEMIA;HYPOTENSION</th>\n",
       "      <td>25</td>\n",
       "      <td>25</td>\n",
       "    </tr>\n",
       "    <tr>\n",
       "      <th>0681</th>\n",
       "      <td>6</td>\n",
       "      <td>6</td>\n",
       "    </tr>\n",
       "    <tr>\n",
       "      <th>12-AQV</th>\n",
       "      <td>27</td>\n",
       "      <td>27</td>\n",
       "    </tr>\n",
       "  </tbody>\n",
       "</table>\n",
       "</div>"
      ],
      "text/plain": [
       "                                              icd9_code  short_title\n",
       "diagnosis                                                           \n",
       " ? SEROTONIN SYNDROME                                12           12\n",
       "(AML) ACUTE MYELOGENOUS LEUKEMIA                    106          106\n",
       "(AML) ACUTE MYELOGENOUS LEUKEMIA;HYPOTENSION         25           25\n",
       "0681                                                  6            6\n",
       "12-AQV                                               27           27"
      ]
     },
     "execution_count": 18,
     "metadata": {},
     "output_type": "execute_result"
    }
   ],
   "source": [
    "# data was grouped by the IDC-9 code and the plain text diagnoses. It appears that multiple codes may correspond \n",
    "# to the same plain text diagnoses so the same will be done for just ICD-9 codes and just plain text to verify. \n",
    "diagnoses_counts3 = diagnoses_codes.groupby(['diagnosis']).count()\n",
    "display(diagnoses_counts3.shape)\n",
    "diagnoses_counts3.head()\n"
   ]
  },
  {
   "cell_type": "markdown",
   "metadata": {},
   "source": [
    "## The number of patients admitted with a given diagnoses and who passed away while in the hospital was calculated for all diagnoses. The results indicate that Sepsis, Pneumonia, Congestive Heart Failure and Intracranial Hemorrhage were the 4 most common, deadly diagnoses. "
   ]
  },
  {
   "cell_type": "code",
   "execution_count": 20,
   "metadata": {
    "collapsed": false,
    "scrolled": false
   },
   "outputs": [
    {
     "name": "stderr",
     "output_type": "stream",
     "text": [
      "/Users/robertbeetel/anaconda/lib/python2.7/site-packages/ipykernel/__main__.py:1: FutureWarning: sort(columns=....) is deprecated, use sort_values(by=.....)\n",
      "  if __name__ == '__main__':\n"
     ]
    },
    {
     "data": {
      "text/html": [
       "<div>\n",
       "<table border=\"1\" class=\"dataframe\">\n",
       "  <thead>\n",
       "    <tr style=\"text-align: right;\">\n",
       "      <th></th>\n",
       "      <th>icd9_code</th>\n",
       "      <th>short_title</th>\n",
       "    </tr>\n",
       "    <tr>\n",
       "      <th>diagnosis</th>\n",
       "      <th></th>\n",
       "      <th></th>\n",
       "    </tr>\n",
       "  </thead>\n",
       "  <tbody>\n",
       "    <tr>\n",
       "      <th>SEPSIS</th>\n",
       "      <td>5145</td>\n",
       "      <td>5145</td>\n",
       "    </tr>\n",
       "    <tr>\n",
       "      <th>PNEUMONIA</th>\n",
       "      <td>4497</td>\n",
       "      <td>4497</td>\n",
       "    </tr>\n",
       "    <tr>\n",
       "      <th>CONGESTIVE HEART FAILURE</th>\n",
       "      <td>2379</td>\n",
       "      <td>2379</td>\n",
       "    </tr>\n",
       "    <tr>\n",
       "      <th>INTRACRANIAL HEMORRHAGE</th>\n",
       "      <td>2138</td>\n",
       "      <td>2138</td>\n",
       "    </tr>\n",
       "    <tr>\n",
       "      <th>ALTERED MENTAL STATUS</th>\n",
       "      <td>1706</td>\n",
       "      <td>1706</td>\n",
       "    </tr>\n",
       "    <tr>\n",
       "      <th>ABDOMINAL PAIN</th>\n",
       "      <td>1683</td>\n",
       "      <td>1683</td>\n",
       "    </tr>\n",
       "    <tr>\n",
       "      <th>HYPOTENSION</th>\n",
       "      <td>1536</td>\n",
       "      <td>1536</td>\n",
       "    </tr>\n",
       "    <tr>\n",
       "      <th>FEVER</th>\n",
       "      <td>1066</td>\n",
       "      <td>1066</td>\n",
       "    </tr>\n",
       "    <tr>\n",
       "      <th>S/P FALL</th>\n",
       "      <td>1045</td>\n",
       "      <td>1045</td>\n",
       "    </tr>\n",
       "    <tr>\n",
       "      <th>CARDIAC ARREST</th>\n",
       "      <td>973</td>\n",
       "      <td>973</td>\n",
       "    </tr>\n",
       "  </tbody>\n",
       "</table>\n",
       "</div>"
      ],
      "text/plain": [
       "                          icd9_code  short_title\n",
       "diagnosis                                       \n",
       "SEPSIS                         5145         5145\n",
       "PNEUMONIA                      4497         4497\n",
       "CONGESTIVE HEART FAILURE       2379         2379\n",
       "INTRACRANIAL HEMORRHAGE        2138         2138\n",
       "ALTERED MENTAL STATUS          1706         1706\n",
       "ABDOMINAL PAIN                 1683         1683\n",
       "HYPOTENSION                    1536         1536\n",
       "FEVER                          1066         1066\n",
       "S/P FALL                       1045         1045\n",
       "CARDIAC ARREST                  973          973"
      ]
     },
     "execution_count": 20,
     "metadata": {},
     "output_type": "execute_result"
    }
   ],
   "source": [
    "diagnoses_counts3.sort(['icd9_code'], ascending = False).head(10)"
   ]
  },
  {
   "cell_type": "code",
   "execution_count": null,
   "metadata": {
    "collapsed": true
   },
   "outputs": [],
   "source": [
    "diagnoses_list = diagnoses_codes.icd9_code.unique()\n",
    "diagnoses_list2 = diagnoses_codes.diagnosis.unique()\n",
    "display(len(diagnoses_list))\n",
    "display(len(diagnoses_list2))\n",
    "unique_codes = diagnoses_codes.drop_duplicates(['icd9_code', 'short_title'])\n",
    "unique_codes.shape\n",
    "\n",
    "diag_counts = diagnoses_codes.icd9_code.value_counts()\n",
    "diag_counts[0:10]\n",
    "diagnoses_list[0:10]"
   ]
  },
  {
   "cell_type": "markdown",
   "metadata": {},
   "source": [
    "## The database was queried to find initial lab results for patients diagnosed with any of the four previously identified diagnoses.  "
   ]
  },
  {
   "cell_type": "code",
   "execution_count": 21,
   "metadata": {
    "collapsed": false
   },
   "outputs": [
    {
     "data": {
      "text/html": [
       "<div>\n",
       "<table border=\"1\" class=\"dataframe\">\n",
       "  <thead>\n",
       "    <tr style=\"text-align: right;\">\n",
       "      <th></th>\n",
       "      <th>hadm_id</th>\n",
       "      <th>icustay_id</th>\n",
       "      <th>mort_icu</th>\n",
       "      <th>mort_hosp</th>\n",
       "      <th>diagnosis</th>\n",
       "      <th>aniongap_1st</th>\n",
       "      <th>albumin_1st</th>\n",
       "      <th>bicarbonate_1st</th>\n",
       "      <th>bilirubin_1st</th>\n",
       "      <th>creatinine_1st</th>\n",
       "      <th>...</th>\n",
       "      <th>magnesium_1st</th>\n",
       "      <th>phosphate_1st</th>\n",
       "      <th>platelet_1st</th>\n",
       "      <th>potassium_1st</th>\n",
       "      <th>ptt_1st</th>\n",
       "      <th>inr_1st</th>\n",
       "      <th>pt_1st</th>\n",
       "      <th>sodium_1st</th>\n",
       "      <th>bun_1st</th>\n",
       "      <th>wbc_1st</th>\n",
       "    </tr>\n",
       "    <tr>\n",
       "      <th>subject_id</th>\n",
       "      <th></th>\n",
       "      <th></th>\n",
       "      <th></th>\n",
       "      <th></th>\n",
       "      <th></th>\n",
       "      <th></th>\n",
       "      <th></th>\n",
       "      <th></th>\n",
       "      <th></th>\n",
       "      <th></th>\n",
       "      <th></th>\n",
       "      <th></th>\n",
       "      <th></th>\n",
       "      <th></th>\n",
       "      <th></th>\n",
       "      <th></th>\n",
       "      <th></th>\n",
       "      <th></th>\n",
       "      <th></th>\n",
       "      <th></th>\n",
       "      <th></th>\n",
       "    </tr>\n",
       "  </thead>\n",
       "  <tbody>\n",
       "    <tr>\n",
       "      <th>21</th>\n",
       "      <td>109451</td>\n",
       "      <td>217847</td>\n",
       "      <td>0</td>\n",
       "      <td>0</td>\n",
       "      <td>CONGESTIVE HEART FAILURE</td>\n",
       "      <td>26.0</td>\n",
       "      <td>NaN</td>\n",
       "      <td>15.0</td>\n",
       "      <td>0.4</td>\n",
       "      <td>3.7</td>\n",
       "      <td>...</td>\n",
       "      <td>2.0</td>\n",
       "      <td>5.9</td>\n",
       "      <td>261.0</td>\n",
       "      <td>5.0</td>\n",
       "      <td>150.0</td>\n",
       "      <td>4.0</td>\n",
       "      <td>23.5</td>\n",
       "      <td>140.0</td>\n",
       "      <td>94.0</td>\n",
       "      <td>23.5</td>\n",
       "    </tr>\n",
       "    <tr>\n",
       "      <th>21</th>\n",
       "      <td>111970</td>\n",
       "      <td>216859</td>\n",
       "      <td>1</td>\n",
       "      <td>1</td>\n",
       "      <td>SEPSIS</td>\n",
       "      <td>19.0</td>\n",
       "      <td>2.1</td>\n",
       "      <td>23.0</td>\n",
       "      <td>0.3</td>\n",
       "      <td>4.2</td>\n",
       "      <td>...</td>\n",
       "      <td>1.5</td>\n",
       "      <td>4.4</td>\n",
       "      <td>275.0</td>\n",
       "      <td>3.8</td>\n",
       "      <td>31.7</td>\n",
       "      <td>1.7</td>\n",
       "      <td>18.1</td>\n",
       "      <td>137.0</td>\n",
       "      <td>49.0</td>\n",
       "      <td>30.5</td>\n",
       "    </tr>\n",
       "    <tr>\n",
       "      <th>37</th>\n",
       "      <td>188670</td>\n",
       "      <td>213503</td>\n",
       "      <td>0</td>\n",
       "      <td>0</td>\n",
       "      <td>CONGESTIVE HEART FAILURE</td>\n",
       "      <td>10.0</td>\n",
       "      <td>NaN</td>\n",
       "      <td>33.0</td>\n",
       "      <td>NaN</td>\n",
       "      <td>1.0</td>\n",
       "      <td>...</td>\n",
       "      <td>2.2</td>\n",
       "      <td>3.9</td>\n",
       "      <td>263.0</td>\n",
       "      <td>4.0</td>\n",
       "      <td>24.6</td>\n",
       "      <td>1.2</td>\n",
       "      <td>13.3</td>\n",
       "      <td>139.0</td>\n",
       "      <td>37.0</td>\n",
       "      <td>10.4</td>\n",
       "    </tr>\n",
       "    <tr>\n",
       "      <th>42</th>\n",
       "      <td>119203</td>\n",
       "      <td>210828</td>\n",
       "      <td>0</td>\n",
       "      <td>0</td>\n",
       "      <td>CONGESTIVE HEART FAILURE</td>\n",
       "      <td>14.0</td>\n",
       "      <td>3.6</td>\n",
       "      <td>25.0</td>\n",
       "      <td>0.3</td>\n",
       "      <td>0.7</td>\n",
       "      <td>...</td>\n",
       "      <td>1.9</td>\n",
       "      <td>2.8</td>\n",
       "      <td>228.0</td>\n",
       "      <td>4.3</td>\n",
       "      <td>25.7</td>\n",
       "      <td>1.6</td>\n",
       "      <td>15.4</td>\n",
       "      <td>139.0</td>\n",
       "      <td>18.0</td>\n",
       "      <td>7.9</td>\n",
       "    </tr>\n",
       "    <tr>\n",
       "      <th>68</th>\n",
       "      <td>170467</td>\n",
       "      <td>225771</td>\n",
       "      <td>0</td>\n",
       "      <td>0</td>\n",
       "      <td>PNEUMONIA</td>\n",
       "      <td>15.0</td>\n",
       "      <td>NaN</td>\n",
       "      <td>22.0</td>\n",
       "      <td>NaN</td>\n",
       "      <td>2.2</td>\n",
       "      <td>...</td>\n",
       "      <td>2.1</td>\n",
       "      <td>3.8</td>\n",
       "      <td>95.0</td>\n",
       "      <td>3.4</td>\n",
       "      <td>NaN</td>\n",
       "      <td>NaN</td>\n",
       "      <td>NaN</td>\n",
       "      <td>134.0</td>\n",
       "      <td>32.0</td>\n",
       "      <td>1.9</td>\n",
       "    </tr>\n",
       "  </tbody>\n",
       "</table>\n",
       "<p>5 rows × 25 columns</p>\n",
       "</div>"
      ],
      "text/plain": [
       "            hadm_id  icustay_id  mort_icu  mort_hosp  \\\n",
       "subject_id                                             \n",
       "21           109451      217847         0          0   \n",
       "21           111970      216859         1          1   \n",
       "37           188670      213503         0          0   \n",
       "42           119203      210828         0          0   \n",
       "68           170467      225771         0          0   \n",
       "\n",
       "                           diagnosis  aniongap_1st  albumin_1st  \\\n",
       "subject_id                                                        \n",
       "21          CONGESTIVE HEART FAILURE          26.0          NaN   \n",
       "21                            SEPSIS          19.0          2.1   \n",
       "37          CONGESTIVE HEART FAILURE          10.0          NaN   \n",
       "42          CONGESTIVE HEART FAILURE          14.0          3.6   \n",
       "68                         PNEUMONIA          15.0          NaN   \n",
       "\n",
       "            bicarbonate_1st  bilirubin_1st  creatinine_1st   ...     \\\n",
       "subject_id                                                   ...      \n",
       "21                     15.0            0.4             3.7   ...      \n",
       "21                     23.0            0.3             4.2   ...      \n",
       "37                     33.0            NaN             1.0   ...      \n",
       "42                     25.0            0.3             0.7   ...      \n",
       "68                     22.0            NaN             2.2   ...      \n",
       "\n",
       "            magnesium_1st  phosphate_1st  platelet_1st  potassium_1st  \\\n",
       "subject_id                                                              \n",
       "21                    2.0            5.9         261.0            5.0   \n",
       "21                    1.5            4.4         275.0            3.8   \n",
       "37                    2.2            3.9         263.0            4.0   \n",
       "42                    1.9            2.8         228.0            4.3   \n",
       "68                    2.1            3.8          95.0            3.4   \n",
       "\n",
       "            ptt_1st  inr_1st  pt_1st  sodium_1st  bun_1st  wbc_1st  \n",
       "subject_id                                                          \n",
       "21            150.0      4.0    23.5       140.0     94.0     23.5  \n",
       "21             31.7      1.7    18.1       137.0     49.0     30.5  \n",
       "37             24.6      1.2    13.3       139.0     37.0     10.4  \n",
       "42             25.7      1.6    15.4       139.0     18.0      7.9  \n",
       "68              NaN      NaN     NaN       134.0     32.0      1.9  \n",
       "\n",
       "[5 rows x 25 columns]"
      ]
     },
     "execution_count": 21,
     "metadata": {},
     "output_type": "execute_result"
    }
   ],
   "source": [
    "lab_results = pd.DataFrame.from_csv('DEADLY_DIAGNOSES.csv')\n",
    "lab_results.groupby('diagnosis').count()"
   ]
  },
  {
   "cell_type": "markdown",
   "metadata": {},
   "source": [
    "## Perform count of the number of lab results that exist per diagnosis"
   ]
  },
  {
   "cell_type": "code",
   "execution_count": 32,
   "metadata": {
    "collapsed": false
   },
   "outputs": [
    {
     "data": {
      "text/plain": [
       "(4, 24)"
      ]
     },
     "metadata": {},
     "output_type": "display_data"
    },
    {
     "data": {
      "text/html": [
       "<div>\n",
       "<table border=\"1\" class=\"dataframe\">\n",
       "  <thead>\n",
       "    <tr style=\"text-align: right;\">\n",
       "      <th></th>\n",
       "      <th>hadm_id</th>\n",
       "      <th>icustay_id</th>\n",
       "      <th>mort_icu</th>\n",
       "      <th>mort_hosp</th>\n",
       "      <th>aniongap_1st</th>\n",
       "      <th>albumin_1st</th>\n",
       "      <th>bicarbonate_1st</th>\n",
       "      <th>bilirubin_1st</th>\n",
       "      <th>creatinine_1st</th>\n",
       "      <th>chloride_1st</th>\n",
       "      <th>...</th>\n",
       "      <th>magnesium_1st</th>\n",
       "      <th>phosphate_1st</th>\n",
       "      <th>platelet_1st</th>\n",
       "      <th>potassium_1st</th>\n",
       "      <th>ptt_1st</th>\n",
       "      <th>inr_1st</th>\n",
       "      <th>pt_1st</th>\n",
       "      <th>sodium_1st</th>\n",
       "      <th>bun_1st</th>\n",
       "      <th>wbc_1st</th>\n",
       "    </tr>\n",
       "    <tr>\n",
       "      <th>diagnosis</th>\n",
       "      <th></th>\n",
       "      <th></th>\n",
       "      <th></th>\n",
       "      <th></th>\n",
       "      <th></th>\n",
       "      <th></th>\n",
       "      <th></th>\n",
       "      <th></th>\n",
       "      <th></th>\n",
       "      <th></th>\n",
       "      <th></th>\n",
       "      <th></th>\n",
       "      <th></th>\n",
       "      <th></th>\n",
       "      <th></th>\n",
       "      <th></th>\n",
       "      <th></th>\n",
       "      <th></th>\n",
       "      <th></th>\n",
       "      <th></th>\n",
       "      <th></th>\n",
       "    </tr>\n",
       "  </thead>\n",
       "  <tbody>\n",
       "    <tr>\n",
       "      <th>CONGESTIVE HEART FAILURE</th>\n",
       "      <td>1025</td>\n",
       "      <td>1025</td>\n",
       "      <td>1025</td>\n",
       "      <td>1025</td>\n",
       "      <td>1005</td>\n",
       "      <td>330</td>\n",
       "      <td>1011</td>\n",
       "      <td>406</td>\n",
       "      <td>1013</td>\n",
       "      <td>1013</td>\n",
       "      <td>...</td>\n",
       "      <td>986</td>\n",
       "      <td>941</td>\n",
       "      <td>1010</td>\n",
       "      <td>1013</td>\n",
       "      <td>897</td>\n",
       "      <td>899</td>\n",
       "      <td>899</td>\n",
       "      <td>1013</td>\n",
       "      <td>1012</td>\n",
       "      <td>1010</td>\n",
       "    </tr>\n",
       "    <tr>\n",
       "      <th>INTRACRANIAL HEMORRHAGE</th>\n",
       "      <td>754</td>\n",
       "      <td>754</td>\n",
       "      <td>754</td>\n",
       "      <td>754</td>\n",
       "      <td>717</td>\n",
       "      <td>243</td>\n",
       "      <td>718</td>\n",
       "      <td>254</td>\n",
       "      <td>735</td>\n",
       "      <td>732</td>\n",
       "      <td>...</td>\n",
       "      <td>684</td>\n",
       "      <td>681</td>\n",
       "      <td>732</td>\n",
       "      <td>734</td>\n",
       "      <td>712</td>\n",
       "      <td>714</td>\n",
       "      <td>715</td>\n",
       "      <td>732</td>\n",
       "      <td>735</td>\n",
       "      <td>732</td>\n",
       "    </tr>\n",
       "    <tr>\n",
       "      <th>PNEUMONIA</th>\n",
       "      <td>1662</td>\n",
       "      <td>1662</td>\n",
       "      <td>1662</td>\n",
       "      <td>1662</td>\n",
       "      <td>1646</td>\n",
       "      <td>671</td>\n",
       "      <td>1649</td>\n",
       "      <td>866</td>\n",
       "      <td>1651</td>\n",
       "      <td>1652</td>\n",
       "      <td>...</td>\n",
       "      <td>1604</td>\n",
       "      <td>1588</td>\n",
       "      <td>1648</td>\n",
       "      <td>1652</td>\n",
       "      <td>1387</td>\n",
       "      <td>1400</td>\n",
       "      <td>1400</td>\n",
       "      <td>1652</td>\n",
       "      <td>1651</td>\n",
       "      <td>1649</td>\n",
       "    </tr>\n",
       "    <tr>\n",
       "      <th>SEPSIS</th>\n",
       "      <td>1290</td>\n",
       "      <td>1290</td>\n",
       "      <td>1290</td>\n",
       "      <td>1290</td>\n",
       "      <td>1275</td>\n",
       "      <td>824</td>\n",
       "      <td>1275</td>\n",
       "      <td>1000</td>\n",
       "      <td>1277</td>\n",
       "      <td>1279</td>\n",
       "      <td>...</td>\n",
       "      <td>1257</td>\n",
       "      <td>1256</td>\n",
       "      <td>1275</td>\n",
       "      <td>1279</td>\n",
       "      <td>1185</td>\n",
       "      <td>1189</td>\n",
       "      <td>1189</td>\n",
       "      <td>1279</td>\n",
       "      <td>1277</td>\n",
       "      <td>1274</td>\n",
       "    </tr>\n",
       "  </tbody>\n",
       "</table>\n",
       "<p>4 rows × 24 columns</p>\n",
       "</div>"
      ],
      "text/plain": [
       "                          hadm_id  icustay_id  mort_icu  mort_hosp  \\\n",
       "diagnosis                                                            \n",
       "CONGESTIVE HEART FAILURE     1025        1025      1025       1025   \n",
       "INTRACRANIAL HEMORRHAGE       754         754       754        754   \n",
       "PNEUMONIA                    1662        1662      1662       1662   \n",
       "SEPSIS                       1290        1290      1290       1290   \n",
       "\n",
       "                          aniongap_1st  albumin_1st  bicarbonate_1st  \\\n",
       "diagnosis                                                              \n",
       "CONGESTIVE HEART FAILURE          1005          330             1011   \n",
       "INTRACRANIAL HEMORRHAGE            717          243              718   \n",
       "PNEUMONIA                         1646          671             1649   \n",
       "SEPSIS                            1275          824             1275   \n",
       "\n",
       "                          bilirubin_1st  creatinine_1st  chloride_1st  \\\n",
       "diagnosis                                                               \n",
       "CONGESTIVE HEART FAILURE            406            1013          1013   \n",
       "INTRACRANIAL HEMORRHAGE             254             735           732   \n",
       "PNEUMONIA                           866            1651          1652   \n",
       "SEPSIS                             1000            1277          1279   \n",
       "\n",
       "                           ...     magnesium_1st  phosphate_1st  platelet_1st  \\\n",
       "diagnosis                  ...                                                  \n",
       "CONGESTIVE HEART FAILURE   ...               986            941          1010   \n",
       "INTRACRANIAL HEMORRHAGE    ...               684            681           732   \n",
       "PNEUMONIA                  ...              1604           1588          1648   \n",
       "SEPSIS                     ...              1257           1256          1275   \n",
       "\n",
       "                          potassium_1st  ptt_1st  inr_1st  pt_1st  sodium_1st  \\\n",
       "diagnosis                                                                       \n",
       "CONGESTIVE HEART FAILURE           1013      897      899     899        1013   \n",
       "INTRACRANIAL HEMORRHAGE             734      712      714     715         732   \n",
       "PNEUMONIA                          1652     1387     1400    1400        1652   \n",
       "SEPSIS                             1279     1185     1189    1189        1279   \n",
       "\n",
       "                          bun_1st  wbc_1st  \n",
       "diagnosis                                   \n",
       "CONGESTIVE HEART FAILURE     1012     1010  \n",
       "INTRACRANIAL HEMORRHAGE       735      732  \n",
       "PNEUMONIA                    1651     1649  \n",
       "SEPSIS                       1277     1274  \n",
       "\n",
       "[4 rows x 24 columns]"
      ]
     },
     "execution_count": 32,
     "metadata": {},
     "output_type": "execute_result"
    }
   ],
   "source": [
    "lab_results2 = lab_results.groupby(['diagnosis']).count()\n",
    "display(lab_results2.shape)\n",
    "lab_results2.head(10)"
   ]
  },
  {
   "cell_type": "markdown",
   "metadata": {},
   "source": [
    "## Many of the lab recordings were unavailable and are entered as NaN. The method below utilizes the Imputer function.\n",
    "The imputer function can extrapolate missing values from existing values a number of ways. The 'mean' method replaces missing values with the calculated mean for the column. We will be a bit more targeted in that we would like the missing values in a given category of diagnosis to be replaced by the mean of the values within that category. The dataframe will be split and imputed, then reconstructed. "
   ]
  },
  {
   "cell_type": "code",
   "execution_count": 34,
   "metadata": {
    "collapsed": false
   },
   "outputs": [
    {
     "data": {
      "text/html": [
       "<div>\n",
       "<table border=\"1\" class=\"dataframe\">\n",
       "  <thead>\n",
       "    <tr style=\"text-align: right;\">\n",
       "      <th></th>\n",
       "      <th>hadm_id</th>\n",
       "      <th>icustay_id</th>\n",
       "      <th>mort_icu</th>\n",
       "      <th>mort_hosp</th>\n",
       "      <th>diagnosis</th>\n",
       "      <th>aniongap_1st</th>\n",
       "      <th>albumin_1st</th>\n",
       "      <th>bicarbonate_1st</th>\n",
       "      <th>bilirubin_1st</th>\n",
       "      <th>creatinine_1st</th>\n",
       "      <th>...</th>\n",
       "      <th>magnesium_1st</th>\n",
       "      <th>phosphate_1st</th>\n",
       "      <th>platelet_1st</th>\n",
       "      <th>potassium_1st</th>\n",
       "      <th>ptt_1st</th>\n",
       "      <th>inr_1st</th>\n",
       "      <th>pt_1st</th>\n",
       "      <th>sodium_1st</th>\n",
       "      <th>bun_1st</th>\n",
       "      <th>wbc_1st</th>\n",
       "    </tr>\n",
       "    <tr>\n",
       "      <th>subject_id</th>\n",
       "      <th></th>\n",
       "      <th></th>\n",
       "      <th></th>\n",
       "      <th></th>\n",
       "      <th></th>\n",
       "      <th></th>\n",
       "      <th></th>\n",
       "      <th></th>\n",
       "      <th></th>\n",
       "      <th></th>\n",
       "      <th></th>\n",
       "      <th></th>\n",
       "      <th></th>\n",
       "      <th></th>\n",
       "      <th></th>\n",
       "      <th></th>\n",
       "      <th></th>\n",
       "      <th></th>\n",
       "      <th></th>\n",
       "      <th></th>\n",
       "      <th></th>\n",
       "    </tr>\n",
       "  </thead>\n",
       "  <tbody>\n",
       "    <tr>\n",
       "      <th>21</th>\n",
       "      <td>109451</td>\n",
       "      <td>217847</td>\n",
       "      <td>0</td>\n",
       "      <td>0</td>\n",
       "      <td>CONGESTIVE HEART FAILURE</td>\n",
       "      <td>26.0</td>\n",
       "      <td>NaN</td>\n",
       "      <td>15.0</td>\n",
       "      <td>0.4</td>\n",
       "      <td>3.7</td>\n",
       "      <td>...</td>\n",
       "      <td>2.0</td>\n",
       "      <td>5.9</td>\n",
       "      <td>261.0</td>\n",
       "      <td>5.0</td>\n",
       "      <td>150.0</td>\n",
       "      <td>4.0</td>\n",
       "      <td>23.5</td>\n",
       "      <td>140.0</td>\n",
       "      <td>94.0</td>\n",
       "      <td>23.5</td>\n",
       "    </tr>\n",
       "    <tr>\n",
       "      <th>37</th>\n",
       "      <td>188670</td>\n",
       "      <td>213503</td>\n",
       "      <td>0</td>\n",
       "      <td>0</td>\n",
       "      <td>CONGESTIVE HEART FAILURE</td>\n",
       "      <td>10.0</td>\n",
       "      <td>NaN</td>\n",
       "      <td>33.0</td>\n",
       "      <td>NaN</td>\n",
       "      <td>1.0</td>\n",
       "      <td>...</td>\n",
       "      <td>2.2</td>\n",
       "      <td>3.9</td>\n",
       "      <td>263.0</td>\n",
       "      <td>4.0</td>\n",
       "      <td>24.6</td>\n",
       "      <td>1.2</td>\n",
       "      <td>13.3</td>\n",
       "      <td>139.0</td>\n",
       "      <td>37.0</td>\n",
       "      <td>10.4</td>\n",
       "    </tr>\n",
       "    <tr>\n",
       "      <th>42</th>\n",
       "      <td>119203</td>\n",
       "      <td>210828</td>\n",
       "      <td>0</td>\n",
       "      <td>0</td>\n",
       "      <td>CONGESTIVE HEART FAILURE</td>\n",
       "      <td>14.0</td>\n",
       "      <td>3.6</td>\n",
       "      <td>25.0</td>\n",
       "      <td>0.3</td>\n",
       "      <td>0.7</td>\n",
       "      <td>...</td>\n",
       "      <td>1.9</td>\n",
       "      <td>2.8</td>\n",
       "      <td>228.0</td>\n",
       "      <td>4.3</td>\n",
       "      <td>25.7</td>\n",
       "      <td>1.6</td>\n",
       "      <td>15.4</td>\n",
       "      <td>139.0</td>\n",
       "      <td>18.0</td>\n",
       "      <td>7.9</td>\n",
       "    </tr>\n",
       "    <tr>\n",
       "      <th>164</th>\n",
       "      <td>182743</td>\n",
       "      <td>218740</td>\n",
       "      <td>1</td>\n",
       "      <td>1</td>\n",
       "      <td>CONGESTIVE HEART FAILURE</td>\n",
       "      <td>14.0</td>\n",
       "      <td>NaN</td>\n",
       "      <td>26.0</td>\n",
       "      <td>NaN</td>\n",
       "      <td>0.6</td>\n",
       "      <td>...</td>\n",
       "      <td>1.8</td>\n",
       "      <td>3.4</td>\n",
       "      <td>145.0</td>\n",
       "      <td>4.2</td>\n",
       "      <td>46.1</td>\n",
       "      <td>7.1</td>\n",
       "      <td>33.5</td>\n",
       "      <td>138.0</td>\n",
       "      <td>25.0</td>\n",
       "      <td>16.4</td>\n",
       "    </tr>\n",
       "    <tr>\n",
       "      <th>305</th>\n",
       "      <td>122211</td>\n",
       "      <td>224571</td>\n",
       "      <td>0</td>\n",
       "      <td>0</td>\n",
       "      <td>CONGESTIVE HEART FAILURE</td>\n",
       "      <td>10.0</td>\n",
       "      <td>NaN</td>\n",
       "      <td>29.0</td>\n",
       "      <td>NaN</td>\n",
       "      <td>0.7</td>\n",
       "      <td>...</td>\n",
       "      <td>1.9</td>\n",
       "      <td>3.6</td>\n",
       "      <td>259.0</td>\n",
       "      <td>3.7</td>\n",
       "      <td>NaN</td>\n",
       "      <td>NaN</td>\n",
       "      <td>NaN</td>\n",
       "      <td>141.0</td>\n",
       "      <td>19.0</td>\n",
       "      <td>4.4</td>\n",
       "    </tr>\n",
       "  </tbody>\n",
       "</table>\n",
       "<p>5 rows × 25 columns</p>\n",
       "</div>"
      ],
      "text/plain": [
       "            hadm_id  icustay_id  mort_icu  mort_hosp  \\\n",
       "subject_id                                             \n",
       "21           109451      217847         0          0   \n",
       "37           188670      213503         0          0   \n",
       "42           119203      210828         0          0   \n",
       "164          182743      218740         1          1   \n",
       "305          122211      224571         0          0   \n",
       "\n",
       "                           diagnosis  aniongap_1st  albumin_1st  \\\n",
       "subject_id                                                        \n",
       "21          CONGESTIVE HEART FAILURE          26.0          NaN   \n",
       "37          CONGESTIVE HEART FAILURE          10.0          NaN   \n",
       "42          CONGESTIVE HEART FAILURE          14.0          3.6   \n",
       "164         CONGESTIVE HEART FAILURE          14.0          NaN   \n",
       "305         CONGESTIVE HEART FAILURE          10.0          NaN   \n",
       "\n",
       "            bicarbonate_1st  bilirubin_1st  creatinine_1st   ...     \\\n",
       "subject_id                                                   ...      \n",
       "21                     15.0            0.4             3.7   ...      \n",
       "37                     33.0            NaN             1.0   ...      \n",
       "42                     25.0            0.3             0.7   ...      \n",
       "164                    26.0            NaN             0.6   ...      \n",
       "305                    29.0            NaN             0.7   ...      \n",
       "\n",
       "            magnesium_1st  phosphate_1st  platelet_1st  potassium_1st  \\\n",
       "subject_id                                                              \n",
       "21                    2.0            5.9         261.0            5.0   \n",
       "37                    2.2            3.9         263.0            4.0   \n",
       "42                    1.9            2.8         228.0            4.3   \n",
       "164                   1.8            3.4         145.0            4.2   \n",
       "305                   1.9            3.6         259.0            3.7   \n",
       "\n",
       "            ptt_1st  inr_1st  pt_1st  sodium_1st  bun_1st  wbc_1st  \n",
       "subject_id                                                          \n",
       "21            150.0      4.0    23.5       140.0     94.0     23.5  \n",
       "37             24.6      1.2    13.3       139.0     37.0     10.4  \n",
       "42             25.7      1.6    15.4       139.0     18.0      7.9  \n",
       "164            46.1      7.1    33.5       138.0     25.0     16.4  \n",
       "305             NaN      NaN     NaN       141.0     19.0      4.4  \n",
       "\n",
       "[5 rows x 25 columns]"
      ]
     },
     "execution_count": 34,
     "metadata": {},
     "output_type": "execute_result"
    }
   ],
   "source": [
    "\n",
    "cong_hf = lab_results[lab_results['diagnosis'] == 'CONGESTIVE HEART FAILURE']\n",
    "cong_hf.head()"
   ]
  },
  {
   "cell_type": "code",
   "execution_count": 66,
   "metadata": {
    "collapsed": false
   },
   "outputs": [
    {
     "data": {
      "text/plain": [
       "array(['CONGESTIVE HEART FAILURE', 'SEPSIS', 'PNEUMONIA',\n",
       "       'INTRACRANIAL HEMORRHAGE'], dtype=object)"
      ]
     },
     "execution_count": 66,
     "metadata": {},
     "output_type": "execute_result"
    }
   ],
   "source": [
    "lab_results.diagnosis.unique()"
   ]
  },
  {
   "cell_type": "code",
   "execution_count": 67,
   "metadata": {
    "collapsed": false
   },
   "outputs": [
    {
     "data": {
      "text/plain": [
       "(1025, 20)"
      ]
     },
     "metadata": {},
     "output_type": "display_data"
    },
    {
     "data": {
      "text/plain": [
       "(1290, 20)"
      ]
     },
     "metadata": {},
     "output_type": "display_data"
    },
    {
     "data": {
      "text/plain": [
       "(1662, 20)"
      ]
     },
     "metadata": {},
     "output_type": "display_data"
    },
    {
     "data": {
      "text/plain": [
       "(754, 20)"
      ]
     },
     "metadata": {},
     "output_type": "display_data"
    }
   ],
   "source": [
    "cong_hf_features = lab_results[lab_results['diagnosis'] == 'CONGESTIVE HEART FAILURE'][lab_results.columns[5:]]\n",
    "cong_hf_labels = lab_results[lab_results['diagnosis'] == 'CONGESTIVE HEART FAILURE'][lab_results.columns[:5]]\n",
    "seps_features = lab_results[lab_results['diagnosis'] == 'SEPSIS'][lab_results.columns[5:]]\n",
    "seps_labels = lab_results[lab_results['diagnosis'] == 'SEPSIS'][lab_results.columns[:5]]\n",
    "pneum_features = lab_results[lab_results['diagnosis'] == 'PNEUMONIA'][lab_results.columns[5:]]\n",
    "pneum_labels = lab_results[lab_results['diagnosis'] == 'PNEUMONIA'][lab_results.columns[:5]]\n",
    "intracran_features = lab_results[lab_results['diagnosis'] == 'INTRACRANIAL HEMORRHAGE'][lab_results.columns[5:]]\n",
    "intracran_labels = lab_results[lab_results['diagnosis'] == 'INTRACRANIAL HEMORRHAGE'][lab_results.columns[:5]]\n",
    "display(cong_hf_features.shape)\n",
    "display(seps_features.shape)\n",
    "display(pneum_features.shape)\n",
    "display(intracran_features.shape)"
   ]
  },
  {
   "cell_type": "markdown",
   "metadata": {},
   "source": [
    "## Example code for how to impute dataframe by column"
   ]
  },
  {
   "cell_type": "code",
   "execution_count": 53,
   "metadata": {
    "collapsed": false
   },
   "outputs": [],
   "source": [
    "cong_hf_features2 = cong_hf_features.copy()\n",
    "cong_hf_features2['aniongap_1st'] = imp.fit_transform(cong_hf_features[['aniongap_1st']]).ravel()\n"
   ]
  },
  {
   "cell_type": "code",
   "execution_count": 55,
   "metadata": {
    "collapsed": false
   },
   "outputs": [
    {
     "data": {
      "text/plain": [
       "0"
      ]
     },
     "execution_count": 55,
     "metadata": {},
     "output_type": "execute_result"
    }
   ],
   "source": [
    "cong_hf_features2['aniongap_1st'].isnull().sum()"
   ]
  },
  {
   "cell_type": "markdown",
   "metadata": {},
   "source": [
    "## Impute whole dataframe"
   ]
  },
  {
   "cell_type": "code",
   "execution_count": 71,
   "metadata": {
    "collapsed": false
   },
   "outputs": [],
   "source": [
    "from sklearn.preprocessing import Imputer\n",
    "imp = Imputer(missing_values='NaN', strategy='mean', axis=0)\n",
    "cong_hf_imp = pd.DataFrame(imp.fit_transform(cong_hf_features))\n",
    "cong_hf_imp.columns = cong_hf_features.columns\n",
    "cong_hf_imp.index = cong_hf_features.index\n",
    "seps_imp = pd.DataFrame(imp.fit_transform(seps_features))\n",
    "seps_imp.columns = seps_features.columns\n",
    "seps_imp.index = seps_features.index\n",
    "pneum_imp = pd.DataFrame(imp.fit_transform(pneum_features))\n",
    "pneum_imp.columns = pneum_features.columns\n",
    "pneum_imp.index = pneum_features.index\n",
    "intracran_imp = pd.DataFrame(imp.fit_transform(intracran_features))\n",
    "intracran_imp.columns = intracran_features.columns\n",
    "intracran_imp.index = intracran_features.index"
   ]
  },
  {
   "cell_type": "code",
   "execution_count": 48,
   "metadata": {
    "collapsed": false
   },
   "outputs": [
    {
     "data": {
      "text/plain": [
       "aniongap_1st       0\n",
       "albumin_1st        0\n",
       "bicarbonate_1st    0\n",
       "bilirubin_1st      0\n",
       "creatinine_1st     0\n",
       "chloride_1st       0\n",
       "glucose_1st        0\n",
       "hematocrit_1st     0\n",
       "hemoglobin_1st     0\n",
       "lactate_1st        0\n",
       "magnesium_1st      0\n",
       "phosphate_1st      0\n",
       "platelet_1st       0\n",
       "potassium_1st      0\n",
       "ptt_1st            0\n",
       "inr_1st            0\n",
       "pt_1st             0\n",
       "sodium_1st         0\n",
       "bun_1st            0\n",
       "wbc_1st            0\n",
       "dtype: int64"
      ]
     },
     "execution_count": 48,
     "metadata": {},
     "output_type": "execute_result"
    }
   ],
   "source": [
    "cong_hf_imp.isnull().sum()"
   ]
  },
  {
   "cell_type": "code",
   "execution_count": 72,
   "metadata": {
    "collapsed": false
   },
   "outputs": [],
   "source": [
    "cong_hf_imputed = pd.concat([cong_hf_labels, cong_hf_imp], axis=1, join_axes=[cong_hf_labels.index])\n",
    "seps_imputed = pd.concat([seps_labels, seps_imp], axis = 1, join_axes = [seps_labels.index])\n",
    "pneum_imputed = pd.concat([pneum_labels, pneum_imp], axis = 1, join_axes = [pneum_labels.index])\n",
    "intracran_imputed = pd.concat([intracran_labels, intracran_imp], axis = 1, join_axes = [intracran_labels.index])"
   ]
  },
  {
   "cell_type": "code",
   "execution_count": 77,
   "metadata": {
    "collapsed": false
   },
   "outputs": [
    {
     "data": {
      "text/plain": [
       "array([ True,  True,  True,  True,  True,  True,  True,  True,  True,\n",
       "        True,  True,  True,  True,  True,  True,  True,  True,  True,\n",
       "        True,  True,  True,  True,  True,  True,  True], dtype=bool)"
      ]
     },
     "execution_count": 77,
     "metadata": {},
     "output_type": "execute_result"
    }
   ],
   "source": [
    "cong_hf_imputed.columns == seps_imputed.columns"
   ]
  },
  {
   "cell_type": "code",
   "execution_count": 76,
   "metadata": {
    "collapsed": false
   },
   "outputs": [
    {
     "data": {
      "text/plain": [
       "array([ True,  True,  True,  True,  True,  True,  True,  True,  True,\n",
       "        True,  True,  True,  True,  True,  True,  True,  True,  True,\n",
       "        True,  True,  True,  True,  True,  True,  True], dtype=bool)"
      ]
     },
     "execution_count": 76,
     "metadata": {},
     "output_type": "execute_result"
    }
   ],
   "source": [
    "seps_imputed.columns ==  pneum_imputed.columns"
   ]
  },
  {
   "cell_type": "code",
   "execution_count": 78,
   "metadata": {
    "collapsed": false
   },
   "outputs": [
    {
     "data": {
      "text/plain": [
       "array([ True,  True,  True,  True,  True,  True,  True,  True,  True,\n",
       "        True,  True,  True,  True,  True,  True,  True,  True,  True,\n",
       "        True,  True,  True,  True,  True,  True,  True], dtype=bool)"
      ]
     },
     "execution_count": 78,
     "metadata": {},
     "output_type": "execute_result"
    }
   ],
   "source": [
    "pneum_imputed.columns == intracran_imputed.columns"
   ]
  },
  {
   "cell_type": "code",
   "execution_count": 79,
   "metadata": {
    "collapsed": false
   },
   "outputs": [
    {
     "data": {
      "text/html": [
       "<div>\n",
       "<table border=\"1\" class=\"dataframe\">\n",
       "  <thead>\n",
       "    <tr style=\"text-align: right;\">\n",
       "      <th></th>\n",
       "      <th>hadm_id</th>\n",
       "      <th>icustay_id</th>\n",
       "      <th>mort_icu</th>\n",
       "      <th>mort_hosp</th>\n",
       "      <th>diagnosis</th>\n",
       "      <th>aniongap_1st</th>\n",
       "      <th>albumin_1st</th>\n",
       "      <th>bicarbonate_1st</th>\n",
       "      <th>bilirubin_1st</th>\n",
       "      <th>creatinine_1st</th>\n",
       "      <th>...</th>\n",
       "      <th>magnesium_1st</th>\n",
       "      <th>phosphate_1st</th>\n",
       "      <th>platelet_1st</th>\n",
       "      <th>potassium_1st</th>\n",
       "      <th>ptt_1st</th>\n",
       "      <th>inr_1st</th>\n",
       "      <th>pt_1st</th>\n",
       "      <th>sodium_1st</th>\n",
       "      <th>bun_1st</th>\n",
       "      <th>wbc_1st</th>\n",
       "    </tr>\n",
       "    <tr>\n",
       "      <th>subject_id</th>\n",
       "      <th></th>\n",
       "      <th></th>\n",
       "      <th></th>\n",
       "      <th></th>\n",
       "      <th></th>\n",
       "      <th></th>\n",
       "      <th></th>\n",
       "      <th></th>\n",
       "      <th></th>\n",
       "      <th></th>\n",
       "      <th></th>\n",
       "      <th></th>\n",
       "      <th></th>\n",
       "      <th></th>\n",
       "      <th></th>\n",
       "      <th></th>\n",
       "      <th></th>\n",
       "      <th></th>\n",
       "      <th></th>\n",
       "      <th></th>\n",
       "      <th></th>\n",
       "    </tr>\n",
       "  </thead>\n",
       "  <tbody>\n",
       "    <tr>\n",
       "      <th>21</th>\n",
       "      <td>109451</td>\n",
       "      <td>217847</td>\n",
       "      <td>0</td>\n",
       "      <td>0</td>\n",
       "      <td>CONGESTIVE HEART FAILURE</td>\n",
       "      <td>26.0</td>\n",
       "      <td>3.400606</td>\n",
       "      <td>15.0</td>\n",
       "      <td>0.400000</td>\n",
       "      <td>3.7</td>\n",
       "      <td>...</td>\n",
       "      <td>2.0</td>\n",
       "      <td>5.9</td>\n",
       "      <td>261.0</td>\n",
       "      <td>5.0</td>\n",
       "      <td>150.000000</td>\n",
       "      <td>4.000000</td>\n",
       "      <td>23.500000</td>\n",
       "      <td>140.0</td>\n",
       "      <td>94.0</td>\n",
       "      <td>23.5</td>\n",
       "    </tr>\n",
       "    <tr>\n",
       "      <th>37</th>\n",
       "      <td>188670</td>\n",
       "      <td>213503</td>\n",
       "      <td>0</td>\n",
       "      <td>0</td>\n",
       "      <td>CONGESTIVE HEART FAILURE</td>\n",
       "      <td>10.0</td>\n",
       "      <td>3.400606</td>\n",
       "      <td>33.0</td>\n",
       "      <td>0.888916</td>\n",
       "      <td>1.0</td>\n",
       "      <td>...</td>\n",
       "      <td>2.2</td>\n",
       "      <td>3.9</td>\n",
       "      <td>263.0</td>\n",
       "      <td>4.0</td>\n",
       "      <td>24.600000</td>\n",
       "      <td>1.200000</td>\n",
       "      <td>13.300000</td>\n",
       "      <td>139.0</td>\n",
       "      <td>37.0</td>\n",
       "      <td>10.4</td>\n",
       "    </tr>\n",
       "    <tr>\n",
       "      <th>42</th>\n",
       "      <td>119203</td>\n",
       "      <td>210828</td>\n",
       "      <td>0</td>\n",
       "      <td>0</td>\n",
       "      <td>CONGESTIVE HEART FAILURE</td>\n",
       "      <td>14.0</td>\n",
       "      <td>3.600000</td>\n",
       "      <td>25.0</td>\n",
       "      <td>0.300000</td>\n",
       "      <td>0.7</td>\n",
       "      <td>...</td>\n",
       "      <td>1.9</td>\n",
       "      <td>2.8</td>\n",
       "      <td>228.0</td>\n",
       "      <td>4.3</td>\n",
       "      <td>25.700000</td>\n",
       "      <td>1.600000</td>\n",
       "      <td>15.400000</td>\n",
       "      <td>139.0</td>\n",
       "      <td>18.0</td>\n",
       "      <td>7.9</td>\n",
       "    </tr>\n",
       "    <tr>\n",
       "      <th>164</th>\n",
       "      <td>182743</td>\n",
       "      <td>218740</td>\n",
       "      <td>1</td>\n",
       "      <td>1</td>\n",
       "      <td>CONGESTIVE HEART FAILURE</td>\n",
       "      <td>14.0</td>\n",
       "      <td>3.400606</td>\n",
       "      <td>26.0</td>\n",
       "      <td>0.888916</td>\n",
       "      <td>0.6</td>\n",
       "      <td>...</td>\n",
       "      <td>1.8</td>\n",
       "      <td>3.4</td>\n",
       "      <td>145.0</td>\n",
       "      <td>4.2</td>\n",
       "      <td>46.100000</td>\n",
       "      <td>7.100000</td>\n",
       "      <td>33.500000</td>\n",
       "      <td>138.0</td>\n",
       "      <td>25.0</td>\n",
       "      <td>16.4</td>\n",
       "    </tr>\n",
       "    <tr>\n",
       "      <th>305</th>\n",
       "      <td>122211</td>\n",
       "      <td>224571</td>\n",
       "      <td>0</td>\n",
       "      <td>0</td>\n",
       "      <td>CONGESTIVE HEART FAILURE</td>\n",
       "      <td>10.0</td>\n",
       "      <td>3.400606</td>\n",
       "      <td>29.0</td>\n",
       "      <td>0.888916</td>\n",
       "      <td>0.7</td>\n",
       "      <td>...</td>\n",
       "      <td>1.9</td>\n",
       "      <td>3.6</td>\n",
       "      <td>259.0</td>\n",
       "      <td>3.7</td>\n",
       "      <td>39.892754</td>\n",
       "      <td>1.797453</td>\n",
       "      <td>18.313793</td>\n",
       "      <td>141.0</td>\n",
       "      <td>19.0</td>\n",
       "      <td>4.4</td>\n",
       "    </tr>\n",
       "  </tbody>\n",
       "</table>\n",
       "<p>5 rows × 25 columns</p>\n",
       "</div>"
      ],
      "text/plain": [
       "            hadm_id  icustay_id  mort_icu  mort_hosp  \\\n",
       "subject_id                                             \n",
       "21           109451      217847         0          0   \n",
       "37           188670      213503         0          0   \n",
       "42           119203      210828         0          0   \n",
       "164          182743      218740         1          1   \n",
       "305          122211      224571         0          0   \n",
       "\n",
       "                           diagnosis  aniongap_1st  albumin_1st  \\\n",
       "subject_id                                                        \n",
       "21          CONGESTIVE HEART FAILURE          26.0     3.400606   \n",
       "37          CONGESTIVE HEART FAILURE          10.0     3.400606   \n",
       "42          CONGESTIVE HEART FAILURE          14.0     3.600000   \n",
       "164         CONGESTIVE HEART FAILURE          14.0     3.400606   \n",
       "305         CONGESTIVE HEART FAILURE          10.0     3.400606   \n",
       "\n",
       "            bicarbonate_1st  bilirubin_1st  creatinine_1st   ...     \\\n",
       "subject_id                                                   ...      \n",
       "21                     15.0       0.400000             3.7   ...      \n",
       "37                     33.0       0.888916             1.0   ...      \n",
       "42                     25.0       0.300000             0.7   ...      \n",
       "164                    26.0       0.888916             0.6   ...      \n",
       "305                    29.0       0.888916             0.7   ...      \n",
       "\n",
       "            magnesium_1st  phosphate_1st  platelet_1st  potassium_1st  \\\n",
       "subject_id                                                              \n",
       "21                    2.0            5.9         261.0            5.0   \n",
       "37                    2.2            3.9         263.0            4.0   \n",
       "42                    1.9            2.8         228.0            4.3   \n",
       "164                   1.8            3.4         145.0            4.2   \n",
       "305                   1.9            3.6         259.0            3.7   \n",
       "\n",
       "               ptt_1st   inr_1st     pt_1st  sodium_1st  bun_1st  wbc_1st  \n",
       "subject_id                                                                 \n",
       "21          150.000000  4.000000  23.500000       140.0     94.0     23.5  \n",
       "37           24.600000  1.200000  13.300000       139.0     37.0     10.4  \n",
       "42           25.700000  1.600000  15.400000       139.0     18.0      7.9  \n",
       "164          46.100000  7.100000  33.500000       138.0     25.0     16.4  \n",
       "305          39.892754  1.797453  18.313793       141.0     19.0      4.4  \n",
       "\n",
       "[5 rows x 25 columns]"
      ]
     },
     "execution_count": 79,
     "metadata": {},
     "output_type": "execute_result"
    }
   ],
   "source": [
    "data_imputed = pd.concat([cong_hf_imputed, seps_imputed, pneum_imputed, intracran_imputed])\n",
    "data_imputed.head()"
   ]
  },
  {
   "cell_type": "code",
   "execution_count": 84,
   "metadata": {
    "collapsed": false
   },
   "outputs": [
    {
     "data": {
      "text/plain": [
       "hadm_id            0\n",
       "icustay_id         0\n",
       "mort_icu           0\n",
       "mort_hosp          0\n",
       "diagnosis          0\n",
       "aniongap_1st       0\n",
       "albumin_1st        0\n",
       "bicarbonate_1st    0\n",
       "bilirubin_1st      0\n",
       "creatinine_1st     0\n",
       "chloride_1st       0\n",
       "glucose_1st        0\n",
       "hematocrit_1st     0\n",
       "hemoglobin_1st     0\n",
       "lactate_1st        0\n",
       "magnesium_1st      0\n",
       "phosphate_1st      0\n",
       "platelet_1st       0\n",
       "potassium_1st      0\n",
       "ptt_1st            0\n",
       "inr_1st            0\n",
       "pt_1st             0\n",
       "sodium_1st         0\n",
       "bun_1st            0\n",
       "wbc_1st            0\n",
       "dtype: int64"
      ]
     },
     "execution_count": 84,
     "metadata": {},
     "output_type": "execute_result"
    }
   ],
   "source": [
    "data_imputed.isnull().sum()"
   ]
  },
  {
   "cell_type": "code",
   "execution_count": 83,
   "metadata": {
    "collapsed": false
   },
   "outputs": [
    {
     "data": {
      "text/plain": [
       "hadm_id               0\n",
       "icustay_id            0\n",
       "mort_icu              0\n",
       "mort_hosp             0\n",
       "diagnosis             0\n",
       "aniongap_1st         88\n",
       "albumin_1st        2663\n",
       "bicarbonate_1st      78\n",
       "bilirubin_1st      2205\n",
       "creatinine_1st       55\n",
       "chloride_1st         55\n",
       "glucose_1st          57\n",
       "hematocrit_1st       62\n",
       "hemoglobin_1st       64\n",
       "lactate_1st        1186\n",
       "magnesium_1st       200\n",
       "phosphate_1st       265\n",
       "platelet_1st         66\n",
       "potassium_1st        53\n",
       "ptt_1st             550\n",
       "inr_1st             529\n",
       "pt_1st              528\n",
       "sodium_1st           55\n",
       "bun_1st              56\n",
       "wbc_1st              66\n",
       "dtype: int64"
      ]
     },
     "execution_count": 83,
     "metadata": {},
     "output_type": "execute_result"
    }
   ],
   "source": [
    "lab_results.isnull().sum()"
   ]
  },
  {
   "cell_type": "code",
   "execution_count": null,
   "metadata": {
    "collapsed": true
   },
   "outputs": [],
   "source": []
  }
 ],
 "metadata": {
  "kernelspec": {
   "display_name": "Python 2",
   "language": "python",
   "name": "python2"
  },
  "language_info": {
   "codemirror_mode": {
    "name": "ipython",
    "version": 2
   },
   "file_extension": ".py",
   "mimetype": "text/x-python",
   "name": "python",
   "nbconvert_exporter": "python",
   "pygments_lexer": "ipython2",
   "version": "2.7.12"
  }
 },
 "nbformat": 4,
 "nbformat_minor": 2
}

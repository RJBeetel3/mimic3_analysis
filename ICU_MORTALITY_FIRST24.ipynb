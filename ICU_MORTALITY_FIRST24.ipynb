{
 "cells": [
  {
   "cell_type": "code",
   "execution_count": 1,
   "metadata": {
    "collapsed": true
   },
   "outputs": [],
   "source": [
    "import sys\n",
    "import pandas as pd\n",
    "import datetime as datetime\n",
    "import numpy as np\n",
    "from dateutil.relativedelta import relativedelta\n",
    "from sklearn.preprocessing import OneHotEncoder\n",
    "import matplotlib\n",
    "import matplotlib.pyplot as plt\n",
    "#import psycopg2\n",
    "from scipy.stats import ks_2samp\n",
    "import scipy.stats as scats\n",
    "import visuals as vs\n",
    "from sklearn.decomposition import PCA\n",
    "from sklearn import preprocessing\n",
    "from sklearn.neural_network import MLPClassifier\n",
    "from sklearn.naive_bayes import GaussianNB\n",
    "from sklearn import metrics\n",
    "from sklearn import svm\n",
    "from sklearn.model_selection import cross_val_score\n",
    "from sklearn.model_selection import train_test_split\n",
    "from sklearn.feature_selection import SelectKBest\n",
    "from sklearn.feature_selection import chi2\n",
    "from heapq import nlargest\n",
    "plt.style.use('ggplot') \n",
    "%matplotlib inline"
   ]
  },
  {
   "cell_type": "code",
   "execution_count": 2,
   "metadata": {
    "collapsed": false
   },
   "outputs": [
    {
     "data": {
      "text/html": [
       "<div>\n",
       "<table border=\"1\" class=\"dataframe\">\n",
       "  <thead>\n",
       "    <tr style=\"text-align: right;\">\n",
       "      <th></th>\n",
       "      <th>icustay_id</th>\n",
       "      <th>subject_id</th>\n",
       "      <th>BP_Dia_max</th>\n",
       "      <th>BP_Dia_mean</th>\n",
       "      <th>BP_Dia_med</th>\n",
       "      <th>BP_Dia_min</th>\n",
       "      <th>BP_Dia_skew</th>\n",
       "      <th>BP_Dia_std</th>\n",
       "      <th>BP_Mean_max</th>\n",
       "      <th>BP_Mean_mean</th>\n",
       "      <th>...</th>\n",
       "      <th>pH2_med</th>\n",
       "      <th>pH2_min</th>\n",
       "      <th>pH2_skew</th>\n",
       "      <th>pH2_std</th>\n",
       "      <th>pH_max</th>\n",
       "      <th>pH_mean</th>\n",
       "      <th>pH_med</th>\n",
       "      <th>pH_min</th>\n",
       "      <th>pH_skew</th>\n",
       "      <th>pH_std</th>\n",
       "    </tr>\n",
       "  </thead>\n",
       "  <tbody>\n",
       "    <tr>\n",
       "      <th>0</th>\n",
       "      <td>200001</td>\n",
       "      <td>55973</td>\n",
       "      <td>NaN</td>\n",
       "      <td>NaN</td>\n",
       "      <td>NaN</td>\n",
       "      <td>NaN</td>\n",
       "      <td>NaN</td>\n",
       "      <td>NaN</td>\n",
       "      <td>NaN</td>\n",
       "      <td>NaN</td>\n",
       "      <td>...</td>\n",
       "      <td>NaN</td>\n",
       "      <td>NaN</td>\n",
       "      <td>NaN</td>\n",
       "      <td>NaN</td>\n",
       "      <td>NaN</td>\n",
       "      <td>NaN</td>\n",
       "      <td>NaN</td>\n",
       "      <td>NaN</td>\n",
       "      <td>NaN</td>\n",
       "      <td>NaN</td>\n",
       "    </tr>\n",
       "    <tr>\n",
       "      <th>1</th>\n",
       "      <td>200003</td>\n",
       "      <td>27513</td>\n",
       "      <td>81.0</td>\n",
       "      <td>42.708333</td>\n",
       "      <td>60.5</td>\n",
       "      <td>0.0</td>\n",
       "      <td>-0.623249</td>\n",
       "      <td>31.452489</td>\n",
       "      <td>179.0</td>\n",
       "      <td>87.411765</td>\n",
       "      <td>...</td>\n",
       "      <td>7.38</td>\n",
       "      <td>7.36</td>\n",
       "      <td>1.220037</td>\n",
       "      <td>0.038987</td>\n",
       "      <td>7.46</td>\n",
       "      <td>7.398</td>\n",
       "      <td>7.38</td>\n",
       "      <td>7.36</td>\n",
       "      <td>1.220037</td>\n",
       "      <td>0.038987</td>\n",
       "    </tr>\n",
       "    <tr>\n",
       "      <th>2</th>\n",
       "      <td>200006</td>\n",
       "      <td>10950</td>\n",
       "      <td>NaN</td>\n",
       "      <td>NaN</td>\n",
       "      <td>NaN</td>\n",
       "      <td>NaN</td>\n",
       "      <td>NaN</td>\n",
       "      <td>NaN</td>\n",
       "      <td>NaN</td>\n",
       "      <td>NaN</td>\n",
       "      <td>...</td>\n",
       "      <td>NaN</td>\n",
       "      <td>NaN</td>\n",
       "      <td>NaN</td>\n",
       "      <td>NaN</td>\n",
       "      <td>NaN</td>\n",
       "      <td>NaN</td>\n",
       "      <td>NaN</td>\n",
       "      <td>NaN</td>\n",
       "      <td>NaN</td>\n",
       "      <td>NaN</td>\n",
       "    </tr>\n",
       "    <tr>\n",
       "      <th>3</th>\n",
       "      <td>200007</td>\n",
       "      <td>20707</td>\n",
       "      <td>NaN</td>\n",
       "      <td>NaN</td>\n",
       "      <td>NaN</td>\n",
       "      <td>NaN</td>\n",
       "      <td>NaN</td>\n",
       "      <td>NaN</td>\n",
       "      <td>NaN</td>\n",
       "      <td>NaN</td>\n",
       "      <td>...</td>\n",
       "      <td>NaN</td>\n",
       "      <td>NaN</td>\n",
       "      <td>NaN</td>\n",
       "      <td>NaN</td>\n",
       "      <td>NaN</td>\n",
       "      <td>NaN</td>\n",
       "      <td>NaN</td>\n",
       "      <td>NaN</td>\n",
       "      <td>NaN</td>\n",
       "      <td>NaN</td>\n",
       "    </tr>\n",
       "    <tr>\n",
       "      <th>4</th>\n",
       "      <td>200009</td>\n",
       "      <td>29904</td>\n",
       "      <td>84.0</td>\n",
       "      <td>62.645161</td>\n",
       "      <td>57.0</td>\n",
       "      <td>49.0</td>\n",
       "      <td>0.868910</td>\n",
       "      <td>10.931753</td>\n",
       "      <td>101.0</td>\n",
       "      <td>74.741935</td>\n",
       "      <td>...</td>\n",
       "      <td>7.39</td>\n",
       "      <td>7.29</td>\n",
       "      <td>0.360059</td>\n",
       "      <td>0.071063</td>\n",
       "      <td>7.50</td>\n",
       "      <td>7.380</td>\n",
       "      <td>7.39</td>\n",
       "      <td>7.29</td>\n",
       "      <td>0.360059</td>\n",
       "      <td>0.071063</td>\n",
       "    </tr>\n",
       "  </tbody>\n",
       "</table>\n",
       "<p>5 rows × 74 columns</p>\n",
       "</div>"
      ],
      "text/plain": [
       "   icustay_id  subject_id  BP_Dia_max  BP_Dia_mean  BP_Dia_med  BP_Dia_min  \\\n",
       "0      200001       55973         NaN          NaN         NaN         NaN   \n",
       "1      200003       27513        81.0    42.708333        60.5         0.0   \n",
       "2      200006       10950         NaN          NaN         NaN         NaN   \n",
       "3      200007       20707         NaN          NaN         NaN         NaN   \n",
       "4      200009       29904        84.0    62.645161        57.0        49.0   \n",
       "\n",
       "   BP_Dia_skew  BP_Dia_std  BP_Mean_max  BP_Mean_mean    ...     pH2_med  \\\n",
       "0          NaN         NaN          NaN           NaN    ...         NaN   \n",
       "1    -0.623249   31.452489        179.0     87.411765    ...        7.38   \n",
       "2          NaN         NaN          NaN           NaN    ...         NaN   \n",
       "3          NaN         NaN          NaN           NaN    ...         NaN   \n",
       "4     0.868910   10.931753        101.0     74.741935    ...        7.39   \n",
       "\n",
       "   pH2_min  pH2_skew   pH2_std  pH_max  pH_mean  pH_med  pH_min   pH_skew  \\\n",
       "0      NaN       NaN       NaN     NaN      NaN     NaN     NaN       NaN   \n",
       "1     7.36  1.220037  0.038987    7.46    7.398    7.38    7.36  1.220037   \n",
       "2      NaN       NaN       NaN     NaN      NaN     NaN     NaN       NaN   \n",
       "3      NaN       NaN       NaN     NaN      NaN     NaN     NaN       NaN   \n",
       "4     7.29  0.360059  0.071063    7.50    7.380    7.39    7.29  0.360059   \n",
       "\n",
       "     pH_std  \n",
       "0       NaN  \n",
       "1  0.038987  \n",
       "2       NaN  \n",
       "3       NaN  \n",
       "4  0.071063  \n",
       "\n",
       "[5 rows x 74 columns]"
      ]
     },
     "execution_count": 2,
     "metadata": {},
     "output_type": "execute_result"
    }
   ],
   "source": [
    "chart_data = pd.DataFrame.from_csv('CHART_EVENTS_FIRST24_PROCESSED.csv')\n",
    "lab_data = pd.DataFrame.from_csv('LAB_EVENTS_FIRST24_PROCESSED.csv')\n",
    "chart_data.head()"
   ]
  },
  {
   "cell_type": "code",
   "execution_count": 3,
   "metadata": {
    "collapsed": false
   },
   "outputs": [],
   "source": [
    "donkey = [x for x in chart_data.columns if 'time' in x]\n",
    "for donk in donkey:\n",
    "    chart_data[donk] = pd.to_datetime(chart_data[donk])\n",
    "\n",
    "for index, row in chart_data.iterrows():\n",
    "    staylen = relativedelta(row['outtime'], row['intime']).hours\n",
    "    chart_data.set_value(index, 'stay_duration', staylen)\n"
   ]
  },
  {
   "cell_type": "code",
   "execution_count": 4,
   "metadata": {
    "collapsed": true
   },
   "outputs": [],
   "source": [
    "chart_data2 = chart_data.set_index(['icustay_id'], inplace = False)\n",
    "lab_data2 = lab_data.set_index(['icustay_id'], inplace = False)"
   ]
  },
  {
   "cell_type": "code",
   "execution_count": 5,
   "metadata": {
    "collapsed": false
   },
   "outputs": [
    {
     "data": {
      "text/html": [
       "<div>\n",
       "<table border=\"1\" class=\"dataframe\">\n",
       "  <thead>\n",
       "    <tr style=\"text-align: right;\">\n",
       "      <th></th>\n",
       "      <th>subject_id</th>\n",
       "      <th>Lactate_max_df</th>\n",
       "      <th>Lactate_mean_df</th>\n",
       "      <th>Lactate_med_df</th>\n",
       "      <th>Lactate_min_df</th>\n",
       "      <th>Lactate_skew_df</th>\n",
       "      <th>Lactate_std_df</th>\n",
       "      <th>O2sat_max_df</th>\n",
       "      <th>O2sat_mean_df</th>\n",
       "      <th>O2sat_med_df</th>\n",
       "      <th>...</th>\n",
       "      <th>gender</th>\n",
       "      <th>hospital_expire_flag</th>\n",
       "      <th>intime</th>\n",
       "      <th>outtime</th>\n",
       "      <th>pH_max_df</th>\n",
       "      <th>pH_mean_df</th>\n",
       "      <th>pH_med_df</th>\n",
       "      <th>pH_min_df</th>\n",
       "      <th>pH_skew_df</th>\n",
       "      <th>pH_std_df</th>\n",
       "    </tr>\n",
       "    <tr>\n",
       "      <th>icustay_id</th>\n",
       "      <th></th>\n",
       "      <th></th>\n",
       "      <th></th>\n",
       "      <th></th>\n",
       "      <th></th>\n",
       "      <th></th>\n",
       "      <th></th>\n",
       "      <th></th>\n",
       "      <th></th>\n",
       "      <th></th>\n",
       "      <th></th>\n",
       "      <th></th>\n",
       "      <th></th>\n",
       "      <th></th>\n",
       "      <th></th>\n",
       "      <th></th>\n",
       "      <th></th>\n",
       "      <th></th>\n",
       "      <th></th>\n",
       "      <th></th>\n",
       "      <th></th>\n",
       "    </tr>\n",
       "  </thead>\n",
       "  <tbody>\n",
       "    <tr>\n",
       "      <th>205291</th>\n",
       "      <td>24802</td>\n",
       "      <td>0.8</td>\n",
       "      <td>0.800000</td>\n",
       "      <td>0.8</td>\n",
       "      <td>0.8</td>\n",
       "      <td>NaN</td>\n",
       "      <td>NaN</td>\n",
       "      <td>99.0</td>\n",
       "      <td>92.875000</td>\n",
       "      <td>98.0</td>\n",
       "      <td>...</td>\n",
       "      <td>F</td>\n",
       "      <td>0</td>\n",
       "      <td>2159-02-01 10:29:42</td>\n",
       "      <td>2159-02-02 16:05:51</td>\n",
       "      <td>7.46</td>\n",
       "      <td>7.325833</td>\n",
       "      <td>7.325</td>\n",
       "      <td>7.26</td>\n",
       "      <td>1.114474</td>\n",
       "      <td>0.057597</td>\n",
       "    </tr>\n",
       "    <tr>\n",
       "      <th>267509</th>\n",
       "      <td>24804</td>\n",
       "      <td>NaN</td>\n",
       "      <td>NaN</td>\n",
       "      <td>NaN</td>\n",
       "      <td>NaN</td>\n",
       "      <td>NaN</td>\n",
       "      <td>NaN</td>\n",
       "      <td>NaN</td>\n",
       "      <td>NaN</td>\n",
       "      <td>NaN</td>\n",
       "      <td>...</td>\n",
       "      <td>M</td>\n",
       "      <td>0</td>\n",
       "      <td>2160-12-16 00:14:00</td>\n",
       "      <td>2160-12-21 13:57:00</td>\n",
       "      <td>5.00</td>\n",
       "      <td>5.000000</td>\n",
       "      <td>5.000</td>\n",
       "      <td>5.00</td>\n",
       "      <td>NaN</td>\n",
       "      <td>0.000000</td>\n",
       "    </tr>\n",
       "    <tr>\n",
       "      <th>204824</th>\n",
       "      <td>24846</td>\n",
       "      <td>3.7</td>\n",
       "      <td>2.866667</td>\n",
       "      <td>2.7</td>\n",
       "      <td>2.2</td>\n",
       "      <td>0.93522</td>\n",
       "      <td>0.763763</td>\n",
       "      <td>NaN</td>\n",
       "      <td>NaN</td>\n",
       "      <td>NaN</td>\n",
       "      <td>...</td>\n",
       "      <td>M</td>\n",
       "      <td>0</td>\n",
       "      <td>2122-12-23 03:05:01</td>\n",
       "      <td>2122-12-23 18:34:40</td>\n",
       "      <td>6.50</td>\n",
       "      <td>6.500000</td>\n",
       "      <td>6.500</td>\n",
       "      <td>6.50</td>\n",
       "      <td>NaN</td>\n",
       "      <td>NaN</td>\n",
       "    </tr>\n",
       "    <tr>\n",
       "      <th>210799</th>\n",
       "      <td>24772</td>\n",
       "      <td>4.5</td>\n",
       "      <td>4.500000</td>\n",
       "      <td>4.5</td>\n",
       "      <td>4.5</td>\n",
       "      <td>NaN</td>\n",
       "      <td>NaN</td>\n",
       "      <td>95.0</td>\n",
       "      <td>74.142857</td>\n",
       "      <td>64.0</td>\n",
       "      <td>...</td>\n",
       "      <td>F</td>\n",
       "      <td>0</td>\n",
       "      <td>2182-09-05 09:54:52</td>\n",
       "      <td>2182-09-17 12:13:23</td>\n",
       "      <td>7.56</td>\n",
       "      <td>7.402000</td>\n",
       "      <td>7.380</td>\n",
       "      <td>7.31</td>\n",
       "      <td>0.741323</td>\n",
       "      <td>0.072329</td>\n",
       "    </tr>\n",
       "    <tr>\n",
       "      <th>206949</th>\n",
       "      <td>24825</td>\n",
       "      <td>2.5</td>\n",
       "      <td>2.500000</td>\n",
       "      <td>2.5</td>\n",
       "      <td>2.5</td>\n",
       "      <td>NaN</td>\n",
       "      <td>NaN</td>\n",
       "      <td>NaN</td>\n",
       "      <td>NaN</td>\n",
       "      <td>NaN</td>\n",
       "      <td>...</td>\n",
       "      <td>M</td>\n",
       "      <td>1</td>\n",
       "      <td>2167-01-27 15:21:31</td>\n",
       "      <td>2167-01-30 17:33:46</td>\n",
       "      <td>7.41</td>\n",
       "      <td>6.603333</td>\n",
       "      <td>7.400</td>\n",
       "      <td>5.00</td>\n",
       "      <td>-1.731950</td>\n",
       "      <td>1.388536</td>\n",
       "    </tr>\n",
       "  </tbody>\n",
       "</table>\n",
       "<p>5 rows × 25 columns</p>\n",
       "</div>"
      ],
      "text/plain": [
       "            subject_id  Lactate_max_df  Lactate_mean_df  Lactate_med_df  \\\n",
       "icustay_id                                                                \n",
       "205291           24802             0.8         0.800000             0.8   \n",
       "267509           24804             NaN              NaN             NaN   \n",
       "204824           24846             3.7         2.866667             2.7   \n",
       "210799           24772             4.5         4.500000             4.5   \n",
       "206949           24825             2.5         2.500000             2.5   \n",
       "\n",
       "            Lactate_min_df  Lactate_skew_df  Lactate_std_df  O2sat_max_df  \\\n",
       "icustay_id                                                                  \n",
       "205291                 0.8              NaN             NaN          99.0   \n",
       "267509                 NaN              NaN             NaN           NaN   \n",
       "204824                 2.2          0.93522        0.763763           NaN   \n",
       "210799                 4.5              NaN             NaN          95.0   \n",
       "206949                 2.5              NaN             NaN           NaN   \n",
       "\n",
       "            O2sat_mean_df  O2sat_med_df    ...      gender  \\\n",
       "icustay_id                                 ...               \n",
       "205291          92.875000          98.0    ...           F   \n",
       "267509                NaN           NaN    ...           M   \n",
       "204824                NaN           NaN    ...           M   \n",
       "210799          74.142857          64.0    ...           F   \n",
       "206949                NaN           NaN    ...           M   \n",
       "\n",
       "            hospital_expire_flag               intime              outtime  \\\n",
       "icustay_id                                                                   \n",
       "205291                         0  2159-02-01 10:29:42  2159-02-02 16:05:51   \n",
       "267509                         0  2160-12-16 00:14:00  2160-12-21 13:57:00   \n",
       "204824                         0  2122-12-23 03:05:01  2122-12-23 18:34:40   \n",
       "210799                         0  2182-09-05 09:54:52  2182-09-17 12:13:23   \n",
       "206949                         1  2167-01-27 15:21:31  2167-01-30 17:33:46   \n",
       "\n",
       "           pH_max_df pH_mean_df  pH_med_df pH_min_df pH_skew_df  pH_std_df  \n",
       "icustay_id                                                                  \n",
       "205291          7.46   7.325833      7.325      7.26   1.114474   0.057597  \n",
       "267509          5.00   5.000000      5.000      5.00        NaN   0.000000  \n",
       "204824          6.50   6.500000      6.500      6.50        NaN        NaN  \n",
       "210799          7.56   7.402000      7.380      7.31   0.741323   0.072329  \n",
       "206949          7.41   6.603333      7.400      5.00  -1.731950   1.388536  \n",
       "\n",
       "[5 rows x 25 columns]"
      ]
     },
     "metadata": {},
     "output_type": "display_data"
    },
    {
     "data": {
      "text/html": [
       "<div>\n",
       "<table border=\"1\" class=\"dataframe\">\n",
       "  <thead>\n",
       "    <tr style=\"text-align: right;\">\n",
       "      <th></th>\n",
       "      <th>subject_id</th>\n",
       "      <th>BP_Dia_max</th>\n",
       "      <th>BP_Dia_mean</th>\n",
       "      <th>BP_Dia_med</th>\n",
       "      <th>BP_Dia_min</th>\n",
       "      <th>BP_Dia_skew</th>\n",
       "      <th>BP_Dia_std</th>\n",
       "      <th>BP_Mean_max</th>\n",
       "      <th>BP_Mean_mean</th>\n",
       "      <th>BP_Mean_med</th>\n",
       "      <th>...</th>\n",
       "      <th>pH2_min</th>\n",
       "      <th>pH2_skew</th>\n",
       "      <th>pH2_std</th>\n",
       "      <th>pH_max</th>\n",
       "      <th>pH_mean</th>\n",
       "      <th>pH_med</th>\n",
       "      <th>pH_min</th>\n",
       "      <th>pH_skew</th>\n",
       "      <th>pH_std</th>\n",
       "      <th>stay_duration</th>\n",
       "    </tr>\n",
       "    <tr>\n",
       "      <th>icustay_id</th>\n",
       "      <th></th>\n",
       "      <th></th>\n",
       "      <th></th>\n",
       "      <th></th>\n",
       "      <th></th>\n",
       "      <th></th>\n",
       "      <th></th>\n",
       "      <th></th>\n",
       "      <th></th>\n",
       "      <th></th>\n",
       "      <th></th>\n",
       "      <th></th>\n",
       "      <th></th>\n",
       "      <th></th>\n",
       "      <th></th>\n",
       "      <th></th>\n",
       "      <th></th>\n",
       "      <th></th>\n",
       "      <th></th>\n",
       "      <th></th>\n",
       "      <th></th>\n",
       "    </tr>\n",
       "  </thead>\n",
       "  <tbody>\n",
       "    <tr>\n",
       "      <th>200001</th>\n",
       "      <td>55973</td>\n",
       "      <td>NaN</td>\n",
       "      <td>NaN</td>\n",
       "      <td>NaN</td>\n",
       "      <td>NaN</td>\n",
       "      <td>NaN</td>\n",
       "      <td>NaN</td>\n",
       "      <td>NaN</td>\n",
       "      <td>NaN</td>\n",
       "      <td>NaN</td>\n",
       "      <td>...</td>\n",
       "      <td>NaN</td>\n",
       "      <td>NaN</td>\n",
       "      <td>NaN</td>\n",
       "      <td>NaN</td>\n",
       "      <td>NaN</td>\n",
       "      <td>NaN</td>\n",
       "      <td>NaN</td>\n",
       "      <td>NaN</td>\n",
       "      <td>NaN</td>\n",
       "      <td>1.0</td>\n",
       "    </tr>\n",
       "    <tr>\n",
       "      <th>200003</th>\n",
       "      <td>27513</td>\n",
       "      <td>81.0</td>\n",
       "      <td>42.708333</td>\n",
       "      <td>60.5</td>\n",
       "      <td>0.0</td>\n",
       "      <td>-0.623249</td>\n",
       "      <td>31.452489</td>\n",
       "      <td>179.0</td>\n",
       "      <td>87.411765</td>\n",
       "      <td>80.0</td>\n",
       "      <td>...</td>\n",
       "      <td>7.36</td>\n",
       "      <td>1.220037</td>\n",
       "      <td>0.038987</td>\n",
       "      <td>7.46</td>\n",
       "      <td>7.398</td>\n",
       "      <td>7.38</td>\n",
       "      <td>7.36</td>\n",
       "      <td>1.220037</td>\n",
       "      <td>0.038987</td>\n",
       "      <td>21.0</td>\n",
       "    </tr>\n",
       "    <tr>\n",
       "      <th>200006</th>\n",
       "      <td>10950</td>\n",
       "      <td>NaN</td>\n",
       "      <td>NaN</td>\n",
       "      <td>NaN</td>\n",
       "      <td>NaN</td>\n",
       "      <td>NaN</td>\n",
       "      <td>NaN</td>\n",
       "      <td>NaN</td>\n",
       "      <td>NaN</td>\n",
       "      <td>NaN</td>\n",
       "      <td>...</td>\n",
       "      <td>NaN</td>\n",
       "      <td>NaN</td>\n",
       "      <td>NaN</td>\n",
       "      <td>NaN</td>\n",
       "      <td>NaN</td>\n",
       "      <td>NaN</td>\n",
       "      <td>NaN</td>\n",
       "      <td>NaN</td>\n",
       "      <td>NaN</td>\n",
       "      <td>7.0</td>\n",
       "    </tr>\n",
       "    <tr>\n",
       "      <th>200007</th>\n",
       "      <td>20707</td>\n",
       "      <td>NaN</td>\n",
       "      <td>NaN</td>\n",
       "      <td>NaN</td>\n",
       "      <td>NaN</td>\n",
       "      <td>NaN</td>\n",
       "      <td>NaN</td>\n",
       "      <td>NaN</td>\n",
       "      <td>NaN</td>\n",
       "      <td>NaN</td>\n",
       "      <td>...</td>\n",
       "      <td>NaN</td>\n",
       "      <td>NaN</td>\n",
       "      <td>NaN</td>\n",
       "      <td>NaN</td>\n",
       "      <td>NaN</td>\n",
       "      <td>NaN</td>\n",
       "      <td>NaN</td>\n",
       "      <td>NaN</td>\n",
       "      <td>NaN</td>\n",
       "      <td>6.0</td>\n",
       "    </tr>\n",
       "    <tr>\n",
       "      <th>200009</th>\n",
       "      <td>29904</td>\n",
       "      <td>84.0</td>\n",
       "      <td>62.645161</td>\n",
       "      <td>57.0</td>\n",
       "      <td>49.0</td>\n",
       "      <td>0.868910</td>\n",
       "      <td>10.931753</td>\n",
       "      <td>101.0</td>\n",
       "      <td>74.741935</td>\n",
       "      <td>69.0</td>\n",
       "      <td>...</td>\n",
       "      <td>7.29</td>\n",
       "      <td>0.360059</td>\n",
       "      <td>0.071063</td>\n",
       "      <td>7.50</td>\n",
       "      <td>7.380</td>\n",
       "      <td>7.39</td>\n",
       "      <td>7.29</td>\n",
       "      <td>0.360059</td>\n",
       "      <td>0.071063</td>\n",
       "      <td>3.0</td>\n",
       "    </tr>\n",
       "  </tbody>\n",
       "</table>\n",
       "<p>5 rows × 74 columns</p>\n",
       "</div>"
      ],
      "text/plain": [
       "            subject_id  BP_Dia_max  BP_Dia_mean  BP_Dia_med  BP_Dia_min  \\\n",
       "icustay_id                                                                \n",
       "200001           55973         NaN          NaN         NaN         NaN   \n",
       "200003           27513        81.0    42.708333        60.5         0.0   \n",
       "200006           10950         NaN          NaN         NaN         NaN   \n",
       "200007           20707         NaN          NaN         NaN         NaN   \n",
       "200009           29904        84.0    62.645161        57.0        49.0   \n",
       "\n",
       "            BP_Dia_skew  BP_Dia_std  BP_Mean_max  BP_Mean_mean  BP_Mean_med  \\\n",
       "icustay_id                                                                    \n",
       "200001              NaN         NaN          NaN           NaN          NaN   \n",
       "200003        -0.623249   31.452489        179.0     87.411765         80.0   \n",
       "200006              NaN         NaN          NaN           NaN          NaN   \n",
       "200007              NaN         NaN          NaN           NaN          NaN   \n",
       "200009         0.868910   10.931753        101.0     74.741935         69.0   \n",
       "\n",
       "                ...       pH2_min  pH2_skew   pH2_std  pH_max  pH_mean  \\\n",
       "icustay_id      ...                                                      \n",
       "200001          ...           NaN       NaN       NaN     NaN      NaN   \n",
       "200003          ...          7.36  1.220037  0.038987    7.46    7.398   \n",
       "200006          ...           NaN       NaN       NaN     NaN      NaN   \n",
       "200007          ...           NaN       NaN       NaN     NaN      NaN   \n",
       "200009          ...          7.29  0.360059  0.071063    7.50    7.380   \n",
       "\n",
       "            pH_med  pH_min   pH_skew    pH_std stay_duration  \n",
       "icustay_id                                                    \n",
       "200001         NaN     NaN       NaN       NaN           1.0  \n",
       "200003        7.38    7.36  1.220037  0.038987          21.0  \n",
       "200006         NaN     NaN       NaN       NaN           7.0  \n",
       "200007         NaN     NaN       NaN       NaN           6.0  \n",
       "200009        7.39    7.29  0.360059  0.071063           3.0  \n",
       "\n",
       "[5 rows x 74 columns]"
      ]
     },
     "metadata": {},
     "output_type": "display_data"
    }
   ],
   "source": [
    "display(lab_data2.head())\n",
    "display(chart_data2.head())"
   ]
  },
  {
   "cell_type": "code",
   "execution_count": 6,
   "metadata": {
    "collapsed": false
   },
   "outputs": [
    {
     "data": {
      "text/plain": [
       "subject_id           int64\n",
       "BP_Dia_max         float64\n",
       "BP_Dia_mean        float64\n",
       "BP_Dia_med         float64\n",
       "BP_Dia_min         float64\n",
       "BP_Dia_skew        float64\n",
       "BP_Dia_std         float64\n",
       "BP_Mean_max        float64\n",
       "BP_Mean_mean       float64\n",
       "BP_Mean_med        float64\n",
       "BP_Mean_min        float64\n",
       "BP_Mean_skew       float64\n",
       "BP_Mean_std        float64\n",
       "BP_Sys_max         float64\n",
       "BP_Sys_mean        float64\n",
       "BP_Sys_med         float64\n",
       "BP_Sys_min         float64\n",
       "BP_Sys_skew        float64\n",
       "BP_Sys_std         float64\n",
       "Cap_refill          object\n",
       "GCS_Eye             object\n",
       "GCS_Motor           object\n",
       "GCS_Verbal          object\n",
       "GCS_total          float64\n",
       "HR_max             float64\n",
       "HR_mean            float64\n",
       "HR_med             float64\n",
       "HR_min             float64\n",
       "HR_skew            float64\n",
       "HR_std             float64\n",
       "                    ...   \n",
       "pH2_min            float64\n",
       "pH2_skew           float64\n",
       "pH2_std            float64\n",
       "pH_max             float64\n",
       "pH_mean            float64\n",
       "pH_med             float64\n",
       "pH_min             float64\n",
       "pH_skew            float64\n",
       "pH_std             float64\n",
       "stay_duration      float64\n",
       "Lactate_max_df     float64\n",
       "Lactate_mean_df    float64\n",
       "Lactate_med_df     float64\n",
       "Lactate_min_df     float64\n",
       "Lactate_skew_df    float64\n",
       "Lactate_std_df     float64\n",
       "O2sat_max_df       float64\n",
       "O2sat_mean_df      float64\n",
       "O2sat_med_df       float64\n",
       "O2sat_min_df       float64\n",
       "O2sat_skew_df      float64\n",
       "O2sat_std_df       float64\n",
       "charttimelab        object\n",
       "flag                object\n",
       "pH_max_df          float64\n",
       "pH_mean_df         float64\n",
       "pH_med_df          float64\n",
       "pH_min_df          float64\n",
       "pH_skew_df         float64\n",
       "pH_std_df          float64\n",
       "dtype: object"
      ]
     },
     "execution_count": 6,
     "metadata": {},
     "output_type": "execute_result"
    }
   ],
   "source": [
    "lab_data2.drop(['hospital_expire_flag', 'subject_id', 'gender', 'intime', 'outtime'], \n",
    "               axis = 1, inplace = True)\n",
    "\n",
    "all_data = chart_data2.merge(lab_data2, left_index = True, right_index = True, how='left', sort = True, \n",
    "                            suffixes = ('chart', 'lab'))\n",
    "all_data.dtypes"
   ]
  },
  {
   "cell_type": "code",
   "execution_count": 7,
   "metadata": {
    "collapsed": true
   },
   "outputs": [],
   "source": [
    "all_data['icustay_id'] = all_data.index\n",
    "all_data.set_index(np.arange(all_data.shape[0]), inplace = True)"
   ]
  },
  {
   "cell_type": "code",
   "execution_count": 8,
   "metadata": {
    "collapsed": false
   },
   "outputs": [
    {
     "data": {
      "text/plain": [
       "Index([u'icustay_id', u'subject_id', u'BP_Dia_max', u'BP_Dia_mean',\n",
       "       u'BP_Dia_med', u'BP_Dia_min', u'BP_Dia_skew', u'BP_Dia_std',\n",
       "       u'BP_Mean_max', u'BP_Mean_mean', u'BP_Mean_med', u'BP_Mean_min',\n",
       "       u'BP_Mean_skew', u'BP_Mean_std', u'BP_Sys_max', u'BP_Sys_mean',\n",
       "       u'BP_Sys_med', u'BP_Sys_min', u'BP_Sys_skew', u'BP_Sys_std',\n",
       "       u'Cap_refill', u'GCS_Eye', u'GCS_Motor', u'GCS_Verbal', u'GCS_total',\n",
       "       u'HR_max', u'HR_mean', u'HR_med', u'HR_min', u'HR_skew', u'HR_std',\n",
       "       u'Height', u'Lactate_max_df', u'Lactate_mean_df', u'Lactate_med_df',\n",
       "       u'Lactate_min_df', u'Lactate_skew_df', u'Lactate_std_df',\n",
       "       u'O2_Fraction_max', u'O2_Fraction_mean', u'O2_Fraction_med',\n",
       "       u'O2_Fraction_min', u'O2_Fraction_skew', u'O2_Fraction_std',\n",
       "       u'O2sat_max_df', u'O2sat_mean_df', u'O2sat_med_df', u'O2sat_min_df',\n",
       "       u'O2sat_skew_df', u'O2sat_std_df', u'RR_max', u'RR_mean', u'RR_med',\n",
       "       u'RR_min', u'RR_skew', u'RR_std', u'TempC_Calc_max', u'TempC_Calc_mean',\n",
       "       u'TempC_Calc_med', u'TempC_Calc_min', u'TempC_Calc_skew',\n",
       "       u'TempC_Calc_std', u'TempC_max', u'TempC_mean', u'TempC_med',\n",
       "       u'TempC_min', u'TempC_skew', u'TempC_std', u'Weight', u'charttimechart',\n",
       "       u'charttimelab', u'flag', u'gender', u'hospital_expire_flag', u'intime',\n",
       "       u'outtime', u'pH2_max', u'pH2_mean', u'pH2_med', u'pH2_min',\n",
       "       u'pH2_skew', u'pH2_std', u'pH_max', u'pH_max_df', u'pH_mean',\n",
       "       u'pH_mean_df', u'pH_med', u'pH_med_df', u'pH_min', u'pH_min_df',\n",
       "       u'pH_skew', u'pH_skew_df', u'pH_std', u'pH_std_df', u'stay_duration'],\n",
       "      dtype='object')"
      ]
     },
     "execution_count": 8,
     "metadata": {},
     "output_type": "execute_result"
    }
   ],
   "source": [
    "cols = list(all_data.columns)\n",
    "cols.sort()\n",
    "cols.insert(0, cols.pop(cols.index('icustay_id')))\n",
    "cols.insert(1, cols.pop(cols.index('subject_id')))\n",
    "all_data = all_data[cols]\n",
    "\n",
    "\n",
    "all_data.columns"
   ]
  },
  {
   "cell_type": "markdown",
   "metadata": {},
   "source": [
    "## Isolate continuous (float64) and categorical variables for feature selection process. \n",
    "Feature selection tools require features to be of the same type. Data will be separated, feature correlations will be calculated. \n",
    "### height, weight, gcs_total are not being included in these groupings and should be considered separately"
   ]
  },
  {
   "cell_type": "code",
   "execution_count": 9,
   "metadata": {
    "collapsed": false
   },
   "outputs": [],
   "source": [
    "monkey = list(all_data.columns[all_data.dtypes == 'float64'])\n",
    "monkey.insert(0,'icustay_id')\n",
    "monkey.insert(1,'hospital_expire_flag')\n",
    "monkey.pop(monkey.index('Height'))\n",
    "monkey.pop(monkey.index('Weight'))\n",
    "cont_data = all_data[monkey]\n",
    "\n",
    "monkey = list(all_data.columns[all_data.dtypes == 'object'])\n",
    "monkey.insert(0,'icustay_id')\n",
    "monkey.insert(1,'hospital_expire_flag')\n",
    "cat_data = all_data[monkey]\n"
   ]
  },
  {
   "cell_type": "code",
   "execution_count": 10,
   "metadata": {
    "collapsed": false
   },
   "outputs": [
    {
     "data": {
      "text/plain": [
       "icustay_id                int64\n",
       "hospital_expire_flag      int64\n",
       "BP_Dia_max              float64\n",
       "BP_Dia_mean             float64\n",
       "BP_Dia_med              float64\n",
       "BP_Dia_min              float64\n",
       "BP_Dia_skew             float64\n",
       "BP_Dia_std              float64\n",
       "BP_Mean_max             float64\n",
       "BP_Mean_mean            float64\n",
       "BP_Mean_med             float64\n",
       "BP_Mean_min             float64\n",
       "BP_Mean_skew            float64\n",
       "BP_Mean_std             float64\n",
       "BP_Sys_max              float64\n",
       "BP_Sys_mean             float64\n",
       "BP_Sys_med              float64\n",
       "BP_Sys_min              float64\n",
       "BP_Sys_skew             float64\n",
       "BP_Sys_std              float64\n",
       "GCS_total               float64\n",
       "HR_max                  float64\n",
       "HR_mean                 float64\n",
       "HR_med                  float64\n",
       "HR_min                  float64\n",
       "HR_skew                 float64\n",
       "HR_std                  float64\n",
       "Lactate_max_df          float64\n",
       "Lactate_mean_df         float64\n",
       "Lactate_med_df          float64\n",
       "                         ...   \n",
       "TempC_Calc_mean         float64\n",
       "TempC_Calc_med          float64\n",
       "TempC_Calc_min          float64\n",
       "TempC_Calc_skew         float64\n",
       "TempC_Calc_std          float64\n",
       "TempC_max               float64\n",
       "TempC_mean              float64\n",
       "TempC_med               float64\n",
       "TempC_min               float64\n",
       "TempC_skew              float64\n",
       "TempC_std               float64\n",
       "pH2_max                 float64\n",
       "pH2_mean                float64\n",
       "pH2_med                 float64\n",
       "pH2_min                 float64\n",
       "pH2_skew                float64\n",
       "pH2_std                 float64\n",
       "pH_max                  float64\n",
       "pH_max_df               float64\n",
       "pH_mean                 float64\n",
       "pH_mean_df              float64\n",
       "pH_med                  float64\n",
       "pH_med_df               float64\n",
       "pH_min                  float64\n",
       "pH_min_df               float64\n",
       "pH_skew                 float64\n",
       "pH_skew_df              float64\n",
       "pH_std                  float64\n",
       "pH_std_df               float64\n",
       "stay_duration           float64\n",
       "dtype: object"
      ]
     },
     "execution_count": 10,
     "metadata": {},
     "output_type": "execute_result"
    }
   ],
   "source": [
    "cont_data.dtypes"
   ]
  },
  {
   "cell_type": "markdown",
   "metadata": {},
   "source": [
    "## This filtering on feature selection could be done far earlier in the process. Could do it in smaller blocks where the variables are aligned with the subject ID\n",
    "Variables are not present for all subject_id's or ICU stays. In order to select features, we need to drop_na. So we need to find blocks of features that are present for the same ICU stays etc. In retrospect this could be done earlier in the process before all the data is merged. \n",
    "\n",
    "## CREATING CONTINUOUS / FLOAT64 DATA BLOCKS FOR FEATURE SELECTION\n",
    "### GCS_total, stay_duration are not included in these blocks and need to be considered separately "
   ]
  },
  {
   "cell_type": "code",
   "execution_count": 11,
   "metadata": {
    "collapsed": false
   },
   "outputs": [
    {
     "data": {
      "text/plain": [
       "Index([u'icustay_id', u'hospital_expire_flag', u'BP_Dia_max', u'BP_Dia_mean',\n",
       "       u'BP_Dia_med', u'BP_Dia_min', u'BP_Dia_skew', u'BP_Dia_std',\n",
       "       u'BP_Mean_max', u'BP_Mean_mean', u'BP_Mean_med', u'BP_Mean_min',\n",
       "       u'BP_Mean_skew', u'BP_Mean_std', u'BP_Sys_max', u'BP_Sys_mean',\n",
       "       u'BP_Sys_med', u'BP_Sys_min', u'BP_Sys_skew', u'BP_Sys_std',\n",
       "       u'GCS_total', u'HR_max', u'HR_mean', u'HR_med', u'HR_min', u'HR_skew',\n",
       "       u'HR_std', u'Lactate_max_df', u'Lactate_mean_df', u'Lactate_med_df',\n",
       "       u'Lactate_min_df', u'Lactate_skew_df', u'Lactate_std_df',\n",
       "       u'O2_Fraction_max', u'O2_Fraction_mean', u'O2_Fraction_med',\n",
       "       u'O2_Fraction_min', u'O2_Fraction_skew', u'O2_Fraction_std',\n",
       "       u'O2sat_max_df', u'O2sat_mean_df', u'O2sat_med_df', u'O2sat_min_df',\n",
       "       u'O2sat_skew_df', u'O2sat_std_df', u'RR_max', u'RR_mean', u'RR_med',\n",
       "       u'RR_min', u'RR_skew', u'RR_std', u'TempC_Calc_max', u'TempC_Calc_mean',\n",
       "       u'TempC_Calc_med', u'TempC_Calc_min', u'TempC_Calc_skew',\n",
       "       u'TempC_Calc_std', u'TempC_max', u'TempC_mean', u'TempC_med',\n",
       "       u'TempC_min', u'TempC_skew', u'TempC_std', u'pH2_max', u'pH2_mean',\n",
       "       u'pH2_med', u'pH2_min', u'pH2_skew', u'pH2_std', u'pH_max',\n",
       "       u'pH_max_df', u'pH_mean', u'pH_mean_df', u'pH_med', u'pH_med_df',\n",
       "       u'pH_min', u'pH_min_df', u'pH_skew', u'pH_skew_df', u'pH_std',\n",
       "       u'pH_std_df', u'stay_duration'],\n",
       "      dtype='object')"
      ]
     },
     "execution_count": 11,
     "metadata": {},
     "output_type": "execute_result"
    }
   ],
   "source": [
    "cont_data.columns"
   ]
  },
  {
   "cell_type": "code",
   "execution_count": 12,
   "metadata": {
    "collapsed": false
   },
   "outputs": [
    {
     "data": {
      "text/plain": [
       "['Lactate_max_df',\n",
       " 'Lactate_mean_df',\n",
       " 'Lactate_med_df',\n",
       " 'Lactate_min_df',\n",
       " 'Lactate_skew_df',\n",
       " 'Lactate_std_df',\n",
       " 'O2sat_max_df',\n",
       " 'O2sat_mean_df',\n",
       " 'O2sat_med_df',\n",
       " 'O2sat_min_df',\n",
       " 'O2sat_skew_df',\n",
       " 'O2sat_std_df',\n",
       " 'pH_max_df',\n",
       " 'pH_mean_df',\n",
       " 'pH_med_df',\n",
       " 'pH_min_df',\n",
       " 'pH_skew_df',\n",
       " 'pH_std_df']"
      ]
     },
     "execution_count": 12,
     "metadata": {},
     "output_type": "execute_result"
    }
   ],
   "source": [
    "[x for x in lab_data.columns if '_df' in x]"
   ]
  },
  {
   "cell_type": "code",
   "execution_count": 13,
   "metadata": {
    "collapsed": false
   },
   "outputs": [
    {
     "name": "stdout",
     "output_type": "stream",
     "text": [
      "GCS_total  = 28787\n",
      "Stay_total  = 60131\n",
      "Lactate  = 12144\n",
      "O2sat  = 8359\n",
      "labpH  = 1967\n",
      "BP  = 15175\n",
      "HR  = 57442\n",
      "O2  = 10177\n",
      "RR  = 52067\n",
      "TCalc  = 24169\n",
      "TC  = 4922\n",
      "pH  = 11032\n"
     ]
    }
   ],
   "source": [
    "cols = ['icustay_id', 'hospital_expire_flag', 'GCS_total']\n",
    "cont_data_GCST = cont_data[cols].dropna()\n",
    "cont_data_GCST.reset_index(drop = True, inplace = True)\n",
    "print \"GCS_total  = {}\".format(cont_data_GCST.shape[0])\n",
    "\n",
    "cols = ['icustay_id', 'hospital_expire_flag', 'stay_duration']\n",
    "cont_data_Stay = cont_data[cols].dropna()\n",
    "cont_data_Stay.reset_index(drop = True, inplace = True)\n",
    "print \"Stay_total  = {}\".format(cont_data_Stay.shape[0])\n",
    "\n",
    "cols = [x for x in cont_data.columns if 'Lactate_' in x]\n",
    "cols.insert(0,'icustay_id')\n",
    "cols.insert(1,'hospital_expire_flag')\n",
    "cont_data_Lac = cont_data[cols].dropna()\n",
    "cont_data_Lac.reset_index(drop = True, inplace = True)\n",
    "print \"Lactate  = {}\".format(cont_data_Lac.shape[0])\n",
    "\n",
    "cols = [x for x in cont_data.columns if 'O2sat_' in x]\n",
    "cols.insert(0,'icustay_id')\n",
    "cols.insert(1,'hospital_expire_flag')\n",
    "cont_data_O2sat = cont_data[cols].dropna()\n",
    "cont_data_O2sat.reset_index(drop = True, inplace = True)\n",
    "print \"O2sat  = {}\".format(cont_data_O2sat.shape[0])\n",
    "\n",
    "cols = [x for x in cont_data.columns if (('pH_' in x) | ('_df' in x))]\n",
    "cols.insert(0,'icustay_id')\n",
    "cols.insert(1,'hospital_expire_flag')\n",
    "cont_data_labpH = cont_data[cols].dropna()\n",
    "cont_data_labpH.reset_index(drop = True, inplace = True)\n",
    "print \"labpH  = {}\".format(cont_data_labpH.shape[0])\n",
    "\n",
    "\n",
    "cols = [x for x in cont_data.columns if 'BP_' in x]\n",
    "cols.insert(0,'icustay_id')\n",
    "cols.insert(1,'hospital_expire_flag')\n",
    "cont_data_BP = cont_data[cols].dropna()\n",
    "cont_data_BP.reset_index(drop = True, inplace = True)\n",
    "print \"BP  = {}\".format(cont_data_BP.shape[0])\n",
    "\n",
    "cols = [x for x in cont_data.columns if 'HR_' in x]\n",
    "cols.insert(0,'icustay_id')\n",
    "cols.insert(1,'hospital_expire_flag')\n",
    "cont_data_HR = cont_data[cols].dropna()\n",
    "cont_data_HR.reset_index(drop = True, inplace = True)\n",
    "print \"HR  = {}\".format(cont_data_HR.shape[0])\n",
    "\n",
    "\n",
    "cols = [x for x in cont_data.columns if 'O2_' in x]\n",
    "cols.insert(0,'icustay_id')\n",
    "cols.insert(1,'hospital_expire_flag')\n",
    "cont_data_O2 = cont_data[cols].dropna()\n",
    "cont_data_O2.reset_index(drop = True, inplace = True)\n",
    "print \"O2  = {}\".format(cont_data_O2.shape[0])\n",
    "\n",
    "cols = [x for x in cont_data.columns if 'RR_' in x]\n",
    "cols.insert(0,'icustay_id')\n",
    "cols.insert(1,'hospital_expire_flag')\n",
    "cont_data_RR = cont_data[cols].dropna()\n",
    "cont_data_RR.reset_index(drop = True, inplace = True)\n",
    "print \"RR  = {}\".format(cont_data_RR.shape[0])\n",
    "\n",
    "\n",
    "cols = [x for x in cont_data.columns if 'TempC_Calc' in x]\n",
    "cols.insert(0,'icustay_id')\n",
    "cols.insert(1,'hospital_expire_flag')\n",
    "cont_data_TCalc = cont_data[cols].dropna()\n",
    "cont_data_TCalc.reset_index(drop = True, inplace = True)\n",
    "print \"TCalc  = {}\".format(cont_data_TCalc.shape[0])\n",
    "\n",
    "cols = [x for x in cont_data.columns if (('TempC_' in x) & ('TempC_C' not in x))]\n",
    "cols.insert(0,'icustay_id')\n",
    "cols.insert(1,'hospital_expire_flag')\n",
    "cont_data_TC = cont_data[cols].dropna()\n",
    "cont_data_TC.reset_index(drop = True, inplace = True)\n",
    "print \"TC  = {}\".format(cont_data_TC.shape[0])\n",
    "\n",
    "cols = [x for x in cont_data.columns if (('pH_' in x) | ('pH2_' in x))]\n",
    "cols.insert(0,'icustay_id')\n",
    "cols.insert(1,'hospital_expire_flag')\n",
    "cont_data_pH = cont_data[cols].dropna()\n",
    "cont_data_pH.reset_index(drop = True, inplace = True)\n",
    "print \"pH  = {}\".format(cont_data_pH.shape[0])\n",
    "\n",
    "cont_dict = {'BP': cont_data_BP, \n",
    "             'HR': cont_data_HR, \n",
    "             'O2': cont_data_O2, \n",
    "             'RR': cont_data_RR, \n",
    "             'TCalc': cont_data_TCalc, \n",
    "             'TC': cont_data_TC,\n",
    "             'pH': cont_data_pH,\n",
    "             'GCST': cont_data_GCST, \n",
    "             'Stay': cont_data_Stay,\n",
    "             'LAC' : cont_data_Lac, \n",
    "             'O2Sat': cont_data_O2sat, \n",
    "             'labpH' : cont_data_labpH\n",
    "            }\n",
    "\n",
    "\n"
   ]
  },
  {
   "cell_type": "markdown",
   "metadata": {},
   "source": [
    "## FILTERING OUTLIERS FROM CONTINUOUS/FLOAT64 DATA BLOCKS"
   ]
  },
  {
   "cell_type": "code",
   "execution_count": 14,
   "metadata": {
    "collapsed": false
   },
   "outputs": [
    {
     "name": "stdout",
     "output_type": "stream",
     "text": [
      "the total outlier indices for HR = 207\n",
      "the total outlier indices for TCalc = 176\n",
      "the total outlier indices for O2Sat = 340\n",
      "the total outlier indices for BP = 599\n",
      "the total outlier indices for pH = 344\n",
      "the total outlier indices for Stay = 0\n",
      "the total outlier indices for O2 = 12\n",
      "the total outlier indices for GCST = 0\n",
      "the total outlier indices for RR = 366\n",
      "the total outlier indices for LAC = 546\n",
      "the total outlier indices for labpH = 214\n",
      "the total outlier indices for TC = 44\n"
     ]
    }
   ],
   "source": [
    "suffix = '_outliers'\n",
    "\n",
    "\n",
    "# ITERATE THROUGH DATAFRAMES IN cont_dict \n",
    "# DOING ONE LOOP FOR DEVELOPMENT\n",
    "for key in cont_dict.keys():\n",
    "    \n",
    "    \n",
    "    names_dict = {}\n",
    "    for feature in cont_dict[key].columns[2:]:\n",
    "        # TODO: Calculate Q1 (25th percentile of the data) for the given feature\n",
    "        Q1 = np.percentile(cont_dict[key][feature], 25)\n",
    "        # TODO: Calculate Q3 (75th percentile of the data) for the given feature\n",
    "        Q3 = np.percentile(cont_dict[key][feature], 75)\n",
    "        # TODO: Use the interquartile range to calculate an outlier step (1.5 times the interquartile range)\n",
    "        # BECAUSE DATA IS NOT NORMAL EXPLORING DIFFERENT RANGE FACTORS\n",
    "        step = 5*(Q3 - Q1)\n",
    "\n",
    "        # Display the outliers\n",
    "        # print \"Data points considered outliers for the feature '{}':\".format(feature)\n",
    "        # display(data2[~((data2[feature] >= Q1 - step) & (data2[feature] <= Q3 + step))])\n",
    "        names_dict[feature+suffix] = cont_dict[key][~((cont_dict[key][feature] >= Q1 - step) & \n",
    "                                                      (cont_dict[key][feature] <= Q3 + step))].index\n",
    "    # OPTIONAL: Select the indices for data points you wish to remove\n",
    "\n",
    "    \n",
    "    all_outliers = []\n",
    "    for feature in names_dict.keys():\n",
    "        all_outliers.extend(names_dict[feature])\n",
    "    print \"the total outlier indices for {} = {}\".format(key, len(all_outliers))\n",
    "    indices, counts = np.unique(all_outliers, return_counts = True)\n",
    "    outlier_dict = {'counts': counts,\n",
    "                    'indices': indices\n",
    "                   }\n",
    "    outlier_df = pd.DataFrame(outlier_dict)\n",
    "\n",
    "    outliers  = list(outlier_df[outlier_df.counts >= 1].indices.values)\n",
    "    #print \"the following data points have >2 outlying feature and will be removed: \\n{}\".format(outliers)\n",
    "    # Remove the outliers, if any were specified\n",
    "\n",
    "\n",
    "\n",
    "    cont_dict[key] = cont_dict[key].drop(cont_dict[key].index[outliers]).reset_index(drop = True)"
   ]
  },
  {
   "cell_type": "markdown",
   "metadata": {},
   "source": [
    "## DISPLAY CONTINUOUS/FLOAT64 DATA BLOCK SUMMARY STATS WITH OUTLIERS REMOVED"
   ]
  },
  {
   "cell_type": "code",
   "execution_count": 15,
   "metadata": {
    "collapsed": false
   },
   "outputs": [
    {
     "data": {
      "text/html": [
       "<div>\n",
       "<table border=\"1\" class=\"dataframe\">\n",
       "  <thead>\n",
       "    <tr style=\"text-align: right;\">\n",
       "      <th></th>\n",
       "      <th>icustay_id</th>\n",
       "      <th>hospital_expire_flag</th>\n",
       "      <th>TempC_max</th>\n",
       "      <th>TempC_mean</th>\n",
       "      <th>TempC_med</th>\n",
       "      <th>TempC_min</th>\n",
       "      <th>TempC_skew</th>\n",
       "      <th>TempC_std</th>\n",
       "    </tr>\n",
       "  </thead>\n",
       "  <tbody>\n",
       "    <tr>\n",
       "      <th>count</th>\n",
       "      <td>4896.000000</td>\n",
       "      <td>4896.000000</td>\n",
       "      <td>4896.000000</td>\n",
       "      <td>4896.000000</td>\n",
       "      <td>4896.000000</td>\n",
       "      <td>4896.000000</td>\n",
       "      <td>4896.000000</td>\n",
       "      <td>4896.000000</td>\n",
       "    </tr>\n",
       "    <tr>\n",
       "      <th>mean</th>\n",
       "      <td>250282.378881</td>\n",
       "      <td>0.084967</td>\n",
       "      <td>37.822141</td>\n",
       "      <td>37.004755</td>\n",
       "      <td>37.119335</td>\n",
       "      <td>35.907716</td>\n",
       "      <td>-0.348980</td>\n",
       "      <td>0.597583</td>\n",
       "    </tr>\n",
       "    <tr>\n",
       "      <th>std</th>\n",
       "      <td>28903.479908</td>\n",
       "      <td>0.278862</td>\n",
       "      <td>0.657289</td>\n",
       "      <td>0.590872</td>\n",
       "      <td>0.631301</td>\n",
       "      <td>0.907898</td>\n",
       "      <td>0.706478</td>\n",
       "      <td>0.312764</td>\n",
       "    </tr>\n",
       "    <tr>\n",
       "      <th>min</th>\n",
       "      <td>200009.000000</td>\n",
       "      <td>0.000000</td>\n",
       "      <td>34.000000</td>\n",
       "      <td>33.600000</td>\n",
       "      <td>33.099998</td>\n",
       "      <td>30.600000</td>\n",
       "      <td>-4.668762</td>\n",
       "      <td>0.000000</td>\n",
       "    </tr>\n",
       "    <tr>\n",
       "      <th>25%</th>\n",
       "      <td>225006.000000</td>\n",
       "      <td>0.000000</td>\n",
       "      <td>37.400002</td>\n",
       "      <td>36.670588</td>\n",
       "      <td>36.799999</td>\n",
       "      <td>35.400002</td>\n",
       "      <td>-0.787955</td>\n",
       "      <td>0.363114</td>\n",
       "    </tr>\n",
       "    <tr>\n",
       "      <th>50%</th>\n",
       "      <td>250874.000000</td>\n",
       "      <td>0.000000</td>\n",
       "      <td>37.799999</td>\n",
       "      <td>37.005481</td>\n",
       "      <td>37.200001</td>\n",
       "      <td>35.900002</td>\n",
       "      <td>-0.376037</td>\n",
       "      <td>0.568530</td>\n",
       "    </tr>\n",
       "    <tr>\n",
       "      <th>75%</th>\n",
       "      <td>275311.250000</td>\n",
       "      <td>0.000000</td>\n",
       "      <td>38.200001</td>\n",
       "      <td>37.349235</td>\n",
       "      <td>37.500000</td>\n",
       "      <td>36.500000</td>\n",
       "      <td>0.067252</td>\n",
       "      <td>0.788502</td>\n",
       "    </tr>\n",
       "    <tr>\n",
       "      <th>max</th>\n",
       "      <td>299988.000000</td>\n",
       "      <td>1.000000</td>\n",
       "      <td>41.700001</td>\n",
       "      <td>39.795000</td>\n",
       "      <td>39.799999</td>\n",
       "      <td>39.099998</td>\n",
       "      <td>3.280752</td>\n",
       "      <td>2.437065</td>\n",
       "    </tr>\n",
       "  </tbody>\n",
       "</table>\n",
       "</div>"
      ],
      "text/plain": [
       "          icustay_id  hospital_expire_flag    TempC_max   TempC_mean  \\\n",
       "count    4896.000000           4896.000000  4896.000000  4896.000000   \n",
       "mean   250282.378881              0.084967    37.822141    37.004755   \n",
       "std     28903.479908              0.278862     0.657289     0.590872   \n",
       "min    200009.000000              0.000000    34.000000    33.600000   \n",
       "25%    225006.000000              0.000000    37.400002    36.670588   \n",
       "50%    250874.000000              0.000000    37.799999    37.005481   \n",
       "75%    275311.250000              0.000000    38.200001    37.349235   \n",
       "max    299988.000000              1.000000    41.700001    39.795000   \n",
       "\n",
       "         TempC_med    TempC_min   TempC_skew    TempC_std  \n",
       "count  4896.000000  4896.000000  4896.000000  4896.000000  \n",
       "mean     37.119335    35.907716    -0.348980     0.597583  \n",
       "std       0.631301     0.907898     0.706478     0.312764  \n",
       "min      33.099998    30.600000    -4.668762     0.000000  \n",
       "25%      36.799999    35.400002    -0.787955     0.363114  \n",
       "50%      37.200001    35.900002    -0.376037     0.568530  \n",
       "75%      37.500000    36.500000     0.067252     0.788502  \n",
       "max      39.799999    39.099998     3.280752     2.437065  "
      ]
     },
     "metadata": {},
     "output_type": "display_data"
    }
   ],
   "source": [
    "display(cont_dict[key].describe())\n",
    "#cont_dict[key].head()"
   ]
  },
  {
   "cell_type": "markdown",
   "metadata": {},
   "source": [
    "## PLOT DENSITY OF CONTINUOUS/FLOAT64 VARIABLES WITH OUTLIERS REMOVED"
   ]
  },
  {
   "cell_type": "code",
   "execution_count": 16,
   "metadata": {
    "collapsed": false,
    "scrolled": false
   },
   "outputs": [
    {
     "data": {
      "image/png": "[encoded data removed]",
      "text/plain": [
       "<matplotlib.figure.Figure at 0x1155d8490>"
      ]
     },
     "metadata": {},
     "output_type": "display_data"
    },
    {
     "data": {
      "image/png": "[encoded data removed]",
      "text/plain": [
       "<matplotlib.figure.Figure at 0x12d415050>"
      ]
     },
     "metadata": {},
     "output_type": "display_data"
    },
    {
     "data": {
      "image/png": "[encoded data removed]",
      "text/plain": [
       "<matplotlib.figure.Figure at 0x1301db3d0>"
      ]
     },
     "metadata": {},
     "output_type": "display_data"
    },
    {
     "data": {
      "image/png": "[encoded data removed]",
      "text/plain": [
       "<matplotlib.figure.Figure at 0x13099f350>"
      ]
     },
     "metadata": {},
     "output_type": "display_data"
    },
    {
     "data": {
      "image/png": "[encoded data removed]",
      "text/plain": [
       "<matplotlib.figure.Figure at 0x130bf50d0>"
      ]
     },
     "metadata": {},
     "output_type": "display_data"
    },
    {
     "data": {
      "image/png": "[encoded data removed]",
      "text/plain": [
       "<matplotlib.figure.Figure at 0x130ca92d0>"
      ]
     },
     "metadata": {},
     "output_type": "display_data"
    }
   ],
   "source": [
    "for col in cont_dict[key].columns[2:]:\n",
    "    plt.subplots(figsize=(10,4))\n",
    "    cont_dict[key][col].plot.kde()\n",
    "    xmin = np.percentile(cont_dict[key][col], 1)\n",
    "    xmax = np.percentile(cont_dict[key][col], 99)\n",
    "    plt.plot([], label=' ',color='lightgray')\n",
    "    plt.plot([], label='Max Value ={}'.format(cont_dict[key][col].max()),\n",
    "             color='lightgray')\n",
    "    plt.plot([], label='Min Value ={}'.format(cont_dict[key][col].min()),\n",
    "             color='lightgray')\n",
    "\n",
    "    plt.xlim(xmin, xmax)\n",
    "    plt.title(col)\n",
    "    plt.legend(loc=\"upper left\", bbox_to_anchor=(1,1),fontsize=12)\n",
    "\n",
    "#cont_dict['BP'].shape"
   ]
  },
  {
   "cell_type": "markdown",
   "metadata": {},
   "source": [
    "### USING NUMBERS OF NAN TO GET CLUE ABOUT WHICH VARIABLES ARE BLOCKED TOGETHER"
   ]
  },
  {
   "cell_type": "markdown",
   "metadata": {},
   "source": [
    "## FEATURE SELECTION FOR CONTINUOUS/FLOAT64 DATA"
   ]
  },
  {
   "cell_type": "code",
   "execution_count": 17,
   "metadata": {
    "collapsed": false
   },
   "outputs": [
    {
     "data": {
      "text/plain": [
       "['HR',\n",
       " 'TCalc',\n",
       " 'O2Sat',\n",
       " 'BP',\n",
       " 'pH',\n",
       " 'Stay',\n",
       " 'O2',\n",
       " 'GCST',\n",
       " 'RR',\n",
       " 'LAC',\n",
       " 'labpH',\n",
       " 'TC']"
      ]
     },
     "execution_count": 17,
     "metadata": {},
     "output_type": "execute_result"
    }
   ],
   "source": [
    "cont_dict.keys()"
   ]
  },
  {
   "cell_type": "code",
   "execution_count": 18,
   "metadata": {
    "collapsed": false
   },
   "outputs": [
    {
     "data": {
      "text/plain": [
       "Index([u'RR_med', u'GCS_total', u'RR_mean', u'HR_std', u'Lactate_min_df'], dtype='object')"
      ]
     },
     "metadata": {},
     "output_type": "display_data"
    },
    {
     "data": {
      "text/plain": [
       "Index([u'O2sat_med_df', u'TempC_Calc_max', u'O2_Fraction_max'], dtype='object')"
      ]
     },
     "metadata": {},
     "output_type": "display_data"
    },
    {
     "data": {
      "text/plain": [
       "['HR',\n",
       " 'TCalc',\n",
       " 'O2Sat',\n",
       " 'BP',\n",
       " 'pH',\n",
       " 'Stay',\n",
       " 'O2',\n",
       " 'GCST',\n",
       " 'RR',\n",
       " 'LAC',\n",
       " 'labpH',\n",
       " 'TC']"
      ]
     },
     "metadata": {},
     "output_type": "display_data"
    }
   ],
   "source": [
    "cont_feature_scores = pd.DataFrame()\n",
    "\n",
    "for key in cont_dict.keys():\n",
    "\n",
    "    X_cont = cont_dict[key].drop(['hospital_expire_flag', 'icustay_id'], axis = 1)\n",
    "    y_cont = cont_dict[key]['hospital_expire_flag']\n",
    "    below_zeros = list(X_cont.columns[X_cont.min() < 0])\n",
    "    # SelectKBest can't deal with negative numbers so we shift any variables with negative values\n",
    "    # up so that the most negative values = 0\n",
    "    for col in below_zeros:\n",
    "        col_min = X_cont[col].min()\n",
    "        X_cont[col] = X_cont[col].apply(lambda x: x-col_min)\n",
    "    \n",
    "    selector = SelectKBest(k='all')\n",
    "    selector.fit(X_cont, y_cont)\n",
    "    d = {'pvalues': pd.Series(selector.pvalues_, index = X_cont.columns),\n",
    "         'scores' : pd.Series(selector.scores_, index = X_cont.columns)\n",
    "        }\n",
    "    cont_feature_scores = cont_feature_scores.append(pd.DataFrame(d))\n",
    "\n",
    "cont_feature_scores.sort_values(['pvalues'], axis = 0, ascending = True, inplace = True)\n",
    "\n",
    "tops = cont_feature_scores.head(20).transpose().columns\n",
    "bottoms = cont_feature_scores.tail(20).transpose().columns\n",
    "display(tops[:5])\n",
    "display(bottoms[:3])\n",
    "display(cont_dict.keys())"
   ]
  },
  {
   "cell_type": "code",
   "execution_count": 19,
   "metadata": {
    "collapsed": false,
    "scrolled": false
   },
   "outputs": [
    {
     "data": {
      "text/plain": [
       "<matplotlib.axes._subplots.AxesSubplot at 0x11b6db390>"
      ]
     },
     "execution_count": 19,
     "metadata": {},
     "output_type": "execute_result"
    },
    {
     "data": {
      "image/png": "[encoded data removed]",
      "text/plain": [
       "<matplotlib.figure.Figure at 0x131339650>"
      ]
     },
     "metadata": {},
     "output_type": "display_data"
    },
    {
     "data": {
      "image/png": "[encoded data removed]",
      "text/plain": [
       "<matplotlib.figure.Figure at 0x131339850>"
      ]
     },
     "metadata": {},
     "output_type": "display_data"
    },
    {
     "data": {
      "image/png": "[encoded data removed]",
      "text/plain": [
       "<matplotlib.figure.Figure at 0x131a15950>"
      ]
     },
     "metadata": {},
     "output_type": "display_data"
    },
    {
     "data": {
      "image/png": "[encoded data removed]",
      "text/plain": [
       "<matplotlib.figure.Figure at 0x131436710>"
      ]
     },
     "metadata": {},
     "output_type": "display_data"
    },
    {
     "data": {
      "image/png": "[encoded data removed]",
      "text/plain": [
       "<matplotlib.figure.Figure at 0x11acfd7d0>"
      ]
     },
     "metadata": {},
     "output_type": "display_data"
    },
    {
     "data": {
      "image/png": "[encoded data removed]",
      "text/plain": [
       "<matplotlib.figure.Figure at 0x1313396d0>"
      ]
     },
     "metadata": {},
     "output_type": "display_data"
    }
   ],
   "source": [
    "#cont_dict['RR'].plot.scatter(x='hospital_expire_flag', y='RR_med')\n",
    "#for col in cont_dict['GCST'][''.columns[2:]:\n",
    "cont_dict['GCST'][['hospital_expire_flag','GCS_total']].dropna().boxplot(by='hospital_expire_flag', figsize = (13,5))\n",
    "cont_dict['RR'][['hospital_expire_flag','RR_med']].dropna().boxplot(by='hospital_expire_flag', figsize = (13,5))\n",
    "cont_dict['RR'][['hospital_expire_flag','RR_mean']].dropna().boxplot(by='hospital_expire_flag', figsize = (13,5))\n",
    "cont_dict['HR'][['hospital_expire_flag','HR_std']].dropna().boxplot(by='hospital_expire_flag', figsize = (13,5))\n",
    "cont_dict['O2'][['hospital_expire_flag','O2_Fraction_max']].dropna().boxplot(by='hospital_expire_flag', figsize = (13,5))\n",
    "cont_dict['TCalc'][['hospital_expire_flag','TempC_Calc_max']].dropna().boxplot(by='hospital_expire_flag', figsize = (13,5))\n",
    "\n",
    "\n",
    "\n",
    "#data[['mort_icu', l.lower()+'_1st']].dropna().boxplot(by='mort_icu', figsize = (13,5))"
   ]
  },
  {
   "cell_type": "code",
   "execution_count": 20,
   "metadata": {
    "collapsed": false,
    "scrolled": true
   },
   "outputs": [],
   "source": [
    "cont_feature_scores.to_csv('Continuous_Feature_Scores.csv')"
   ]
  },
  {
   "cell_type": "code",
   "execution_count": 21,
   "metadata": {
    "collapsed": false,
    "scrolled": true
   },
   "outputs": [
    {
     "name": "stdout",
     "output_type": "stream",
     "text": [
      "icustay_id has  0 NaN values\n",
      "hospital_expire_flag has  0 NaN values\n",
      "Cap_refill has  54204 NaN values\n",
      "GCS_Eye has  36828 NaN values\n",
      "GCS_Motor has  36841 NaN values\n",
      "GCS_Verbal has  36838 NaN values\n",
      "charttimelab has  14075 NaN values\n",
      "flag has  47683 NaN values\n",
      "gender has  0 NaN values\n"
     ]
    }
   ],
   "source": [
    "for col in cat_data.columns:\n",
    "    print \"{} has  {} NaN values\".format(col, cat_data[col].isnull().sum())"
   ]
  },
  {
   "cell_type": "markdown",
   "metadata": {},
   "source": [
    "## CREATING BLOCK OF CATEGORICAL DATA FOR FEATURE SELECTION\n",
    "### Cap refill and gender are not included in this block and should be evaluated separately"
   ]
  },
  {
   "cell_type": "code",
   "execution_count": 22,
   "metadata": {
    "collapsed": false,
    "scrolled": true
   },
   "outputs": [
    {
     "name": "stdout",
     "output_type": "stream",
     "text": [
      "GCS  = 23280\n",
      "gender = 60131\n"
     ]
    }
   ],
   "source": [
    "cols = [x for x in cat_data.columns if ('GCS_' in x)]\n",
    "cols.insert(0,'icustay_id')\n",
    "cols.insert(1,'hospital_expire_flag')\n",
    "cat_data_GCS = cat_data[cols].dropna()\n",
    "print \"GCS  = {}\".format(cat_data_GCS.shape[0])\n",
    "\n",
    "cols = ['icustay_id', 'hospital_expire_flag','gender']\n",
    "cat_data_gender = cat_data[cols].dropna()\n",
    "#cols.insert(0, cols.pop(cols.index('icustay_id')))\n",
    "#cols.insert(1, cols.pop(cols.index('subject_id')))\n",
    "print \"gender = {}\".format(cat_data_gender.shape[0])\n",
    "\n",
    "\n"
   ]
  },
  {
   "cell_type": "code",
   "execution_count": 23,
   "metadata": {
    "collapsed": false
   },
   "outputs": [
    {
     "data": {
      "text/plain": [
       "Index([u'icustay_id', u'hospital_expire_flag', u'GCS_Eye', u'GCS_Motor',\n",
       "       u'GCS_Verbal'],\n",
       "      dtype='object')"
      ]
     },
     "execution_count": 23,
     "metadata": {},
     "output_type": "execute_result"
    }
   ],
   "source": [
    "cat_data_GCS.columns"
   ]
  },
  {
   "cell_type": "markdown",
   "metadata": {},
   "source": [
    "## Create OneHotEncoded data from categorical data in GCS and Gender dataframes"
   ]
  },
  {
   "cell_type": "code",
   "execution_count": 25,
   "metadata": {
    "collapsed": false
   },
   "outputs": [],
   "source": [
    "cols = cat_data_GCS.columns[2:]\n",
    "cat_data_GCS2 = pd.get_dummies(cat_data_GCS[cols], prefix= cols)\n",
    "\n",
    "cols = cat_data_gender.columns[2:]\n",
    "cat_data_gender2 = pd.get_dummies(cat_data_gender[cols], prefix= cols)\n",
    "\n"
   ]
  },
  {
   "cell_type": "code",
   "execution_count": 26,
   "metadata": {
    "collapsed": false
   },
   "outputs": [
    {
     "data": {
      "text/html": [
       "<div>\n",
       "<table border=\"1\" class=\"dataframe\">\n",
       "  <thead>\n",
       "    <tr style=\"text-align: right;\">\n",
       "      <th></th>\n",
       "      <th>GCS_Eye_None</th>\n",
       "      <th>GCS_Eye_Spontaneously</th>\n",
       "      <th>GCS_Eye_To Pain</th>\n",
       "      <th>GCS_Eye_To Speech</th>\n",
       "      <th>GCS_Motor_Abnormal Flexion</th>\n",
       "      <th>GCS_Motor_Abnormal extension</th>\n",
       "      <th>GCS_Motor_Flex-withdraws</th>\n",
       "      <th>GCS_Motor_Localizes Pain</th>\n",
       "      <th>GCS_Motor_No response</th>\n",
       "      <th>GCS_Motor_Obeys Commands</th>\n",
       "      <th>GCS_Verbal_Confused</th>\n",
       "      <th>GCS_Verbal_Inappropriate Words</th>\n",
       "      <th>GCS_Verbal_Incomprehensible sounds</th>\n",
       "      <th>GCS_Verbal_No Response</th>\n",
       "      <th>GCS_Verbal_No Response-ETT</th>\n",
       "      <th>GCS_Verbal_Oriented</th>\n",
       "    </tr>\n",
       "  </thead>\n",
       "  <tbody>\n",
       "    <tr>\n",
       "      <th>0</th>\n",
       "      <td>0.0</td>\n",
       "      <td>1.0</td>\n",
       "      <td>0.0</td>\n",
       "      <td>0.0</td>\n",
       "      <td>0.0</td>\n",
       "      <td>0.0</td>\n",
       "      <td>0.0</td>\n",
       "      <td>0.0</td>\n",
       "      <td>0.0</td>\n",
       "      <td>1.0</td>\n",
       "      <td>0.0</td>\n",
       "      <td>0.0</td>\n",
       "      <td>0.0</td>\n",
       "      <td>0.0</td>\n",
       "      <td>0.0</td>\n",
       "      <td>1.0</td>\n",
       "    </tr>\n",
       "    <tr>\n",
       "      <th>5</th>\n",
       "      <td>0.0</td>\n",
       "      <td>1.0</td>\n",
       "      <td>0.0</td>\n",
       "      <td>0.0</td>\n",
       "      <td>0.0</td>\n",
       "      <td>0.0</td>\n",
       "      <td>0.0</td>\n",
       "      <td>0.0</td>\n",
       "      <td>0.0</td>\n",
       "      <td>1.0</td>\n",
       "      <td>0.0</td>\n",
       "      <td>0.0</td>\n",
       "      <td>0.0</td>\n",
       "      <td>0.0</td>\n",
       "      <td>0.0</td>\n",
       "      <td>1.0</td>\n",
       "    </tr>\n",
       "    <tr>\n",
       "      <th>6</th>\n",
       "      <td>0.0</td>\n",
       "      <td>1.0</td>\n",
       "      <td>0.0</td>\n",
       "      <td>0.0</td>\n",
       "      <td>0.0</td>\n",
       "      <td>0.0</td>\n",
       "      <td>0.0</td>\n",
       "      <td>0.0</td>\n",
       "      <td>0.0</td>\n",
       "      <td>1.0</td>\n",
       "      <td>0.0</td>\n",
       "      <td>0.0</td>\n",
       "      <td>0.0</td>\n",
       "      <td>0.0</td>\n",
       "      <td>0.0</td>\n",
       "      <td>1.0</td>\n",
       "    </tr>\n",
       "    <tr>\n",
       "      <th>9</th>\n",
       "      <td>0.0</td>\n",
       "      <td>1.0</td>\n",
       "      <td>0.0</td>\n",
       "      <td>0.0</td>\n",
       "      <td>0.0</td>\n",
       "      <td>0.0</td>\n",
       "      <td>0.0</td>\n",
       "      <td>0.0</td>\n",
       "      <td>0.0</td>\n",
       "      <td>1.0</td>\n",
       "      <td>0.0</td>\n",
       "      <td>0.0</td>\n",
       "      <td>0.0</td>\n",
       "      <td>0.0</td>\n",
       "      <td>0.0</td>\n",
       "      <td>1.0</td>\n",
       "    </tr>\n",
       "    <tr>\n",
       "      <th>14</th>\n",
       "      <td>0.0</td>\n",
       "      <td>1.0</td>\n",
       "      <td>0.0</td>\n",
       "      <td>0.0</td>\n",
       "      <td>0.0</td>\n",
       "      <td>0.0</td>\n",
       "      <td>0.0</td>\n",
       "      <td>0.0</td>\n",
       "      <td>0.0</td>\n",
       "      <td>1.0</td>\n",
       "      <td>0.0</td>\n",
       "      <td>0.0</td>\n",
       "      <td>0.0</td>\n",
       "      <td>0.0</td>\n",
       "      <td>1.0</td>\n",
       "      <td>0.0</td>\n",
       "    </tr>\n",
       "  </tbody>\n",
       "</table>\n",
       "</div>"
      ],
      "text/plain": [
       "    GCS_Eye_None  GCS_Eye_Spontaneously  GCS_Eye_To Pain  GCS_Eye_To Speech  \\\n",
       "0            0.0                    1.0              0.0                0.0   \n",
       "5            0.0                    1.0              0.0                0.0   \n",
       "6            0.0                    1.0              0.0                0.0   \n",
       "9            0.0                    1.0              0.0                0.0   \n",
       "14           0.0                    1.0              0.0                0.0   \n",
       "\n",
       "    GCS_Motor_Abnormal Flexion  GCS_Motor_Abnormal extension  \\\n",
       "0                          0.0                           0.0   \n",
       "5                          0.0                           0.0   \n",
       "6                          0.0                           0.0   \n",
       "9                          0.0                           0.0   \n",
       "14                         0.0                           0.0   \n",
       "\n",
       "    GCS_Motor_Flex-withdraws  GCS_Motor_Localizes Pain  GCS_Motor_No response  \\\n",
       "0                        0.0                       0.0                    0.0   \n",
       "5                        0.0                       0.0                    0.0   \n",
       "6                        0.0                       0.0                    0.0   \n",
       "9                        0.0                       0.0                    0.0   \n",
       "14                       0.0                       0.0                    0.0   \n",
       "\n",
       "    GCS_Motor_Obeys Commands  GCS_Verbal_Confused  \\\n",
       "0                        1.0                  0.0   \n",
       "5                        1.0                  0.0   \n",
       "6                        1.0                  0.0   \n",
       "9                        1.0                  0.0   \n",
       "14                       1.0                  0.0   \n",
       "\n",
       "    GCS_Verbal_Inappropriate Words  GCS_Verbal_Incomprehensible sounds  \\\n",
       "0                              0.0                                 0.0   \n",
       "5                              0.0                                 0.0   \n",
       "6                              0.0                                 0.0   \n",
       "9                              0.0                                 0.0   \n",
       "14                             0.0                                 0.0   \n",
       "\n",
       "    GCS_Verbal_No Response  GCS_Verbal_No Response-ETT  GCS_Verbal_Oriented  \n",
       "0                      0.0                         0.0                  1.0  \n",
       "5                      0.0                         0.0                  1.0  \n",
       "6                      0.0                         0.0                  1.0  \n",
       "9                      0.0                         0.0                  1.0  \n",
       "14                     0.0                         1.0                  0.0  "
      ]
     },
     "execution_count": 26,
     "metadata": {},
     "output_type": "execute_result"
    }
   ],
   "source": [
    "cat_data_GCS2.head()"
   ]
  },
  {
   "cell_type": "code",
   "execution_count": 54,
   "metadata": {
    "collapsed": false
   },
   "outputs": [
    {
     "data": {
      "text/html": [
       "<div>\n",
       "<table border=\"1\" class=\"dataframe\">\n",
       "  <thead>\n",
       "    <tr style=\"text-align: right;\">\n",
       "      <th></th>\n",
       "      <th>GCS_Eye_None</th>\n",
       "      <th>GCS_Eye_Spontaneously</th>\n",
       "      <th>GCS_Eye_To Pain</th>\n",
       "      <th>GCS_Eye_To Speech</th>\n",
       "      <th>GCS_Motor_Abnormal Flexion</th>\n",
       "      <th>GCS_Motor_Abnormal extension</th>\n",
       "      <th>GCS_Motor_Flex-withdraws</th>\n",
       "      <th>GCS_Motor_Localizes Pain</th>\n",
       "      <th>GCS_Motor_No response</th>\n",
       "      <th>GCS_Motor_Obeys Commands</th>\n",
       "      <th>GCS_Verbal_Confused</th>\n",
       "      <th>GCS_Verbal_Inappropriate Words</th>\n",
       "      <th>GCS_Verbal_Incomprehensible sounds</th>\n",
       "      <th>GCS_Verbal_No Response</th>\n",
       "      <th>GCS_Verbal_No Response-ETT</th>\n",
       "      <th>GCS_Verbal_Oriented</th>\n",
       "    </tr>\n",
       "  </thead>\n",
       "  <tbody>\n",
       "    <tr>\n",
       "      <th>0</th>\n",
       "      <td>0.0</td>\n",
       "      <td>1.0</td>\n",
       "      <td>0.0</td>\n",
       "      <td>0.0</td>\n",
       "      <td>0.0</td>\n",
       "      <td>0.0</td>\n",
       "      <td>0.0</td>\n",
       "      <td>0.0</td>\n",
       "      <td>0.0</td>\n",
       "      <td>1.0</td>\n",
       "      <td>0.0</td>\n",
       "      <td>0.0</td>\n",
       "      <td>0.0</td>\n",
       "      <td>0.0</td>\n",
       "      <td>0.0</td>\n",
       "      <td>1.0</td>\n",
       "    </tr>\n",
       "    <tr>\n",
       "      <th>5</th>\n",
       "      <td>0.0</td>\n",
       "      <td>1.0</td>\n",
       "      <td>0.0</td>\n",
       "      <td>0.0</td>\n",
       "      <td>0.0</td>\n",
       "      <td>0.0</td>\n",
       "      <td>0.0</td>\n",
       "      <td>0.0</td>\n",
       "      <td>0.0</td>\n",
       "      <td>1.0</td>\n",
       "      <td>0.0</td>\n",
       "      <td>0.0</td>\n",
       "      <td>0.0</td>\n",
       "      <td>0.0</td>\n",
       "      <td>0.0</td>\n",
       "      <td>1.0</td>\n",
       "    </tr>\n",
       "    <tr>\n",
       "      <th>6</th>\n",
       "      <td>0.0</td>\n",
       "      <td>1.0</td>\n",
       "      <td>0.0</td>\n",
       "      <td>0.0</td>\n",
       "      <td>0.0</td>\n",
       "      <td>0.0</td>\n",
       "      <td>0.0</td>\n",
       "      <td>0.0</td>\n",
       "      <td>0.0</td>\n",
       "      <td>1.0</td>\n",
       "      <td>0.0</td>\n",
       "      <td>0.0</td>\n",
       "      <td>0.0</td>\n",
       "      <td>0.0</td>\n",
       "      <td>0.0</td>\n",
       "      <td>1.0</td>\n",
       "    </tr>\n",
       "    <tr>\n",
       "      <th>9</th>\n",
       "      <td>0.0</td>\n",
       "      <td>1.0</td>\n",
       "      <td>0.0</td>\n",
       "      <td>0.0</td>\n",
       "      <td>0.0</td>\n",
       "      <td>0.0</td>\n",
       "      <td>0.0</td>\n",
       "      <td>0.0</td>\n",
       "      <td>0.0</td>\n",
       "      <td>1.0</td>\n",
       "      <td>0.0</td>\n",
       "      <td>0.0</td>\n",
       "      <td>0.0</td>\n",
       "      <td>0.0</td>\n",
       "      <td>0.0</td>\n",
       "      <td>1.0</td>\n",
       "    </tr>\n",
       "    <tr>\n",
       "      <th>14</th>\n",
       "      <td>0.0</td>\n",
       "      <td>1.0</td>\n",
       "      <td>0.0</td>\n",
       "      <td>0.0</td>\n",
       "      <td>0.0</td>\n",
       "      <td>0.0</td>\n",
       "      <td>0.0</td>\n",
       "      <td>0.0</td>\n",
       "      <td>0.0</td>\n",
       "      <td>1.0</td>\n",
       "      <td>0.0</td>\n",
       "      <td>0.0</td>\n",
       "      <td>0.0</td>\n",
       "      <td>0.0</td>\n",
       "      <td>1.0</td>\n",
       "      <td>0.0</td>\n",
       "    </tr>\n",
       "  </tbody>\n",
       "</table>\n",
       "</div>"
      ],
      "text/plain": [
       "    GCS_Eye_None  GCS_Eye_Spontaneously  GCS_Eye_To Pain  GCS_Eye_To Speech  \\\n",
       "0            0.0                    1.0              0.0                0.0   \n",
       "5            0.0                    1.0              0.0                0.0   \n",
       "6            0.0                    1.0              0.0                0.0   \n",
       "9            0.0                    1.0              0.0                0.0   \n",
       "14           0.0                    1.0              0.0                0.0   \n",
       "\n",
       "    GCS_Motor_Abnormal Flexion  GCS_Motor_Abnormal extension  \\\n",
       "0                          0.0                           0.0   \n",
       "5                          0.0                           0.0   \n",
       "6                          0.0                           0.0   \n",
       "9                          0.0                           0.0   \n",
       "14                         0.0                           0.0   \n",
       "\n",
       "    GCS_Motor_Flex-withdraws  GCS_Motor_Localizes Pain  GCS_Motor_No response  \\\n",
       "0                        0.0                       0.0                    0.0   \n",
       "5                        0.0                       0.0                    0.0   \n",
       "6                        0.0                       0.0                    0.0   \n",
       "9                        0.0                       0.0                    0.0   \n",
       "14                       0.0                       0.0                    0.0   \n",
       "\n",
       "    GCS_Motor_Obeys Commands  GCS_Verbal_Confused  \\\n",
       "0                        1.0                  0.0   \n",
       "5                        1.0                  0.0   \n",
       "6                        1.0                  0.0   \n",
       "9                        1.0                  0.0   \n",
       "14                       1.0                  0.0   \n",
       "\n",
       "    GCS_Verbal_Inappropriate Words  GCS_Verbal_Incomprehensible sounds  \\\n",
       "0                              0.0                                 0.0   \n",
       "5                              0.0                                 0.0   \n",
       "6                              0.0                                 0.0   \n",
       "9                              0.0                                 0.0   \n",
       "14                             0.0                                 0.0   \n",
       "\n",
       "    GCS_Verbal_No Response  GCS_Verbal_No Response-ETT  GCS_Verbal_Oriented  \n",
       "0                      0.0                         0.0                  1.0  \n",
       "5                      0.0                         0.0                  1.0  \n",
       "6                      0.0                         0.0                  1.0  \n",
       "9                      0.0                         0.0                  1.0  \n",
       "14                     0.0                         1.0                  0.0  "
      ]
     },
     "execution_count": 54,
     "metadata": {},
     "output_type": "execute_result"
    }
   ],
   "source": [
    "cat_dict['GCS'][1].head()"
   ]
  },
  {
   "cell_type": "markdown",
   "metadata": {},
   "source": [
    "## PERFORMING FEATURE SELECTION USING ONEHOTENCODED VARIABLES \n",
    "### SAVING P-VALUES AND SCORES FOR ALL CATEGORICAL VARIABLES IN A DATAFRAME cat_feature_Scores"
   ]
  },
  {
   "cell_type": "code",
   "execution_count": 27,
   "metadata": {
    "collapsed": false
   },
   "outputs": [
    {
     "data": {
      "text/plain": [
       "Index([u'GCS_Eye_None', u'GCS_Motor_No response',\n",
       "       u'GCS_Verbal_No Response-ETT', u'GCS_Verbal_Oriented',\n",
       "       u'GCS_Motor_Flex-withdraws'],\n",
       "      dtype='object')"
      ]
     },
     "metadata": {},
     "output_type": "display_data"
    },
    {
     "data": {
      "text/plain": [
       "Index([u'GCS_Verbal_Confused', u'gender_F', u'GCS_Verbal_Inappropriate Words',\n",
       "       u'GCS_Eye_To Speech', u'gender_M'],\n",
       "      dtype='object')"
      ]
     },
     "metadata": {},
     "output_type": "display_data"
    },
    {
     "data": {
      "text/plain": [
       "['GCS', 'Gend']"
      ]
     },
     "metadata": {},
     "output_type": "display_data"
    }
   ],
   "source": [
    "# CREATE DICT WITH CATEGORICAL AND ASSOCIATED ONEHOTENCODED DATA REFERENCED BY EACH KEY \n",
    "cat_dict = {'GCS': [cat_data_GCS, cat_data_GCS2], \n",
    "            'Gend': [cat_data_gender, cat_data_gender2] \n",
    "            }\n",
    "\n",
    "cat_feature_scores = pd.DataFrame()\n",
    "\n",
    "for key in cat_dict.keys():\n",
    "\n",
    "    X_cat = cat_dict[key][1]\n",
    "    y_cat = cat_dict[key][0]['hospital_expire_flag']\n",
    "   \n",
    "    # SelectKBest can't deal with negative numbers so we shift any variables with negative values\n",
    "    # up so that the most negative values = 0\n",
    "   \n",
    "    selector = SelectKBest(score_func = chi2, k='all')\n",
    "    selector.fit(X_cat, y_cat)\n",
    "    d = {'pvalues': pd.Series(selector.pvalues_, index = X_cat.columns),\n",
    "         'scores' : pd.Series(selector.scores_, index = X_cat.columns)\n",
    "        }\n",
    "    cat_feature_scores = cat_feature_scores.append(pd.DataFrame(d))\n",
    "\n",
    "cat_feature_scores.sort_values(['pvalues'], axis = 0, ascending = True, inplace = True)\n",
    "\n",
    "tops = cat_feature_scores.head().transpose().columns\n",
    "bottoms = cat_feature_scores.tail().transpose().columns\n",
    "display(tops)\n",
    "display(bottoms)\n",
    "display(cat_dict.keys())"
   ]
  },
  {
   "cell_type": "code",
   "execution_count": 56,
   "metadata": {
    "collapsed": false
   },
   "outputs": [
    {
     "data": {
      "text/plain": [
       "Index([u'GCS_Eye_None', u'GCS_Motor_No response',\n",
       "       u'GCS_Verbal_No Response-ETT'],\n",
       "      dtype='object')"
      ]
     },
     "execution_count": 56,
     "metadata": {},
     "output_type": "execute_result"
    }
   ],
   "source": [
    "cat_feature_scores.index[:3]"
   ]
  },
  {
   "cell_type": "code",
   "execution_count": 29,
   "metadata": {
    "collapsed": true
   },
   "outputs": [],
   "source": [
    "cat_feature_scores.to_csv('Categorical_Feature_Scores.csv')"
   ]
  },
  {
   "cell_type": "code",
   "execution_count": 33,
   "metadata": {
    "collapsed": false
   },
   "outputs": [
    {
     "data": {
      "text/plain": [
       "Index([u'GCS_Eye_None', u'GCS_Motor_No response',\n",
       "       u'GCS_Verbal_No Response-ETT'],\n",
       "      dtype='object')"
      ]
     },
     "metadata": {},
     "output_type": "display_data"
    },
    {
     "data": {
      "text/plain": [
       "Index([u'GCS_Verbal_Inappropriate Words', u'GCS_Eye_To Speech', u'gender_M'], dtype='object')"
      ]
     },
     "metadata": {},
     "output_type": "display_data"
    }
   ],
   "source": [
    "display(cat_feature_scores.index[:3])\n",
    "display(cat_feature_scores.index[-3:])\n"
   ]
  },
  {
   "cell_type": "code",
   "execution_count": 46,
   "metadata": {
    "collapsed": false
   },
   "outputs": [
    {
     "data": {
      "text/html": [
       "<div>\n",
       "<table border=\"1\" class=\"dataframe\">\n",
       "  <thead>\n",
       "    <tr style=\"text-align: right;\">\n",
       "      <th></th>\n",
       "      <th>icustay_id</th>\n",
       "      <th>hospital_expire_flag</th>\n",
       "      <th>GCS_Eye</th>\n",
       "      <th>GCS_Motor</th>\n",
       "      <th>GCS_Verbal</th>\n",
       "    </tr>\n",
       "  </thead>\n",
       "  <tbody>\n",
       "    <tr>\n",
       "      <th>0</th>\n",
       "      <td>200001</td>\n",
       "      <td>0</td>\n",
       "      <td>Spontaneously</td>\n",
       "      <td>Obeys Commands</td>\n",
       "      <td>Oriented</td>\n",
       "    </tr>\n",
       "    <tr>\n",
       "      <th>5</th>\n",
       "      <td>200010</td>\n",
       "      <td>0</td>\n",
       "      <td>Spontaneously</td>\n",
       "      <td>Obeys Commands</td>\n",
       "      <td>Oriented</td>\n",
       "    </tr>\n",
       "    <tr>\n",
       "      <th>6</th>\n",
       "      <td>200011</td>\n",
       "      <td>0</td>\n",
       "      <td>Spontaneously</td>\n",
       "      <td>Obeys Commands</td>\n",
       "      <td>Oriented</td>\n",
       "    </tr>\n",
       "    <tr>\n",
       "      <th>9</th>\n",
       "      <td>200016</td>\n",
       "      <td>0</td>\n",
       "      <td>Spontaneously</td>\n",
       "      <td>Obeys Commands</td>\n",
       "      <td>Oriented</td>\n",
       "    </tr>\n",
       "    <tr>\n",
       "      <th>14</th>\n",
       "      <td>200021</td>\n",
       "      <td>0</td>\n",
       "      <td>Spontaneously</td>\n",
       "      <td>Obeys Commands</td>\n",
       "      <td>No Response-ETT</td>\n",
       "    </tr>\n",
       "  </tbody>\n",
       "</table>\n",
       "</div>"
      ],
      "text/plain": [
       "    icustay_id  hospital_expire_flag        GCS_Eye       GCS_Motor  \\\n",
       "0       200001                     0  Spontaneously  Obeys Commands   \n",
       "5       200010                     0  Spontaneously  Obeys Commands   \n",
       "6       200011                     0  Spontaneously  Obeys Commands   \n",
       "9       200016                     0  Spontaneously  Obeys Commands   \n",
       "14      200021                     0  Spontaneously  Obeys Commands   \n",
       "\n",
       "         GCS_Verbal  \n",
       "0          Oriented  \n",
       "5          Oriented  \n",
       "6          Oriented  \n",
       "9          Oriented  \n",
       "14  No Response-ETT  "
      ]
     },
     "execution_count": 46,
     "metadata": {},
     "output_type": "execute_result"
    }
   ],
   "source": [
    "cat_dict['GCS'][0].head()"
   ]
  },
  {
   "cell_type": "code",
   "execution_count": 49,
   "metadata": {
    "collapsed": false
   },
   "outputs": [
    {
     "data": {
      "text/plain": [
       "<matplotlib.legend.Legend at 0x1284aa210>"
      ]
     },
     "execution_count": 49,
     "metadata": {},
     "output_type": "execute_result"
    },
    {
     "data": {
      "image/png": "[encoded data removed]",
      "text/plain": [
       "<matplotlib.figure.Figure at 0x130d37c10>"
      ]
     },
     "metadata": {},
     "output_type": "display_data"
    },
    {
     "data": {
      "image/png": "[encoded data removed]",
      "text/plain": [
       "<matplotlib.figure.Figure at 0x11aac5510>"
      ]
     },
     "metadata": {},
     "output_type": "display_data"
    }
   ],
   "source": [
    "\n",
    "plt.subplots(figsize=(13,6))\n",
    "\n",
    "cat_dict['Gend'][0]['gender'][cat_dict['Gend'][0].hospital_expire_flag ==1].value_counts().plot.bar(\n",
    "        alpha = 0.5, label = 'Non_Survival')\n",
    "cat_dict['Gend'][0]['gender'][cat_dict['Gend'][0].hospital_expire_flag ==0].value_counts().plot.bar(\n",
    "        alpha = 0.2 , label = 'Survival', color = 'green')\n",
    "\n",
    "plt.title('gender vs mortality')\n",
    "    #plt.xlabel(l + ' ' + u)\n",
    "plt.legend(loc=\"upper left\", bbox_to_anchor=(1,1),fontsize=12)\n",
    "\n",
    "\n",
    "plt.subplots(figsize=(13,6))\n",
    "cat_dict['GCS'][0]['GCS_Eye'][cat_dict['GCS'][0].hospital_expire_flag ==1].value_counts().plot.bar(\n",
    "        alpha = 0.5, label = 'Non_Survival')\n",
    "cat_dict['GCS'][0]['GCS_Eye'][cat_dict['GCS'][0].hospital_expire_flag ==0].value_counts().plot.bar(\n",
    "        alpha = 0.2 , label = 'Survival', color = 'green')\n",
    "\n",
    "plt.title('GCS_Eye vs mortality')\n",
    "    #plt.xlabel(l + ' ' + u)\n",
    "plt.legend(loc=\"upper left\", bbox_to_anchor=(1,1),fontsize=12)"
   ]
  },
  {
   "cell_type": "code",
   "execution_count": 50,
   "metadata": {
    "collapsed": false
   },
   "outputs": [
    {
     "data": {
      "text/plain": [
       "Index([u'GCS_Eye_None', u'GCS_Motor_No response',\n",
       "       u'GCS_Verbal_No Response-ETT'],\n",
       "      dtype='object')"
      ]
     },
     "metadata": {},
     "output_type": "display_data"
    },
    {
     "data": {
      "text/plain": [
       "Index([u'GCS_Verbal_Inappropriate Words', u'GCS_Eye_To Speech', u'gender_M'], dtype='object')"
      ]
     },
     "metadata": {},
     "output_type": "display_data"
    }
   ],
   "source": [
    "display(cat_feature_scores.index[:3])\n",
    "display(cat_feature_scores.index[-3:])"
   ]
  },
  {
   "cell_type": "code",
   "execution_count": 67,
   "metadata": {
    "collapsed": false
   },
   "outputs": [
    {
     "data": {
      "text/html": [
       "<div>\n",
       "<table border=\"1\" class=\"dataframe\">\n",
       "  <thead>\n",
       "    <tr style=\"text-align: right;\">\n",
       "      <th></th>\n",
       "      <th>icustay_id</th>\n",
       "      <th>hospital_expire_flag</th>\n",
       "      <th>GCS_Eye</th>\n",
       "      <th>GCS_Motor</th>\n",
       "      <th>GCS_Verbal</th>\n",
       "    </tr>\n",
       "  </thead>\n",
       "  <tbody>\n",
       "    <tr>\n",
       "      <th>0</th>\n",
       "      <td>200001</td>\n",
       "      <td>0</td>\n",
       "      <td>Spontaneously</td>\n",
       "      <td>Obeys Commands</td>\n",
       "      <td>Oriented</td>\n",
       "    </tr>\n",
       "    <tr>\n",
       "      <th>5</th>\n",
       "      <td>200010</td>\n",
       "      <td>0</td>\n",
       "      <td>Spontaneously</td>\n",
       "      <td>Obeys Commands</td>\n",
       "      <td>Oriented</td>\n",
       "    </tr>\n",
       "    <tr>\n",
       "      <th>6</th>\n",
       "      <td>200011</td>\n",
       "      <td>0</td>\n",
       "      <td>Spontaneously</td>\n",
       "      <td>Obeys Commands</td>\n",
       "      <td>Oriented</td>\n",
       "    </tr>\n",
       "    <tr>\n",
       "      <th>9</th>\n",
       "      <td>200016</td>\n",
       "      <td>0</td>\n",
       "      <td>Spontaneously</td>\n",
       "      <td>Obeys Commands</td>\n",
       "      <td>Oriented</td>\n",
       "    </tr>\n",
       "    <tr>\n",
       "      <th>14</th>\n",
       "      <td>200021</td>\n",
       "      <td>0</td>\n",
       "      <td>Spontaneously</td>\n",
       "      <td>Obeys Commands</td>\n",
       "      <td>No Response-ETT</td>\n",
       "    </tr>\n",
       "  </tbody>\n",
       "</table>\n",
       "</div>"
      ],
      "text/plain": [
       "    icustay_id  hospital_expire_flag        GCS_Eye       GCS_Motor  \\\n",
       "0       200001                     0  Spontaneously  Obeys Commands   \n",
       "5       200010                     0  Spontaneously  Obeys Commands   \n",
       "6       200011                     0  Spontaneously  Obeys Commands   \n",
       "9       200016                     0  Spontaneously  Obeys Commands   \n",
       "14      200021                     0  Spontaneously  Obeys Commands   \n",
       "\n",
       "         GCS_Verbal  \n",
       "0          Oriented  \n",
       "5          Oriented  \n",
       "6          Oriented  \n",
       "9          Oriented  \n",
       "14  No Response-ETT  "
      ]
     },
     "execution_count": 67,
     "metadata": {},
     "output_type": "execute_result"
    }
   ],
   "source": [
    "cat_dict['GCS'][0].head()"
   ]
  },
  {
   "cell_type": "code",
   "execution_count": 86,
   "metadata": {
    "collapsed": false
   },
   "outputs": [
    {
     "data": {
      "text/plain": [
       "['GCS_Eye', 'GCS_Motor', 'GCS_Verbal', 'GCS_Verbal', 'GCS_Eye', 'gender']"
      ]
     },
     "execution_count": 86,
     "metadata": {},
     "output_type": "execute_result"
    }
   ],
   "source": []
  },
  {
   "cell_type": "markdown",
   "metadata": {},
   "source": [
    "## PLOTTING THE TOP 3 AND BOTTOM 3 CATEGORICAL FEATURES BY SELECTKBEST CHI2 SCORES \n",
    "### bit messy, need to clean up!\n"
   ]
  },
  {
   "cell_type": "code",
   "execution_count": 88,
   "metadata": {
    "collapsed": false
   },
   "outputs": [
    {
     "data": {
      "image/png": "[encoded data removed]",
      "text/plain": [
       "<matplotlib.figure.Figure at 0x10325b310>"
      ]
     },
     "metadata": {},
     "output_type": "display_data"
    },
    {
     "data": {
      "image/png": "[encoded data removed]",
      "text/plain": [
       "<matplotlib.figure.Figure at 0x1315091d0>"
      ]
     },
     "metadata": {},
     "output_type": "display_data"
    },
    {
     "data": {
      "image/png": "[encoded data removed]",
      "text/plain": [
       "<matplotlib.figure.Figure at 0x131690810>"
      ]
     },
     "metadata": {},
     "output_type": "display_data"
    }
   ],
   "source": [
    "#\n",
    "# THE ONE-HOT FRAMES DON'T HAVE HOSPITAL EXPIRED FLAG SO WE'RE PLOTTING THE RAW CATEGORICAL \n",
    "# FEATURES BASED ON THE SCORES OF THE ONEHOTENCODED FEATURES\n",
    "# ALTERNATIVELY WE COULD MERGE ICUSTAY AND HOSPITAL EXPIRE FLAG INFO INTO ONE-HOT DATA. \n",
    "\n",
    "cat_vars = []\n",
    "for col in cat_feature_scores.index[:3]:\n",
    "    for col2  in cat_dict['GCS'][0].columns:\n",
    "        if col2 in col:\n",
    "            cat_vars.append(col2)\n",
    "\n",
    "\n",
    "\n",
    "\n",
    "datadict = dict()\n",
    "df = 'GCS'\n",
    "\n",
    "for col in cat_vars: #feature_scores.index[:3]:\n",
    "    \n",
    "    \n",
    "    \n",
    "    cats = list(cat_dict[df][0][col].unique())\n",
    "    for cat in cats:\n",
    "        dead = cat_dict[df][0][col][(cat_dict[df][0][col] == cat) & (cat_dict[df][0].hospital_expire_flag == 1)].dropna().count()\n",
    "        live = cat_dict[df][0][col][(cat_dict[df][0][col] == cat) & (cat_dict[df][0].hospital_expire_flag == 0)].dropna().count()\n",
    "        total = float(live) + dead\n",
    "        datadict[cat] = (live/total, dead/total)\n",
    "\n",
    "\n",
    "    frame = pd.DataFrame.from_dict(datadict)\n",
    "    frame.index = ['Survivors', 'Non_Survivors']\n",
    "    \n",
    "    frame.transpose().plot.bar(stacked = True, figsize = (13,6), edgecolor = 'black', linewidth = 3, \n",
    "                                 alpha = 0.5, title = \"Percent Survival Rate for \" + col)\n",
    "    plt.show()\n",
    "\n",
    "\n",
    "\n",
    "\n",
    "\n",
    "\n",
    "\n",
    "\n",
    "\n",
    "\n",
    "\n",
    "\n"
   ]
  },
  {
   "cell_type": "code",
   "execution_count": 98,
   "metadata": {
    "collapsed": false
   },
   "outputs": [
    {
     "data": {
      "text/plain": [
       "['HR',\n",
       " 'TCalc',\n",
       " 'O2Sat',\n",
       " 'BP',\n",
       " 'pH',\n",
       " 'Stay',\n",
       " 'O2',\n",
       " 'GCST',\n",
       " 'RR',\n",
       " 'LAC',\n",
       " 'labpH',\n",
       " 'TC']"
      ]
     },
     "metadata": {},
     "output_type": "display_data"
    },
    {
     "data": {
      "text/html": [
       "<div>\n",
       "<table border=\"1\" class=\"dataframe\">\n",
       "  <thead>\n",
       "    <tr style=\"text-align: right;\">\n",
       "      <th></th>\n",
       "      <th>pvalues</th>\n",
       "      <th>scores</th>\n",
       "    </tr>\n",
       "  </thead>\n",
       "  <tbody>\n",
       "    <tr>\n",
       "      <th>RR_med</th>\n",
       "      <td>0.000000e+00</td>\n",
       "      <td>1556.949181</td>\n",
       "    </tr>\n",
       "    <tr>\n",
       "      <th>GCS_total</th>\n",
       "      <td>0.000000e+00</td>\n",
       "      <td>1989.752238</td>\n",
       "    </tr>\n",
       "    <tr>\n",
       "      <th>RR_mean</th>\n",
       "      <td>3.952525e-322</td>\n",
       "      <td>1493.493979</td>\n",
       "    </tr>\n",
       "    <tr>\n",
       "      <th>HR_std</th>\n",
       "      <td>1.019289e-259</td>\n",
       "      <td>1197.533528</td>\n",
       "    </tr>\n",
       "    <tr>\n",
       "      <th>Lactate_min_df</th>\n",
       "      <td>7.826841e-259</td>\n",
       "      <td>1241.926427</td>\n",
       "    </tr>\n",
       "    <tr>\n",
       "      <th>Lactate_mean_df</th>\n",
       "      <td>8.571089e-209</td>\n",
       "      <td>990.049562</td>\n",
       "    </tr>\n",
       "    <tr>\n",
       "      <th>RR_max</th>\n",
       "      <td>2.286531e-205</td>\n",
       "      <td>943.607159</td>\n",
       "    </tr>\n",
       "    <tr>\n",
       "      <th>Lactate_med_df</th>\n",
       "      <td>5.875042e-182</td>\n",
       "      <td>856.992888</td>\n",
       "    </tr>\n",
       "    <tr>\n",
       "      <th>RR_std</th>\n",
       "      <td>5.808785e-164</td>\n",
       "      <td>750.044394</td>\n",
       "    </tr>\n",
       "    <tr>\n",
       "      <th>Lactate_max_df</th>\n",
       "      <td>4.725190e-157</td>\n",
       "      <td>734.761593</td>\n",
       "    </tr>\n",
       "  </tbody>\n",
       "</table>\n",
       "</div>"
      ],
      "text/plain": [
       "                       pvalues       scores\n",
       "RR_med            0.000000e+00  1556.949181\n",
       "GCS_total         0.000000e+00  1989.752238\n",
       "RR_mean          3.952525e-322  1493.493979\n",
       "HR_std           1.019289e-259  1197.533528\n",
       "Lactate_min_df   7.826841e-259  1241.926427\n",
       "Lactate_mean_df  8.571089e-209   990.049562\n",
       "RR_max           2.286531e-205   943.607159\n",
       "Lactate_med_df   5.875042e-182   856.992888\n",
       "RR_std           5.808785e-164   750.044394\n",
       "Lactate_max_df   4.725190e-157   734.761593"
      ]
     },
     "metadata": {},
     "output_type": "display_data"
    }
   ],
   "source": [
    "display(cont_dict.keys())\n",
    "display(cont_feature_scores[:10])"
   ]
  },
  {
   "cell_type": "markdown",
   "metadata": {},
   "source": [
    "### cat_feature_scores contains scores from SelectKBest analysis using chi2\n",
    "### cont_feature_scores contains scores from SelectKBest analysis using default\n",
    "### cat_data contains all categorical data while cont_data contains all continuous/float64 data\n",
    "### cont_features can be taken straight from cont_data but cat features have been transformed \n"
   ]
  },
  {
   "cell_type": "code",
   "execution_count": 92,
   "metadata": {
    "collapsed": false
   },
   "outputs": [
    {
     "data": {
      "text/html": [
       "<div>\n",
       "<table border=\"1\" class=\"dataframe\">\n",
       "  <thead>\n",
       "    <tr style=\"text-align: right;\">\n",
       "      <th></th>\n",
       "      <th>pvalues</th>\n",
       "      <th>scores</th>\n",
       "    </tr>\n",
       "  </thead>\n",
       "  <tbody>\n",
       "    <tr>\n",
       "      <th>GCS_Eye_None</th>\n",
       "      <td>5.232463e-253</td>\n",
       "      <td>1154.293737</td>\n",
       "    </tr>\n",
       "    <tr>\n",
       "      <th>GCS_Motor_No response</th>\n",
       "      <td>8.864588e-134</td>\n",
       "      <td>605.867145</td>\n",
       "    </tr>\n",
       "    <tr>\n",
       "      <th>GCS_Verbal_No Response-ETT</th>\n",
       "      <td>8.252634e-107</td>\n",
       "      <td>481.898700</td>\n",
       "    </tr>\n",
       "    <tr>\n",
       "      <th>GCS_Verbal_Oriented</th>\n",
       "      <td>2.480360e-87</td>\n",
       "      <td>392.404059</td>\n",
       "    </tr>\n",
       "    <tr>\n",
       "      <th>GCS_Motor_Flex-withdraws</th>\n",
       "      <td>2.063374e-75</td>\n",
       "      <td>337.659578</td>\n",
       "    </tr>\n",
       "    <tr>\n",
       "      <th>GCS_Motor_Abnormal Flexion</th>\n",
       "      <td>4.555559e-73</td>\n",
       "      <td>326.897426</td>\n",
       "    </tr>\n",
       "    <tr>\n",
       "      <th>GCS_Motor_Obeys Commands</th>\n",
       "      <td>9.110050e-69</td>\n",
       "      <td>307.152600</td>\n",
       "    </tr>\n",
       "    <tr>\n",
       "      <th>GCS_Eye_Spontaneously</th>\n",
       "      <td>1.455077e-60</td>\n",
       "      <td>269.504572</td>\n",
       "    </tr>\n",
       "    <tr>\n",
       "      <th>GCS_Motor_Abnormal extension</th>\n",
       "      <td>4.793173e-43</td>\n",
       "      <td>189.183199</td>\n",
       "    </tr>\n",
       "    <tr>\n",
       "      <th>GCS_Verbal_No Response</th>\n",
       "      <td>7.098710e-36</td>\n",
       "      <td>156.350027</td>\n",
       "    </tr>\n",
       "  </tbody>\n",
       "</table>\n",
       "</div>"
      ],
      "text/plain": [
       "                                    pvalues       scores\n",
       "GCS_Eye_None                  5.232463e-253  1154.293737\n",
       "GCS_Motor_No response         8.864588e-134   605.867145\n",
       "GCS_Verbal_No Response-ETT    8.252634e-107   481.898700\n",
       "GCS_Verbal_Oriented            2.480360e-87   392.404059\n",
       "GCS_Motor_Flex-withdraws       2.063374e-75   337.659578\n",
       "GCS_Motor_Abnormal Flexion     4.555559e-73   326.897426\n",
       "GCS_Motor_Obeys Commands       9.110050e-69   307.152600\n",
       "GCS_Eye_Spontaneously          1.455077e-60   269.504572\n",
       "GCS_Motor_Abnormal extension   4.793173e-43   189.183199\n",
       "GCS_Verbal_No Response         7.098710e-36   156.350027"
      ]
     },
     "execution_count": 92,
     "metadata": {},
     "output_type": "execute_result"
    }
   ],
   "source": [
    "cat_feature_scores[:10]"
   ]
  },
  {
   "cell_type": "code",
   "execution_count": 95,
   "metadata": {
    "collapsed": false
   },
   "outputs": [
    {
     "data": {
      "text/html": [
       "<div>\n",
       "<table border=\"1\" class=\"dataframe\">\n",
       "  <thead>\n",
       "    <tr style=\"text-align: right;\">\n",
       "      <th></th>\n",
       "      <th>pvalues</th>\n",
       "      <th>scores</th>\n",
       "    </tr>\n",
       "  </thead>\n",
       "  <tbody>\n",
       "    <tr>\n",
       "      <th>RR_med</th>\n",
       "      <td>0.000000e+00</td>\n",
       "      <td>1556.949181</td>\n",
       "    </tr>\n",
       "    <tr>\n",
       "      <th>GCS_total</th>\n",
       "      <td>0.000000e+00</td>\n",
       "      <td>1989.752238</td>\n",
       "    </tr>\n",
       "    <tr>\n",
       "      <th>RR_mean</th>\n",
       "      <td>3.952525e-322</td>\n",
       "      <td>1493.493979</td>\n",
       "    </tr>\n",
       "    <tr>\n",
       "      <th>HR_std</th>\n",
       "      <td>1.019289e-259</td>\n",
       "      <td>1197.533528</td>\n",
       "    </tr>\n",
       "    <tr>\n",
       "      <th>Lactate_min_df</th>\n",
       "      <td>7.826841e-259</td>\n",
       "      <td>1241.926427</td>\n",
       "    </tr>\n",
       "    <tr>\n",
       "      <th>Lactate_mean_df</th>\n",
       "      <td>8.571089e-209</td>\n",
       "      <td>990.049562</td>\n",
       "    </tr>\n",
       "    <tr>\n",
       "      <th>RR_max</th>\n",
       "      <td>2.286531e-205</td>\n",
       "      <td>943.607159</td>\n",
       "    </tr>\n",
       "    <tr>\n",
       "      <th>Lactate_med_df</th>\n",
       "      <td>5.875042e-182</td>\n",
       "      <td>856.992888</td>\n",
       "    </tr>\n",
       "    <tr>\n",
       "      <th>RR_std</th>\n",
       "      <td>5.808785e-164</td>\n",
       "      <td>750.044394</td>\n",
       "    </tr>\n",
       "    <tr>\n",
       "      <th>Lactate_max_df</th>\n",
       "      <td>4.725190e-157</td>\n",
       "      <td>734.761593</td>\n",
       "    </tr>\n",
       "    <tr>\n",
       "      <th>pH_med_df</th>\n",
       "      <td>1.314838e-123</td>\n",
       "      <td>573.846924</td>\n",
       "    </tr>\n",
       "    <tr>\n",
       "      <th>pH2_min</th>\n",
       "      <td>4.837125e-123</td>\n",
       "      <td>571.108496</td>\n",
       "    </tr>\n",
       "    <tr>\n",
       "      <th>pH_min</th>\n",
       "      <td>4.837125e-123</td>\n",
       "      <td>571.108496</td>\n",
       "    </tr>\n",
       "    <tr>\n",
       "      <th>BP_Sys_min</th>\n",
       "      <td>4.283236e-120</td>\n",
       "      <td>553.047101</td>\n",
       "    </tr>\n",
       "    <tr>\n",
       "      <th>pH_mean</th>\n",
       "      <td>8.355638e-115</td>\n",
       "      <td>531.311410</td>\n",
       "    </tr>\n",
       "    <tr>\n",
       "      <th>pH2_mean</th>\n",
       "      <td>8.369646e-115</td>\n",
       "      <td>531.307902</td>\n",
       "    </tr>\n",
       "    <tr>\n",
       "      <th>pH_mean_df</th>\n",
       "      <td>4.128617e-112</td>\n",
       "      <td>518.328193</td>\n",
       "    </tr>\n",
       "  </tbody>\n",
       "</table>\n",
       "</div>"
      ],
      "text/plain": [
       "                       pvalues       scores\n",
       "RR_med            0.000000e+00  1556.949181\n",
       "GCS_total         0.000000e+00  1989.752238\n",
       "RR_mean          3.952525e-322  1493.493979\n",
       "HR_std           1.019289e-259  1197.533528\n",
       "Lactate_min_df   7.826841e-259  1241.926427\n",
       "Lactate_mean_df  8.571089e-209   990.049562\n",
       "RR_max           2.286531e-205   943.607159\n",
       "Lactate_med_df   5.875042e-182   856.992888\n",
       "RR_std           5.808785e-164   750.044394\n",
       "Lactate_max_df   4.725190e-157   734.761593\n",
       "pH_med_df        1.314838e-123   573.846924\n",
       "pH2_min          4.837125e-123   571.108496\n",
       "pH_min           4.837125e-123   571.108496\n",
       "BP_Sys_min       4.283236e-120   553.047101\n",
       "pH_mean          8.355638e-115   531.311410\n",
       "pH2_mean         8.369646e-115   531.307902\n",
       "pH_mean_df       4.128617e-112   518.328193"
      ]
     },
     "execution_count": 95,
     "metadata": {},
     "output_type": "execute_result"
    }
   ],
   "source": [
    "cont_feature_scores[cont_feature_scores.scores > 500]"
   ]
  },
  {
   "cell_type": "code",
   "execution_count": 99,
   "metadata": {
    "collapsed": false
   },
   "outputs": [
    {
     "data": {
      "text/plain": [
       "Index([u'icustay_id', u'hospital_expire_flag', u'Cap_refill', u'GCS_Eye',\n",
       "       u'GCS_Motor', u'GCS_Verbal', u'charttimelab', u'flag', u'gender'],\n",
       "      dtype='object')"
      ]
     },
     "execution_count": 99,
     "metadata": {},
     "output_type": "execute_result"
    }
   ],
   "source": [
    "cat_data.columns"
   ]
  },
  {
   "cell_type": "code",
   "execution_count": 105,
   "metadata": {
    "collapsed": true
   },
   "outputs": [],
   "source": [
    "#dropping columns that weren't used in feature identification\n",
    "cols = list(cat_data.columns[2:])\n",
    "cols.pop(cols.index('Cap_refill'))\n",
    "cols.pop(cols.index('charttimelab'))\n",
    "cols.pop(cols.index('flag'))"
   ]
  },
  {
   "cell_type": "code",
   "execution_count": 109,
   "metadata": {
    "collapsed": false
   },
   "outputs": [
    {
     "data": {
      "text/plain": [
       "['GCS_Eye', 'GCS_Motor', 'GCS_Verbal', 'gender']"
      ]
     },
     "execution_count": 109,
     "metadata": {},
     "output_type": "execute_result"
    }
   ],
   "source": [
    "cols"
   ]
  },
  {
   "cell_type": "code",
   "execution_count": 115,
   "metadata": {
    "collapsed": false
   },
   "outputs": [
    {
     "data": {
      "text/html": [
       "<div>\n",
       "<table border=\"1\" class=\"dataframe\">\n",
       "  <thead>\n",
       "    <tr style=\"text-align: right;\">\n",
       "      <th></th>\n",
       "      <th>icustay_id</th>\n",
       "      <th>hospital_expire_flag</th>\n",
       "      <th>GCS_Eye_None</th>\n",
       "      <th>GCS_Eye_Spontaneously</th>\n",
       "      <th>GCS_Eye_To Pain</th>\n",
       "      <th>GCS_Eye_To Speech</th>\n",
       "      <th>GCS_Motor_Abnormal Flexion</th>\n",
       "      <th>GCS_Motor_Abnormal extension</th>\n",
       "      <th>GCS_Motor_Flex-withdraws</th>\n",
       "      <th>GCS_Motor_Localizes Pain</th>\n",
       "      <th>GCS_Motor_No response</th>\n",
       "      <th>GCS_Motor_Obeys Commands</th>\n",
       "      <th>GCS_Verbal_Confused</th>\n",
       "      <th>GCS_Verbal_Inappropriate Words</th>\n",
       "      <th>GCS_Verbal_Incomprehensible sounds</th>\n",
       "      <th>GCS_Verbal_No Response</th>\n",
       "      <th>GCS_Verbal_No Response-ETT</th>\n",
       "      <th>GCS_Verbal_Oriented</th>\n",
       "      <th>gender_F</th>\n",
       "      <th>gender_M</th>\n",
       "    </tr>\n",
       "  </thead>\n",
       "  <tbody>\n",
       "    <tr>\n",
       "      <th>0</th>\n",
       "      <td>200001</td>\n",
       "      <td>0</td>\n",
       "      <td>0.0</td>\n",
       "      <td>1.0</td>\n",
       "      <td>0.0</td>\n",
       "      <td>0.0</td>\n",
       "      <td>0.0</td>\n",
       "      <td>0.0</td>\n",
       "      <td>0.0</td>\n",
       "      <td>0.0</td>\n",
       "      <td>0.0</td>\n",
       "      <td>1.0</td>\n",
       "      <td>0.0</td>\n",
       "      <td>0.0</td>\n",
       "      <td>0.0</td>\n",
       "      <td>0.0</td>\n",
       "      <td>0.0</td>\n",
       "      <td>1.0</td>\n",
       "      <td>1.0</td>\n",
       "      <td>0.0</td>\n",
       "    </tr>\n",
       "    <tr>\n",
       "      <th>1</th>\n",
       "      <td>200003</td>\n",
       "      <td>0</td>\n",
       "      <td>0.0</td>\n",
       "      <td>0.0</td>\n",
       "      <td>0.0</td>\n",
       "      <td>0.0</td>\n",
       "      <td>0.0</td>\n",
       "      <td>0.0</td>\n",
       "      <td>0.0</td>\n",
       "      <td>0.0</td>\n",
       "      <td>0.0</td>\n",
       "      <td>0.0</td>\n",
       "      <td>0.0</td>\n",
       "      <td>0.0</td>\n",
       "      <td>0.0</td>\n",
       "      <td>0.0</td>\n",
       "      <td>0.0</td>\n",
       "      <td>0.0</td>\n",
       "      <td>0.0</td>\n",
       "      <td>1.0</td>\n",
       "    </tr>\n",
       "    <tr>\n",
       "      <th>2</th>\n",
       "      <td>200006</td>\n",
       "      <td>0</td>\n",
       "      <td>0.0</td>\n",
       "      <td>0.0</td>\n",
       "      <td>0.0</td>\n",
       "      <td>0.0</td>\n",
       "      <td>0.0</td>\n",
       "      <td>0.0</td>\n",
       "      <td>0.0</td>\n",
       "      <td>0.0</td>\n",
       "      <td>0.0</td>\n",
       "      <td>0.0</td>\n",
       "      <td>0.0</td>\n",
       "      <td>0.0</td>\n",
       "      <td>0.0</td>\n",
       "      <td>0.0</td>\n",
       "      <td>0.0</td>\n",
       "      <td>0.0</td>\n",
       "      <td>0.0</td>\n",
       "      <td>1.0</td>\n",
       "    </tr>\n",
       "    <tr>\n",
       "      <th>3</th>\n",
       "      <td>200007</td>\n",
       "      <td>0</td>\n",
       "      <td>0.0</td>\n",
       "      <td>0.0</td>\n",
       "      <td>0.0</td>\n",
       "      <td>0.0</td>\n",
       "      <td>0.0</td>\n",
       "      <td>0.0</td>\n",
       "      <td>0.0</td>\n",
       "      <td>0.0</td>\n",
       "      <td>0.0</td>\n",
       "      <td>0.0</td>\n",
       "      <td>0.0</td>\n",
       "      <td>0.0</td>\n",
       "      <td>0.0</td>\n",
       "      <td>0.0</td>\n",
       "      <td>0.0</td>\n",
       "      <td>0.0</td>\n",
       "      <td>0.0</td>\n",
       "      <td>1.0</td>\n",
       "    </tr>\n",
       "    <tr>\n",
       "      <th>4</th>\n",
       "      <td>200009</td>\n",
       "      <td>0</td>\n",
       "      <td>0.0</td>\n",
       "      <td>0.0</td>\n",
       "      <td>0.0</td>\n",
       "      <td>0.0</td>\n",
       "      <td>0.0</td>\n",
       "      <td>0.0</td>\n",
       "      <td>0.0</td>\n",
       "      <td>0.0</td>\n",
       "      <td>0.0</td>\n",
       "      <td>0.0</td>\n",
       "      <td>0.0</td>\n",
       "      <td>0.0</td>\n",
       "      <td>0.0</td>\n",
       "      <td>0.0</td>\n",
       "      <td>0.0</td>\n",
       "      <td>0.0</td>\n",
       "      <td>1.0</td>\n",
       "      <td>0.0</td>\n",
       "    </tr>\n",
       "  </tbody>\n",
       "</table>\n",
       "</div>"
      ],
      "text/plain": [
       "   icustay_id  hospital_expire_flag  GCS_Eye_None  GCS_Eye_Spontaneously  \\\n",
       "0      200001                     0           0.0                    1.0   \n",
       "1      200003                     0           0.0                    0.0   \n",
       "2      200006                     0           0.0                    0.0   \n",
       "3      200007                     0           0.0                    0.0   \n",
       "4      200009                     0           0.0                    0.0   \n",
       "\n",
       "   GCS_Eye_To Pain  GCS_Eye_To Speech  GCS_Motor_Abnormal Flexion  \\\n",
       "0              0.0                0.0                         0.0   \n",
       "1              0.0                0.0                         0.0   \n",
       "2              0.0                0.0                         0.0   \n",
       "3              0.0                0.0                         0.0   \n",
       "4              0.0                0.0                         0.0   \n",
       "\n",
       "   GCS_Motor_Abnormal extension  GCS_Motor_Flex-withdraws  \\\n",
       "0                           0.0                       0.0   \n",
       "1                           0.0                       0.0   \n",
       "2                           0.0                       0.0   \n",
       "3                           0.0                       0.0   \n",
       "4                           0.0                       0.0   \n",
       "\n",
       "   GCS_Motor_Localizes Pain  GCS_Motor_No response  GCS_Motor_Obeys Commands  \\\n",
       "0                       0.0                    0.0                       1.0   \n",
       "1                       0.0                    0.0                       0.0   \n",
       "2                       0.0                    0.0                       0.0   \n",
       "3                       0.0                    0.0                       0.0   \n",
       "4                       0.0                    0.0                       0.0   \n",
       "\n",
       "   GCS_Verbal_Confused  GCS_Verbal_Inappropriate Words  \\\n",
       "0                  0.0                             0.0   \n",
       "1                  0.0                             0.0   \n",
       "2                  0.0                             0.0   \n",
       "3                  0.0                             0.0   \n",
       "4                  0.0                             0.0   \n",
       "\n",
       "   GCS_Verbal_Incomprehensible sounds  GCS_Verbal_No Response  \\\n",
       "0                                 0.0                     0.0   \n",
       "1                                 0.0                     0.0   \n",
       "2                                 0.0                     0.0   \n",
       "3                                 0.0                     0.0   \n",
       "4                                 0.0                     0.0   \n",
       "\n",
       "   GCS_Verbal_No Response-ETT  GCS_Verbal_Oriented  gender_F  gender_M  \n",
       "0                         0.0                  1.0       1.0       0.0  \n",
       "1                         0.0                  0.0       0.0       1.0  \n",
       "2                         0.0                  0.0       0.0       1.0  \n",
       "3                         0.0                  0.0       0.0       1.0  \n",
       "4                         0.0                  0.0       1.0       0.0  "
      ]
     },
     "execution_count": 115,
     "metadata": {},
     "output_type": "execute_result"
    }
   ],
   "source": [
    "cat_dummy_data = pd.get_dummies(cat_data[cols], prefix= cols)\n",
    "cat_dummy_data['icustay_id'] = cat_data['icustay_id']\n",
    "cat_dummy_data['hospital_expire_flag'] = cat_data['hospital_expire_flag']\n",
    "\n",
    "cols = list(cat_dummy_data.columns)\n",
    "cols.sort()\n",
    "cols.insert(0, cols.pop(cols.index('icustay_id')))\n",
    "cols.insert(1, cols.pop(cols.index('hospital_expire_flag')))\n",
    "cat_dummy_data = cat_dummy_data[cols]\n",
    "cat_dummy_data.head()"
   ]
  },
  {
   "cell_type": "code",
   "execution_count": null,
   "metadata": {
    "collapsed": true
   },
   "outputs": [],
   "source": [
    "cat_select_features = list(cat_feature_scores[:10].index)\n",
    "cat_select_features.insert(0, 'icustay_id')\n",
    "#could leave this out to avoid duplicates when merging w/ cont data later\n",
    "cat_select_features.insert(1,'hospital_expire_flag') \n",
    "\n",
    "cat_select_data = cat_dummy_data[cat_select_features]\n",
    "display(cat_dummy_data.shape)\n",
    "display(cat_select_data.shape)\n",
    "cat_select_data.head()\n"
   ]
  },
  {
   "cell_type": "code",
   "execution_count": 122,
   "metadata": {
    "collapsed": false
   },
   "outputs": [
    {
     "data": {
      "text/html": [
       "<div>\n",
       "<table border=\"1\" class=\"dataframe\">\n",
       "  <thead>\n",
       "    <tr style=\"text-align: right;\">\n",
       "      <th></th>\n",
       "      <th>icustay_id</th>\n",
       "      <th>hospital_expire_flag</th>\n",
       "      <th>BP_Dia_max</th>\n",
       "      <th>BP_Dia_mean</th>\n",
       "      <th>BP_Dia_med</th>\n",
       "      <th>BP_Dia_min</th>\n",
       "      <th>BP_Dia_skew</th>\n",
       "      <th>BP_Dia_std</th>\n",
       "      <th>BP_Mean_max</th>\n",
       "      <th>BP_Mean_mean</th>\n",
       "      <th>...</th>\n",
       "      <th>pH_mean_df</th>\n",
       "      <th>pH_med</th>\n",
       "      <th>pH_med_df</th>\n",
       "      <th>pH_min</th>\n",
       "      <th>pH_min_df</th>\n",
       "      <th>pH_skew</th>\n",
       "      <th>pH_skew_df</th>\n",
       "      <th>pH_std</th>\n",
       "      <th>pH_std_df</th>\n",
       "      <th>stay_duration</th>\n",
       "    </tr>\n",
       "  </thead>\n",
       "  <tbody>\n",
       "    <tr>\n",
       "      <th>0</th>\n",
       "      <td>200001</td>\n",
       "      <td>0</td>\n",
       "      <td>NaN</td>\n",
       "      <td>NaN</td>\n",
       "      <td>NaN</td>\n",
       "      <td>NaN</td>\n",
       "      <td>NaN</td>\n",
       "      <td>NaN</td>\n",
       "      <td>NaN</td>\n",
       "      <td>NaN</td>\n",
       "      <td>...</td>\n",
       "      <td>6.908000</td>\n",
       "      <td>NaN</td>\n",
       "      <td>7.40</td>\n",
       "      <td>NaN</td>\n",
       "      <td>5.00</td>\n",
       "      <td>NaN</td>\n",
       "      <td>-2.231087</td>\n",
       "      <td>NaN</td>\n",
       "      <td>1.067085</td>\n",
       "      <td>1.0</td>\n",
       "    </tr>\n",
       "    <tr>\n",
       "      <th>1</th>\n",
       "      <td>200003</td>\n",
       "      <td>0</td>\n",
       "      <td>81.0</td>\n",
       "      <td>42.708333</td>\n",
       "      <td>60.5</td>\n",
       "      <td>0.0</td>\n",
       "      <td>-0.623249</td>\n",
       "      <td>31.452489</td>\n",
       "      <td>179.0</td>\n",
       "      <td>87.411765</td>\n",
       "      <td>...</td>\n",
       "      <td>6.998333</td>\n",
       "      <td>7.38</td>\n",
       "      <td>7.38</td>\n",
       "      <td>7.36</td>\n",
       "      <td>5.00</td>\n",
       "      <td>1.220037</td>\n",
       "      <td>-2.442453</td>\n",
       "      <td>0.038987</td>\n",
       "      <td>0.979600</td>\n",
       "      <td>21.0</td>\n",
       "    </tr>\n",
       "    <tr>\n",
       "      <th>2</th>\n",
       "      <td>200006</td>\n",
       "      <td>0</td>\n",
       "      <td>NaN</td>\n",
       "      <td>NaN</td>\n",
       "      <td>NaN</td>\n",
       "      <td>NaN</td>\n",
       "      <td>NaN</td>\n",
       "      <td>NaN</td>\n",
       "      <td>NaN</td>\n",
       "      <td>NaN</td>\n",
       "      <td>...</td>\n",
       "      <td>6.000000</td>\n",
       "      <td>NaN</td>\n",
       "      <td>6.00</td>\n",
       "      <td>NaN</td>\n",
       "      <td>6.00</td>\n",
       "      <td>NaN</td>\n",
       "      <td>NaN</td>\n",
       "      <td>NaN</td>\n",
       "      <td>NaN</td>\n",
       "      <td>7.0</td>\n",
       "    </tr>\n",
       "    <tr>\n",
       "      <th>3</th>\n",
       "      <td>200007</td>\n",
       "      <td>0</td>\n",
       "      <td>NaN</td>\n",
       "      <td>NaN</td>\n",
       "      <td>NaN</td>\n",
       "      <td>NaN</td>\n",
       "      <td>NaN</td>\n",
       "      <td>NaN</td>\n",
       "      <td>NaN</td>\n",
       "      <td>NaN</td>\n",
       "      <td>...</td>\n",
       "      <td>NaN</td>\n",
       "      <td>NaN</td>\n",
       "      <td>NaN</td>\n",
       "      <td>NaN</td>\n",
       "      <td>NaN</td>\n",
       "      <td>NaN</td>\n",
       "      <td>NaN</td>\n",
       "      <td>NaN</td>\n",
       "      <td>NaN</td>\n",
       "      <td>6.0</td>\n",
       "    </tr>\n",
       "    <tr>\n",
       "      <th>4</th>\n",
       "      <td>200009</td>\n",
       "      <td>0</td>\n",
       "      <td>84.0</td>\n",
       "      <td>62.645161</td>\n",
       "      <td>57.0</td>\n",
       "      <td>49.0</td>\n",
       "      <td>0.868910</td>\n",
       "      <td>10.931753</td>\n",
       "      <td>101.0</td>\n",
       "      <td>74.741935</td>\n",
       "      <td>...</td>\n",
       "      <td>7.393000</td>\n",
       "      <td>7.39</td>\n",
       "      <td>7.39</td>\n",
       "      <td>7.29</td>\n",
       "      <td>7.29</td>\n",
       "      <td>0.360059</td>\n",
       "      <td>0.231694</td>\n",
       "      <td>0.071063</td>\n",
       "      <td>0.078606</td>\n",
       "      <td>3.0</td>\n",
       "    </tr>\n",
       "  </tbody>\n",
       "</table>\n",
       "<p>5 rows × 82 columns</p>\n",
       "</div>"
      ],
      "text/plain": [
       "   icustay_id  hospital_expire_flag  BP_Dia_max  BP_Dia_mean  BP_Dia_med  \\\n",
       "0      200001                     0         NaN          NaN         NaN   \n",
       "1      200003                     0        81.0    42.708333        60.5   \n",
       "2      200006                     0         NaN          NaN         NaN   \n",
       "3      200007                     0         NaN          NaN         NaN   \n",
       "4      200009                     0        84.0    62.645161        57.0   \n",
       "\n",
       "   BP_Dia_min  BP_Dia_skew  BP_Dia_std  BP_Mean_max  BP_Mean_mean  \\\n",
       "0         NaN          NaN         NaN          NaN           NaN   \n",
       "1         0.0    -0.623249   31.452489        179.0     87.411765   \n",
       "2         NaN          NaN         NaN          NaN           NaN   \n",
       "3         NaN          NaN         NaN          NaN           NaN   \n",
       "4        49.0     0.868910   10.931753        101.0     74.741935   \n",
       "\n",
       "       ...        pH_mean_df  pH_med  pH_med_df  pH_min  pH_min_df   pH_skew  \\\n",
       "0      ...          6.908000     NaN       7.40     NaN       5.00       NaN   \n",
       "1      ...          6.998333    7.38       7.38    7.36       5.00  1.220037   \n",
       "2      ...          6.000000     NaN       6.00     NaN       6.00       NaN   \n",
       "3      ...               NaN     NaN        NaN     NaN        NaN       NaN   \n",
       "4      ...          7.393000    7.39       7.39    7.29       7.29  0.360059   \n",
       "\n",
       "   pH_skew_df    pH_std  pH_std_df  stay_duration  \n",
       "0   -2.231087       NaN   1.067085            1.0  \n",
       "1   -2.442453  0.038987   0.979600           21.0  \n",
       "2         NaN       NaN        NaN            7.0  \n",
       "3         NaN       NaN        NaN            6.0  \n",
       "4    0.231694  0.071063   0.078606            3.0  \n",
       "\n",
       "[5 rows x 82 columns]"
      ]
     },
     "execution_count": 122,
     "metadata": {},
     "output_type": "execute_result"
    }
   ],
   "source": [
    "cont_data.head()"
   ]
  },
  {
   "cell_type": "code",
   "execution_count": 123,
   "metadata": {
    "collapsed": false
   },
   "outputs": [
    {
     "data": {
      "text/plain": [
       "(60131, 82)"
      ]
     },
     "metadata": {},
     "output_type": "display_data"
    },
    {
     "data": {
      "text/plain": [
       "(60131, 19)"
      ]
     },
     "metadata": {},
     "output_type": "display_data"
    },
    {
     "data": {
      "text/html": [
       "<div>\n",
       "<table border=\"1\" class=\"dataframe\">\n",
       "  <thead>\n",
       "    <tr style=\"text-align: right;\">\n",
       "      <th></th>\n",
       "      <th>icustay_id</th>\n",
       "      <th>hospital_expire_flag</th>\n",
       "      <th>RR_med</th>\n",
       "      <th>GCS_total</th>\n",
       "      <th>RR_mean</th>\n",
       "      <th>HR_std</th>\n",
       "      <th>Lactate_min_df</th>\n",
       "      <th>Lactate_mean_df</th>\n",
       "      <th>RR_max</th>\n",
       "      <th>Lactate_med_df</th>\n",
       "      <th>RR_std</th>\n",
       "      <th>Lactate_max_df</th>\n",
       "      <th>pH_med_df</th>\n",
       "      <th>pH2_min</th>\n",
       "      <th>pH_min</th>\n",
       "      <th>BP_Sys_min</th>\n",
       "      <th>pH_mean</th>\n",
       "      <th>pH2_mean</th>\n",
       "      <th>pH_mean_df</th>\n",
       "    </tr>\n",
       "  </thead>\n",
       "  <tbody>\n",
       "    <tr>\n",
       "      <th>0</th>\n",
       "      <td>200001</td>\n",
       "      <td>0</td>\n",
       "      <td>20.0</td>\n",
       "      <td>NaN</td>\n",
       "      <td>21.230769</td>\n",
       "      <td>10.942648</td>\n",
       "      <td>1.4</td>\n",
       "      <td>1.400000</td>\n",
       "      <td>32.0</td>\n",
       "      <td>1.4</td>\n",
       "      <td>4.777511</td>\n",
       "      <td>1.4</td>\n",
       "      <td>7.40</td>\n",
       "      <td>NaN</td>\n",
       "      <td>NaN</td>\n",
       "      <td>NaN</td>\n",
       "      <td>NaN</td>\n",
       "      <td>NaN</td>\n",
       "      <td>6.908000</td>\n",
       "    </tr>\n",
       "    <tr>\n",
       "      <th>1</th>\n",
       "      <td>200003</td>\n",
       "      <td>0</td>\n",
       "      <td>33.0</td>\n",
       "      <td>15.0</td>\n",
       "      <td>29.288889</td>\n",
       "      <td>16.161433</td>\n",
       "      <td>2.6</td>\n",
       "      <td>3.933333</td>\n",
       "      <td>39.0</td>\n",
       "      <td>4.1</td>\n",
       "      <td>7.451730</td>\n",
       "      <td>5.1</td>\n",
       "      <td>7.38</td>\n",
       "      <td>7.36</td>\n",
       "      <td>7.36</td>\n",
       "      <td>0.0</td>\n",
       "      <td>7.398</td>\n",
       "      <td>7.398</td>\n",
       "      <td>6.998333</td>\n",
       "    </tr>\n",
       "    <tr>\n",
       "      <th>2</th>\n",
       "      <td>200006</td>\n",
       "      <td>0</td>\n",
       "      <td>20.0</td>\n",
       "      <td>15.0</td>\n",
       "      <td>19.047619</td>\n",
       "      <td>5.036017</td>\n",
       "      <td>3.1</td>\n",
       "      <td>3.100000</td>\n",
       "      <td>26.0</td>\n",
       "      <td>3.1</td>\n",
       "      <td>2.854403</td>\n",
       "      <td>3.1</td>\n",
       "      <td>6.00</td>\n",
       "      <td>NaN</td>\n",
       "      <td>NaN</td>\n",
       "      <td>NaN</td>\n",
       "      <td>NaN</td>\n",
       "      <td>NaN</td>\n",
       "      <td>6.000000</td>\n",
       "    </tr>\n",
       "    <tr>\n",
       "      <th>3</th>\n",
       "      <td>200007</td>\n",
       "      <td>0</td>\n",
       "      <td>22.0</td>\n",
       "      <td>15.0</td>\n",
       "      <td>21.520000</td>\n",
       "      <td>6.016286</td>\n",
       "      <td>NaN</td>\n",
       "      <td>NaN</td>\n",
       "      <td>29.0</td>\n",
       "      <td>NaN</td>\n",
       "      <td>3.618471</td>\n",
       "      <td>NaN</td>\n",
       "      <td>NaN</td>\n",
       "      <td>NaN</td>\n",
       "      <td>NaN</td>\n",
       "      <td>NaN</td>\n",
       "      <td>NaN</td>\n",
       "      <td>NaN</td>\n",
       "      <td>NaN</td>\n",
       "    </tr>\n",
       "    <tr>\n",
       "      <th>4</th>\n",
       "      <td>200009</td>\n",
       "      <td>0</td>\n",
       "      <td>16.0</td>\n",
       "      <td>10.0</td>\n",
       "      <td>16.161290</td>\n",
       "      <td>5.542019</td>\n",
       "      <td>0.7</td>\n",
       "      <td>2.000000</td>\n",
       "      <td>22.0</td>\n",
       "      <td>2.6</td>\n",
       "      <td>2.310797</td>\n",
       "      <td>2.7</td>\n",
       "      <td>7.39</td>\n",
       "      <td>7.29</td>\n",
       "      <td>7.29</td>\n",
       "      <td>86.0</td>\n",
       "      <td>7.380</td>\n",
       "      <td>7.380</td>\n",
       "      <td>7.393000</td>\n",
       "    </tr>\n",
       "  </tbody>\n",
       "</table>\n",
       "</div>"
      ],
      "text/plain": [
       "   icustay_id  hospital_expire_flag  RR_med  GCS_total    RR_mean     HR_std  \\\n",
       "0      200001                     0    20.0        NaN  21.230769  10.942648   \n",
       "1      200003                     0    33.0       15.0  29.288889  16.161433   \n",
       "2      200006                     0    20.0       15.0  19.047619   5.036017   \n",
       "3      200007                     0    22.0       15.0  21.520000   6.016286   \n",
       "4      200009                     0    16.0       10.0  16.161290   5.542019   \n",
       "\n",
       "   Lactate_min_df  Lactate_mean_df  RR_max  Lactate_med_df    RR_std  \\\n",
       "0             1.4         1.400000    32.0             1.4  4.777511   \n",
       "1             2.6         3.933333    39.0             4.1  7.451730   \n",
       "2             3.1         3.100000    26.0             3.1  2.854403   \n",
       "3             NaN              NaN    29.0             NaN  3.618471   \n",
       "4             0.7         2.000000    22.0             2.6  2.310797   \n",
       "\n",
       "   Lactate_max_df  pH_med_df  pH2_min  pH_min  BP_Sys_min  pH_mean  pH2_mean  \\\n",
       "0             1.4       7.40      NaN     NaN         NaN      NaN       NaN   \n",
       "1             5.1       7.38     7.36    7.36         0.0    7.398     7.398   \n",
       "2             3.1       6.00      NaN     NaN         NaN      NaN       NaN   \n",
       "3             NaN        NaN      NaN     NaN         NaN      NaN       NaN   \n",
       "4             2.7       7.39     7.29    7.29        86.0    7.380     7.380   \n",
       "\n",
       "   pH_mean_df  \n",
       "0    6.908000  \n",
       "1    6.998333  \n",
       "2    6.000000  \n",
       "3         NaN  \n",
       "4    7.393000  "
      ]
     },
     "execution_count": 123,
     "metadata": {},
     "output_type": "execute_result"
    }
   ],
   "source": [
    "cont_select_features = list(cont_feature_scores[cont_feature_scores.scores > 500].index)\n",
    "cont_select_features.insert(0, 'icustay_id')\n",
    "cont_select_features.insert(1,'hospital_expire_flag')\n",
    "cont_select_data = cont_data[cont_select_features]\n",
    "display(cont_data.shape)\n",
    "display(cont_select_data.shape)\n",
    "cont_select_data.head()"
   ]
  },
  {
   "cell_type": "code",
   "execution_count": 124,
   "metadata": {
    "collapsed": false
   },
   "outputs": [
    {
     "data": {
      "text/html": [
       "<div>\n",
       "<table border=\"1\" class=\"dataframe\">\n",
       "  <thead>\n",
       "    <tr style=\"text-align: right;\">\n",
       "      <th></th>\n",
       "      <th>pvalues</th>\n",
       "      <th>scores</th>\n",
       "    </tr>\n",
       "  </thead>\n",
       "  <tbody>\n",
       "    <tr>\n",
       "      <th>RR_med</th>\n",
       "      <td>0.000000e+00</td>\n",
       "      <td>1556.949181</td>\n",
       "    </tr>\n",
       "    <tr>\n",
       "      <th>GCS_total</th>\n",
       "      <td>0.000000e+00</td>\n",
       "      <td>1989.752238</td>\n",
       "    </tr>\n",
       "    <tr>\n",
       "      <th>RR_mean</th>\n",
       "      <td>3.952525e-322</td>\n",
       "      <td>1493.493979</td>\n",
       "    </tr>\n",
       "    <tr>\n",
       "      <th>HR_std</th>\n",
       "      <td>1.019289e-259</td>\n",
       "      <td>1197.533528</td>\n",
       "    </tr>\n",
       "    <tr>\n",
       "      <th>Lactate_min_df</th>\n",
       "      <td>7.826841e-259</td>\n",
       "      <td>1241.926427</td>\n",
       "    </tr>\n",
       "    <tr>\n",
       "      <th>Lactate_mean_df</th>\n",
       "      <td>8.571089e-209</td>\n",
       "      <td>990.049562</td>\n",
       "    </tr>\n",
       "    <tr>\n",
       "      <th>RR_max</th>\n",
       "      <td>2.286531e-205</td>\n",
       "      <td>943.607159</td>\n",
       "    </tr>\n",
       "    <tr>\n",
       "      <th>Lactate_med_df</th>\n",
       "      <td>5.875042e-182</td>\n",
       "      <td>856.992888</td>\n",
       "    </tr>\n",
       "    <tr>\n",
       "      <th>RR_std</th>\n",
       "      <td>5.808785e-164</td>\n",
       "      <td>750.044394</td>\n",
       "    </tr>\n",
       "    <tr>\n",
       "      <th>Lactate_max_df</th>\n",
       "      <td>4.725190e-157</td>\n",
       "      <td>734.761593</td>\n",
       "    </tr>\n",
       "    <tr>\n",
       "      <th>pH_med_df</th>\n",
       "      <td>1.314838e-123</td>\n",
       "      <td>573.846924</td>\n",
       "    </tr>\n",
       "    <tr>\n",
       "      <th>pH2_min</th>\n",
       "      <td>4.837125e-123</td>\n",
       "      <td>571.108496</td>\n",
       "    </tr>\n",
       "    <tr>\n",
       "      <th>pH_min</th>\n",
       "      <td>4.837125e-123</td>\n",
       "      <td>571.108496</td>\n",
       "    </tr>\n",
       "    <tr>\n",
       "      <th>BP_Sys_min</th>\n",
       "      <td>4.283236e-120</td>\n",
       "      <td>553.047101</td>\n",
       "    </tr>\n",
       "    <tr>\n",
       "      <th>pH_mean</th>\n",
       "      <td>8.355638e-115</td>\n",
       "      <td>531.311410</td>\n",
       "    </tr>\n",
       "    <tr>\n",
       "      <th>pH2_mean</th>\n",
       "      <td>8.369646e-115</td>\n",
       "      <td>531.307902</td>\n",
       "    </tr>\n",
       "    <tr>\n",
       "      <th>pH_mean_df</th>\n",
       "      <td>4.128617e-112</td>\n",
       "      <td>518.328193</td>\n",
       "    </tr>\n",
       "  </tbody>\n",
       "</table>\n",
       "</div>"
      ],
      "text/plain": [
       "                       pvalues       scores\n",
       "RR_med            0.000000e+00  1556.949181\n",
       "GCS_total         0.000000e+00  1989.752238\n",
       "RR_mean          3.952525e-322  1493.493979\n",
       "HR_std           1.019289e-259  1197.533528\n",
       "Lactate_min_df   7.826841e-259  1241.926427\n",
       "Lactate_mean_df  8.571089e-209   990.049562\n",
       "RR_max           2.286531e-205   943.607159\n",
       "Lactate_med_df   5.875042e-182   856.992888\n",
       "RR_std           5.808785e-164   750.044394\n",
       "Lactate_max_df   4.725190e-157   734.761593\n",
       "pH_med_df        1.314838e-123   573.846924\n",
       "pH2_min          4.837125e-123   571.108496\n",
       "pH_min           4.837125e-123   571.108496\n",
       "BP_Sys_min       4.283236e-120   553.047101\n",
       "pH_mean          8.355638e-115   531.311410\n",
       "pH2_mean         8.369646e-115   531.307902\n",
       "pH_mean_df       4.128617e-112   518.328193"
      ]
     },
     "execution_count": 124,
     "metadata": {},
     "output_type": "execute_result"
    }
   ],
   "source": [
    "cont_feature_scores[cont_feature_scores.scores > 500]"
   ]
  },
  {
   "cell_type": "code",
   "execution_count": 134,
   "metadata": {
    "collapsed": true
   },
   "outputs": [],
   "source": [
    "cont_select_data2 = cont_select_data.set_index(['icustay_id'], inplace = False)\n",
    "cat_select_data2  = cat_select_data.set_index(['icustay_id'], inplace = False)\n",
    "cat_select_data2.drop(['hospital_expire_flag'], axis = 1, inplace = True)\n",
    "\n",
    "# scaling the continuous data\n",
    "cont_select_data_scaled = cont_select_data2.dropna().copy()\n",
    "for feature_name in cont_select_data_scaled.columns[1:]:\n",
    "#    max_value = data2[feature_name].max()\n",
    "#    min_value = data2[feature_name].min()\n",
    "#    data2_norm[feature_name] = (data2[feature_name] - min_value) / (max_value - min_value)\n",
    "     cont_select_data_scaled[feature_name] = preprocessing.scale(cont_select_data_scaled[feature_name], \n",
    "                                                                 with_mean = True, with_std = True)\n",
    "    "
   ]
  },
  {
   "cell_type": "code",
   "execution_count": 194,
   "metadata": {
    "collapsed": false
   },
   "outputs": [
    {
     "data": {
      "text/plain": [
       "(8815, 28)"
      ]
     },
     "execution_count": 194,
     "metadata": {},
     "output_type": "execute_result"
    }
   ],
   "source": [
    "all_select_data = cont_select_data_scaled.merge(cat_select_data2, left_index = True, right_index = True, \n",
    "                                         how='left', sort = True, suffixes = ('cont', 'cat'))\n",
    "all_select_data.dropna(inplace = True)\n",
    "all_select_data.shape"
   ]
  },
  {
   "cell_type": "code",
   "execution_count": 195,
   "metadata": {
    "collapsed": false
   },
   "outputs": [
    {
     "data": {
      "text/plain": [
       "0.24593639575971732"
      ]
     },
     "execution_count": 195,
     "metadata": {},
     "output_type": "execute_result"
    }
   ],
   "source": [
    "monkey = all_select_data.groupby('hospital_expire_flag')['RR_med'].count()\n",
    "\n",
    "float(monkey[1])/monkey[0]"
   ]
  },
  {
   "cell_type": "code",
   "execution_count": 197,
   "metadata": {
    "collapsed": false
   },
   "outputs": [
    {
     "data": {
      "text/html": [
       "<div>\n",
       "<table border=\"1\" class=\"dataframe\">\n",
       "  <thead>\n",
       "    <tr style=\"text-align: right;\">\n",
       "      <th></th>\n",
       "      <th>hospital_expire_flag</th>\n",
       "      <th>RR_med</th>\n",
       "      <th>GCS_total</th>\n",
       "      <th>RR_mean</th>\n",
       "      <th>HR_std</th>\n",
       "      <th>Lactate_min_df</th>\n",
       "      <th>Lactate_mean_df</th>\n",
       "      <th>RR_max</th>\n",
       "      <th>Lactate_med_df</th>\n",
       "      <th>RR_std</th>\n",
       "      <th>...</th>\n",
       "      <th>GCS_Eye_None</th>\n",
       "      <th>GCS_Motor_No response</th>\n",
       "      <th>GCS_Verbal_No Response-ETT</th>\n",
       "      <th>GCS_Verbal_Oriented</th>\n",
       "      <th>GCS_Motor_Flex-withdraws</th>\n",
       "      <th>GCS_Motor_Abnormal Flexion</th>\n",
       "      <th>GCS_Motor_Obeys Commands</th>\n",
       "      <th>GCS_Eye_Spontaneously</th>\n",
       "      <th>GCS_Motor_Abnormal extension</th>\n",
       "      <th>GCS_Verbal_No Response</th>\n",
       "    </tr>\n",
       "    <tr>\n",
       "      <th>icustay_id</th>\n",
       "      <th></th>\n",
       "      <th></th>\n",
       "      <th></th>\n",
       "      <th></th>\n",
       "      <th></th>\n",
       "      <th></th>\n",
       "      <th></th>\n",
       "      <th></th>\n",
       "      <th></th>\n",
       "      <th></th>\n",
       "      <th></th>\n",
       "      <th></th>\n",
       "      <th></th>\n",
       "      <th></th>\n",
       "      <th></th>\n",
       "      <th></th>\n",
       "      <th></th>\n",
       "      <th></th>\n",
       "      <th></th>\n",
       "      <th></th>\n",
       "      <th></th>\n",
       "    </tr>\n",
       "  </thead>\n",
       "  <tbody>\n",
       "    <tr>\n",
       "      <th>200003</th>\n",
       "      <td>0</td>\n",
       "      <td>3.115674</td>\n",
       "      <td>1.209949</td>\n",
       "      <td>2.439469</td>\n",
       "      <td>1.192223</td>\n",
       "      <td>0.453056</td>\n",
       "      <td>0.600321</td>\n",
       "      <td>1.235944</td>\n",
       "      <td>0.690936</td>\n",
       "      <td>1.564598</td>\n",
       "      <td>...</td>\n",
       "      <td>0.0</td>\n",
       "      <td>0.0</td>\n",
       "      <td>0.0</td>\n",
       "      <td>0.0</td>\n",
       "      <td>0.0</td>\n",
       "      <td>0.0</td>\n",
       "      <td>0.0</td>\n",
       "      <td>0.0</td>\n",
       "      <td>0.0</td>\n",
       "      <td>0.0</td>\n",
       "    </tr>\n",
       "    <tr>\n",
       "      <th>200009</th>\n",
       "      <td>0</td>\n",
       "      <td>-0.525008</td>\n",
       "      <td>0.040977</td>\n",
       "      <td>-0.594885</td>\n",
       "      <td>-0.785291</td>\n",
       "      <td>-0.767920</td>\n",
       "      <td>-0.313229</td>\n",
       "      <td>-0.755031</td>\n",
       "      <td>-0.004077</td>\n",
       "      <td>-0.908298</td>\n",
       "      <td>...</td>\n",
       "      <td>0.0</td>\n",
       "      <td>0.0</td>\n",
       "      <td>0.0</td>\n",
       "      <td>0.0</td>\n",
       "      <td>0.0</td>\n",
       "      <td>0.0</td>\n",
       "      <td>0.0</td>\n",
       "      <td>0.0</td>\n",
       "      <td>0.0</td>\n",
       "      <td>0.0</td>\n",
       "    </tr>\n",
       "    <tr>\n",
       "      <th>200014</th>\n",
       "      <td>0</td>\n",
       "      <td>-1.488719</td>\n",
       "      <td>-0.660406</td>\n",
       "      <td>-0.892202</td>\n",
       "      <td>0.077428</td>\n",
       "      <td>-0.639396</td>\n",
       "      <td>-0.833008</td>\n",
       "      <td>0.533247</td>\n",
       "      <td>-0.791759</td>\n",
       "      <td>1.497464</td>\n",
       "      <td>...</td>\n",
       "      <td>0.0</td>\n",
       "      <td>0.0</td>\n",
       "      <td>0.0</td>\n",
       "      <td>0.0</td>\n",
       "      <td>0.0</td>\n",
       "      <td>0.0</td>\n",
       "      <td>0.0</td>\n",
       "      <td>0.0</td>\n",
       "      <td>0.0</td>\n",
       "      <td>0.0</td>\n",
       "    </tr>\n",
       "    <tr>\n",
       "      <th>200029</th>\n",
       "      <td>1</td>\n",
       "      <td>1.188254</td>\n",
       "      <td>-1.595584</td>\n",
       "      <td>0.600597</td>\n",
       "      <td>-0.694846</td>\n",
       "      <td>6.686462</td>\n",
       "      <td>4.553789</td>\n",
       "      <td>-0.286566</td>\n",
       "      <td>4.490341</td>\n",
       "      <td>1.072692</td>\n",
       "      <td>...</td>\n",
       "      <td>0.0</td>\n",
       "      <td>0.0</td>\n",
       "      <td>0.0</td>\n",
       "      <td>0.0</td>\n",
       "      <td>0.0</td>\n",
       "      <td>0.0</td>\n",
       "      <td>0.0</td>\n",
       "      <td>0.0</td>\n",
       "      <td>0.0</td>\n",
       "      <td>0.0</td>\n",
       "    </tr>\n",
       "    <tr>\n",
       "      <th>200030</th>\n",
       "      <td>0</td>\n",
       "      <td>0.331623</td>\n",
       "      <td>1.209949</td>\n",
       "      <td>0.350192</td>\n",
       "      <td>0.040041</td>\n",
       "      <td>-0.318087</td>\n",
       "      <td>0.410099</td>\n",
       "      <td>-0.052334</td>\n",
       "      <td>0.088591</td>\n",
       "      <td>-0.154852</td>\n",
       "      <td>...</td>\n",
       "      <td>0.0</td>\n",
       "      <td>0.0</td>\n",
       "      <td>0.0</td>\n",
       "      <td>0.0</td>\n",
       "      <td>0.0</td>\n",
       "      <td>0.0</td>\n",
       "      <td>0.0</td>\n",
       "      <td>0.0</td>\n",
       "      <td>0.0</td>\n",
       "      <td>0.0</td>\n",
       "    </tr>\n",
       "  </tbody>\n",
       "</table>\n",
       "<p>5 rows × 28 columns</p>\n",
       "</div>"
      ],
      "text/plain": [
       "            hospital_expire_flag    RR_med  GCS_total   RR_mean    HR_std  \\\n",
       "icustay_id                                                                  \n",
       "200003                         0  3.115674   1.209949  2.439469  1.192223   \n",
       "200009                         0 -0.525008   0.040977 -0.594885 -0.785291   \n",
       "200014                         0 -1.488719  -0.660406 -0.892202  0.077428   \n",
       "200029                         1  1.188254  -1.595584  0.600597 -0.694846   \n",
       "200030                         0  0.331623   1.209949  0.350192  0.040041   \n",
       "\n",
       "            Lactate_min_df  Lactate_mean_df    RR_max  Lactate_med_df  \\\n",
       "icustay_id                                                              \n",
       "200003            0.453056         0.600321  1.235944        0.690936   \n",
       "200009           -0.767920        -0.313229 -0.755031       -0.004077   \n",
       "200014           -0.639396        -0.833008  0.533247       -0.791759   \n",
       "200029            6.686462         4.553789 -0.286566        4.490341   \n",
       "200030           -0.318087         0.410099 -0.052334        0.088591   \n",
       "\n",
       "              RR_std           ...            GCS_Eye_None  \\\n",
       "icustay_id                     ...                           \n",
       "200003      1.564598           ...                     0.0   \n",
       "200009     -0.908298           ...                     0.0   \n",
       "200014      1.497464           ...                     0.0   \n",
       "200029      1.072692           ...                     0.0   \n",
       "200030     -0.154852           ...                     0.0   \n",
       "\n",
       "            GCS_Motor_No response  GCS_Verbal_No Response-ETT  \\\n",
       "icustay_id                                                      \n",
       "200003                        0.0                         0.0   \n",
       "200009                        0.0                         0.0   \n",
       "200014                        0.0                         0.0   \n",
       "200029                        0.0                         0.0   \n",
       "200030                        0.0                         0.0   \n",
       "\n",
       "            GCS_Verbal_Oriented  GCS_Motor_Flex-withdraws  \\\n",
       "icustay_id                                                  \n",
       "200003                      0.0                       0.0   \n",
       "200009                      0.0                       0.0   \n",
       "200014                      0.0                       0.0   \n",
       "200029                      0.0                       0.0   \n",
       "200030                      0.0                       0.0   \n",
       "\n",
       "            GCS_Motor_Abnormal Flexion  GCS_Motor_Obeys Commands  \\\n",
       "icustay_id                                                         \n",
       "200003                             0.0                       0.0   \n",
       "200009                             0.0                       0.0   \n",
       "200014                             0.0                       0.0   \n",
       "200029                             0.0                       0.0   \n",
       "200030                             0.0                       0.0   \n",
       "\n",
       "            GCS_Eye_Spontaneously  GCS_Motor_Abnormal extension  \\\n",
       "icustay_id                                                        \n",
       "200003                        0.0                           0.0   \n",
       "200009                        0.0                           0.0   \n",
       "200014                        0.0                           0.0   \n",
       "200029                        0.0                           0.0   \n",
       "200030                        0.0                           0.0   \n",
       "\n",
       "            GCS_Verbal_No Response  \n",
       "icustay_id                          \n",
       "200003                         0.0  \n",
       "200009                         0.0  \n",
       "200014                         0.0  \n",
       "200029                         0.0  \n",
       "200030                         0.0  \n",
       "\n",
       "[5 rows x 28 columns]"
      ]
     },
     "execution_count": 197,
     "metadata": {},
     "output_type": "execute_result"
    }
   ],
   "source": [
    "all_select_data.head()"
   ]
  },
  {
   "cell_type": "markdown",
   "metadata": {},
   "source": [
    "## SVM CLASSIFICATION USING ALL SELECT DATA"
   ]
  },
  {
   "cell_type": "code",
   "execution_count": 213,
   "metadata": {
    "collapsed": false
   },
   "outputs": [
    {
     "data": {
      "text/plain": [
       "array([ 0.82870108,  0.83494044,  0.83153715,  0.82529779,  0.82473057])"
      ]
     },
     "metadata": {},
     "output_type": "display_data"
    }
   ],
   "source": [
    "X_train, X_test, y_train, y_test = train_test_split(all_select_data[all_select_data.columns[1:]], \n",
    "                                                    all_select_data['hospital_expire_flag'], \n",
    "                                                    test_size = 0.20, random_state = 42)\n",
    "\n",
    "clf_SVC = svm.SVC(C=0.5, cache_size=200, class_weight=None, coef0=0.0,\n",
    "    decision_function_shape=None, degree=4, gamma='auto', kernel='rbf', \n",
    "    max_iter=-1, probability=False, random_state=None, shrinking=True,\n",
    "    tol=0.001, verbose=False).fit(X_train, y_train)\n",
    "\n",
    "scores = cross_val_score(clf_SVC, all_select_data[all_select_data.columns[1:]], \n",
    "                         all_select_data['hospital_expire_flag'], cv=5)\n",
    "display(scores)  \n",
    "\n",
    "y_predsSVM = clf_SVC.predict(X_test)\n",
    "metrics.confusion_matrix(y_test, y_predsSVM)\n",
    "\n"
   ]
  },
  {
   "cell_type": "markdown",
   "metadata": {},
   "source": [
    "## PCA AND CLASSIFICATION ON ALL SELECT DATA"
   ]
  },
  {
   "cell_type": "code",
   "execution_count": 198,
   "metadata": {
    "collapsed": false,
    "scrolled": true
   },
   "outputs": [
    {
     "data": {
      "image/png": "[encoded data removed]",
      "text/plain": [
       "<matplotlib.figure.Figure at 0x131683990>"
      ]
     },
     "metadata": {},
     "output_type": "display_data"
    }
   ],
   "source": [
    "#pca = PCA(n_components = 4).fit(data2)\n",
    "pca = PCA(n_components = 8).fit(all_select_data[all_select_data.columns[1:]])\n",
    "\n",
    "# Generate PCA results plot\n",
    "pca_results = vs.pca_results(all_select_data[all_select_data.columns[1:]], pca)"
   ]
  },
  {
   "cell_type": "code",
   "execution_count": 216,
   "metadata": {
    "collapsed": false
   },
   "outputs": [
    {
     "data": {
      "text/html": [
       "<div>\n",
       "<table border=\"1\" class=\"dataframe\">\n",
       "  <thead>\n",
       "    <tr style=\"text-align: right;\">\n",
       "      <th></th>\n",
       "      <th>Dimension 1</th>\n",
       "      <th>Dimension 2</th>\n",
       "      <th>Dimension 3</th>\n",
       "      <th>Dimension 4</th>\n",
       "      <th>Dimension 5</th>\n",
       "      <th>Dimension 6</th>\n",
       "      <th>Dimension 7</th>\n",
       "      <th>Dimension 8</th>\n",
       "    </tr>\n",
       "  </thead>\n",
       "  <tbody>\n",
       "    <tr>\n",
       "      <th>0</th>\n",
       "      <td>2.650335</td>\n",
       "      <td>-3.778754</td>\n",
       "      <td>0.675214</td>\n",
       "      <td>-0.966727</td>\n",
       "      <td>-0.895917</td>\n",
       "      <td>-0.868641</td>\n",
       "      <td>-0.829470</td>\n",
       "      <td>-2.252595</td>\n",
       "    </tr>\n",
       "    <tr>\n",
       "      <th>1</th>\n",
       "      <td>-1.217284</td>\n",
       "      <td>1.131937</td>\n",
       "      <td>-0.195076</td>\n",
       "      <td>0.152566</td>\n",
       "      <td>0.467820</td>\n",
       "      <td>0.573054</td>\n",
       "      <td>-0.329130</td>\n",
       "      <td>-0.157398</td>\n",
       "    </tr>\n",
       "    <tr>\n",
       "      <th>2</th>\n",
       "      <td>-1.773746</td>\n",
       "      <td>-0.073453</td>\n",
       "      <td>0.358380</td>\n",
       "      <td>-0.756406</td>\n",
       "      <td>1.070503</td>\n",
       "      <td>-1.674470</td>\n",
       "      <td>1.171880</td>\n",
       "      <td>0.854775</td>\n",
       "    </tr>\n",
       "    <tr>\n",
       "      <th>3</th>\n",
       "      <td>8.670424</td>\n",
       "      <td>2.554084</td>\n",
       "      <td>1.327978</td>\n",
       "      <td>-1.890210</td>\n",
       "      <td>-1.479608</td>\n",
       "      <td>1.259739</td>\n",
       "      <td>0.499169</td>\n",
       "      <td>0.254060</td>\n",
       "    </tr>\n",
       "    <tr>\n",
       "      <th>4</th>\n",
       "      <td>0.236464</td>\n",
       "      <td>-0.318704</td>\n",
       "      <td>0.167051</td>\n",
       "      <td>-0.159477</td>\n",
       "      <td>-1.330314</td>\n",
       "      <td>0.660601</td>\n",
       "      <td>0.333574</td>\n",
       "      <td>-0.522998</td>\n",
       "    </tr>\n",
       "  </tbody>\n",
       "</table>\n",
       "</div>"
      ],
      "text/plain": [
       "   Dimension 1  Dimension 2  Dimension 3  Dimension 4  Dimension 5  \\\n",
       "0     2.650335    -3.778754     0.675214    -0.966727    -0.895917   \n",
       "1    -1.217284     1.131937    -0.195076     0.152566     0.467820   \n",
       "2    -1.773746    -0.073453     0.358380    -0.756406     1.070503   \n",
       "3     8.670424     2.554084     1.327978    -1.890210    -1.479608   \n",
       "4     0.236464    -0.318704     0.167051    -0.159477    -1.330314   \n",
       "\n",
       "   Dimension 6  Dimension 7  Dimension 8  \n",
       "0    -0.868641    -0.829470    -2.252595  \n",
       "1     0.573054    -0.329130    -0.157398  \n",
       "2    -1.674470     1.171880     0.854775  \n",
       "3     1.259739     0.499169     0.254060  \n",
       "4     0.660601     0.333574    -0.522998  "
      ]
     },
     "execution_count": 216,
     "metadata": {},
     "output_type": "execute_result"
    }
   ],
   "source": [
    "all_reduced_data = pca.transform(all_select_data[all_select_data.columns[1:]])\n",
    "\n",
    "# Create a DataFrame for the reduced data\n",
    "all_reduced_data = pd.DataFrame(all_reduced_data, columns = ['Dimension 1', 'Dimension 2', 'Dimension 3', 'Dimension 4',\n",
    "                                                    'Dimension 5', 'Dimension 6','Dimension 7', 'Dimension 8'])\n",
    "all_reduced_data.head()"
   ]
  },
  {
   "cell_type": "code",
   "execution_count": 217,
   "metadata": {
    "collapsed": false
   },
   "outputs": [
    {
     "name": "stdout",
     "output_type": "stream",
     "text": [
      "0.820037807183\n"
     ]
    },
    {
     "data": {
      "text/plain": [
       "array([[1963,  169],\n",
       "       [ 307,  206]])"
      ]
     },
     "execution_count": 217,
     "metadata": {},
     "output_type": "execute_result"
    }
   ],
   "source": [
    "# GAUSSIAN NAIVE BAYES CLASSIFIER WITH PCA COMPONENTS DERIVED FROM ALL DATA\n",
    "\n",
    "\n",
    "X_train, X_test, y_train, y_test = train_test_split(all_reduced_data, \n",
    "                                                    all_select_data['hospital_expire_flag'], \n",
    "                                                    test_size = .30, random_state = 42)\n",
    "\n",
    "\n",
    "### create classifier\n",
    "clf_GNB = GaussianNB()\n",
    "### fit the classifier on the training features and labels\n",
    "clf_GNB.fit(X_train, y_train)\n",
    "    ### return the fit classifier\n",
    "\n",
    "nb_score = clf_GNB.score(X_test, y_test) \n",
    "\n",
    "print nb_score\n",
    "y_predsGNB = clf_GNB.predict(X_test)\n",
    "metrics.confusion_matrix(y_test, y_predsGNB)\n",
    "\n"
   ]
  },
  {
   "cell_type": "code",
   "execution_count": null,
   "metadata": {
    "collapsed": false
   },
   "outputs": [],
   "source": [
    "X_train, X_test, y_train, y_test = train_test_split(all_reduced_data, \n",
    "                                                    all_select_data['hospital_expire_flag'], \n",
    "                                                    test_size = 0.30, random_state = 42)\n",
    "\n",
    "clf_SVC = svm.SVC(C=1.0, cache_size=200, class_weight=None, coef0=0.0,\n",
    "    decision_function_shape=None, degree=3, gamma='auto', kernel='poly', \n",
    "    max_iter=-1, probability=False, random_state=None, shrinking=True,\n",
    "    tol=0.001, verbose=False).fit(X_train, y_train)\n",
    "\n",
    "scores = cross_val_score(clf_SVC, all_reduced_data, \n",
    "                         all_select_data['hospital_expire_flag'], cv=5)\n",
    "display(scores)  \n",
    "\n",
    "y_predsSVM = clf_SVC.predict(X_test)\n",
    "metrics.confusion_matrix(y_test, y_predsSVM)\n",
    "\n"
   ]
  },
  {
   "cell_type": "markdown",
   "metadata": {},
   "source": [
    "## PCA AND CLASSIFICATION USING SELECT CATEGORICAL DATA"
   ]
  },
  {
   "cell_type": "code",
   "execution_count": 181,
   "metadata": {
    "collapsed": false
   },
   "outputs": [],
   "source": [
    "cat_select_data3 = cat_select_data.set_index(['icustay_id'], inplace = False)"
   ]
  },
  {
   "cell_type": "code",
   "execution_count": 183,
   "metadata": {
    "collapsed": false,
    "scrolled": true
   },
   "outputs": [
    {
     "data": {
      "image/png": "[encoded data removed]",
      "text/plain": [
       "<matplotlib.figure.Figure at 0x11ad565d0>"
      ]
     },
     "metadata": {},
     "output_type": "display_data"
    }
   ],
   "source": [
    "#pca = PCA(n_components = 4).fit(data2)\n",
    "pca = PCA(n_components =4).fit(cat_select_data3[cat_select_data3.columns[1:]])\n",
    "\n",
    "# Generate PCA results plot\n",
    "pca_results = vs.pca_results(cat_select_data3[cat_select_data3.columns[1:]], pca)"
   ]
  },
  {
   "cell_type": "code",
   "execution_count": 186,
   "metadata": {
    "collapsed": false
   },
   "outputs": [
    {
     "data": {
      "text/html": [
       "<div>\n",
       "<table border=\"1\" class=\"dataframe\">\n",
       "  <thead>\n",
       "    <tr style=\"text-align: right;\">\n",
       "      <th></th>\n",
       "      <th>Dimension 1</th>\n",
       "      <th>Dimension 2</th>\n",
       "      <th>Dimension 3</th>\n",
       "      <th>Dimension 4</th>\n",
       "    </tr>\n",
       "  </thead>\n",
       "  <tbody>\n",
       "    <tr>\n",
       "      <th>0</th>\n",
       "      <td>1.271883</td>\n",
       "      <td>-0.094091</td>\n",
       "      <td>0.048068</td>\n",
       "      <td>0.067321</td>\n",
       "    </tr>\n",
       "    <tr>\n",
       "      <th>1</th>\n",
       "      <td>-0.456972</td>\n",
       "      <td>-0.135818</td>\n",
       "      <td>-0.012901</td>\n",
       "      <td>-0.001139</td>\n",
       "    </tr>\n",
       "    <tr>\n",
       "      <th>2</th>\n",
       "      <td>-0.456972</td>\n",
       "      <td>-0.135818</td>\n",
       "      <td>-0.012901</td>\n",
       "      <td>-0.001139</td>\n",
       "    </tr>\n",
       "    <tr>\n",
       "      <th>3</th>\n",
       "      <td>-0.456972</td>\n",
       "      <td>-0.135818</td>\n",
       "      <td>-0.012901</td>\n",
       "      <td>-0.001139</td>\n",
       "    </tr>\n",
       "    <tr>\n",
       "      <th>4</th>\n",
       "      <td>-0.456972</td>\n",
       "      <td>-0.135818</td>\n",
       "      <td>-0.012901</td>\n",
       "      <td>-0.001139</td>\n",
       "    </tr>\n",
       "  </tbody>\n",
       "</table>\n",
       "</div>"
      ],
      "text/plain": [
       "   Dimension 1  Dimension 2  Dimension 3  Dimension 4\n",
       "0     1.271883    -0.094091     0.048068     0.067321\n",
       "1    -0.456972    -0.135818    -0.012901    -0.001139\n",
       "2    -0.456972    -0.135818    -0.012901    -0.001139\n",
       "3    -0.456972    -0.135818    -0.012901    -0.001139\n",
       "4    -0.456972    -0.135818    -0.012901    -0.001139"
      ]
     },
     "execution_count": 186,
     "metadata": {},
     "output_type": "execute_result"
    }
   ],
   "source": [
    "reduced_cat_data = pca.transform(cat_select_data3[cat_select_data3.columns[1:]])\n",
    "\n",
    "# Create a DataFrame for the reduced data\n",
    "reduced_cat_data = pd.DataFrame(reduced_cat_data, columns = ['Dimension 1', 'Dimension 2', \n",
    "                                                             'Dimension 3', 'Dimension 4'])\n",
    "                                                    #'Dimension 5', 'Dimension 6','Dimension 7', 'Dimension 8'])\n",
    "reduced_cat_data.head()"
   ]
  },
  {
   "cell_type": "code",
   "execution_count": 190,
   "metadata": {
    "collapsed": false
   },
   "outputs": [
    {
     "name": "stdout",
     "output_type": "stream",
     "text": [
      "0.833908452168\n"
     ]
    },
    {
     "data": {
      "text/plain": [
       "array([[19621,  1832],\n",
       "       [ 2163,   437]])"
      ]
     },
     "execution_count": 190,
     "metadata": {},
     "output_type": "execute_result"
    }
   ],
   "source": [
    "# Training using 80% of data and testing using 20%. \n",
    "\n",
    "\n",
    "\n",
    "X_train, X_test, y_train, y_test = train_test_split(reduced_cat_data, \n",
    "                                                    cat_select_data3['hospital_expire_flag'], \n",
    "                                                    test_size = .40, random_state = 42)\n",
    "\n",
    "\n",
    "### create classifier\n",
    "clf_GNB = GaussianNB()\n",
    "### fit the classifier on the training features and labels\n",
    "clf_GNB.fit(X_train, y_train)\n",
    "    ### return the fit classifier\n",
    "\n",
    "nb_score = clf_GNB.score(X_test, y_test) \n",
    "\n",
    "print nb_score\n",
    "y_predsGNB = clf_GNB.predict(X_test)\n",
    "metrics.confusion_matrix(y_test, y_predsGNB)\n",
    "\n"
   ]
  },
  {
   "cell_type": "code",
   "execution_count": 193,
   "metadata": {
    "collapsed": false
   },
   "outputs": [
    {
     "data": {
      "text/plain": [
       "0.12088506132796481"
      ]
     },
     "execution_count": 193,
     "metadata": {},
     "output_type": "execute_result"
    }
   ],
   "source": [
    "X_train, X_test, y_train, y_test = train_test_split(data2[data2.columns[1:]], data2['mort_icu'], \n",
    "                                                    test_size = 0.30, random_state = 42)\n",
    "\n",
    "clf_SVC = svm.SVC(C=1.0, cache_size=200, class_weight=None, coef0=0.0,\n",
    "    decision_function_shape=None, degree=3, gamma='auto', kernel='rbf', \n",
    "    max_iter=-1, probability=False, random_state=None, shrinking=True,\n",
    "    tol=0.001, verbose=False).fit(X_train, y_train)\n",
    "\n",
    "scores = cross_val_score(clf_SVC, data2[data2.columns[1:]], data2['mort_icu'], cv=5)\n",
    "display(scores)  "
   ]
  },
  {
   "cell_type": "code",
   "execution_count": 192,
   "metadata": {
    "collapsed": false
   },
   "outputs": [
    {
     "data": {
      "text/html": [
       "<div>\n",
       "<table border=\"1\" class=\"dataframe\">\n",
       "  <thead>\n",
       "    <tr style=\"text-align: right;\">\n",
       "      <th></th>\n",
       "      <th>GCS_Eye_None</th>\n",
       "      <th>GCS_Motor_No response</th>\n",
       "      <th>GCS_Verbal_No Response-ETT</th>\n",
       "      <th>GCS_Verbal_Oriented</th>\n",
       "      <th>GCS_Motor_Flex-withdraws</th>\n",
       "      <th>GCS_Motor_Abnormal Flexion</th>\n",
       "      <th>GCS_Motor_Obeys Commands</th>\n",
       "      <th>GCS_Eye_Spontaneously</th>\n",
       "      <th>GCS_Motor_Abnormal extension</th>\n",
       "      <th>GCS_Verbal_No Response</th>\n",
       "    </tr>\n",
       "    <tr>\n",
       "      <th>hospital_expire_flag</th>\n",
       "      <th></th>\n",
       "      <th></th>\n",
       "      <th></th>\n",
       "      <th></th>\n",
       "      <th></th>\n",
       "      <th></th>\n",
       "      <th></th>\n",
       "      <th></th>\n",
       "      <th></th>\n",
       "      <th></th>\n",
       "    </tr>\n",
       "  </thead>\n",
       "  <tbody>\n",
       "    <tr>\n",
       "      <th>0</th>\n",
       "      <td>53646</td>\n",
       "      <td>53646</td>\n",
       "      <td>53646</td>\n",
       "      <td>53646</td>\n",
       "      <td>53646</td>\n",
       "      <td>53646</td>\n",
       "      <td>53646</td>\n",
       "      <td>53646</td>\n",
       "      <td>53646</td>\n",
       "      <td>53646</td>\n",
       "    </tr>\n",
       "    <tr>\n",
       "      <th>1</th>\n",
       "      <td>6485</td>\n",
       "      <td>6485</td>\n",
       "      <td>6485</td>\n",
       "      <td>6485</td>\n",
       "      <td>6485</td>\n",
       "      <td>6485</td>\n",
       "      <td>6485</td>\n",
       "      <td>6485</td>\n",
       "      <td>6485</td>\n",
       "      <td>6485</td>\n",
       "    </tr>\n",
       "  </tbody>\n",
       "</table>\n",
       "</div>"
      ],
      "text/plain": [
       "                      GCS_Eye_None  GCS_Motor_No response  \\\n",
       "hospital_expire_flag                                        \n",
       "0                            53646                  53646   \n",
       "1                             6485                   6485   \n",
       "\n",
       "                      GCS_Verbal_No Response-ETT  GCS_Verbal_Oriented  \\\n",
       "hospital_expire_flag                                                    \n",
       "0                                          53646                53646   \n",
       "1                                           6485                 6485   \n",
       "\n",
       "                      GCS_Motor_Flex-withdraws  GCS_Motor_Abnormal Flexion  \\\n",
       "hospital_expire_flag                                                         \n",
       "0                                        53646                       53646   \n",
       "1                                         6485                        6485   \n",
       "\n",
       "                      GCS_Motor_Obeys Commands  GCS_Eye_Spontaneously  \\\n",
       "hospital_expire_flag                                                    \n",
       "0                                        53646                  53646   \n",
       "1                                         6485                   6485   \n",
       "\n",
       "                      GCS_Motor_Abnormal extension  GCS_Verbal_No Response  \n",
       "hospital_expire_flag                                                        \n",
       "0                                            53646                   53646  \n",
       "1                                             6485                    6485  "
      ]
     },
     "execution_count": 192,
     "metadata": {},
     "output_type": "execute_result"
    }
   ],
   "source": [
    "monkey"
   ]
  },
  {
   "cell_type": "code",
   "execution_count": null,
   "metadata": {
    "collapsed": true
   },
   "outputs": [],
   "source": []
  }
 ],
 "metadata": {
  "kernelspec": {
   "display_name": "Python 2",
   "language": "python",
   "name": "python2"
  },
  "language_info": {
   "codemirror_mode": {
    "name": "ipython",
    "version": 2
   },
   "file_extension": ".py",
   "mimetype": "text/x-python",
   "name": "python",
   "nbconvert_exporter": "python",
   "pygments_lexer": "ipython2",
   "version": "2.7.12"
  }
 },
 "nbformat": 4,
 "nbformat_minor": 2
}

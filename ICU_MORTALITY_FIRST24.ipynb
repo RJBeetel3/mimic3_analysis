{
 "cells": [
  {
   "cell_type": "code",
   "execution_count": 1,
   "metadata": {
    "collapsed": true
   },
   "outputs": [],
   "source": [
    "import sys\n",
    "import pandas as pd\n",
    "import datetime as datetime\n",
    "import numpy as np\n",
    "from dateutil.relativedelta import relativedelta\n",
    "from sklearn.preprocessing import OneHotEncoder\n",
    "import matplotlib\n",
    "import matplotlib.pyplot as plt\n",
    "#import psycopg2\n",
    "from scipy.stats import ks_2samp\n",
    "import scipy.stats as scats\n",
    "import visuals as vs\n",
    "from sklearn.decomposition import PCA\n",
    "from sklearn import preprocessing\n",
    "from sklearn.neural_network import MLPClassifier\n",
    "from sklearn.naive_bayes import GaussianNB\n",
    "from sklearn import metrics\n",
    "from sklearn import svm\n",
    "from sklearn.model_selection import cross_val_score\n",
    "from sklearn.model_selection import train_test_split\n",
    "from sklearn.feature_selection import SelectKBest\n",
    "from sklearn.feature_selection import chi2\n",
    "from heapq import nlargest\n",
    "plt.style.use('ggplot') \n",
    "%matplotlib inline"
   ]
  },
  {
   "cell_type": "code",
   "execution_count": 7,
   "metadata": {
    "collapsed": false
   },
   "outputs": [
    {
     "data": {
      "text/html": [
       "<div>\n",
       "<table border=\"1\" class=\"dataframe\">\n",
       "  <thead>\n",
       "    <tr style=\"text-align: right;\">\n",
       "      <th></th>\n",
       "      <th>icustay_id</th>\n",
       "      <th>subject_id</th>\n",
       "      <th>BP_Dia_max</th>\n",
       "      <th>BP_Dia_mean</th>\n",
       "      <th>BP_Dia_med</th>\n",
       "      <th>BP_Dia_min</th>\n",
       "      <th>BP_Dia_skew</th>\n",
       "      <th>BP_Dia_std</th>\n",
       "      <th>BP_Mean_max</th>\n",
       "      <th>BP_Mean_mean</th>\n",
       "      <th>...</th>\n",
       "      <th>pH2_med</th>\n",
       "      <th>pH2_min</th>\n",
       "      <th>pH2_skew</th>\n",
       "      <th>pH2_std</th>\n",
       "      <th>pH_max</th>\n",
       "      <th>pH_mean</th>\n",
       "      <th>pH_med</th>\n",
       "      <th>pH_min</th>\n",
       "      <th>pH_skew</th>\n",
       "      <th>pH_std</th>\n",
       "    </tr>\n",
       "  </thead>\n",
       "  <tbody>\n",
       "    <tr>\n",
       "      <th>0</th>\n",
       "      <td>200001</td>\n",
       "      <td>55973</td>\n",
       "      <td>NaN</td>\n",
       "      <td>NaN</td>\n",
       "      <td>NaN</td>\n",
       "      <td>NaN</td>\n",
       "      <td>NaN</td>\n",
       "      <td>NaN</td>\n",
       "      <td>NaN</td>\n",
       "      <td>NaN</td>\n",
       "      <td>...</td>\n",
       "      <td>NaN</td>\n",
       "      <td>NaN</td>\n",
       "      <td>NaN</td>\n",
       "      <td>NaN</td>\n",
       "      <td>NaN</td>\n",
       "      <td>NaN</td>\n",
       "      <td>NaN</td>\n",
       "      <td>NaN</td>\n",
       "      <td>NaN</td>\n",
       "      <td>NaN</td>\n",
       "    </tr>\n",
       "    <tr>\n",
       "      <th>1</th>\n",
       "      <td>200003</td>\n",
       "      <td>27513</td>\n",
       "      <td>81.0</td>\n",
       "      <td>42.708333</td>\n",
       "      <td>60.5</td>\n",
       "      <td>0.0</td>\n",
       "      <td>-0.623249</td>\n",
       "      <td>31.452489</td>\n",
       "      <td>179.0</td>\n",
       "      <td>87.411765</td>\n",
       "      <td>...</td>\n",
       "      <td>7.38</td>\n",
       "      <td>7.36</td>\n",
       "      <td>1.220037</td>\n",
       "      <td>0.038987</td>\n",
       "      <td>7.46</td>\n",
       "      <td>7.398</td>\n",
       "      <td>7.38</td>\n",
       "      <td>7.36</td>\n",
       "      <td>1.220037</td>\n",
       "      <td>0.038987</td>\n",
       "    </tr>\n",
       "    <tr>\n",
       "      <th>2</th>\n",
       "      <td>200006</td>\n",
       "      <td>10950</td>\n",
       "      <td>NaN</td>\n",
       "      <td>NaN</td>\n",
       "      <td>NaN</td>\n",
       "      <td>NaN</td>\n",
       "      <td>NaN</td>\n",
       "      <td>NaN</td>\n",
       "      <td>NaN</td>\n",
       "      <td>NaN</td>\n",
       "      <td>...</td>\n",
       "      <td>NaN</td>\n",
       "      <td>NaN</td>\n",
       "      <td>NaN</td>\n",
       "      <td>NaN</td>\n",
       "      <td>NaN</td>\n",
       "      <td>NaN</td>\n",
       "      <td>NaN</td>\n",
       "      <td>NaN</td>\n",
       "      <td>NaN</td>\n",
       "      <td>NaN</td>\n",
       "    </tr>\n",
       "    <tr>\n",
       "      <th>3</th>\n",
       "      <td>200007</td>\n",
       "      <td>20707</td>\n",
       "      <td>NaN</td>\n",
       "      <td>NaN</td>\n",
       "      <td>NaN</td>\n",
       "      <td>NaN</td>\n",
       "      <td>NaN</td>\n",
       "      <td>NaN</td>\n",
       "      <td>NaN</td>\n",
       "      <td>NaN</td>\n",
       "      <td>...</td>\n",
       "      <td>NaN</td>\n",
       "      <td>NaN</td>\n",
       "      <td>NaN</td>\n",
       "      <td>NaN</td>\n",
       "      <td>NaN</td>\n",
       "      <td>NaN</td>\n",
       "      <td>NaN</td>\n",
       "      <td>NaN</td>\n",
       "      <td>NaN</td>\n",
       "      <td>NaN</td>\n",
       "    </tr>\n",
       "    <tr>\n",
       "      <th>4</th>\n",
       "      <td>200009</td>\n",
       "      <td>29904</td>\n",
       "      <td>84.0</td>\n",
       "      <td>62.645161</td>\n",
       "      <td>57.0</td>\n",
       "      <td>49.0</td>\n",
       "      <td>0.868910</td>\n",
       "      <td>10.931753</td>\n",
       "      <td>101.0</td>\n",
       "      <td>74.741935</td>\n",
       "      <td>...</td>\n",
       "      <td>7.39</td>\n",
       "      <td>7.29</td>\n",
       "      <td>0.360059</td>\n",
       "      <td>0.071063</td>\n",
       "      <td>7.50</td>\n",
       "      <td>7.380</td>\n",
       "      <td>7.39</td>\n",
       "      <td>7.29</td>\n",
       "      <td>0.360059</td>\n",
       "      <td>0.071063</td>\n",
       "    </tr>\n",
       "  </tbody>\n",
       "</table>\n",
       "<p>5 rows × 74 columns</p>\n",
       "</div>"
      ],
      "text/plain": [
       "   icustay_id  subject_id  BP_Dia_max  BP_Dia_mean  BP_Dia_med  BP_Dia_min  \\\n",
       "0      200001       55973         NaN          NaN         NaN         NaN   \n",
       "1      200003       27513        81.0    42.708333        60.5         0.0   \n",
       "2      200006       10950         NaN          NaN         NaN         NaN   \n",
       "3      200007       20707         NaN          NaN         NaN         NaN   \n",
       "4      200009       29904        84.0    62.645161        57.0        49.0   \n",
       "\n",
       "   BP_Dia_skew  BP_Dia_std  BP_Mean_max  BP_Mean_mean    ...     pH2_med  \\\n",
       "0          NaN         NaN          NaN           NaN    ...         NaN   \n",
       "1    -0.623249   31.452489        179.0     87.411765    ...        7.38   \n",
       "2          NaN         NaN          NaN           NaN    ...         NaN   \n",
       "3          NaN         NaN          NaN           NaN    ...         NaN   \n",
       "4     0.868910   10.931753        101.0     74.741935    ...        7.39   \n",
       "\n",
       "   pH2_min  pH2_skew   pH2_std  pH_max  pH_mean  pH_med  pH_min   pH_skew  \\\n",
       "0      NaN       NaN       NaN     NaN      NaN     NaN     NaN       NaN   \n",
       "1     7.36  1.220037  0.038987    7.46    7.398    7.38    7.36  1.220037   \n",
       "2      NaN       NaN       NaN     NaN      NaN     NaN     NaN       NaN   \n",
       "3      NaN       NaN       NaN     NaN      NaN     NaN     NaN       NaN   \n",
       "4     7.29  0.360059  0.071063    7.50    7.380    7.39    7.29  0.360059   \n",
       "\n",
       "     pH_std  \n",
       "0       NaN  \n",
       "1  0.038987  \n",
       "2       NaN  \n",
       "3       NaN  \n",
       "4  0.071063  \n",
       "\n",
       "[5 rows x 74 columns]"
      ]
     },
     "execution_count": 7,
     "metadata": {},
     "output_type": "execute_result"
    }
   ],
   "source": [
    "chart_data = pd.DataFrame.from_csv('CHART_EVENTS_FIRST24_PROCESSED.csv')\n",
    "lab_data = pd.DataFrame.from_csv('LAB_EVENTS_FIRST24_PROCESSED.csv')\n",
    "chart_data.head()"
   ]
  },
  {
   "cell_type": "code",
   "execution_count": 57,
   "metadata": {
    "collapsed": false
   },
   "outputs": [
    {
     "data": {
      "text/plain": [
       "icustay_id                       int64\n",
       "subject_id                       int64\n",
       "BP_Dia_max                     float64\n",
       "BP_Dia_mean                    float64\n",
       "BP_Dia_med                     float64\n",
       "BP_Dia_min                     float64\n",
       "BP_Dia_skew                    float64\n",
       "BP_Dia_std                     float64\n",
       "BP_Mean_max                    float64\n",
       "BP_Mean_mean                   float64\n",
       "BP_Mean_med                    float64\n",
       "BP_Mean_min                    float64\n",
       "BP_Mean_skew                   float64\n",
       "BP_Mean_std                    float64\n",
       "BP_Sys_max                     float64\n",
       "BP_Sys_mean                    float64\n",
       "BP_Sys_med                     float64\n",
       "BP_Sys_min                     float64\n",
       "BP_Sys_skew                    float64\n",
       "BP_Sys_std                     float64\n",
       "Cap_refill                      object\n",
       "GCS_Eye                         object\n",
       "GCS_Motor                       object\n",
       "GCS_Verbal                      object\n",
       "GCS_total                      float64\n",
       "HR_max                         float64\n",
       "HR_mean                        float64\n",
       "HR_med                         float64\n",
       "HR_min                         float64\n",
       "HR_skew                        float64\n",
       "                             ...      \n",
       "TempC_Calc_max                 float64\n",
       "TempC_Calc_mean                float64\n",
       "TempC_Calc_med                 float64\n",
       "TempC_Calc_min                 float64\n",
       "TempC_Calc_skew                float64\n",
       "TempC_Calc_std                 float64\n",
       "TempC_max                      float64\n",
       "TempC_mean                     float64\n",
       "TempC_med                      float64\n",
       "TempC_min                      float64\n",
       "TempC_skew                     float64\n",
       "TempC_std                      float64\n",
       "Weight                         float64\n",
       "charttime               datetime64[ns]\n",
       "gender                          object\n",
       "hospital_expire_flag             int64\n",
       "intime                  datetime64[ns]\n",
       "outtime                 datetime64[ns]\n",
       "pH2_max                        float64\n",
       "pH2_mean                       float64\n",
       "pH2_med                        float64\n",
       "pH2_min                        float64\n",
       "pH2_skew                       float64\n",
       "pH2_std                        float64\n",
       "pH_max                         float64\n",
       "pH_mean                        float64\n",
       "pH_med                         float64\n",
       "pH_min                         float64\n",
       "pH_skew                        float64\n",
       "pH_std                         float64\n",
       "dtype: object"
      ]
     },
     "execution_count": 57,
     "metadata": {},
     "output_type": "execute_result"
    }
   ],
   "source": [
    "donkey = [x for x in chart_data.columns if 'time' in x]\n",
    "for donk in donkey:\n",
    "    chart_data[donk] = pd.to_datetime(chart_data[donk])\n",
    "\n",
    "for index, row in chart_data.iterrows():\n",
    "    staylen = relativedelta(row['outtime'], row['intime']).hours\n",
    "    chart_data.set_value(index, 'stay_duration', staylen)\n"
   ]
  },
  {
   "cell_type": "markdown",
   "metadata": {},
   "source": [
    "## Isolate continuous (float64) and categorical variables for feature selection process. \n",
    "Feature selection tools require features to be of the same type. Data will be separated, feature correlations will be calculated. \n",
    "### height, weight, gcs_total are not being included in these groupings and should be considered separately"
   ]
  },
  {
   "cell_type": "code",
   "execution_count": 62,
   "metadata": {
    "collapsed": false
   },
   "outputs": [],
   "source": [
    "monkey = list(chart_data.columns[chart_data.dtypes == 'float64'])\n",
    "monkey.insert(0,'icustay_id')\n",
    "monkey.insert(1,'hospital_expire_flag')\n",
    "monkey.pop(monkey.index('Height'))\n",
    "monkey.pop(monkey.index('Weight'))\n",
    "cont_data = chart_data[monkey]\n",
    "\n",
    "monkey = list(chart_data.columns[chart_data.dtypes == 'object'])\n",
    "monkey.insert(0,'icustay_id')\n",
    "monkey.insert(1,'hospital_expire_flag')\n",
    "cat_data = chart_data[monkey]"
   ]
  },
  {
   "cell_type": "code",
   "execution_count": 65,
   "metadata": {
    "collapsed": false
   },
   "outputs": [
    {
     "data": {
      "text/plain": [
       "Index([u'icustay_id', u'hospital_expire_flag', u'BP_Dia_max', u'BP_Dia_mean',\n",
       "       u'BP_Dia_med', u'BP_Dia_min', u'BP_Dia_skew', u'BP_Dia_std',\n",
       "       u'BP_Mean_max', u'BP_Mean_mean', u'BP_Mean_med', u'BP_Mean_min',\n",
       "       u'BP_Mean_skew', u'BP_Mean_std', u'BP_Sys_max', u'BP_Sys_mean',\n",
       "       u'BP_Sys_med', u'BP_Sys_min', u'BP_Sys_skew', u'BP_Sys_std',\n",
       "       u'GCS_total', u'HR_max', u'HR_mean', u'HR_med', u'HR_min', u'HR_skew',\n",
       "       u'HR_std', u'O2_Fraction_max', u'O2_Fraction_mean', u'O2_Fraction_med',\n",
       "       u'O2_Fraction_min', u'O2_Fraction_skew', u'O2_Fraction_std', u'RR_max',\n",
       "       u'RR_mean', u'RR_med', u'RR_min', u'RR_skew', u'RR_std',\n",
       "       u'TempC_Calc_max', u'TempC_Calc_mean', u'TempC_Calc_med',\n",
       "       u'TempC_Calc_min', u'TempC_Calc_skew', u'TempC_Calc_std', u'TempC_max',\n",
       "       u'TempC_mean', u'TempC_med', u'TempC_min', u'TempC_skew', u'TempC_std',\n",
       "       u'pH2_max', u'pH2_mean', u'pH2_med', u'pH2_min', u'pH2_skew',\n",
       "       u'pH2_std', u'pH_max', u'pH_mean', u'pH_med', u'pH_min', u'pH_skew',\n",
       "       u'pH_std', u'stay_duration'],\n",
       "      dtype='object')"
      ]
     },
     "execution_count": 65,
     "metadata": {},
     "output_type": "execute_result"
    }
   ],
   "source": [
    "cont_data.columns"
   ]
  },
  {
   "cell_type": "markdown",
   "metadata": {},
   "source": [
    "## This filtering on feature selection could be done far earlier in the process. Could do it in smaller blocks where the variables are aligned with the subject ID\n",
    "Variables are not present for all subject_id's or ICU stays. In order to select features, we need to drop_na. So we need to find blocks of features that are present for the same ICU stays etc. In retrospect this could be done earlier in the process before all the data is merged. \n",
    "### GCS_total, stay_duration are not included in these blocks and need to be considered separately "
   ]
  },
  {
   "cell_type": "code",
   "execution_count": null,
   "metadata": {
    "collapsed": true
   },
   "outputs": [],
   "source": [
    "cols = [x for x in cont_data.columns if 'BP_' in x]\n",
    "cols.insert(0,'icustay_id')\n",
    "cols.insert(1,'hospital_expire_flag')\n",
    "cont_data_BP = cont_data[cols].dropna()\n",
    "print \"BP  = {}\".format(cont_data_BP.shape[0])\n",
    "\n",
    "cols = [x for x in cont_data.columns if 'HR_' in x]\n",
    "cols.insert(0,'icustay_id')\n",
    "cols.insert(1,'hospital_expire_flag')\n",
    "cont_data_HR = cont_data[cols].dropna()\n",
    "print \"HR  = {}\".format(cont_data_HR.shape[0])\n",
    "\n",
    "cols = [x for x in cont_data.columns if 'O2_' in x]\n",
    "cols.insert(0,'icustay_id')\n",
    "cols.insert(1,'hospital_expire_flag')\n",
    "cont_data_O2 = cont_data[cols].dropna()\n",
    "print \"O2  = {}\".format(cont_data_O2.shape[0])\n",
    "\n",
    "cols = [x for x in cont_data.columns if 'RR_' in x]\n",
    "cols.insert(0,'icustay_id')\n",
    "cols.insert(1,'hospital_expire_flag')\n",
    "cont_data_RR = cont_data[cols].dropna()\n",
    "print \"RR  = {}\".format(cont_data_RR.shape[0])\n",
    "\n",
    "\n",
    "cols = [x for x in cont_data.columns if 'TempC_Calc' in x]\n",
    "cols.insert(0,'icustay_id')\n",
    "cols.insert(1,'hospital_expire_flag')\n",
    "cont_data_TCalc = cont_data[cols].dropna()\n",
    "print \"TCalc  = {}\".format(cont_data_TCalc.shape[0])\n",
    "\n",
    "cols = [x for x in cont_data.columns if (('TempC_' in x) & ('TempC_C' not in x))]\n",
    "cols.insert(0,'icustay_id')\n",
    "cols.insert(1,'hospital_expire_flag')\n",
    "cont_data_TC = cont_data[cols].dropna()\n",
    "print \"TC  = {}\".format(cont_data_TC.shape[0])\n",
    "\n",
    "cols = [x for x in cont_data.columns if (('pH_' in x) | ('pH2_' in x))]\n",
    "cols.insert(0,'icustay_id')\n",
    "cols.insert(1,'hospital_expire_flag')\n",
    "cont_data_pH = cont_data[cols].dropna()\n",
    "print \"pH  = {}\".format(cont_data_pH.shape[0])"
   ]
  },
  {
   "cell_type": "code",
   "execution_count": 71,
   "metadata": {
    "collapsed": false
   },
   "outputs": [],
   "source": [
    "cont_dict = {'BP': cont_data_BP, \n",
    "             'HR': cont_data_HR, \n",
    "             'O2': cont_data_O2, \n",
    "             'RR': cont_data_RR, \n",
    "             'TCalc': cont_data_TCalc, \n",
    "             'TC': cont_data_TC,\n",
    "             'pH': cont_data_pH\n",
    "            }"
   ]
  },
  {
   "cell_type": "code",
   "execution_count": 67,
   "metadata": {
    "collapsed": false
   },
   "outputs": [
    {
     "data": {
      "text/plain": [
       "Index([u'icustay_id', u'hospital_expire_flag', u'Cap_refill', u'GCS_Eye',\n",
       "       u'GCS_Motor', u'GCS_Verbal', u'gender'],\n",
       "      dtype='object')"
      ]
     },
     "execution_count": 67,
     "metadata": {},
     "output_type": "execute_result"
    }
   ],
   "source": [
    "cat_data.columns"
   ]
  },
  {
   "cell_type": "code",
   "execution_count": 68,
   "metadata": {
    "collapsed": false
   },
   "outputs": [
    {
     "name": "stdout",
     "output_type": "stream",
     "text": [
      "icustay_id has  0 NaN values\n",
      "hospital_expire_flag has  0 NaN values\n",
      "Cap_refill has  54204 NaN values\n",
      "GCS_Eye has  36828 NaN values\n",
      "GCS_Motor has  36841 NaN values\n",
      "GCS_Verbal has  36838 NaN values\n",
      "gender has  0 NaN values\n"
     ]
    }
   ],
   "source": [
    "for col in cat_data.columns:\n",
    "    print \"{} has  {} NaN values\".format(col, cat_data[col].isnull().sum())"
   ]
  },
  {
   "cell_type": "markdown",
   "metadata": {},
   "source": [
    "## Cap refill and gender are not included in this block and should be evaluated separately"
   ]
  },
  {
   "cell_type": "code",
   "execution_count": 70,
   "metadata": {
    "collapsed": false
   },
   "outputs": [
    {
     "name": "stdout",
     "output_type": "stream",
     "text": [
      "GCS  = 23280\n"
     ]
    }
   ],
   "source": [
    "cols = [x for x in cat_data.columns if ('GCS_' in x)]\n",
    "cols.insert(0,'icustay_id')\n",
    "cols.insert(1,'hospital_expire_flag')\n",
    "cat_data_GCS = cat_data[cols].dropna()\n",
    "print \"GCS  = {}\".format(cat_data_GCS.shape[0])\n",
    "\n"
   ]
  },
  {
   "cell_type": "code",
   "execution_count": 72,
   "metadata": {
    "collapsed": false
   },
   "outputs": [
    {
     "data": {
      "text/plain": [
       "['RR', 'HR', 'TCalc', 'TC', 'BP', 'pH', 'O2']"
      ]
     },
     "execution_count": 72,
     "metadata": {},
     "output_type": "execute_result"
    }
   ],
   "source": [
    "cont_dict.keys()"
   ]
  },
  {
   "cell_type": "code",
   "execution_count": 75,
   "metadata": {
    "collapsed": false
   },
   "outputs": [
    {
     "data": {
      "text/plain": [
       "RR_max     4.000000\n",
       "RR_mean    0.642857\n",
       "RR_med     0.000000\n",
       "RR_min     0.000000\n",
       "RR_skew    0.000000\n",
       "RR_std     0.000000\n",
       "dtype: float64"
      ]
     },
     "metadata": {},
     "output_type": "display_data"
    }
   ],
   "source": [
    "X_cont = cont_dict['RR'].drop(['hospital_expire_flag', 'icustay_id'], axis = 1)\n",
    "y_cont = cont_dict['RR']['hospital_expire_flag']\n",
    "below_zeros = list(X_cont.columns[X_cont.min() < 0])\n",
    "for col in below_zeros:\n",
    "    col_min = X_cont[col].min()\n",
    "    X_cont[col] = X_cont[col].apply(lambda x: x-col_min)\n",
    "    \n",
    "display(X_cont.min())"
   ]
  },
  {
   "cell_type": "code",
   "execution_count": 80,
   "metadata": {
    "collapsed": false
   },
   "outputs": [
    {
     "name": "stdout",
     "output_type": "stream",
     "text": [
      "0.0          182851.958257             RR_max\n",
      "0.0833645734046          2.99805438487             RR_mean\n",
      "0.0          1525.46698422             RR_med\n",
      "1.45687019826e-15          63.6891195044             RR_min\n",
      "9.37222577269e-11          41.9482284181             RR_skew\n",
      "0.0          39512.2622246             RR_std\n"
     ]
    },
    {
     "data": {
      "text/plain": [
       "Index([u'RR_max', u'RR_std', u'RR_med', u'RR_min', u'RR_skew', u'RR_mean'], dtype='object')"
      ]
     },
     "execution_count": 80,
     "metadata": {},
     "output_type": "execute_result"
    }
   ],
   "source": [
    "\n",
    "\n",
    "\n",
    "\n",
    "\n",
    "cont_dict_RR\n",
    "selector = SelectKBest(k='all', score_func = chi2)\n",
    "selector.fit(X_cont, y_cont)\n",
    "\n",
    "for i in range(len(selector.pvalues_)):\n",
    "    print \"{}          {}             {}\".format(selector.pvalues_[i], selector.scores_[i], X_cont.columns[i])\n",
    "#X_new, p_vals = SelectKBest(chi2, k=10).fit_transform(X_continuous, y)\n",
    "#X_new.shape\n",
    "largest = pd.Series(selector.scores_).nlargest(10)\n",
    "X_cont.columns[largest.index]"
   ]
  },
  {
   "cell_type": "code",
   "execution_count": 101,
   "metadata": {
    "collapsed": false
   },
   "outputs": [
    {
     "data": {
      "text/plain": [
       "41818    240.0\n",
       "53578    240.0\n",
       "24885    220.0\n",
       "39293    210.0\n",
       "38807    200.0\n",
       "36641    170.0\n",
       "48099    167.0\n",
       "40460    160.0\n",
       "45247    160.0\n",
       "7030     152.0\n",
       "Name: RR_max, dtype: float64"
      ]
     },
     "execution_count": 101,
     "metadata": {},
     "output_type": "execute_result"
    }
   ],
   "source": [
    "\n",
    "\n",
    "cont_dict_RR = cont_dict['RR'].drop(list(cont_dict['RR']['RR_max'].nlargest(3).index))\n",
    "cont_dict_RR['RR_max'].nlargest(10)"
   ]
  },
  {
   "cell_type": "code",
   "execution_count": 83,
   "metadata": {
    "collapsed": false
   },
   "outputs": [
    {
     "data": {
      "text/plain": [
       "<matplotlib.axes._subplots.AxesSubplot at 0x11f00c790>"
      ]
     },
     "execution_count": 83,
     "metadata": {},
     "output_type": "execute_result"
    },
    {
     "data": {
      "image/png": "[encoded data removed]",
      "text/plain": [
       "<matplotlib.figure.Figure at 0x1102d0f10>"
      ]
     },
     "metadata": {},
     "output_type": "display_data"
    }
   ],
   "source": [
    "cont_dict['RR'].plot.scatter(x='hospital_expire_flag', y='RR_max')"
   ]
  },
  {
   "cell_type": "code",
   "execution_count": null,
   "metadata": {
    "collapsed": true
   },
   "outputs": [],
   "source": []
  }
 ],
 "metadata": {
  "kernelspec": {
   "display_name": "Python 2",
   "language": "python",
   "name": "python2"
  },
  "language_info": {
   "codemirror_mode": {
    "name": "ipython",
    "version": 2
   },
   "file_extension": ".py",
   "mimetype": "text/x-python",
   "name": "python",
   "nbconvert_exporter": "python",
   "pygments_lexer": "ipython2",
   "version": "2.7.12"
  }
 },
 "nbformat": 4,
 "nbformat_minor": 2
}

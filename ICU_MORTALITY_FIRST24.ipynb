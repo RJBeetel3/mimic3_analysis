{
 "cells": [
  {
   "cell_type": "code",
   "execution_count": 1,
   "metadata": {
    "collapsed": true
   },
   "outputs": [],
   "source": [
    "import sys\n",
    "import os\n",
    "import pandas as pd\n",
    "import datetime as datetime\n",
    "import numpy as np\n",
    "from dateutil.relativedelta import relativedelta\n",
    "from sklearn.preprocessing import OneHotEncoder\n",
    "import matplotlib\n",
    "import matplotlib.pyplot as plt\n",
    "#import psycopg2\n",
    "from scipy.stats import ks_2samp\n",
    "import scipy.stats as scats\n",
    "#from scipy.stats import boxcox\n",
    "import visuals as vs\n",
    "from sklearn.decomposition import PCA\n",
    "from sklearn import preprocessing\n",
    "import math\n",
    "from sklearn import metrics\n",
    "\n",
    "\n",
    "from sklearn import svm\n",
    "from sklearn.model_selection import cross_val_score\n",
    "from sklearn.model_selection import train_test_split\n",
    "from sklearn.feature_selection import SelectKBest\n",
    "from sklearn.feature_selection import chi2\n",
    "from heapq import nlargest\n",
    "from sklearn.model_selection import GridSearchCV\n",
    "\n",
    "\n",
    "from sklearn.neural_network import MLPClassifier\n",
    "from sklearn.naive_bayes import GaussianNB\n",
    "from sklearn.tree import DecisionTreeClassifier\n",
    "from sklearn.neighbors import KNeighborsClassifier\n",
    "\n",
    "\n",
    "from sklearn import metrics\n",
    "import cPickle as pickle\n",
    "\n",
    "\n",
    "plt.style.use('ggplot') \n",
    "%matplotlib inline"
   ]
  },
  {
   "cell_type": "markdown",
   "metadata": {},
   "source": [
    "# MIMIC-III Critical Care Database\n",
    "\n",
    "MIMIC-III (Medical Information Mart for Intensive Care III) is a large, freely-available database comprising deidentified health-related data associated with over forty thousand patients who stayed in critical care units of the Beth Israel Deaconess Medical Center between 2001 and 2012.\n",
    "\n",
    "The database includes information such as demographics, vital sign measurements made at the bedside (~1 data point per hour), laboratory test results, procedures, medications, caregiver notes, imaging reports, and mortality (both in and out of hospital).\n",
    "\n",
    "MIMIC supports a diverse range of analytic studies spanning epidemiology, clinical decision-rule improvement, and electronic tool development. It is notable for three factors:\n",
    "\n",
    "it is freely available to researchers worldwide\n",
    "it encompasses a diverse and very large population of ICU patients\n",
    "it contains high temporal resolution data including lab results, electronic documentation, and bedside monitor trends and waveforms.\n",
    "\n",
    "Citations: \n",
    "MIMIC-III, a freely accessible critical care database. Johnson AEW, Pollard TJ, Shen L, Lehman L, Feng M, Ghassemi M, Moody B, Szolovits P, Celi LA, and Mark RG. Scientific Data (2016). DOI: 10.1038/sdata.2016.35. Available at: http://www.nature.com/articles/sdata201635\n",
    "\n",
    "Pollard, T. J. & Johnson, A. E. W. The MIMIC-III Clinical Database http://dx.doi.org/10.13026/C2XW26 (2016).\n",
    "\n",
    "\n",
    "# IMPORTING DATA\n",
    "The mimic III database was downloaded and reconstructed locally using posgresql. The database was managed graphically using Portico. \n",
    "A query was run on the mimic III database to generate demographic data and data concerning hospital and ICU stays for patients diagnosed with sepsis. The query was exported from Porticoto the file ADMISSIONS_ICUSTAY_SEPSIS.csv. The data was read into a pandas dataframe ptnt_demog \n",
    "\n"
   ]
  },
  {
   "cell_type": "markdown",
   "metadata": {},
   "source": [
    "## INTEGRATE DATA FROM LABS AND CHARTS\n",
    "Data from labs and charts have been previously aggregated and summarized (variables with multiple measurements have had mean, std, skewness etc calculated). Data is integrated/merged into a single data_frame. \n",
    "\n",
    "## FEATURE SELECTION\n",
    "Feature selection tools, including SelectKBest, require data sets to be full (no NaN values)and to be of the same type (continuous/categorical). To reduce the dimensionality of our data and select the most relevant features, data is then broken out into blocks according to data type. Because not all data was collected for all icu stays or patients there are gaps such that there are very few icu stays for which there are no NaN values. There were patterns of data collection however, groups of variables that were most often collected together (likely the results of the condition, the type of ICU etc). To generate full sets of data for feature selection, the data is further broken down into blocks of variables most often collected together. "
   ]
  },
  {
   "cell_type": "code",
   "execution_count": 2,
   "metadata": {
    "collapsed": false
   },
   "outputs": [
    {
     "data": {
      "text/html": [
       "<div>\n",
       "<table border=\"1\" class=\"dataframe\">\n",
       "  <thead>\n",
       "    <tr style=\"text-align: right;\">\n",
       "      <th></th>\n",
       "      <th>hospital_expire_flag</th>\n",
       "      <th>GCS Total_15</th>\n",
       "      <th>GCS Total_3</th>\n",
       "      <th>GCS Total_6</th>\n",
       "      <th>GCS Total_4</th>\n",
       "      <th>RR_mean_Q3</th>\n",
       "      <th>Creat_abnflag</th>\n",
       "      <th>Respiratory failure; insufficiency; arrest (adult)</th>\n",
       "      <th>Shock</th>\n",
       "      <th>Septicemia (except in labor)</th>\n",
       "      <th>...</th>\n",
       "      <th>icu_stay_Q3</th>\n",
       "      <th>Other liver diseases</th>\n",
       "      <th>first_careunit_CSRU</th>\n",
       "      <th>Fluid and electrolyte disorders</th>\n",
       "      <th>admission_type_ELECTIVE</th>\n",
       "      <th>Pneumonia (except that caused by tuberculosis or sexually transmitted disease)</th>\n",
       "      <th>Acute cerebrovascular disease</th>\n",
       "      <th>icu_stay_Q0</th>\n",
       "      <th>age_Q3</th>\n",
       "      <th>first_careunit_MICU</th>\n",
       "    </tr>\n",
       "    <tr>\n",
       "      <th>icustay_id</th>\n",
       "      <th></th>\n",
       "      <th></th>\n",
       "      <th></th>\n",
       "      <th></th>\n",
       "      <th></th>\n",
       "      <th></th>\n",
       "      <th></th>\n",
       "      <th></th>\n",
       "      <th></th>\n",
       "      <th></th>\n",
       "      <th></th>\n",
       "      <th></th>\n",
       "      <th></th>\n",
       "      <th></th>\n",
       "      <th></th>\n",
       "      <th></th>\n",
       "      <th></th>\n",
       "      <th></th>\n",
       "      <th></th>\n",
       "      <th></th>\n",
       "      <th></th>\n",
       "    </tr>\n",
       "  </thead>\n",
       "  <tbody>\n",
       "    <tr>\n",
       "      <th>294638</th>\n",
       "      <td>0</td>\n",
       "      <td>1.0</td>\n",
       "      <td>0.0</td>\n",
       "      <td>0.0</td>\n",
       "      <td>0.0</td>\n",
       "      <td>1.0</td>\n",
       "      <td>0.0</td>\n",
       "      <td>0</td>\n",
       "      <td>0</td>\n",
       "      <td>1</td>\n",
       "      <td>...</td>\n",
       "      <td>0.0</td>\n",
       "      <td>1</td>\n",
       "      <td>0.0</td>\n",
       "      <td>1</td>\n",
       "      <td>0.0</td>\n",
       "      <td>0</td>\n",
       "      <td>0</td>\n",
       "      <td>1.0</td>\n",
       "      <td>0.0</td>\n",
       "      <td>1.0</td>\n",
       "    </tr>\n",
       "    <tr>\n",
       "      <th>217847</th>\n",
       "      <td>0</td>\n",
       "      <td>1.0</td>\n",
       "      <td>0.0</td>\n",
       "      <td>0.0</td>\n",
       "      <td>0.0</td>\n",
       "      <td>0.0</td>\n",
       "      <td>1.0</td>\n",
       "      <td>0</td>\n",
       "      <td>1</td>\n",
       "      <td>0</td>\n",
       "      <td>...</td>\n",
       "      <td>1.0</td>\n",
       "      <td>0</td>\n",
       "      <td>0.0</td>\n",
       "      <td>0</td>\n",
       "      <td>0.0</td>\n",
       "      <td>0</td>\n",
       "      <td>0</td>\n",
       "      <td>0.0</td>\n",
       "      <td>1.0</td>\n",
       "      <td>0.0</td>\n",
       "    </tr>\n",
       "    <tr>\n",
       "      <th>211200</th>\n",
       "      <td>0</td>\n",
       "      <td>0.0</td>\n",
       "      <td>1.0</td>\n",
       "      <td>0.0</td>\n",
       "      <td>0.0</td>\n",
       "      <td>1.0</td>\n",
       "      <td>1.0</td>\n",
       "      <td>0</td>\n",
       "      <td>0</td>\n",
       "      <td>0</td>\n",
       "      <td>...</td>\n",
       "      <td>1.0</td>\n",
       "      <td>0</td>\n",
       "      <td>1.0</td>\n",
       "      <td>0</td>\n",
       "      <td>0.0</td>\n",
       "      <td>0</td>\n",
       "      <td>0</td>\n",
       "      <td>0.0</td>\n",
       "      <td>0.0</td>\n",
       "      <td>0.0</td>\n",
       "    </tr>\n",
       "    <tr>\n",
       "      <th>248910</th>\n",
       "      <td>0</td>\n",
       "      <td>1.0</td>\n",
       "      <td>0.0</td>\n",
       "      <td>0.0</td>\n",
       "      <td>0.0</td>\n",
       "      <td>1.0</td>\n",
       "      <td>1.0</td>\n",
       "      <td>0</td>\n",
       "      <td>0</td>\n",
       "      <td>1</td>\n",
       "      <td>...</td>\n",
       "      <td>1.0</td>\n",
       "      <td>0</td>\n",
       "      <td>0.0</td>\n",
       "      <td>0</td>\n",
       "      <td>0.0</td>\n",
       "      <td>0</td>\n",
       "      <td>0</td>\n",
       "      <td>0.0</td>\n",
       "      <td>0.0</td>\n",
       "      <td>0.0</td>\n",
       "    </tr>\n",
       "    <tr>\n",
       "      <th>249195</th>\n",
       "      <td>0</td>\n",
       "      <td>1.0</td>\n",
       "      <td>0.0</td>\n",
       "      <td>0.0</td>\n",
       "      <td>0.0</td>\n",
       "      <td>0.0</td>\n",
       "      <td>1.0</td>\n",
       "      <td>0</td>\n",
       "      <td>0</td>\n",
       "      <td>0</td>\n",
       "      <td>...</td>\n",
       "      <td>0.0</td>\n",
       "      <td>0</td>\n",
       "      <td>1.0</td>\n",
       "      <td>0</td>\n",
       "      <td>1.0</td>\n",
       "      <td>0</td>\n",
       "      <td>0</td>\n",
       "      <td>1.0</td>\n",
       "      <td>1.0</td>\n",
       "      <td>0.0</td>\n",
       "    </tr>\n",
       "  </tbody>\n",
       "</table>\n",
       "<p>5 rows × 21 columns</p>\n",
       "</div>"
      ],
      "text/plain": [
       "            hospital_expire_flag  GCS Total_15  GCS Total_3  GCS Total_6  \\\n",
       "icustay_id                                                                 \n",
       "294638                         0           1.0          0.0          0.0   \n",
       "217847                         0           1.0          0.0          0.0   \n",
       "211200                         0           0.0          1.0          0.0   \n",
       "248910                         0           1.0          0.0          0.0   \n",
       "249195                         0           1.0          0.0          0.0   \n",
       "\n",
       "            GCS Total_4  RR_mean_Q3  Creat_abnflag  \\\n",
       "icustay_id                                           \n",
       "294638              0.0         1.0            0.0   \n",
       "217847              0.0         0.0            1.0   \n",
       "211200              0.0         1.0            1.0   \n",
       "248910              0.0         1.0            1.0   \n",
       "249195              0.0         0.0            1.0   \n",
       "\n",
       "            Respiratory failure; insufficiency; arrest (adult)  Shock  \\\n",
       "icustay_id                                                              \n",
       "294638                                                      0       0   \n",
       "217847                                                      0       1   \n",
       "211200                                                      0       0   \n",
       "248910                                                      0       0   \n",
       "249195                                                      0       0   \n",
       "\n",
       "            Septicemia (except in labor)         ...           icu_stay_Q3  \\\n",
       "icustay_id                                       ...                         \n",
       "294638                                 1         ...                   0.0   \n",
       "217847                                 0         ...                   1.0   \n",
       "211200                                 0         ...                   1.0   \n",
       "248910                                 1         ...                   1.0   \n",
       "249195                                 0         ...                   0.0   \n",
       "\n",
       "            Other liver diseases  first_careunit_CSRU  \\\n",
       "icustay_id                                              \n",
       "294638                         1                  0.0   \n",
       "217847                         0                  0.0   \n",
       "211200                         0                  1.0   \n",
       "248910                         0                  0.0   \n",
       "249195                         0                  1.0   \n",
       "\n",
       "            Fluid and electrolyte disorders  admission_type_ELECTIVE  \\\n",
       "icustay_id                                                             \n",
       "294638                                    1                      0.0   \n",
       "217847                                    0                      0.0   \n",
       "211200                                    0                      0.0   \n",
       "248910                                    0                      0.0   \n",
       "249195                                    0                      1.0   \n",
       "\n",
       "            Pneumonia (except that caused by tuberculosis or sexually transmitted disease)  \\\n",
       "icustay_id                                                                                   \n",
       "294638                                                      0                                \n",
       "217847                                                      0                                \n",
       "211200                                                      0                                \n",
       "248910                                                      0                                \n",
       "249195                                                      0                                \n",
       "\n",
       "            Acute cerebrovascular disease  icu_stay_Q0  age_Q3  \\\n",
       "icustay_id                                                       \n",
       "294638                                  0          1.0     0.0   \n",
       "217847                                  0          0.0     1.0   \n",
       "211200                                  0          0.0     0.0   \n",
       "248910                                  0          0.0     0.0   \n",
       "249195                                  0          1.0     1.0   \n",
       "\n",
       "            first_careunit_MICU  \n",
       "icustay_id                       \n",
       "294638                      1.0  \n",
       "217847                      0.0  \n",
       "211200                      0.0  \n",
       "248910                      0.0  \n",
       "249195                      0.0  \n",
       "\n",
       "[5 rows x 21 columns]"
      ]
     },
     "metadata": {},
     "output_type": "display_data"
    }
   ],
   "source": [
    "features_dir = os.getcwd() + '/features/'\n",
    "#display(features_dir)\n",
    "monkey = os.listdir(features_dir)\n",
    "feature_files = [x for x in monkey if '.csv' in x]\n",
    "#display(feature_files )\n",
    "features_dict = {}\n",
    "for name in feature_files:\n",
    "    features_dict[name.split('.')[0]] = pd.DataFrame.from_csv(features_dir + name)\n",
    "outcomes = pd.DataFrame.from_csv(features_dir + 'outcomes.csv')\n",
    "\n",
    "scores = [x for x in features_dict.keys() if 'Scores' in x]\n",
    "features = [x for x in features_dict.keys() if 'Scores' not in x]\n",
    "scores.sort()\n",
    "features.sort()\n",
    "#display(scores)\n",
    "#display(features)\n",
    "\n",
    "for i in range(len(scores)):\n",
    "    if i == 0:\n",
    "        all_scores = features_dict[scores[i]]\n",
    "    else:\n",
    "        all_scores = all_scores.append(features_dict[scores[i]])\n",
    "\n",
    "\n",
    "all_scores = all_scores.sort_values(by = 'p_values', ascending = True)\n",
    "top_scores = list(all_scores.head(20).index)\n",
    "\n",
    "\n",
    "first = True\n",
    "all_data = outcomes\n",
    "for frame in features:\n",
    "    for col in features_dict[frame].columns:\n",
    "        if col in top_scores:\n",
    "            \n",
    "            feat = features_dict[frame][col] \n",
    "            all_data = all_data.merge(pd.DataFrame(feat), left_index = True, \n",
    "                                     right_index = True, how = 'inner', sort = True)\n",
    "            \n",
    "            #display(feat.name)\n",
    "            #display(all_data.shape)\n",
    "\n",
    "display(all_data.head())\n",
    "           "
   ]
  },
  {
   "cell_type": "code",
   "execution_count": 45,
   "metadata": {
    "collapsed": false
   },
   "outputs": [
    {
     "data": {
      "text/plain": [
       "['hospital_expire_flag',\n",
       " 'GCS Total_15',\n",
       " 'GCS Total_3',\n",
       " 'GCS Total_6',\n",
       " 'GCS Total_4',\n",
       " 'RR_mean_Q3',\n",
       " 'Creat_abnflag',\n",
       " 'Respiratory failure; insufficiency; arrest (adult)',\n",
       " 'Shock',\n",
       " 'Septicemia (except in labor)',\n",
       " 'Acute and unspecified renal failure',\n",
       " 'icu_stay_Q3',\n",
       " 'Other liver diseases',\n",
       " 'first_careunit_CSRU',\n",
       " 'Fluid and electrolyte disorders',\n",
       " 'admission_type_ELECTIVE',\n",
       " 'Pneumonia (except that caused by tuberculosis or sexually transmitted disease)',\n",
       " 'Acute cerebrovascular disease',\n",
       " 'icu_stay_Q0',\n",
       " 'age_Q3',\n",
       " 'first_careunit_MICU']"
      ]
     },
     "execution_count": 45,
     "metadata": {},
     "output_type": "execute_result"
    }
   ],
   "source": [
    "list(all_data.columns)"
   ]
  },
  {
   "cell_type": "code",
   "execution_count": 82,
   "metadata": {
    "collapsed": true
   },
   "outputs": [],
   "source": [
    "all_data.rename(index=str, columns={\"Pneumonia (except that caused by tuberculosis or sexually transmitted disease)\": \"Pneumonia\",\n",
    "                                         \"Respiratory failure; insufficiency; arrest (adult)\": \"Respiratory Failure\"}, \n",
    "                     inplace = True)"
   ]
  },
  {
   "cell_type": "code",
   "execution_count": 84,
   "metadata": {
    "collapsed": false
   },
   "outputs": [
    {
     "data": {
      "text/html": [
       "<div>\n",
       "<table border=\"1\" class=\"dataframe\">\n",
       "  <thead>\n",
       "    <tr style=\"text-align: right;\">\n",
       "      <th></th>\n",
       "      <th>hospital_expire_flag</th>\n",
       "      <th>GCS Total_15</th>\n",
       "      <th>GCS Total_3</th>\n",
       "      <th>GCS Total_6</th>\n",
       "      <th>GCS Total_4</th>\n",
       "      <th>Respiratory Failure</th>\n",
       "      <th>Shock</th>\n",
       "      <th>Septicemia (except in labor)</th>\n",
       "      <th>Acute and unspecified renal failure</th>\n",
       "      <th>Other liver diseases</th>\n",
       "      <th>Fluid and electrolyte disorders</th>\n",
       "      <th>Pneumonia</th>\n",
       "      <th>Acute cerebrovascular disease</th>\n",
       "    </tr>\n",
       "    <tr>\n",
       "      <th>icustay_id</th>\n",
       "      <th></th>\n",
       "      <th></th>\n",
       "      <th></th>\n",
       "      <th></th>\n",
       "      <th></th>\n",
       "      <th></th>\n",
       "      <th></th>\n",
       "      <th></th>\n",
       "      <th></th>\n",
       "      <th></th>\n",
       "      <th></th>\n",
       "      <th></th>\n",
       "      <th></th>\n",
       "    </tr>\n",
       "  </thead>\n",
       "  <tbody>\n",
       "    <tr>\n",
       "      <th>294638</th>\n",
       "      <td>0</td>\n",
       "      <td>1.0</td>\n",
       "      <td>0.0</td>\n",
       "      <td>0.0</td>\n",
       "      <td>0.0</td>\n",
       "      <td>0</td>\n",
       "      <td>0</td>\n",
       "      <td>1</td>\n",
       "      <td>0</td>\n",
       "      <td>1</td>\n",
       "      <td>1</td>\n",
       "      <td>0</td>\n",
       "      <td>0</td>\n",
       "    </tr>\n",
       "    <tr>\n",
       "      <th>217847</th>\n",
       "      <td>0</td>\n",
       "      <td>1.0</td>\n",
       "      <td>0.0</td>\n",
       "      <td>0.0</td>\n",
       "      <td>0.0</td>\n",
       "      <td>0</td>\n",
       "      <td>1</td>\n",
       "      <td>0</td>\n",
       "      <td>1</td>\n",
       "      <td>0</td>\n",
       "      <td>0</td>\n",
       "      <td>0</td>\n",
       "      <td>0</td>\n",
       "    </tr>\n",
       "    <tr>\n",
       "      <th>211200</th>\n",
       "      <td>0</td>\n",
       "      <td>0.0</td>\n",
       "      <td>1.0</td>\n",
       "      <td>0.0</td>\n",
       "      <td>0.0</td>\n",
       "      <td>0</td>\n",
       "      <td>0</td>\n",
       "      <td>0</td>\n",
       "      <td>0</td>\n",
       "      <td>0</td>\n",
       "      <td>0</td>\n",
       "      <td>0</td>\n",
       "      <td>0</td>\n",
       "    </tr>\n",
       "    <tr>\n",
       "      <th>248910</th>\n",
       "      <td>0</td>\n",
       "      <td>1.0</td>\n",
       "      <td>0.0</td>\n",
       "      <td>0.0</td>\n",
       "      <td>0.0</td>\n",
       "      <td>0</td>\n",
       "      <td>0</td>\n",
       "      <td>1</td>\n",
       "      <td>1</td>\n",
       "      <td>0</td>\n",
       "      <td>0</td>\n",
       "      <td>0</td>\n",
       "      <td>0</td>\n",
       "    </tr>\n",
       "    <tr>\n",
       "      <th>249195</th>\n",
       "      <td>0</td>\n",
       "      <td>1.0</td>\n",
       "      <td>0.0</td>\n",
       "      <td>0.0</td>\n",
       "      <td>0.0</td>\n",
       "      <td>0</td>\n",
       "      <td>0</td>\n",
       "      <td>0</td>\n",
       "      <td>0</td>\n",
       "      <td>0</td>\n",
       "      <td>0</td>\n",
       "      <td>0</td>\n",
       "      <td>0</td>\n",
       "    </tr>\n",
       "  </tbody>\n",
       "</table>\n",
       "</div>"
      ],
      "text/plain": [
       "            hospital_expire_flag  GCS Total_15  GCS Total_3  GCS Total_6  \\\n",
       "icustay_id                                                                 \n",
       "294638                         0           1.0          0.0          0.0   \n",
       "217847                         0           1.0          0.0          0.0   \n",
       "211200                         0           0.0          1.0          0.0   \n",
       "248910                         0           1.0          0.0          0.0   \n",
       "249195                         0           1.0          0.0          0.0   \n",
       "\n",
       "            GCS Total_4  Respiratory Failure  Shock  \\\n",
       "icustay_id                                            \n",
       "294638              0.0                    0      0   \n",
       "217847              0.0                    0      1   \n",
       "211200              0.0                    0      0   \n",
       "248910              0.0                    0      0   \n",
       "249195              0.0                    0      0   \n",
       "\n",
       "            Septicemia (except in labor)  Acute and unspecified renal failure  \\\n",
       "icustay_id                                                                      \n",
       "294638                                 1                                    0   \n",
       "217847                                 0                                    1   \n",
       "211200                                 0                                    0   \n",
       "248910                                 1                                    1   \n",
       "249195                                 0                                    0   \n",
       "\n",
       "            Other liver diseases  Fluid and electrolyte disorders  Pneumonia  \\\n",
       "icustay_id                                                                     \n",
       "294638                         1                                1          0   \n",
       "217847                         0                                0          0   \n",
       "211200                         0                                0          0   \n",
       "248910                         0                                0          0   \n",
       "249195                         0                                0          0   \n",
       "\n",
       "            Acute cerebrovascular disease  \n",
       "icustay_id                                 \n",
       "294638                                  0  \n",
       "217847                                  0  \n",
       "211200                                  0  \n",
       "248910                                  0  \n",
       "249195                                  0  "
      ]
     },
     "execution_count": 84,
     "metadata": {},
     "output_type": "execute_result"
    }
   ],
   "source": [
    "diagnoses_list = ['hospital_expire_flag', 'GCS Total_15', 'GCS Total_3', 'GCS Total_6', 'GCS Total_4', \n",
    "                          'Respiratory Failure','Shock', 'Septicemia (except in labor)', 'Acute and unspecified renal failure','Other liver diseases',\n",
    "                         'Fluid and electrolyte disorders',\n",
    "                          'Pneumonia',\n",
    "                            'Acute cerebrovascular disease',]\n",
    "meas_list = ['hospital_expire_flag', 'Creat_abnflag','icu_stay_Q3','first_careunit_CSRU',\n",
    "                          'admission_type_ELECTIVE', 'icu_stay_Q0','age_Q3','first_careunit_MICU']\n",
    "diagnoses_features = all_data[diagnoses_list]\n",
    "meas_features = all_data[diagnoses_list]\n",
    "\n",
    "\n",
    "\n",
    "\n",
    "\n",
    "\n",
    "\n",
    "diagnoses_features.head()"
   ]
  },
  {
   "cell_type": "code",
   "execution_count": null,
   "metadata": {
    "collapsed": true
   },
   "outputs": [],
   "source": []
  },
  {
   "cell_type": "code",
   "execution_count": 95,
   "metadata": {
    "collapsed": false
   },
   "outputs": [
    {
     "data": {
      "text/html": [
       "<div>\n",
       "<table border=\"1\" class=\"dataframe\">\n",
       "  <thead>\n",
       "    <tr style=\"text-align: right;\">\n",
       "      <th></th>\n",
       "      <th>GCS Total_15</th>\n",
       "      <th>GCS Total_3</th>\n",
       "      <th>GCS Total_6</th>\n",
       "      <th>GCS Total_4</th>\n",
       "      <th>Respiratory Failure</th>\n",
       "      <th>Shock</th>\n",
       "      <th>Septicemia (except in labor)</th>\n",
       "      <th>Acute and unspecified renal failure</th>\n",
       "      <th>Other liver diseases</th>\n",
       "      <th>Fluid and electrolyte disorders</th>\n",
       "      <th>Pneumonia</th>\n",
       "      <th>Acute cerebrovascular disease</th>\n",
       "    </tr>\n",
       "  </thead>\n",
       "  <tbody>\n",
       "    <tr>\n",
       "      <th>Non-Survivors</th>\n",
       "      <td>9.446254</td>\n",
       "      <td>21.612903</td>\n",
       "      <td>29.906542</td>\n",
       "      <td>59.090909</td>\n",
       "      <td>31.9933</td>\n",
       "      <td>35.326087</td>\n",
       "      <td>30.495356</td>\n",
       "      <td>28.860759</td>\n",
       "      <td>25.777778</td>\n",
       "      <td>22.547584</td>\n",
       "      <td>22.955975</td>\n",
       "      <td>52.631579</td>\n",
       "    </tr>\n",
       "    <tr>\n",
       "      <th>Survivors</th>\n",
       "      <td>90.553746</td>\n",
       "      <td>78.387097</td>\n",
       "      <td>70.093458</td>\n",
       "      <td>40.909091</td>\n",
       "      <td>68.0067</td>\n",
       "      <td>64.673913</td>\n",
       "      <td>69.504644</td>\n",
       "      <td>71.139241</td>\n",
       "      <td>74.222222</td>\n",
       "      <td>77.452416</td>\n",
       "      <td>77.044025</td>\n",
       "      <td>47.368421</td>\n",
       "    </tr>\n",
       "  </tbody>\n",
       "</table>\n",
       "</div>"
      ],
      "text/plain": [
       "               GCS Total_15  GCS Total_3  GCS Total_6  GCS Total_4  \\\n",
       "Non-Survivors      9.446254    21.612903    29.906542    59.090909   \n",
       "Survivors         90.553746    78.387097    70.093458    40.909091   \n",
       "\n",
       "               Respiratory Failure      Shock  Septicemia (except in labor)  \\\n",
       "Non-Survivors              31.9933  35.326087                     30.495356   \n",
       "Survivors                  68.0067  64.673913                     69.504644   \n",
       "\n",
       "               Acute and unspecified renal failure  Other liver diseases  \\\n",
       "Non-Survivors                            28.860759             25.777778   \n",
       "Survivors                                71.139241             74.222222   \n",
       "\n",
       "               Fluid and electrolyte disorders  Pneumonia  \\\n",
       "Non-Survivors                        22.547584  22.955975   \n",
       "Survivors                            77.452416  77.044025   \n",
       "\n",
       "               Acute cerebrovascular disease  \n",
       "Non-Survivors                      52.631579  \n",
       "Survivors                          47.368421  "
      ]
     },
     "metadata": {},
     "output_type": "display_data"
    },
    {
     "data": {
      "text/html": [
       "<div>\n",
       "<table border=\"1\" class=\"dataframe\">\n",
       "  <thead>\n",
       "    <tr style=\"text-align: right;\">\n",
       "      <th></th>\n",
       "      <th>Creat_abnflag</th>\n",
       "      <th>icu_stay_Q3</th>\n",
       "      <th>first_careunit_CSRU</th>\n",
       "      <th>admission_type_ELECTIVE</th>\n",
       "      <th>icu_stay_Q0</th>\n",
       "      <th>age_Q3</th>\n",
       "      <th>first_careunit_MICU</th>\n",
       "    </tr>\n",
       "  </thead>\n",
       "  <tbody>\n",
       "    <tr>\n",
       "      <th>Non-Survivors</th>\n",
       "      <td>22.264151</td>\n",
       "      <td>24.712042</td>\n",
       "      <td>7.26979</td>\n",
       "      <td>5.393258</td>\n",
       "      <td>11.165049</td>\n",
       "      <td>24.83871</td>\n",
       "      <td>23.015873</td>\n",
       "    </tr>\n",
       "    <tr>\n",
       "      <th>Survivors</th>\n",
       "      <td>77.735849</td>\n",
       "      <td>75.287958</td>\n",
       "      <td>92.73021</td>\n",
       "      <td>94.606742</td>\n",
       "      <td>88.834951</td>\n",
       "      <td>75.16129</td>\n",
       "      <td>76.984127</td>\n",
       "    </tr>\n",
       "  </tbody>\n",
       "</table>\n",
       "</div>"
      ],
      "text/plain": [
       "               Creat_abnflag  icu_stay_Q3  first_careunit_CSRU  \\\n",
       "Non-Survivors      22.264151    24.712042              7.26979   \n",
       "Survivors          77.735849    75.287958             92.73021   \n",
       "\n",
       "               admission_type_ELECTIVE  icu_stay_Q0    age_Q3  \\\n",
       "Non-Survivors                 5.393258    11.165049  24.83871   \n",
       "Survivors                    94.606742    88.834951  75.16129   \n",
       "\n",
       "               first_careunit_MICU  \n",
       "Non-Survivors            23.015873  \n",
       "Survivors                76.984127  "
      ]
     },
     "metadata": {},
     "output_type": "display_data"
    },
    {
     "data": {
      "text/plain": [
       "(array([0, 1, 2, 3, 4, 5, 6]), <a list of 7 Text xticklabel objects>)"
      ]
     },
     "execution_count": 95,
     "metadata": {},
     "output_type": "execute_result"
    },
    {
     "data": {
      "image/png": "[encoded data removed]",
      "text/plain": [
       "<matplotlib.figure.Figure at 0x11a6ddd90>"
      ]
     },
     "metadata": {},
     "output_type": "display_data"
    },
    {
     "data": {
      "image/png": "[encoded data removed]",
      "text/plain": [
       "<matplotlib.figure.Figure at 0x11d309850>"
      ]
     },
     "metadata": {},
     "output_type": "display_data"
    }
   ],
   "source": [
    "live_dead_dict = {}\n",
    "col = all_data.columns[1]\n",
    "\n",
    "for col in all_data.columns[1:]: #all_data.columns[1:]:\n",
    "    # ALL DATA FOR WHICH \n",
    "    positives = all_data[all_data[col] == 1] #all_data[all_data[col] == 1]\n",
    "    dead = positives.hospital_expire_flag.sum()\n",
    "    total = positives.hospital_expire_flag.count()\n",
    "    dead_percent = 100.0*dead/total\n",
    "    live_percent = 100.0*(total-dead)/total\n",
    "    live_dead_dict[col] = [dead_percent, live_percent]\n",
    "    \n",
    "live_dead_df =pd.DataFrame.from_dict(live_dead_dict)\n",
    "live_dead_df.index = [['Non-Survivors', 'Survivors']]\n",
    "display(live_dead_df[diagnoses_list[1:]])\n",
    "live_dead_df[diagnoses_list[1:]].transpose().plot.bar(stacked = True, figsize = (13,6), edgecolor = 'black', linewidth = 3, \n",
    "                                alpha = 0.5, title = \"Percent of Survivors and Non-Survivors for \\n ICU Stays where Each Condition is True\")\n",
    "plt.xticks(rotation = 60, ha = 'right')\n",
    "display(live_dead_df[meas_list[1:]])\n",
    "live_dead_df[meas_list[1:]].transpose().plot.bar(stacked = True, figsize = (13,6), edgecolor = 'black', linewidth = 3, \n",
    "                                alpha = 0.5, title = \"Percent of Survivors of Non-Survivors for  \\n  ICU Stays where Each Condition is True\")\n",
    "plt.xticks(rotation = 60, ha = 'right')\n"
   ]
  },
  {
   "cell_type": "code",
   "execution_count": 69,
   "metadata": {
    "collapsed": false
   },
   "outputs": [
    {
     "data": {
      "text/plain": [
       "Index([u'hospital_expire_flag', u'GCS Total_15', u'GCS Total_3',\n",
       "       u'GCS Total_6', u'GCS Total_4', u'RR_mean_Q3', u'Creat_abnflag',\n",
       "       u'Respiratory Failure', u'Shock', u'Septicemia (except in labor)',\n",
       "       u'Acute and unspecified renal failure', u'icu_stay_Q3',\n",
       "       u'Other liver diseases', u'first_careunit_CSRU',\n",
       "       u'Fluid and electrolyte disorders', u'admission_type_ELECTIVE',\n",
       "       u'Pneumonia', u'Acute cerebrovascular disease', u'icu_stay_Q0',\n",
       "       u'age_Q3', u'first_careunit_MICU'],\n",
       "      dtype='object')"
      ]
     },
     "execution_count": 69,
     "metadata": {},
     "output_type": "execute_result"
    }
   ],
   "source": [
    "non_survivors.columns"
   ]
  },
  {
   "cell_type": "code",
   "execution_count": 97,
   "metadata": {
    "collapsed": false
   },
   "outputs": [
    {
     "data": {
      "text/html": [
       "<div>\n",
       "<table border=\"1\" class=\"dataframe\">\n",
       "  <thead>\n",
       "    <tr style=\"text-align: right;\">\n",
       "      <th></th>\n",
       "      <th>GCS Total_15</th>\n",
       "      <th>GCS Total_3</th>\n",
       "      <th>GCS Total_6</th>\n",
       "      <th>GCS Total_4</th>\n",
       "      <th>Respiratory Failure</th>\n",
       "      <th>Shock</th>\n",
       "      <th>Septicemia (except in labor)</th>\n",
       "      <th>Acute and unspecified renal failure</th>\n",
       "      <th>Other liver diseases</th>\n",
       "      <th>Fluid and electrolyte disorders</th>\n",
       "      <th>Pneumonia</th>\n",
       "      <th>Acute cerebrovascular disease</th>\n",
       "    </tr>\n",
       "  </thead>\n",
       "  <tbody>\n",
       "    <tr>\n",
       "      <th>Percent of Non_Survivors where Condition = True</th>\n",
       "      <td>19.638826</td>\n",
       "      <td>15.124153</td>\n",
       "      <td>7.223476</td>\n",
       "      <td>2.934537</td>\n",
       "      <td>43.115124</td>\n",
       "      <td>29.345372</td>\n",
       "      <td>44.469526</td>\n",
       "      <td>51.467269</td>\n",
       "      <td>13.092551</td>\n",
       "      <td>34.762980</td>\n",
       "      <td>16.478555</td>\n",
       "      <td>6.772009</td>\n",
       "    </tr>\n",
       "    <tr>\n",
       "      <th>Live</th>\n",
       "      <td>80.361174</td>\n",
       "      <td>84.875847</td>\n",
       "      <td>92.776524</td>\n",
       "      <td>97.065463</td>\n",
       "      <td>56.884876</td>\n",
       "      <td>70.654628</td>\n",
       "      <td>55.530474</td>\n",
       "      <td>48.532731</td>\n",
       "      <td>86.907449</td>\n",
       "      <td>65.237020</td>\n",
       "      <td>83.521445</td>\n",
       "      <td>93.227991</td>\n",
       "    </tr>\n",
       "    <tr>\n",
       "      <th>Percent of Survivors for which Condition = True</th>\n",
       "      <td>37.533753</td>\n",
       "      <td>10.936094</td>\n",
       "      <td>3.375338</td>\n",
       "      <td>0.405041</td>\n",
       "      <td>NaN</td>\n",
       "      <td>10.711071</td>\n",
       "      <td>20.207021</td>\n",
       "      <td>25.292529</td>\n",
       "      <td>7.515752</td>\n",
       "      <td>23.807381</td>\n",
       "      <td>NaN</td>\n",
       "      <td>1.215122</td>\n",
       "    </tr>\n",
       "    <tr>\n",
       "      <th>Live2</th>\n",
       "      <td>62.466247</td>\n",
       "      <td>89.063906</td>\n",
       "      <td>96.624662</td>\n",
       "      <td>99.594959</td>\n",
       "      <td>NaN</td>\n",
       "      <td>89.288929</td>\n",
       "      <td>79.792979</td>\n",
       "      <td>74.707471</td>\n",
       "      <td>92.484248</td>\n",
       "      <td>76.192619</td>\n",
       "      <td>NaN</td>\n",
       "      <td>98.784878</td>\n",
       "    </tr>\n",
       "  </tbody>\n",
       "</table>\n",
       "</div>"
      ],
      "text/plain": [
       "                                                 GCS Total_15  GCS Total_3  \\\n",
       "Percent of Non_Survivors where Condition = True     19.638826    15.124153   \n",
       "Live                                                80.361174    84.875847   \n",
       "Percent of Survivors for which Condition = True     37.533753    10.936094   \n",
       "Live2                                               62.466247    89.063906   \n",
       "\n",
       "                                                 GCS Total_6  GCS Total_4  \\\n",
       "Percent of Non_Survivors where Condition = True     7.223476     2.934537   \n",
       "Live                                               92.776524    97.065463   \n",
       "Percent of Survivors for which Condition = True     3.375338     0.405041   \n",
       "Live2                                              96.624662    99.594959   \n",
       "\n",
       "                                                 Respiratory Failure  \\\n",
       "Percent of Non_Survivors where Condition = True            43.115124   \n",
       "Live                                                       56.884876   \n",
       "Percent of Survivors for which Condition = True                  NaN   \n",
       "Live2                                                            NaN   \n",
       "\n",
       "                                                     Shock  \\\n",
       "Percent of Non_Survivors where Condition = True  29.345372   \n",
       "Live                                             70.654628   \n",
       "Percent of Survivors for which Condition = True  10.711071   \n",
       "Live2                                            89.288929   \n",
       "\n",
       "                                                 Septicemia (except in labor)  \\\n",
       "Percent of Non_Survivors where Condition = True                     44.469526   \n",
       "Live                                                                55.530474   \n",
       "Percent of Survivors for which Condition = True                     20.207021   \n",
       "Live2                                                               79.792979   \n",
       "\n",
       "                                                 Acute and unspecified renal failure  \\\n",
       "Percent of Non_Survivors where Condition = True                            51.467269   \n",
       "Live                                                                       48.532731   \n",
       "Percent of Survivors for which Condition = True                            25.292529   \n",
       "Live2                                                                      74.707471   \n",
       "\n",
       "                                                 Other liver diseases  \\\n",
       "Percent of Non_Survivors where Condition = True             13.092551   \n",
       "Live                                                        86.907449   \n",
       "Percent of Survivors for which Condition = True              7.515752   \n",
       "Live2                                                       92.484248   \n",
       "\n",
       "                                                 Fluid and electrolyte disorders  \\\n",
       "Percent of Non_Survivors where Condition = True                        34.762980   \n",
       "Live                                                                   65.237020   \n",
       "Percent of Survivors for which Condition = True                        23.807381   \n",
       "Live2                                                                  76.192619   \n",
       "\n",
       "                                                 Pneumonia  \\\n",
       "Percent of Non_Survivors where Condition = True  16.478555   \n",
       "Live                                             83.521445   \n",
       "Percent of Survivors for which Condition = True        NaN   \n",
       "Live2                                                  NaN   \n",
       "\n",
       "                                                 Acute cerebrovascular disease  \n",
       "Percent of Non_Survivors where Condition = True                       6.772009  \n",
       "Live                                                                 93.227991  \n",
       "Percent of Survivors for which Condition = True                       1.215122  \n",
       "Live2                                                                98.784878  "
      ]
     },
     "metadata": {},
     "output_type": "display_data"
    },
    {
     "data": {
      "image/png": "[encoded data removed]",
      "text/plain": [
       "<matplotlib.figure.Figure at 0x11c744190>"
      ]
     },
     "metadata": {},
     "output_type": "display_data"
    },
    {
     "data": {
      "image/png": "[encoded data removed]",
      "text/plain": [
       "<matplotlib.figure.Figure at 0x11a778050>"
      ]
     },
     "metadata": {},
     "output_type": "display_data"
    }
   ],
   "source": [
    "dead_positive_dict = {}\n",
    "non_survivors = all_data[all_data.hospital_expire_flag == 1]\n",
    "\n",
    "# CALCULATION OF THE PERCENT OF NON-SURVIVORS FOR WHICH EACH CONDITION IS TRUE AND FALSE\n",
    "for col in non_survivors.columns[1:]:\n",
    "    # NUMBER OF NON-SURVIVORS FOR WHICH CONDITION IS TRUE\n",
    "    dead_positive = non_survivors[col].sum()\n",
    "    total = non_survivors[col].count()\n",
    "    # PERCENTAGE OF NON-SURVIVORS FOR WHICH CONDITION IS FALSE AND TRUE\n",
    "    positive_percent = 100.0*dead_positive/total\n",
    "    negative_percent = 100.0*(total-dead_positive)/total\n",
    "    dead_positive_dict[col] = [positive_percent, negative_percent]\n",
    "    \n",
    "dead_positive_df =pd.DataFrame.from_dict(dead_positive_dict)\n",
    "dead_positive_df.index = [['Percent of Non_Survivors where Condition = True', 'Live']]\n",
    "#display(dead_positive_df)\n",
    "'''\n",
    "live_dead_df.transpose().plot.bar(stacked = True, figsize = (13,6), edgecolor = 'black', linewidth = 3, \n",
    "                                alpha = 0.5, title = \"Percent of Non_Survivor Samples with Positive Label\")\n",
    "'''\n",
    "\n",
    "live_positive_dict = {}\n",
    "survivors = all_data[all_data.hospital_expire_flag == 0]\n",
    "\n",
    "# CALCULATION OF THE PERCENT OF SURVIVORS FOR WHICH EACH CONDITION IS TRUE AND FALSE\n",
    "for col in survivors.columns[1:]:\n",
    "    # NUMBER OF SURVIVORS FOR WHICH CONDITION IS TRUE\n",
    "    live_positive = survivors[col].sum()\n",
    "    total = survivors[col].count()\n",
    "    # PERCENT OF SURVIVORS FOR WHICH CONDITION IS TRUE AND FALSE\n",
    "    positive_percent = 100.0*live_positive/total\n",
    "    negative_percent = 100.0*(total-live_positive)/total\n",
    "    live_positive_dict[col] = [positive_percent, negative_percent]\n",
    "    \n",
    "live_positive_df=pd.DataFrame.from_dict(live_dead_dict2)\n",
    "live_positive_df.index = [['Percent of Survivors for which Condition = True', 'Live2']]\n",
    "#display(live_positive_df)\n",
    "\n",
    "positive_df = dead_positive_df.append(live_positive_df)\n",
    "display(positive_df[list(diagnoses_features.columns[1:])])\n",
    "# PLOTTING PERCENTAGES OF SURVIVORS AND NON-SURVIVORS FOR WHCIH CONDITION IS TRUE. \n",
    "# PLOTTING DIAGNOSES FEATURES IN ONE PLOT\n",
    "ax1 = positive_df[diagnoses_list[1:]].transpose()[['Percent of Non_Survivors where Condition = True','Percent of Survivors for which Condition = True']].plot.bar(stacked = False, figsize = (13,6), edgecolor = 'black', linewidth = 3, \n",
    "                                alpha = 0.5, title = \"Percent of Survivors and Non-Survivors for which Condition is True\")\n",
    "plt.xticks(rotation = 60, ha = 'right')\n",
    "ax1.set_ylim([0,100]) \n",
    "# PLOTTING REST OF FEATURES IN ANOTHER PLOT\n",
    "ax2 = positive_df[meas_list[1:]].transpose()[['Percent of Non_Survivors where Condition = True','Percent of Survivors for which Condition = True']].plot.bar(stacked = False, figsize = (13,6), edgecolor = 'black', linewidth = 3, \n",
    "                                alpha = 0.5, title = \"Percent of Survivors and Non-Survivors for which Condition is True\")\n",
    "plt.xticks(rotation = 60, ha = 'right')\n",
    "ax2.set_ylim([0,100])\n",
    "plt.show()\n",
    "\n"
   ]
  },
  {
   "cell_type": "code",
   "execution_count": 81,
   "metadata": {
    "collapsed": false
   },
   "outputs": [
    {
     "data": {
      "text/plain": [
       "(array([ 0,  1,  2,  3,  4,  5,  6,  7,  8,  9, 10, 11, 12, 13, 14, 15, 16,\n",
       "        17, 18, 19, 20]), <a list of 21 Text xticklabel objects>)"
      ]
     },
     "execution_count": 81,
     "metadata": {},
     "output_type": "execute_result"
    },
    {
     "data": {
      "image/png": "[encoded data removed]",
      "text/plain": [
       "<matplotlib.figure.Figure at 0x119b187d0>"
      ]
     },
     "metadata": {},
     "output_type": "display_data"
    }
   ],
   "source": [
    "\n",
    "total = all_data.shape[1]\n",
    "for col in all_data.columns[1:]:\n",
    "    # SELECT DATA FOR WHICH FEATURE == 1\n",
    "    positives = all_data[all_data[col]==1]\n",
    "    # CALCULATE HOW MANY OF THOSE PATIENTS WERE NON-SURVIVORS\n",
    "    dead = positives.hospital_expire_flag.sum()\n",
    "    # CALCULATE NUMBER OF PATIENTS WHO WERE SURVIVORS\n",
    "    live = positives[positives.hospital_expire_flag == 0].count()\n",
    "    # TOTAL NUMBER OF PATIENTS FOR WHOME FEATURE == 1\n",
    "    totals = positives.count()\n",
    "    # \n",
    "    dead_percent = dead / totals\n",
    "    live_percent = live / totals\n",
    "#deads.name = \"Number of Positive in Dead\"\n",
    "all_deads = all_data[all_data.hospital_expire_flag == 1].count()\n",
    "\n",
    "\n",
    "\n",
    "all_deads.name = \"Number of Dead Patients\"\n",
    "survives = all_data[all_data.hospital_expire_flag == 0].sum()\n",
    "survives.name = \"Number of positive in survivors\"\n",
    "all_survives = all_data[all_data.hospital_expire_flag == 0].count()\n",
    "all_survives.name = \"Number of Surivor Patients\"\n",
    "dead_percent = 100.00*(deads / all_deads)\n",
    "live_percent = 100.00*(survives / all_survives)\n",
    "monkey = pd.concat([live_percent, dead_percent], axis = 1)\n",
    "\n",
    "    #display(monkey)\n",
    "\n",
    "monkey.rename(index=str, columns={\"Pneumonia (except that caused by tuberculosis or sexually transmitted disease)\": \"Pneumonia\",\n",
    "                                         \"Respiratory failure; insufficiency; arrest (adult)\": \"Respiratory Failure\"}, \n",
    "                     inplace = True)\n",
    "ax = monkey.plot.bar(stacked = True, figsize = (13,6), edgecolor = 'black', linewidth = 3, \n",
    "                                alpha = 0.5, title = \"Survival Rate for \" + col)\n",
    "plt.xticks(rotation = 60, ha = 'right')\n",
    "#ax.set_ylim([0,100])"
   ]
  },
  {
   "cell_type": "code",
   "execution_count": null,
   "metadata": {
    "collapsed": false
   },
   "outputs": [
    {
     "data": {
      "text/plain": [
       "2665"
      ]
     },
     "metadata": {},
     "output_type": "display_data"
    },
    {
     "data": {
      "text/plain": [
       "443"
      ]
     },
     "metadata": {},
     "output_type": "display_data"
    },
    {
     "data": {
      "text/plain": [
       "<function matplotlib.pyplot.show>"
      ]
     },
     "execution_count": 5,
     "metadata": {},
     "output_type": "execute_result"
    }
   ],
   "source": [
    "col = all_data.columns[0]\n",
    "total = all_data[col].count()\n",
    "display(total)\n",
    "dead = all_data[all_data.hospital_expire_flag ==1].count()\n",
    "display(dead)\n",
    "\n",
    "all_data[all_data.columns[1:6]].plot.bar(stacked = True, figsize = (13,6), edgecolor = 'black', linewidth = 3, \n",
    "                                alpha = 0.5, title = \"Survival Rate for all variables\")\n",
    "plt.show"
   ]
  },
  {
   "cell_type": "code",
   "execution_count": null,
   "metadata": {
    "collapsed": false
   },
   "outputs": [],
   "source": [
    "for col in all_data.columns:\n",
    "    \n",
    "    total = all_data[col].count()\n",
    "   \n",
    "    dead = all_data[all_data.hospital_expire_flag == 1][col].count()\n",
    "    #dead.name = 'Survivors'\n",
    "    dead_percent = 100.00*(dead / total)\n",
    "    live = all_data[all_data.hospital_expire_flag == 0][col].count()\n",
    "    #live.name = 'Non_Survivors'\n",
    "    live_percent = 100.00*(live / total)\n",
    "    monkey = pd.concat([live_percent, dead_percent], axis = 1)\n",
    "\n",
    "    #display(monkey)\n",
    "\n",
    "    monkey.plot.bar(stacked = True, figsize = (13,6), edgecolor = 'black', linewidth = 3, \n",
    "                                alpha = 0.5, title = \"Survival Rate for \" + col)"
   ]
  },
  {
   "cell_type": "code",
   "execution_count": null,
   "metadata": {
    "collapsed": false
   },
   "outputs": [],
   "source": [
    "monkey = features_dict.keys()\n",
    "monkey.sort()\n",
    "for chimp in monkey:\n",
    "    print \"{}     {}\".format(chimp, features_dict[chimp].shape)"
   ]
  },
  {
   "cell_type": "code",
   "execution_count": null,
   "metadata": {
    "collapsed": true
   },
   "outputs": [],
   "source": [
    "# THE SUPPORT VECTOR CLASSIFIER IS OPTIMZED TO TO F1-SCORE AND RECALL OVER THE GIVEN PARAMETER SPACE\n",
    "# AND OVER THE NUMBER OF FEATURES USING THE TOP 20 FEATURES RANKED ACCORDING TO CHI2 SCORE\n",
    "# RECALL FOR MORTALITY PREDICTION IS IMPORTANT IN THAT WE DON'T WANT FALSE NEGATIVES. \n",
    "# THE SUPPORT VECTOR CLASSIFIER TAKES A VERY LONG TIME TO OPTIMIZE OVER THE GIVEN PARAMETER SPACE SO \n",
    "# THAT IS BEING DONE INDIVIDUALLY HERE. THE REMAINING CLASSIFIERS ARE OPTIMIZED BELOW\n",
    "\n",
    "optimized_clfs = {}\n",
    "\n",
    "#LinearSVC CLASSIFIER PARAMETERES\n",
    "SVC_params = {'C':[0.3, 0.4, 0.5, 0.6, 0.7,0.8,0.9,1],  \n",
    "               'class_weight': [{1:3, 0:1}, {1:4, 0:1}, {1:5, 0:1}],\n",
    "               'kernel': ['rbf', 'sigmoid', 'poly',], \n",
    "               'degree': [2,3,4], \n",
    "               'decision_function_shape': ['ovr','ovo']\n",
    "                                \n",
    "              }\n",
    "\n",
    "\n",
    "# CLASSIFIER SCORES\n",
    "scores = ['f1', 'recall'] #'accuracy', , 'precision']\n",
    "\n",
    "# DICTIONARY OF CLASSIFIERS AND CORRESPONDING PARAMETERS \n",
    "SVC = svm.SVC(random_state = 42)\n",
    "SVC_stuff = [SVC, SVC_params]\n",
    "\n",
    "classifiers = {\n",
    "               'SVC' : SVC_stuff\n",
    "              }\n",
    "               \n",
    "\n",
    "\n",
    "for key in classifiers.keys():\n",
    "    \n",
    "    recall_mortality = 0\n",
    "    f1_mortality = 0\n",
    "    optimized_params = {}\n",
    "    optimized = {}\n",
    "    optimized_scores = \"\"\n",
    "    recall_scores = {}\n",
    "    f1_scores = {}\n",
    "\n",
    "    print \"Evaluating {}\".format(key)\n",
    "    for num_feats in range(8, all_data.shape[1]):\n",
    "        print \"{} features\".format(num_feats)\n",
    "        # FEATURES AND TARGETS\n",
    "        X_best = all_data[all_data.columns[1:num_feats]]\n",
    "        y = all_data['hospital_expire_flag']\n",
    "\n",
    "        X_train, X_test, y_train, y_test = train_test_split(X_best, y, test_size = 0.30, random_state = 42)\n",
    "        \n",
    "        \n",
    "        # MAY NOT BE NECESSARY THE WAY THE CODE IS CURRENTLY BROKEN OUT\n",
    "        for score in scores:\n",
    "            #print\"# Optimizing parameters for {} classifier to {} score using {} features\".format(key, score, num_feats)\n",
    "\n",
    "         \n",
    "            clf = GridSearchCV(classifiers[key][0], classifiers[key][1], cv = 5, \n",
    "                           scoring = score)\n",
    "\n",
    "            clf.fit(X_train, y_train)\n",
    "    \n",
    "            y_true, y_pred = y_test, clf.predict(X_test)\n",
    "            scores_report = metrics.classification_report(y_true, y_pred)\n",
    "            \n",
    "            \n",
    "            #print(clf.best_params_)\n",
    "            #print(scores_report)\n",
    "         \n",
    "            if score == 'recall':\n",
    "                surv, mort = metrics.recall_score(y_true, y_pred, average = None)\n",
    "                # a metric that maximizes both variables and minimizes the difference between them\n",
    "                recall_metric = mort + surv - (abs(mort-surv))\n",
    "                recall_scores[str(num_feats)] = [surv, mort, recall_metric]\n",
    "                if (recall_metric > recall_mortality):\n",
    "                    recall_mortality = recall_metric #math.sqrt(mort**2 + surv**2)\n",
    "                    optimized = clf.best_params_\n",
    "                    optimized['features'] = num_feats\n",
    "                    optimized_scores = scores_report\n",
    "                    recall_str = key + '_recall'\n",
    "                    if recall_str not in optimized_clfs:\n",
    "                        optimized_clfs[recall_str] = {}\n",
    "                    optimized_clfs[recall_str]['CLF'] = clf\n",
    "                    optimized_clfs[recall_str]['PARAMS'] = optimized\n",
    "                    optimized_clfs[recall_str]['SCORES'] = optimized_scores\n",
    "         \n",
    "            elif score == 'f1':\n",
    "            \n",
    "                surv_f1, mort_f1 = metrics.f1_score(y_true, y_pred, average = None)\n",
    "                #a metric that maximizes both variables and minimizes the difference between them\n",
    "                f1_metric = surv_f1 + mort_f1 - (abs(surv_f1-mort_f1))\n",
    "                f1_scores[str(num_feats)] = [surv_f1, mort_f1, f1_metric]\n",
    "                if (f1_metric > f1_mortality):\n",
    "                    f1_mortality = f1_metric #math.sqrt(mort**2 + surv**2)\n",
    "                    #recall_delta = abs(mort-surv)\n",
    "                    f1_optimized = clf.best_params_\n",
    "                    f1_optimized['features'] = num_feats\n",
    "                    f1_optimized_scores = scores_report\n",
    "                    f1_str = key + '_f1'\n",
    "                    if f1_str not in optimized_clfs.keys():\n",
    "                        optimized_clfs[f1_str] = {}\n",
    "                    optimized_clfs[f1_str]['CLF'] = clf\n",
    "                    optimized_clfs[f1_str]['PARAMS'] = f1_optimized\n",
    "                    optimized_clfs[f1_str]['SCORES'] = optimized_scores\n",
    "            \n",
    "\n",
    "    print \"ANALYSIS COMPLETE\"\n",
    "    recalls = pd.DataFrame.from_dict(recall_scores)\n",
    "    recalls = recalls.transpose()\n",
    "    recalls['features'] = recalls.index\n",
    "    recalls['features'] = recalls['features'].apply(lambda x: int(x))\n",
    "    recalls.sort_values(by = 'features', inplace = True)\n",
    "    recalls.columns = ['Survivors', 'Non-Survivors', 'Metric', 'Features']\n",
    "    recalls[['Survivors', 'Non-Survivors', 'Metric']].plot(title = 'Recall Scores', \n",
    "                                                           use_index = True, figsize = (16,6))\n",
    "    plt.show()\n",
    "    print \"Optimized Parameters for the {} Classifier for recall are\".format(key)\n",
    "    print(optimized)\n",
    "    print \"optimized Scores are\"\n",
    "    print(optimized_scores)\n",
    "       \n",
    "    \n",
    "    f1s = pd.DataFrame.from_dict(f1_scores)\n",
    "    f1s = f1s.transpose()\n",
    "    f1s['features'] = f1s.index\n",
    "    f1s['features'] = f1s['features'].apply(lambda x: int(x))\n",
    "    f1s.sort_values(by = 'features', inplace = True)\n",
    "    f1s.columns = ['Survivors', 'Non-Survivors', 'Metric', 'Features']\n",
    "    f1s[['Survivors', 'Non-Survivors', 'Metric']].plot(title = 'F1 Scores', use_index = True, figsize = (16,6))\n",
    "    plt.show()\n",
    "    print \"Optimized Parameters for the {} Classifier for f1_score are\".format(key)\n",
    "    print(f1_optimized)\n",
    "    print \"Optimized Scores are\"\n",
    "    print(f1_optimized_scores)\n",
    "    "
   ]
  },
  {
   "cell_type": "code",
   "execution_count": null,
   "metadata": {
    "collapsed": false,
    "scrolled": false
   },
   "outputs": [],
   "source": [
    "# OPTIMIZING THE KNEIGHBORS, LINEAR SUPPORT VECTOR AND MULTI LAYER PERCEPTRON CLASSIFIERS TO F1-SCORE AND RECALL\n",
    "# OVER THE GIVEN PARAMETER SPACE AND OVER THE NUMBER OF FEATURES USING THE TOP 20 FEATURES RANKED \n",
    "# ACCORDING TO CHI2 SCORE\n",
    "# RECALL FOR MORTALITY PREDICTION IS IMPORTANT IN THAT WE DON'T WANT FALSE NEGATIVES. \n",
    "\n",
    "# NEAREST NEIGHBOR CLASSIFIER PARAMETERS\n",
    "\n",
    "kneighbors_params = {'n_neighbors': [2,4,6,8], \n",
    "                     'weights': ['uniform', 'distance'], \n",
    "                     'algorithm': ['auto', 'ball_tree', 'kd_tree', 'brute'],\n",
    "                    }\n",
    "#LinearSVC CLASSIFIER PARAMETERES\n",
    "LSVC_params = {'C':[0.1, 0.2, 0.3, 0.4, 0.5, 0.6, 0.7,0.8,0.9,1],  \n",
    "               'class_weight': [#{1:1, 0:1}, {1:2, 0:1}, {1:2.5, 0:1}, \n",
    "                                {1:3, 0:1}, {1:3.5, 0:1}, {1:4, 0:1}, \n",
    "                                {1:4.5, 0:1}, {1:5, 0:1}, {1:5.5, 0:1}, {1:6, 0:1}], \n",
    "                                #{1:6, 0:1}, {1:6.7, 0:1}, {1:7, 0:1}],\n",
    "                   'loss':['hinge', 'squared_hinge']\n",
    "              }\n",
    "\n",
    "\n",
    "MLP_params = {\n",
    "              'activation': ['identity', 'logistic', 'tanh', 'relu'], \n",
    "              'solver': ['lbfgs', 'sgd', 'adam']\n",
    "             \n",
    "             }\n",
    "\n",
    "\n",
    "\n",
    "\n",
    "# DICTIONARY OF CLASSIFIERS AND CORRESPONDING PARAMETERS \n",
    "\n",
    "\n",
    "# CLASSIFIER SCORES\n",
    "scores = ['f1', 'recall'] #'accuracy',, 'recall' , 'precision']\n",
    "\n",
    "# DICTIONARY OF CLASSIFIERS AND CORRESPONDING PARAMETERS \n",
    "Kneighb = KNeighborsClassifier()\n",
    "LSVC = svm.LinearSVC(random_state = 42)\n",
    "MLP = MLPClassifier(random_state = 42)\n",
    "#SVC = svm.SVC(random_state = 42)\n",
    "KNeighbors_stuff = [Kneighb, kneighbors_params]\n",
    "LSVC_stuff = [LSVC, LSVC_params]\n",
    "MLP_stuff = [MLP, MLP_params]\n",
    "classifiers = {\n",
    "               \n",
    "              }\n",
    "#SVC_stuff = [SVC, SVC_params]\n",
    "classifiers = {'LSVC': LSVC_stuff,\n",
    "               'Kneighbors': KNeighbors_stuff, \n",
    "               'MLP': MLP_stuff\n",
    "               \n",
    "              }\n",
    "                \n",
    "\n",
    "\n",
    "for key in classifiers.keys():\n",
    "    \n",
    "    recall_mortality = 0\n",
    "    f1_mortality = 0\n",
    "    optimized_params = {}\n",
    "    optimized = {}\n",
    "    \n",
    "    optimized_scores = \"\"\n",
    "    recall_scores = {}\n",
    "    f1_scores = {}\n",
    "\n",
    "    print \"Evaluating {}\".format(key)\n",
    "    for num_feats in range(8, (all_data.shape[1])):\n",
    "        print \"{} features\".format(num_feats)\n",
    "        # FEATURES AND TARGETS\n",
    "        X_best = all_data[all_data.columns[1:num_feats]]\n",
    "        y = all_data['hospital_expire_flag']\n",
    "\n",
    "        X_train, X_test, y_train, y_test = train_test_split(X_best, y, test_size = 0.30, random_state = 42)\n",
    "        \n",
    "        if key == 'MLP':\n",
    "            input_layer = num_feats\n",
    "            middle_layer = int(math.ceil(num_feats/2))\n",
    "            classifiers[key][0] = MLPClassifier(random_state = 42, \n",
    "                                                hidden_layer_sizes = (input_layer, middle_layer)\n",
    "                                                )\n",
    "            print \"MLP Layers ({}, {})\".format(num_feats, math.ceil(num_feats/2))\n",
    "        # MAY NOT BE NECESSARY THE WAY THE CODE IS CURRENTLY BROKEN OUT\n",
    "        for score in scores:\n",
    "            #print\"# Optimizing parameters for {} classifier to {} score using {} features\".format(key, score, num_feats)\n",
    "\n",
    "         \n",
    "            clf = GridSearchCV(classifiers[key][0], classifiers[key][1], cv = 5, \n",
    "                           scoring = score)\n",
    "\n",
    "            clf.fit(X_train, y_train)\n",
    "    \n",
    "            y_true, y_pred = y_test, clf.predict(X_test)\n",
    "            scores_report = metrics.classification_report(y_true, y_pred)\n",
    "            #print(scores_report)\n",
    "         \n",
    "            if score == 'recall':\n",
    "                surv, mort = metrics.recall_score(y_true, y_pred, average = None)\n",
    "                # a metric that maximizes both variables and minimizes the difference between them\n",
    "                recall_metric = mort + surv - (abs(mort-surv))\n",
    "                recall_scores[str(num_feats)] = [surv, mort, recall_metric]\n",
    "                if (recall_metric > recall_mortality):\n",
    "                    recall_mortality = recall_metric #math.sqrt(mort**2 + surv**2)\n",
    "                    optimized = clf.best_params_\n",
    "                    optimized['features'] = num_feats\n",
    "                    optimized_scores = scores_report\n",
    "                    recall_str = key + '_recall'\n",
    "                    if recall_str not in optimized_clfs:\n",
    "                        optimized_clfs[recall_str] = {}\n",
    "                    optimized_clfs[recall_str]['CLF'] = clf\n",
    "                    optimized_clfs[recall_str]['PARAMS'] = optimized\n",
    "                    optimized_clfs[recall_str]['SCORES'] = optimized_scores\n",
    "                    \n",
    "         \n",
    "            elif score == 'f1':\n",
    "            \n",
    "                surv_f1, mort_f1 = metrics.f1_score(y_true, y_pred, average = None)\n",
    "                #a metric that maximizes both variables and minimizes the difference between them\n",
    "                f1_metric = surv_f1 + mort_f1 - (abs(surv_f1-mort_f1))\n",
    "                f1_scores[str(num_feats)] = [surv_f1, mort_f1, f1_metric]\n",
    "                if (f1_metric > f1_mortality):\n",
    "                    f1_mortality = f1_metric #math.sqrt(mort**2 + surv**2)\n",
    "                    #recall_delta = abs(mort-surv)\n",
    "                    f1_optimized = clf.best_params_\n",
    "                    f1_optimized['features'] = num_feats\n",
    "                    f1_optimized_scores = scores_report\n",
    "                    f1_str = key + '_f1'\n",
    "                    if f1_str not in optimized_clfs:\n",
    "                        optimized_clfs[f1_str] = {}\n",
    "                    optimized_clfs[f1_str]['CLF'] = clf\n",
    "                    optimized_clfs[f1_str]['PARAMS'] = optimized\n",
    "                    optimized_clfs[f1_str]['SCORES'] = optimized_scores\n",
    "                    \n",
    "                    \n",
    "            \n",
    "   \n",
    "    print \"ANALYSIS COMPLETE\"\n",
    "    recalls = pd.DataFrame.from_dict(recall_scores)\n",
    "    recalls = recalls.transpose()\n",
    "    recalls['features'] = recalls.index\n",
    "    recalls['features'] = recalls['features'].apply(lambda x: int(x))\n",
    "    recalls.sort_values(by = 'features', inplace = True)\n",
    "    recalls.columns = ['Survivors', 'Non-Survivors', 'Metric', 'Features']\n",
    "    recalls[['Survivors', 'Non-Survivors', 'Metric']].plot(title = 'Recall Scores', \n",
    "                                                           use_index = True, figsize = (16,6))\n",
    "    plt.show()\n",
    "    print \"Optimized Parameters for recall are\"\n",
    "    print(optimized)\n",
    "    print \"optimized Scores are\"\n",
    "    print(optimized_scores)\n",
    "        \n",
    "    \n",
    "    f1s = pd.DataFrame.from_dict(f1_scores)\n",
    "    f1s = f1s.transpose()\n",
    "    f1s['features'] = f1s.index\n",
    "    f1s['features'] = f1s['features'].apply(lambda x: int(x))\n",
    "    f1s.sort_values(by = 'features', inplace = True)\n",
    "    f1s.columns = ['Survivors', 'Non-Survivors', 'Metric', 'Features']\n",
    "    f1s[['Survivors', 'Non-Survivors', 'Metric']].plot(title = 'F1 Scores', use_index = True, figsize = (16,6))\n",
    "    plt.show()\n",
    "    print \"Optimized Parameters for f1 are\"\n",
    "    print(f1_optimized)\n",
    "    print \"Optimized Scores are\"\n",
    "    print(f1_optimized_scores)\n",
    "    "
   ]
  },
  {
   "cell_type": "markdown",
   "metadata": {},
   "source": [
    "## CLASSIFIERS WITH OPTIMIZED PARAMETERS OVER VARIOUS TRAIN-TEST-SPLIT SIZES"
   ]
  },
  {
   "cell_type": "code",
   "execution_count": null,
   "metadata": {
    "collapsed": false,
    "scrolled": false
   },
   "outputs": [],
   "source": [
    "\n",
    "\n",
    "for key in optimized_clfs.keys():\n",
    "    \n",
    "    recall_mortality = 0\n",
    "    f1_mortality = 0\n",
    "    optimized_params = {}\n",
    "    optimized = {}\n",
    "    optimized_scores = \"\"\n",
    "    recall_scores = {}\n",
    "    f1_scores = {}\n",
    "\n",
    "    print \"Evaluating {}\".format(key)\n",
    "    for testes_size in np.linspace(0.1, 0.5, 9):\n",
    "        # DEFINING MLP HERE SO THAT WE CAN ALTER THE NUMBER OF INPUT HIDDEN NODES TO MATCH FEATURES\n",
    "        \n",
    "        #print \"{} test size\".format(testes_size)\n",
    "        # FEATURES AND TARGETS\n",
    "        features = optimized_clfs[key]['PARAMS']['features']\n",
    "        clf = optimized_clfs[key]['CLF'].best_estimator_\n",
    "        X_best = all_data[all_data.columns[1:features]]\n",
    "        y = all_data['hospital_expire_flag']\n",
    "\n",
    "        X_train, X_test, y_train, y_test = train_test_split(X_best, y, test_size = testes_size, random_state = 42)\n",
    "        \n",
    "        \n",
    "        \n",
    "        clf.fit(X_train, y_train)\n",
    "    \n",
    "        y_true, y_pred = y_test, clf.predict(X_test)\n",
    "        scores_report = metrics.classification_report(y_true, y_pred)\n",
    "            #print(scores_report)\n",
    "         \n",
    "        if 'recall' in key:\n",
    "            surv, mort = metrics.recall_score(y_true, y_pred, average = None)\n",
    "                # a metric that maximizes both variables and minimizes the difference between them\n",
    "            recall_metric = mort + surv - (abs(mort-surv))\n",
    "            recall_scores[str(testes_size)] = [surv, mort, recall_metric]\n",
    "            if (recall_metric > recall_mortality):\n",
    "                recall_mortality = recall_metric #math.sqrt(mort**2 + surv**2)\n",
    "                optimized = optimized_clfs[key]['CLF'].best_params_\n",
    "                optimized['test_size'] = testes_size\n",
    "                optimized_clfs[key]['PARAMS']['test_size'] = testes_size\n",
    "                optimized_clfs[key]['SCORES'] = scores_report\n",
    "                optimized_scores = scores_report\n",
    "                \n",
    "         \n",
    "        elif 'f1' in key:\n",
    "                \n",
    "            surv_f1, mort_f1 = metrics.f1_score(y_true, y_pred, average = None)\n",
    "                #a metric that maximizes both variables and minimizes the difference between them\n",
    "            f1_metric = surv_f1 + mort_f1 - (abs(surv_f1-mort_f1))\n",
    "            f1_scores[str(testes_size)] = [surv_f1, mort_f1, f1_metric]\n",
    "            if (f1_metric > f1_mortality):\n",
    "                f1_mortality = f1_metric #math.sqrt(mort**2 + surv**2)\n",
    "                #recall_delta = abs(mort-surv)\n",
    "                f1_optimized = optimized_clfs[key]['CLF'].best_params_\n",
    "                f1_optimized['test_size'] = testes_size\n",
    "                optimized_clfs[key]['PARAMS']['test_size'] = testes_size\n",
    "                optimized_clfs[key]['SCORES'] = scores_report\n",
    "                f1_optimized_scores = scores_report\n",
    "                \n",
    "            \n",
    "    if 'recall' in key:   \n",
    "        print \"ANALYSIS COMPLETE\"\n",
    "        recalls = pd.DataFrame.from_dict(recall_scores)\n",
    "        recalls = recalls.transpose()\n",
    "        recalls['test_size'] = recalls.index\n",
    "        recalls['test_size'] = recalls['test_size'].apply(lambda x: float(x))\n",
    "        recalls.sort_values(by = 'test_size', inplace = True)\n",
    "        recalls.columns = ['Survivors', 'Non-Survivors', 'Metric', 'test_size']\n",
    "        recalls[['Survivors', 'Non-Survivors', 'Metric']].plot(title = key + ': Recall Scores', \n",
    "                                                           use_index = True, figsize = (16,6))\n",
    "        plt.show()\n",
    "        print \"Optimized Parameters for {} recall-score are\".format(key)\n",
    "        print(optimized)\n",
    "        print \"optimized Scores are\"\n",
    "        print(optimized_scores)\n",
    "    \n",
    "    \n",
    "    elif 'f1' in key:\n",
    "        f1s = pd.DataFrame.from_dict(f1_scores)\n",
    "        f1s = f1s.transpose()\n",
    "        f1s['test_size'] = f1s.index\n",
    "        f1s['test_size'] = f1s['test_size'].apply(lambda x: float(x))\n",
    "        f1s.sort_values(by = 'test_size', inplace = True)\n",
    "        f1s.columns = ['Survivors', 'Non-Survivors', 'Metric', 'test_Size']\n",
    "        f1s[['Survivors', 'Non-Survivors', 'Metric']].plot(title = key + ': F1 Scores', use_index = True, figsize = (16,6))\n",
    "        plt.show()\n",
    "        print \"Optimized Parameters for {} f1-score are\".format(key)\n",
    "        print(f1_optimized)\n",
    "        print \"Optimized Scores are\"\n",
    "        print(f1_optimized_scores)\n",
    "    \n",
    "print \"OPTIMIZATION COMPLETE\""
   ]
  },
  {
   "cell_type": "code",
   "execution_count": null,
   "metadata": {
    "collapsed": false
   },
   "outputs": [],
   "source": [
    "\n",
    "with open('Optimized_Classifiers.txt', 'w') as file:\n",
    "    file.write(pickle.dumps(optimized_clfs))\n"
   ]
  },
  {
   "cell_type": "code",
   "execution_count": null,
   "metadata": {
    "collapsed": false
   },
   "outputs": [],
   "source": [
    "\"\"\"\n",
    "with open('Optimized_Classifiers.txt', 'r') as file:\n",
    "    monkey = pickle.load(file)\n",
    "display(monkey)\n",
    "\"\"\""
   ]
  },
  {
   "cell_type": "code",
   "execution_count": null,
   "metadata": {
    "collapsed": false
   },
   "outputs": [],
   "source": [
    "first = True\n",
    "for key in optimized_clfs.keys():\n",
    "    print(key)\n",
    "    print(optimized_clfs[key]['SCORES'])\n",
    "\n",
    "    # CONVERT SCORES_REPORT TO DATAFRAME\n",
    "    scores = optimized_clfs[key]['SCORES'].split()\n",
    "    #display(scores)\n",
    "    cols = scores[:4]\n",
    "    ind = [x for x in scores if scores.index(x) in [4,9,14, 15, 16]]\n",
    "    ind[2] = ind[2] + ind[3] + ind[4] \n",
    "    ind.pop()\n",
    "    ind.pop()\n",
    "    # CLEAN THIS UP\n",
    "    dat = [[float(x) for x in scores[5:9]], [float(x) for x in scores[10:14]], \n",
    "                                            [float(x) for x in scores[17:22]]]\n",
    "    #display(cols)\n",
    "    #display(ind)\n",
    "    #display(dat)\n",
    "    arrays = [[key, key, key], ind]\n",
    "    tuples = list(zip(*arrays))\n",
    "    mindex = pd.MultiIndex.from_tuples(tuples, names=['Classifier', 'Classes'])\n",
    "    if first:\n",
    "        scores_frame = pd.DataFrame(dat, columns = cols, index = mindex)\n",
    "        first = False\n",
    "    else: \n",
    "        scores_frame = scores_frame.append(pd.DataFrame(dat, columns = cols, index = mindex))\n",
    "\n",
    "scores_frame"
   ]
  },
  {
   "cell_type": "code",
   "execution_count": null,
   "metadata": {
    "collapsed": true
   },
   "outputs": [],
   "source": [
    "scores_frame.to_csv('Optimized_Classifier_Scores.csv')"
   ]
  },
  {
   "cell_type": "code",
   "execution_count": null,
   "metadata": {
    "collapsed": false
   },
   "outputs": [],
   "source": [
    "display(scores_frame.iloc[scores_frame.index.get_level_values('Classes') == 'avg/total'])\n",
    "display(scores_frame.iloc[scores_frame.index.get_level_values('Classes') == '0'])\n",
    "display(scores_frame.iloc[scores_frame.index.get_level_values('Classes') == '1'])"
   ]
  },
  {
   "cell_type": "code",
   "execution_count": null,
   "metadata": {
    "collapsed": false
   },
   "outputs": [],
   "source": [
    "ax = scores_frame.iloc[scores_frame.index.get_level_values('Classes') == 'avg/total']\\\n",
    "    [['precision', 'recall', 'f1-score']].plot(\n",
    "    title = 'AVG/Total Values', use_index = True, figsize= (25,16))\n",
    "ax.set_ylim([0.0,1.0])\n",
    "for item in ([ax.title, ax.xaxis.label, ax.yaxis.label] +\n",
    "             ax.get_xticklabels() + ax.get_yticklabels()):\n",
    "    item.set_fontsize(15)\n",
    "\n",
    "    \n",
    "ax2 = scores_frame.iloc[scores_frame.index.get_level_values('Classes') == '0']\\\n",
    "[['precision', 'recall', 'f1-score']].plot(\n",
    "    title = 'Survivor Values', use_index = True, figsize= (25,16))\n",
    "ax2.set_ylim([0.0,1.0])\n",
    "for item in ([ax2.title, ax2.xaxis.label, ax2.yaxis.label] +\n",
    "             ax2.get_xticklabels() + ax2.get_yticklabels()):\n",
    "    item.set_fontsize(15)\n",
    "   \n",
    "ax3 = scores_frame.iloc[scores_frame.index.get_level_values('Classes') == '1']\\\n",
    "[['precision', 'recall', 'f1-score']].plot(\n",
    "    title = 'Non-Survivor Values', use_index = True, figsize= (25,16))\n",
    "ax3.set_ylim([0.0,1.0])\n",
    "for item in ([ax3.title, ax3.xaxis.label, ax3.yaxis.label] +\n",
    "             ax3.get_xticklabels() + ax3.get_yticklabels()):\n",
    "    item.set_fontsize(15)\n",
    "\n",
    "#recalls[['Survivors', 'Non-Survivors', 'Metric']].plot(title = key + ': Recall Scores', \n",
    "#                                                           use_index = True, figsize = (16,6))\n",
    "#plt.show()"
   ]
  },
  {
   "cell_type": "code",
   "execution_count": null,
   "metadata": {
    "collapsed": false
   },
   "outputs": [],
   "source": [
    "\n",
    "scores_frame.loc[scores_frame.index.get_level_values('Classifier') == 'LSVC_recall']"
   ]
  },
  {
   "cell_type": "code",
   "execution_count": null,
   "metadata": {
    "collapsed": false
   },
   "outputs": [],
   "source": [
    "\n",
    "scores_frame.loc[scores_frame.index.get_level_values('Classifier') == 'MLP_f1']"
   ]
  },
  {
   "cell_type": "code",
   "execution_count": null,
   "metadata": {
    "collapsed": false
   },
   "outputs": [],
   "source": [
    "optimized_clfs['LSVC_recall']['PARAMS']"
   ]
  },
  {
   "cell_type": "code",
   "execution_count": null,
   "metadata": {
    "collapsed": false
   },
   "outputs": [],
   "source": [
    "arrays = [[key, key, key], ind]\n",
    "tuples = list(zip(*arrays))\n",
    "mindex = pd.MultiIndex.from_tuples(tuples, names=['Classifier', 'Classes'])\n",
    "pd.DataFrame(dat, columns = cols, index = mindex)"
   ]
  },
  {
   "cell_type": "code",
   "execution_count": null,
   "metadata": {
    "collapsed": false
   },
   "outputs": [],
   "source": [
    "pd.DataFrame(index = ind, columns = cols, data = dat)"
   ]
  },
  {
   "cell_type": "code",
   "execution_count": null,
   "metadata": {
    "collapsed": false
   },
   "outputs": [],
   "source": [
    "[x for x in scores if scores.index(x) in [4,9,14, 15, 16]]"
   ]
  },
  {
   "cell_type": "code",
   "execution_count": null,
   "metadata": {
    "collapsed": false
   },
   "outputs": [],
   "source": [
    "for key in optimized_clfs.keys():\n",
    "    print(key)\n",
    "    print(optimized_clfs[key]['SCORES'])"
   ]
  },
  {
   "cell_type": "code",
   "execution_count": null,
   "metadata": {
    "collapsed": false
   },
   "outputs": [],
   "source": [
    "recalls = pd.DataFrame.from_dict(recall_scores)\n",
    "f1s = pd.DataFrame.from_dict(f1_scores)\n",
    "recalls = recalls.transpose()\n",
    "f1s = f1s.transpose()\n",
    "recalls['features'] = recalls.index\n",
    "f1s['features'] = f1s.index\n",
    "recalls['features'] = recalls['features'].apply(lambda x: int(x))\n",
    "f1s['features'] = f1s['features'].apply(lambda x: int(x))\n",
    "\n",
    "recalls.sort_values(by = 'features', inplace = True)\n",
    "f1s.sort_values(by = 'features', inplace = True)\n",
    "#recalls[recalls[['0', '1']].plot(use_index = True)\n",
    "recalls.columns = ['Survivors', 'Non-Survivors', 'Metric', 'Features']\n",
    "f1s.columns = ['Survivors', 'Non-Survivors', 'Metric', 'Features']\n",
    "display(recalls)\n",
    "display(f1s)"
   ]
  },
  {
   "cell_type": "code",
   "execution_count": null,
   "metadata": {
    "collapsed": false
   },
   "outputs": [],
   "source": [
    "recalls[['Survivors', 'Non-Survivors', 'Metric']].plot(title = 'Recall Scores', use_index = True, figsize = (16,6))\n",
    "f1s[['Survivors', 'Non-Survivors', 'Metric']].plot(title = 'F1 Scores', use_index = True, figsize = (16,6))"
   ]
  },
  {
   "cell_type": "code",
   "execution_count": null,
   "metadata": {
    "collapsed": true
   },
   "outputs": [],
   "source": [
    "\n"
   ]
  },
  {
   "cell_type": "code",
   "execution_count": null,
   "metadata": {
    "collapsed": false
   },
   "outputs": [],
   "source": [
    "display(metrics.recall_score(y_true, y_pred, average = None, labels = [0,1]))\n",
    "print(metrics.classification_report(y_true, y_pred))"
   ]
  },
  {
   "cell_type": "code",
   "execution_count": null,
   "metadata": {
    "collapsed": false
   },
   "outputs": [],
   "source": [
    "  \n",
    "\n",
    "clf_KNC.fit(X_train, y_train)\n",
    "scores = cross_val_score(clf_KNC, X_best, y, cv=5)\n",
    "print \"Scores from KNeighbors Classificaiton\"\n",
    "display(scores)  \n",
    "clf_KNC.score(X_test, y_test)\n",
    "y_predsKNC = clf_KNC.predict(X_test)\n",
    "print \"Confusion matrix for KNeighbors Classification\"\n",
    "display(metrics.confusion_matrix(y_test, y_predsKNC))\n",
    "print \"\\n\\n\"\n",
    "    \n",
    "    \n",
    "    \n",
    "# SUPPORT VECTOR CLASSIFIER     \n",
    "clf_SVC = svm.SVC(C=1.0, class_weight={1:3, 0:1}, max_iter=-1, \n",
    "        tol=0.001, verbose=False, random_state = 42).fit(X_train, y_train)\n",
    "clf_SVC.fit(X_train, y_train)\n",
    "scores = cross_val_score(clf_SVC, X_best, y, cv=5)\n",
    "print \"Scores from Linear Support Vector Classificaiton\"\n",
    "display(scores)  \n",
    "clf_SVC.score(X_test, y_test)\n",
    "y_predsSVC = clf_SVC.predict(X_test)\n",
    "print \"Confusion matrix for Support Vector Classification\"\n",
    "display(metrics.confusion_matrix(y_test, y_predsSVC))\n",
    "print \"\\n\\n\"\n",
    "\n",
    "    \n",
    "# LINEAR SUPPORT VECTOR CLASSIFIER\n",
    "clf_LSVC = svm.LinearSVC(C=1.0, class_weight={1:3, 0:1}, random_state = 42).fit(X_train, y_train)\n",
    "clf_LSVC.fit(X_train, y_train)\n",
    "scores = cross_val_score(clf_LSVC, X_best, y, cv=5)\n",
    "print \"Scores from Linear Support Vector Classificaiton\"\n",
    "display(scores)  \n",
    "clf_LSVC.score(X_test, y_test)\n",
    "y_predsLSVC = clf_LSVC.predict(X_test)\n",
    "print \"Confusion matrix for Linear Support Vector Classification\"\n",
    "display(metrics.confusion_matrix(y_test, y_predsLSVC))\n",
    "print \"\\n\\n\"\n",
    " \n",
    "\n",
    "# DECISION TREE CLASSIFIER\n",
    "clf_Tree = DecisionTreeClassifier(random_state = 42, class_weight = {1:3, 0:1})\n",
    "scores = cross_val_score(clf_Tree, X_best, y, cv=5)\n",
    "print \"Scores from Decision Tree Classifier\"\n",
    "display(scores)  \n",
    "clf_Tree.fit(X_train, y_train)\n",
    "clf_Tree.score(X_test, y_test)\n",
    "y_predsTree = clf_Tree.predict(X_test)\n",
    "print \"Confusion matrix for Decision Tree\"\n",
    "display(metrics.confusion_matrix(y_test, y_predsTree))\n",
    "\n",
    "\n",
    "'''\n",
    "# GAUSSIAN NAIVE BAYES CLASSIFIER\n",
    "\n",
    "### create classifier\n",
    "clf_GNB = GaussianNB()\n",
    "### fit the classifier on the training features and labels\n",
    "clf_GNB.fit(X_train, y_train)\n",
    "### return the fit classifier\n",
    "print \"Gaussian Naive Bayes Classifier Score\"\n",
    "nb_score = clf_GNB.score(X_test, y_test) \n",
    "\n",
    "print nb_score\n",
    "y_predsGNB = clf_GNB.predict(X_test)\n",
    "print \"Confusion Matrix for Gaussian Naive Bayes Classifier\"\n",
    "metrics.confusion_matrix(y_test, y_predsGNB)\n",
    "\n",
    "\n",
    "\n",
    "'''\n",
    "\n",
    "print \"\\n\\n Complete\""
   ]
  },
  {
   "cell_type": "markdown",
   "metadata": {},
   "source": [
    "## XXXXXXXXXXXXXXXXXXXXXXXXXXXXXXXXXXXXXX\n",
    "## XXXXXXX    LEGACY CODE STARTS HERE    XXXXXX\n",
    "## XXXXXXXXXXXXXXXXXXXXXXXXXXXXXXXXXXXXXX"
   ]
  },
  {
   "cell_type": "code",
   "execution_count": null,
   "metadata": {
    "collapsed": false
   },
   "outputs": [],
   "source": [
    "# CONVERT DATE/TIME STRINGS IN DATA TO DATE_TIME OBJECTS SO \n",
    "# THAT CALCULATIONS CAN BE PERFORMED TO DETERMINE STAY LENGTH AND PATIENT AGE\n",
    "\n",
    "donkey = [x for x in chart_data.columns if 'time' in x]\n",
    "for donk in donkey:\n",
    "    chart_data[donk] = pd.to_datetime(chart_data[donk])\n",
    "\n",
    "for index, row in chart_data.iterrows():\n",
    "    staylen = relativedelta(row['outtime'], row['intime']).hours\n",
    "    chart_data.set_value(index, 'stay_duration', staylen)\n",
    "\n",
    "\n",
    "# SETTING ICUSTAY_ID AS INDEX TO FACILITATE MERGING DATA_FRAMES BY \n",
    "# ICUSTAY_ID\n",
    "chart_data2 = chart_data.set_index(['icustay_id'], inplace = False)\n",
    "lab_data2 = lab_data.set_index(['icustay_id'], inplace = False)\n",
    "\n",
    "\n",
    "# MERGING CHART AND LAB DATAFRAMES. DROPPING DUPLICATE COLUMNS FROM LAB DATA PRIOR TO MERGE\n",
    "lab_data2.drop(['hospital_expire_flag', 'subject_id', 'gender', 'intime', 'outtime'], \n",
    "               axis = 1, inplace = True)\n",
    "\n",
    "all_data = chart_data2.merge(lab_data2, left_index = True, right_index = True, how='left', sort = True, \n",
    "                            suffixes = ('chart', 'lab'))\n",
    "\n",
    "# MOVING ICUSTAY_ID BACK TO IT'S OWN COLUMN AND RE-INDEXING THE \n",
    "# DATA_FRAME. RESHUFFLING COLUMNS SO THAT ICUSTAY_ID AND SUBJECT_ID ARE LEFT MOST\n",
    "\n",
    "all_data['icustay_id'] = all_data.index\n",
    "all_data.set_index(np.arange(all_data.shape[0]), inplace = True)\n",
    "\n",
    "cols = list(all_data.columns)\n",
    "cols.sort()\n",
    "cols.insert(0, cols.pop(cols.index('icustay_id')))\n",
    "cols.insert(1, cols.pop(cols.index('subject_id')))\n",
    "all_data = all_data[cols]\n",
    "\n",
    "print \"complete\""
   ]
  },
  {
   "cell_type": "code",
   "execution_count": null,
   "metadata": {
    "collapsed": false
   },
   "outputs": [],
   "source": [
    "for col in all_data.columns:\n",
    "    print col\n",
    "    "
   ]
  },
  {
   "cell_type": "code",
   "execution_count": null,
   "metadata": {
    "collapsed": false
   },
   "outputs": [],
   "source": [
    "## Isolate continuous (float64) and categorical variables for feature selection process. \n",
    "# Feature selection tools require features to be of the same type. Data will be separated, \n",
    "# feature correlations will be calculated. \n",
    "\n",
    "# variable 'monkey' because i try to have a little fun. \n",
    "\n",
    "monkey = list(all_data.columns[all_data.dtypes == 'float64'])\n",
    "monkey.insert(0,'icustay_id')\n",
    "monkey.insert(1,'hospital_expire_flag')\n",
    "#monkey.pop(monkey.index('Height'))\n",
    "#monkey.pop(monkey.index('Weight'))\n",
    "# all continuous variables\n",
    "cont_data = all_data[monkey]\n",
    "\n",
    "monkey = list(all_data.columns[all_data.dtypes == 'object'])\n",
    "monkey.insert(0,'icustay_id')\n",
    "monkey.insert(1,'hospital_expire_flag')\n",
    "#all categorical variables\n",
    "cat_data = all_data[monkey]\n",
    "\n",
    "# Shift all continuous values positive\n",
    "for col in cont_data.columns[2:]:\n",
    "    col_min = cont_data.loc[:,col].min()\n",
    "    if col_min < 0:\n",
    "        cont_data.loc[:,col] = cont_data.loc[:,col].apply(lambda x: x-col_min)\n",
    "\n",
    "\n",
    "## FILTERING OUT EXTREME OUTLIERS FROM CONTINUOUS/FLOAT64 DATA BLOCKS\n",
    "\n",
    "\n",
    "suffix = '_outliers'\n",
    "\n",
    "\n",
    "# ITERATE THROUGH DATAFRAMES IN cont_dict \n",
    "# DOING ONE LOOP FOR DEVELOPMENT\n",
    "for feature in cont_data.columns[2:]:\n",
    "    to_nan = []\n",
    "    \n",
    "    names_dict = {}\n",
    "    \n",
    "    # TODO: Calculate Q1 (25th percentile of the data) for the given feature\n",
    "    Q1 = np.percentile(cont_data.loc[:,feature].dropna(), 25)\n",
    "    # TODO: Calculate Q3 (75th percentile of the data) for the given feature\n",
    "    Q3 = np.percentile(cont_data.loc[:,feature].dropna(), 75)\n",
    "    # TODO: Use the interquartile range to calculate an outlier step (1.5 times the interquartile range)\n",
    "    # BECAUSE DATA IS NOT NORMAL EXPLORING DIFFERENT RANGE FACTORS\n",
    "    step = 5*(Q3 - Q1)\n",
    "\n",
    "    # Display the outliers\n",
    "    # print \"Data points considered outliers for the feature '{}':\".format(feature)\n",
    "    # display(data2[~((data2[feature] >= Q1 - step) & (data2[feature] <= Q3 + step))])\n",
    "    to_nan = list(cont_data[~((cont_data.loc[:,feature] >= Q1 - step) & \n",
    "                                                      (cont_data.loc[:,feature] <= Q3 + step))].index)\n",
    "   \n",
    "    # OPTIONAL: Select the indices for data points you wish to remove\n",
    "   \n",
    "    cont_data.iloc[to_nan, cont_data.columns.get_loc(feature)] = np.nan\n",
    "    \n",
    "cont_data.head()\n",
    "print \"complete\""
   ]
  },
  {
   "cell_type": "code",
   "execution_count": null,
   "metadata": {
    "collapsed": false
   },
   "outputs": [],
   "source": [
    "cont_data.hospital_expire_flag.sum()"
   ]
  },
  {
   "cell_type": "markdown",
   "metadata": {},
   "source": [
    "## INITIALLY THOUGHT IT WAS DESIREABLE TO DO NORMALIZATION AND SCALING HERE BUT TRANSFORMS REQUIRE NO NULL VALUES SO THIS WILL BE PERFORMED AFTER"
   ]
  },
  {
   "cell_type": "code",
   "execution_count": null,
   "metadata": {
    "collapsed": false
   },
   "outputs": [],
   "source": [
    "col = 'Lactate_max_df'\n",
    "plt.subplots(figsize=(10,4))\n",
    "cont_data[col].dropna().plot.kde()\n",
    "xmin = np.percentile(cont_data[col].dropna(), .1)\n",
    "xmax = np.percentile(cont_data[col].dropna(), 99.9)\n",
    "plt.plot([], label=' ',color='lightgray')\n",
    "plt.plot([], label='Max Value ={}'.format(cont_data[col].dropna().max()),\n",
    "             color='lightgray')\n",
    "plt.plot([], label='Min Value ={}'.format(cont_data[col].dropna().min()),\n",
    "             color='lightgray')\n",
    "\n",
    "#plt.xlim(xmin, xmax)\n",
    "print \"complete\""
   ]
  },
  {
   "cell_type": "code",
   "execution_count": null,
   "metadata": {
    "collapsed": false
   },
   "outputs": [],
   "source": [
    "# This filtering on feature selection could be done far earlier in the process. \n",
    "# Could do it in smaller blocks where the variables are aligned with the subject ID\n",
    "# Variables are not present for all subject_id's or ICU stays. \n",
    "# In order to select features, we need to drop_na. So we need to find blocks of features \n",
    "# that are present for the same ICU stays etc. In retrospect this could be done earlier in \n",
    "# the process before all the data is merged. \n",
    "\n",
    "## CREATING CONTINUOUS / FLOAT64 DATA BLOCKS FOR FEATURE SELECTION\n",
    "\n",
    "\n",
    "cols = ['icustay_id', 'hospital_expire_flag', 'Height', 'Weight',\n",
    "       'stay_duration']\n",
    "cont_data_HWStay = cont_data[cols].dropna()\n",
    "cont_data_HWStay.reset_index(drop = True, inplace = True)\n",
    "print \"Height, Weight and Stay  = {}\".format(cont_data_HWStay.shape[0])\n",
    "\n",
    "cols = ['icustay_id', 'hospital_expire_flag', 'GCS_total']\n",
    "cont_data_GCST = cont_data[cols].dropna()\n",
    "cont_data_GCST.reset_index(drop = True, inplace = True)\n",
    "print \"GCS_total  = {}\".format(cont_data_GCST.shape[0])\n",
    "\n",
    "cols = [x for x in cont_data.columns if 'Lactate_' in x]\n",
    "cols.insert(0,'icustay_id')\n",
    "cols.insert(1,'hospital_expire_flag')\n",
    "cont_data_Lac = cont_data[cols].dropna()\n",
    "cont_data_Lac.reset_index(drop = True, inplace = True)\n",
    "print \"Lactate  = {}\".format(cont_data_Lac.shape[0])\n",
    "\n",
    "cols = [x for x in cont_data.columns if 'O2sat_' in x]\n",
    "cols.insert(0,'icustay_id')\n",
    "cols.insert(1,'hospital_expire_flag')\n",
    "cont_data_O2sat = cont_data[cols].dropna()\n",
    "cont_data_O2sat.reset_index(drop = True, inplace = True)\n",
    "print \"O2sat  = {}\".format(cont_data_O2sat.shape[0])\n",
    "\n",
    "cols = [x for x in cont_data.columns if (('pH_' in x) | ('_df' in x))]\n",
    "cols.insert(0,'icustay_id')\n",
    "cols.insert(1,'hospital_expire_flag')\n",
    "cont_data_labpH = cont_data[cols].dropna()\n",
    "cont_data_labpH.reset_index(drop = True, inplace = True)\n",
    "print \"labpH  = {}\".format(cont_data_labpH.shape[0])\n",
    "\n",
    "\n",
    "cols = [x for x in cont_data.columns if 'BP_' in x]\n",
    "cols.insert(0,'icustay_id')\n",
    "cols.insert(1,'hospital_expire_flag')\n",
    "cont_data_BP = cont_data[cols].dropna()\n",
    "cont_data_BP.reset_index(drop = True, inplace = True)\n",
    "print \"BP  = {}\".format(cont_data_BP.shape[0])\n",
    "\n",
    "cols = [x for x in cont_data.columns if 'HR_' in x]\n",
    "cols.insert(0,'icustay_id')\n",
    "cols.insert(1,'hospital_expire_flag')\n",
    "cont_data_HR = cont_data[cols].dropna()\n",
    "cont_data_HR.reset_index(drop = True, inplace = True)\n",
    "print \"HR  = {}\".format(cont_data_HR.shape[0])\n",
    "\n",
    "\n",
    "cols = [x for x in cont_data.columns if 'O2_' in x]\n",
    "cols.insert(0,'icustay_id')\n",
    "cols.insert(1,'hospital_expire_flag')\n",
    "cont_data_O2 = cont_data[cols].dropna()\n",
    "cont_data_O2.reset_index(drop = True, inplace = True)\n",
    "print \"O2  = {}\".format(cont_data_O2.shape[0])\n",
    "\n",
    "cols = [x for x in cont_data.columns if 'RR_' in x]\n",
    "cols.insert(0,'icustay_id')\n",
    "cols.insert(1,'hospital_expire_flag')\n",
    "cont_data_RR = cont_data[cols].dropna()\n",
    "cont_data_RR.reset_index(drop = True, inplace = True)\n",
    "print \"RR  = {}\".format(cont_data_RR.shape[0])\n",
    "\n",
    "\n",
    "cols = [x for x in cont_data.columns if 'TempC_Calc' in x]\n",
    "cols.insert(0,'icustay_id')\n",
    "cols.insert(1,'hospital_expire_flag')\n",
    "cont_data_TCalc = cont_data[cols].dropna()\n",
    "cont_data_TCalc.reset_index(drop = True, inplace = True)\n",
    "print \"TCalc  = {}\".format(cont_data_TCalc.shape[0])\n",
    "\n",
    "cols = [x for x in cont_data.columns if (('TempC_' in x) & ('TempC_C' not in x))]\n",
    "cols.insert(0,'icustay_id')\n",
    "cols.insert(1,'hospital_expire_flag')\n",
    "cont_data_TC = cont_data[cols].dropna()\n",
    "cont_data_TC.reset_index(drop = True, inplace = True)\n",
    "print \"TC  = {}\".format(cont_data_TC.shape[0])\n",
    "\n",
    "cols = [x for x in cont_data.columns if (('pH_' in x) | ('pH2_' in x))]\n",
    "cols.insert(0,'icustay_id')\n",
    "cols.insert(1,'hospital_expire_flag')\n",
    "cont_data_pH = cont_data[cols].dropna()\n",
    "cont_data_pH.reset_index(drop = True, inplace = True)\n",
    "print \"pH  = {}\".format(cont_data_pH.shape[0])\n",
    "\n",
    "cont_dict = {'BP': cont_data_BP, \n",
    "             'HR': cont_data_HR, \n",
    "             'O2': cont_data_O2, \n",
    "             'RR': cont_data_RR, \n",
    "             'TCalc': cont_data_TCalc, \n",
    "             'TC': cont_data_TC,\n",
    "             'pH': cont_data_pH,\n",
    "             'GCST': cont_data_GCST, \n",
    "             'HWStay': cont_data_HWStay,\n",
    "             'LAC' : cont_data_Lac, \n",
    "             'O2Sat': cont_data_O2sat, \n",
    "             'labpH' : cont_data_labpH\n",
    "            }\n",
    "\n",
    "\n",
    "print \"complete\""
   ]
  },
  {
   "cell_type": "markdown",
   "metadata": {},
   "source": [
    "### MAY WANT TO CHECK NORMALITY HERE BEFORE FILTERING OUTLIERS"
   ]
  },
  {
   "cell_type": "code",
   "execution_count": null,
   "metadata": {
    "collapsed": false
   },
   "outputs": [],
   "source": [
    "# BOXCOX TRANSFORMING ALL DATA TO NORMALIZE\n",
    "\n",
    "for frame in cont_dict.keys():\n",
    "    for feature in cont_dict[frame][cont_dict[frame].columns[2:]]:\n",
    "        feature_index = cont_dict[frame].columns.get_loc(feature)\n",
    "        print \"{}    old skew      {}\".format(feature, cont_dict[frame][feature].skew())\n",
    "        \n",
    "        cont_dict[frame].iloc[:,feature_index] = scats.boxcox(cont_dict[frame].iloc[:,feature_index].add(1))[0]\n",
    "        print \"{}    new_skew      {}{}\".format(feature, cont_dict[frame][feature].skew(),'\\n')\n",
    "\n",
    "        "
   ]
  },
  {
   "cell_type": "code",
   "execution_count": null,
   "metadata": {
    "collapsed": false
   },
   "outputs": [],
   "source": [
    "# SCALING DATA USING ROBUST_SCALE TO ACCOUNT FOR OUTLIERS\n",
    "for frame in cont_dict.keys():\n",
    "    cont_dict[frame].iloc[:,2:] = preprocessing.robust_scale(cont_dict[frame].iloc[:,2:], \n",
    "                                                axis = 0, with_centering=True, with_scaling=True, \n",
    "                                                quantile_range=(25.0, 75.0), copy=True)\n",
    "\n",
    "print \"complete\""
   ]
  },
  {
   "cell_type": "code",
   "execution_count": null,
   "metadata": {
    "collapsed": false
   },
   "outputs": [],
   "source": [
    "## FILTERING OUT EXTREME OUTLIERS FROM CONTINUOUS/FLOAT64 DATA BLOCKS\n",
    "\n",
    "\n",
    "suffix = '_outliers'\n",
    "\n",
    "\n",
    "# ITERATE THROUGH DATAFRAMES IN cont_dict \n",
    "# DOING ONE LOOP FOR DEVELOPMENT\n",
    "for frame in cont_dict.keys():\n",
    "    for feature in cont_dict[frame].columns[2:]:\n",
    "        feature_index = cont_dict[frame].columns.get_loc(feature)\n",
    "        to_nan = []\n",
    "    \n",
    "        names_dict = {}\n",
    "    \n",
    "        # TODO: Calculate Q1 (25th percentile of the data) for the given feature\n",
    "        Q1 = np.percentile(cont_data.loc[:,feature].dropna(), 25)\n",
    "        # TODO: Calculate Q3 (75th percentile of the data) for the given feature\n",
    "        Q3 = np.percentile(cont_data.loc[:,feature].dropna(), 75)\n",
    "        # TODO: Use the interquartile range to calculate an outlier step (1.5 times the interquartile range)\n",
    "        # BECAUSE DATA IS NOT NORMAL EXPLORING DIFFERENT RANGE FACTORS\n",
    "        step = 1.5*(Q3 - Q1)\n",
    "\n",
    "        # Display the outliers\n",
    "        # print \"Data points considered outliers for the feature '{}':\".format(feature)\n",
    "        # display(data2[~((data2[feature] >= Q1 - step) & (data2[feature] <= Q3 + step))])\n",
    "        names_dict[feature+suffix] = cont_dict[frame][~((cont_dict[frame][feature] >= Q1 - step) & \n",
    "                                                        (cont_dict[frame][feature] <= Q3 + step))].index\n",
    "        \n",
    "\n",
    "        \n",
    "    all_outliers = []\n",
    "    for feature in names_dict.keys():\n",
    "        all_outliers.extend(names_dict[feature])\n",
    "    print \"the total outlier indices = {}\".format(len(all_outliers))\n",
    "    indices, counts = np.unique(all_outliers, return_counts = True)\n",
    "    outlier_dict = {'counts': counts,\n",
    "                    'indices': indices\n",
    "                   }\n",
    "    outlier_df = pd.DataFrame(outlier_dict)\n",
    "\n",
    "    outliers  = list(outlier_df[outlier_df.counts >= 2].indices.values)\n",
    "    print \"the following data points have >=2 outlying feature and will be removed: \\n{}\".format(outliers)\n",
    "    # Remove the outliers, if any were specified\n",
    "\n",
    "\n",
    "    cont_dict[frame] = cont_dict[frame].drop(cont_dict[frame].index[outliers]).reset_index(drop = True)\n",
    "    print \"{}   {}\".format(frame, cont_dict[frame].shape[0])"
   ]
  },
  {
   "cell_type": "markdown",
   "metadata": {},
   "source": [
    "## DISPLAY CONTINUOUS/FLOAT64 DATA BLOCK SUMMARY STATS WITH OUTLIERS REMOVED"
   ]
  },
  {
   "cell_type": "markdown",
   "metadata": {},
   "source": [
    "## PLOT DENSITY OF CONTINUOUS/FLOAT64 VARIABLES WITH OUTLIERS REMOVED"
   ]
  },
  {
   "cell_type": "code",
   "execution_count": null,
   "metadata": {
    "collapsed": false,
    "scrolled": false
   },
   "outputs": [],
   "source": [
    "key = cont_dict.keys()[2]\n",
    "for col in cont_dict[key].columns[2:]:\n",
    "    plt.subplots(figsize=(10,4))\n",
    "    cont_dict[key][col].plot.kde()\n",
    "    xmin = np.percentile(cont_dict[key][col], 1)\n",
    "    xmax = np.percentile(cont_dict[key][col], 99)\n",
    "    plt.plot([], label=' ',color='lightgray')\n",
    "    plt.plot([], label='Max Value ={}'.format(cont_dict[key][col].max()),\n",
    "             color='lightgray')\n",
    "    plt.plot([], label='Min Value ={}'.format(cont_dict[key][col].min()),\n",
    "             color='lightgray')\n",
    "\n",
    "    plt.xlim(xmin, xmax)\n",
    "    plt.title(col)\n",
    "    plt.legend(loc=\"upper left\", bbox_to_anchor=(1,1),fontsize=12)\n",
    "\n",
    "#cont_dict['BP'].shape"
   ]
  },
  {
   "cell_type": "markdown",
   "metadata": {},
   "source": [
    "## FEATURE SELECTION FOR CONTINUOUS/FLOAT64 DATA"
   ]
  },
  {
   "cell_type": "code",
   "execution_count": null,
   "metadata": {
    "collapsed": false
   },
   "outputs": [],
   "source": [
    "X_cont[col].shape == cont_dict[frame].shape\n",
    "print \"{}   {}\".format(X_cont[col].shape, cont_dict[frame].shape)"
   ]
  },
  {
   "cell_type": "code",
   "execution_count": null,
   "metadata": {
    "collapsed": false
   },
   "outputs": [],
   "source": [
    "cont_feature_scores = pd.DataFrame()\n",
    "\n",
    "for frame in cont_dict.keys():\n",
    "    \n",
    "    cont_dict[frame].dropna(inplace=True)\n",
    "    X_cont = cont_dict[frame].drop(['hospital_expire_flag', 'icustay_id'], axis = 1)\n",
    "    y_cont = cont_dict[frame]['hospital_expire_flag']\n",
    "    below_zeros = list(X_cont.columns[X_cont.min() < 0])\n",
    "    # SelectKBest can't deal with negative numbers so we shift any variables with negative values\n",
    "    # up so that the most negative values = 0\n",
    "    \n",
    "    ##### THIS CODE DOES NOT SHIFT THE VALUES IN THE ORIGINAL DATAFRAME #####\n",
    "    \n",
    "    for col in below_zeros:\n",
    "        feature_index = cont_dict[frame].columns.get_loc(col)\n",
    "        col_min = X_cont[col].min()\n",
    "        X_cont[col] = X_cont[col].apply(lambda x: x-col_min)\n",
    "        cont_dict[frame].iloc[:,feature_index] = X_cont[col]\n",
    "    \n",
    "    selector = SelectKBest(k='all')\n",
    "    selector.fit(X_cont, y_cont)\n",
    "    d = {'pvalues': pd.Series(selector.pvalues_, index = X_cont.columns),\n",
    "         'scores' : pd.Series(selector.scores_, index = X_cont.columns)\n",
    "        }\n",
    "    cont_feature_scores = cont_feature_scores.append(pd.DataFrame(d))\n",
    "\n",
    "    \n",
    "cont_feature_scores.sort_values(['pvalues'], axis = 0, ascending = True, inplace = True)\n",
    "\n",
    "tops = cont_feature_scores.head(20).transpose().columns\n",
    "bottoms = cont_feature_scores.tail(20).transpose().columns\n",
    "display(tops[:5])\n",
    "display(bottoms[:3])\n",
    "display(cont_dict.keys())"
   ]
  },
  {
   "cell_type": "code",
   "execution_count": null,
   "metadata": {
    "collapsed": false
   },
   "outputs": [],
   "source": [
    "cont_feature_scores"
   ]
  },
  {
   "cell_type": "code",
   "execution_count": null,
   "metadata": {
    "collapsed": false,
    "scrolled": false
   },
   "outputs": [],
   "source": [
    "# PLOT 3 OF THE HIGHEST SCORED AND 3 OF THE LOWEST SCORED FEATURES TO VISUALLY VERIFY THERE ARE \n",
    "# DIFFERENCES BETWEEN SURVIVAL AND NON-SURVIVAL GROUPS\n",
    "\n",
    "#cont_dict['RR'].plot.scatter(x='hospital_expire_flag', y='RR_med')\n",
    "#for col in cont_dict['GCST'][''.columns[2:]:\n",
    "cont_dict['GCST'][['hospital_expire_flag','GCS_total']].dropna().boxplot(by='hospital_expire_flag', figsize = (13,5))\n",
    "cont_dict['RR'][['hospital_expire_flag','RR_med']].dropna().boxplot(by='hospital_expire_flag', figsize = (13,5))\n",
    "cont_dict['RR'][['hospital_expire_flag','RR_mean']].dropna().boxplot(by='hospital_expire_flag', figsize = (13,5))\n",
    "cont_dict['HR'][['hospital_expire_flag','HR_std']].dropna().boxplot(by='hospital_expire_flag', figsize = (13,5))\n",
    "cont_dict['O2'][['hospital_expire_flag','O2_Fraction_max']].dropna().boxplot(by='hospital_expire_flag', figsize = (13,5))\n",
    "cont_dict['TCalc'][['hospital_expire_flag','TempC_Calc_max']].dropna().boxplot(by='hospital_expire_flag', figsize = (13,5))\n",
    "\n",
    "\n",
    "\n",
    "#data[['mort_icu', l.lower()+'_1st']].dropna().boxplot(by='mort_icu', figsize = (13,5))"
   ]
  },
  {
   "cell_type": "code",
   "execution_count": null,
   "metadata": {
    "collapsed": false,
    "scrolled": true
   },
   "outputs": [],
   "source": [
    "cont_feature_scores.to_csv('Continuous_Feature_Scores.csv')"
   ]
  },
  {
   "cell_type": "markdown",
   "metadata": {},
   "source": [
    "## CREATING BLOCK OF CATEGORICAL DATA FOR FEATURE SELECTION\n",
    "### Cap refill and gender are not included in this block and should be evaluated separately"
   ]
  },
  {
   "cell_type": "code",
   "execution_count": null,
   "metadata": {
    "collapsed": false,
    "scrolled": true
   },
   "outputs": [],
   "source": [
    "for col in cat_data.columns:\n",
    "    print \"{} has  {} NaN values\".format(col, cat_data[col].isnull().sum())"
   ]
  },
  {
   "cell_type": "code",
   "execution_count": null,
   "metadata": {
    "collapsed": false,
    "scrolled": true
   },
   "outputs": [],
   "source": [
    "cols = [x for x in cat_data.columns if ('GCS_' in x)]\n",
    "cols.insert(0,'icustay_id')\n",
    "cols.insert(1,'hospital_expire_flag')\n",
    "cat_data_GCS = cat_data[cols].dropna()\n",
    "print \"GCS  = {}\".format(cat_data_GCS.shape[0])\n",
    "\n",
    "cols = ['icustay_id', 'hospital_expire_flag','gender']\n",
    "cat_data_gender = cat_data[cols].dropna()\n",
    "#cols.insert(0, cols.pop(cols.index('icustay_id')))\n",
    "#cols.insert(1, cols.pop(cols.index('subject_id')))\n",
    "print \"gender = {}\".format(cat_data_gender.shape[0])\n",
    "\n",
    "\n"
   ]
  },
  {
   "cell_type": "code",
   "execution_count": null,
   "metadata": {
    "collapsed": false
   },
   "outputs": [],
   "source": [
    "cat_data_GCS.columns"
   ]
  },
  {
   "cell_type": "markdown",
   "metadata": {},
   "source": [
    "## Create OneHotEncoded data from categorical data in GCS and Gender dataframes"
   ]
  },
  {
   "cell_type": "code",
   "execution_count": null,
   "metadata": {
    "collapsed": false
   },
   "outputs": [],
   "source": [
    "cols = cat_data_GCS.columns[2:]\n",
    "cat_data_GCS2 = pd.get_dummies(cat_data_GCS[cols], prefix= cols)\n",
    "\n",
    "cols = cat_data_gender.columns[2:]\n",
    "cat_data_gender2 = pd.get_dummies(cat_data_gender[cols], prefix= cols)\n",
    "\n"
   ]
  },
  {
   "cell_type": "code",
   "execution_count": null,
   "metadata": {
    "collapsed": false
   },
   "outputs": [],
   "source": [
    "cat_data_GCS2.head()"
   ]
  },
  {
   "cell_type": "markdown",
   "metadata": {},
   "source": [
    "## PERFORMING FEATURE SELECTION USING ONEHOTENCODED VARIABLES \n",
    "### SAVING P-VALUES AND SCORES FOR ALL CATEGORICAL VARIABLES IN A DATAFRAME cat_feature_Scores"
   ]
  },
  {
   "cell_type": "code",
   "execution_count": null,
   "metadata": {
    "collapsed": false
   },
   "outputs": [],
   "source": [
    "# CREATE DICT WITH CATEGORICAL AND ASSOCIATED ONEHOTENCODED DATA REFERENCED BY EACH KEY \n",
    "cat_dict = {'GCS': [cat_data_GCS, cat_data_GCS2], \n",
    "            'Gend': [cat_data_gender, cat_data_gender2] \n",
    "            }\n",
    "\n",
    "cat_feature_scores = pd.DataFrame()\n",
    "\n",
    "for key in cat_dict.keys():\n",
    "\n",
    "    X_cat = cat_dict[key][1]\n",
    "    y_cat = cat_dict[key][0]['hospital_expire_flag']\n",
    "   \n",
    "    # SelectKBest can't deal with negative numbers so we shift any variables with negative values\n",
    "    # up so that the most negative values = 0\n",
    "   \n",
    "    selector = SelectKBest(score_func = chi2, k='all')\n",
    "    selector.fit(X_cat, y_cat)\n",
    "    d = {'pvalues': pd.Series(selector.pvalues_, index = X_cat.columns),\n",
    "         'scores' : pd.Series(selector.scores_, index = X_cat.columns)\n",
    "        }\n",
    "    cat_feature_scores = cat_feature_scores.append(pd.DataFrame(d))\n",
    "\n",
    "cat_feature_scores.sort_values(['pvalues'], axis = 0, ascending = True, inplace = True)\n",
    "\n",
    "tops = cat_feature_scores.head().transpose().columns\n",
    "bottoms = cat_feature_scores.tail().transpose().columns\n",
    "display(tops)\n",
    "display(bottoms)\n",
    "display(cat_dict.keys())"
   ]
  },
  {
   "cell_type": "code",
   "execution_count": null,
   "metadata": {
    "collapsed": true
   },
   "outputs": [],
   "source": [
    "cat_feature_scores.to_csv('Categorical_Feature_Scores.csv')"
   ]
  },
  {
   "cell_type": "code",
   "execution_count": null,
   "metadata": {
    "collapsed": false
   },
   "outputs": [],
   "source": [
    "display(cat_feature_scores.index[:3])\n",
    "display(cat_feature_scores.index[-3:])\n"
   ]
  },
  {
   "cell_type": "code",
   "execution_count": null,
   "metadata": {
    "collapsed": false
   },
   "outputs": [],
   "source": [
    "\n",
    "plt.subplots(figsize=(13,6))\n",
    "\n",
    "cat_dict['Gend'][0]['gender'][cat_dict['Gend'][0].hospital_expire_flag ==1].value_counts().plot.bar(\n",
    "        alpha = 0.5, label = 'Non_Survival')\n",
    "cat_dict['Gend'][0]['gender'][cat_dict['Gend'][0].hospital_expire_flag ==0].value_counts().plot.bar(\n",
    "        alpha = 0.2 , label = 'Survival', color = 'green')\n",
    "\n",
    "plt.title('gender vs mortality')\n",
    "    #plt.xlabel(l + ' ' + u)\n",
    "plt.legend(loc=\"upper left\", bbox_to_anchor=(1,1),fontsize=12)\n",
    "\n",
    "\n",
    "plt.subplots(figsize=(13,6))\n",
    "cat_dict['GCS'][0]['GCS_Eye'][cat_dict['GCS'][0].hospital_expire_flag ==1].value_counts().plot.bar(\n",
    "        alpha = 0.5, label = 'Non_Survival')\n",
    "cat_dict['GCS'][0]['GCS_Eye'][cat_dict['GCS'][0].hospital_expire_flag ==0].value_counts().plot.bar(\n",
    "        alpha = 0.2 , label = 'Survival', color = 'green')\n",
    "\n",
    "plt.title('GCS_Eye vs mortality')\n",
    "    #plt.xlabel(l + ' ' + u)\n",
    "plt.legend(loc=\"upper left\", bbox_to_anchor=(1,1),fontsize=12)"
   ]
  },
  {
   "cell_type": "markdown",
   "metadata": {},
   "source": [
    "## PLOTTING THE TOP 3 AND BOTTOM 3 CATEGORICAL FEATURES BY SELECTKBEST CHI2 SCORES \n",
    "### bit messy, need to clean up!\n"
   ]
  },
  {
   "cell_type": "code",
   "execution_count": null,
   "metadata": {
    "collapsed": false
   },
   "outputs": [],
   "source": [
    "#\n",
    "# THE ONE-HOT FRAMES DON'T HAVE HOSPITAL EXPIRED FLAG SO WE'RE PLOTTING THE RAW CATEGORICAL \n",
    "# FEATURES BASED ON THE SCORES OF THE ONEHOTENCODED FEATURES\n",
    "# ALTERNATIVELY WE COULD MERGE ICUSTAY AND HOSPITAL EXPIRE FLAG INFO INTO ONE-HOT DATA. \n",
    "\n",
    "cat_vars = []\n",
    "for col in cat_feature_scores.index[:3]:\n",
    "    for col2  in cat_dict['GCS'][0].columns:\n",
    "        if col2 in col:\n",
    "            cat_vars.append(col2)\n",
    "\n",
    "\n",
    "\n",
    "\n",
    "datadict = dict()\n",
    "df = 'GCS'\n",
    "\n",
    "for col in cat_vars: #feature_scores.index[:3]:\n",
    "    \n",
    "    \n",
    "    \n",
    "    cats = list(cat_dict[df][0][col].unique())\n",
    "    for cat in cats:\n",
    "        dead = cat_dict[df][0][col][(cat_dict[df][0][col] == cat) & (cat_dict[df][0].hospital_expire_flag == 1)].dropna().count()\n",
    "        live = cat_dict[df][0][col][(cat_dict[df][0][col] == cat) & (cat_dict[df][0].hospital_expire_flag == 0)].dropna().count()\n",
    "        total = float(live) + dead\n",
    "        datadict[cat] = (live/total, dead/total)\n",
    "\n",
    "\n",
    "    frame = pd.DataFrame.from_dict(datadict)\n",
    "    frame.index = ['Survivors', 'Non_Survivors']\n",
    "    \n",
    "    frame.transpose().plot.bar(stacked = True, figsize = (13,6), edgecolor = 'black', linewidth = 3, \n",
    "                                 alpha = 0.5, title = \"Percent Survival Rate for \" + col)\n",
    "    plt.show()\n",
    "\n",
    "\n",
    "\n",
    "\n",
    "\n",
    "\n",
    "\n",
    "\n",
    "\n",
    "\n",
    "\n",
    "\n"
   ]
  },
  {
   "cell_type": "code",
   "execution_count": null,
   "metadata": {
    "collapsed": false
   },
   "outputs": [],
   "source": [
    "display(cont_dict.keys())\n",
    "display(cont_feature_scores[:10])"
   ]
  },
  {
   "cell_type": "markdown",
   "metadata": {},
   "source": [
    "### SELECTED FEATURES\n",
    "cat_feature_scores contains scores from SelectKBest analysis using chi2\n",
    "cont_feature_scores contains scores from SelectKBest analysis using default\n",
    "cat_data contains all categorical data while cont_data contains all continuous/float64 data\n",
    "cont_features can be taken straight from cont_data but cat features have been transformed \n"
   ]
  },
  {
   "cell_type": "code",
   "execution_count": null,
   "metadata": {
    "collapsed": false
   },
   "outputs": [],
   "source": [
    "plt.subplots(figsize=(10,4))\n",
    "cont_dict['GCST']['GCS_total'][cont_dict['GCST']['hospital_expire_flag']== 0].plot.kde()\n",
    "cont_dict['GCST']['GCS_total'][cont_dict['GCST']['hospital_expire_flag']== 1].plot.kde()\n"
   ]
  },
  {
   "cell_type": "code",
   "execution_count": null,
   "metadata": {
    "collapsed": false
   },
   "outputs": [],
   "source": [
    "cont_dict['GCST'].head()"
   ]
  },
  {
   "cell_type": "code",
   "execution_count": null,
   "metadata": {
    "collapsed": false
   },
   "outputs": [],
   "source": [
    "cont_dict['GCST'].groupby('hospital_expire_flag').describe()\n"
   ]
  },
  {
   "cell_type": "code",
   "execution_count": null,
   "metadata": {
    "collapsed": false
   },
   "outputs": [],
   "source": [
    "#dropping columns that weren't used in feature identification\n",
    "cols = list(cat_data.columns[2:])\n",
    "cols.pop(cols.index('Cap_refill'))\n",
    "cols.pop(cols.index('charttimelab'))\n",
    "cols.pop(cols.index('flag'))"
   ]
  },
  {
   "cell_type": "code",
   "execution_count": null,
   "metadata": {
    "collapsed": false
   },
   "outputs": [],
   "source": [
    "cat_select_features"
   ]
  },
  {
   "cell_type": "code",
   "execution_count": null,
   "metadata": {
    "collapsed": false
   },
   "outputs": [],
   "source": [
    "cat_dummy_data = pd.get_dummies(cat_data[cols], prefix= cols)\n",
    "cat_dummy_data['icustay_id'] = cat_data['icustay_id']\n",
    "cat_dummy_data['hospital_expire_flag'] = cat_data['hospital_expire_flag']\n",
    "\n",
    "cols = list(cat_dummy_data.columns)\n",
    "cols.sort()\n",
    "cols.insert(0, cols.pop(cols.index('icustay_id')))\n",
    "cols.insert(1, cols.pop(cols.index('hospital_expire_flag')))\n",
    "cat_dummy_data = cat_dummy_data[cols]\n",
    "cat_dummy_data.head()"
   ]
  },
  {
   "cell_type": "code",
   "execution_count": null,
   "metadata": {
    "collapsed": false
   },
   "outputs": [],
   "source": [
    "cat_feature_scores"
   ]
  },
  {
   "cell_type": "code",
   "execution_count": null,
   "metadata": {
    "collapsed": false
   },
   "outputs": [],
   "source": [
    "\n",
    "# cat_select_features = list(cat_feature_scores[cat_feature_scores.scores > 350].index)\n",
    "# SELECTING ALL FEATURES FOR NEURAL NET INPUT\n",
    "cat_select_features = list(cat_feature_scores[cat_feature_scores.pvalues < 0.05].index)\n",
    "\n",
    "cat_select_features.insert(0, 'icustay_id')\n",
    "#could leave this out to avoid duplicates when merging w/ cont data later\n",
    "cat_select_features.insert(1,'hospital_expire_flag') \n",
    "\n",
    "cat_select_data = cat_dummy_data[cat_select_features]\n",
    "display(cat_select_data.shape)\n",
    "cat_select_data.head()\n"
   ]
  },
  {
   "cell_type": "code",
   "execution_count": null,
   "metadata": {
    "collapsed": false
   },
   "outputs": [],
   "source": [
    "# SELECTING ALL FEATURES FOR NN\n",
    "\n",
    "#cont_select_features = list(cont_feature_scores[cont_feature_scores.scores > 600].index)\n",
    "\n",
    "\n",
    "\n",
    "# CODE TO ELIMINATE COLUMNS BEGINNING WITH LOWEST SCORED VARIABLES FIRST, UNTIL WE HAVE > 5000 SAMPLES WITH \n",
    "# NO NAN VALUES\n",
    "monkey = -1\n",
    "cont_select_features = cont_feature_scores.index\n",
    "cont_select_data = cont_data[cont_select_features].dropna()\n",
    "\n",
    "while cont_select_data.shape[0] < 5000:\n",
    "    cont_select_features = list(cont_feature_scores.index)[:monkey]\n",
    "    cont_select_data = cont_data[cont_select_features].dropna()\n",
    "    monkey -= 1\n",
    "\n",
    "\n",
    "\n",
    "cont_select_features.insert(0, 'icustay_id')\n",
    "cont_select_features.insert(1,'hospital_expire_flag')\n",
    "cont_select_data = cont_data[cont_select_features].dropna()\n",
    "display(cont_select_data.shape)\n",
    "cont_select_data.head()"
   ]
  },
  {
   "cell_type": "code",
   "execution_count": null,
   "metadata": {
    "collapsed": false
   },
   "outputs": [],
   "source": [
    "\n",
    "cont_select_data2 = cont_select_data.set_index(['icustay_id'], inplace = False)\n",
    "cat_select_data2 = cat_select_data.set_index(['icustay_id'], inplace = False)\n",
    "cat_select_data2.drop(['hospital_expire_flag'], axis = 1, inplace = True)\n",
    "\n",
    "\n",
    "all_select_data = cont_select_data2.merge(cat_select_data2, left_index = True, right_index = True, \n",
    "                                         how='left', sort = True, suffixes = ('cont', 'cat'))\n",
    "\n",
    "all_select_data.dropna(inplace = True)\n",
    "all_select_data.shape"
   ]
  },
  {
   "cell_type": "code",
   "execution_count": null,
   "metadata": {
    "collapsed": false
   },
   "outputs": [],
   "source": [
    "monkey = all_select_data.groupby('hospital_expire_flag')['RR_med'].count()\n",
    "\n",
    "float(monkey[1])/monkey[0]"
   ]
  },
  {
   "cell_type": "code",
   "execution_count": null,
   "metadata": {
    "collapsed": false
   },
   "outputs": [],
   "source": [
    "# SCALING ALL_SELECT_DATA2 TO 0-1\n",
    "\n",
    "all_select_data2 = all_select_data.copy()\n",
    "min_max_scalar = preprocessing.MinMaxScaler()\n",
    "all_select_data2.iloc[:,1:] = min_max_scalar.fit_transform(all_select_data2.iloc[:,1:])\n",
    "all_select_data2.head()"
   ]
  },
  {
   "cell_type": "markdown",
   "metadata": {},
   "source": [
    "## SVM CLASSIFICATION USING ALL SELECT DATA"
   ]
  },
  {
   "cell_type": "code",
   "execution_count": null,
   "metadata": {
    "collapsed": false
   },
   "outputs": [],
   "source": [
    "X_train, X_test, y_train, y_test = train_test_split(all_select_data2[all_select_data2.columns[1:]], \n",
    "                                                    all_select_data2['hospital_expire_flag'], \n",
    "                                                    test_size = 0.20, random_state = 42)\n",
    "\n",
    "clf_SVC = svm.SVC(C=0.5, cache_size=200, class_weight={1:3}, coef0=0.0,\n",
    "    decision_function_shape=None, degree=3, gamma='auto', kernel='rbf', \n",
    "    max_iter=-1, probability=False, random_state=None, shrinking=True,\n",
    "    tol=0.001, verbose=False).fit(X_train, y_train)\n",
    "\n",
    "'''\n",
    "scores = cross_val_score(clf_SVC, all_select_data[all_select_data.columns[1:]], \n",
    "                         all_select_data['hospital_expire_flag'], cv=5)\n",
    "display(scores)  \n",
    "'''\n",
    "display(clf_SVC.score(X_test, y_test))\n",
    "y_predsSVM = clf_SVC.predict(X_test)\n",
    "metrics.confusion_matrix(y_test, y_predsSVM)\n",
    "\n"
   ]
  },
  {
   "cell_type": "code",
   "execution_count": null,
   "metadata": {
    "collapsed": false
   },
   "outputs": [],
   "source": [
    "# MULTI-LAYER PERCEPTRON CLASSIFIER ON ORIGINAL FEATURES\n",
    "\n",
    "X_train, X_test, y_train, y_test = train_test_split(all_select_data2[all_select_data2.columns[1:]], \n",
    "                                                    all_select_data2['hospital_expire_flag'], \n",
    "                                                    test_size = 0.30, random_state = 42)   \n",
    "\n",
    "parameters = {'activation':('identity', 'logistic', 'tanh', 'relu'), \n",
    "              'solver':('lbfgs', 'sgd', 'adam'), \n",
    "              'hidden_layer_sizes':((7,3), (5,2))\n",
    "             }\n",
    "mlp = MLPClassifier(alpha=1e-6, learning_rate = 'adaptive',\n",
    "                    hidden_layer_sizes=(7,3), random_state=1)\n",
    "clf = GridSearchCV(mlp, parameters)\n",
    "clf.fit(X_train,y_train)\n",
    "'''\n",
    "for result in clf.cv_results_.keys():\n",
    "    print \"{}      {}\".format(result, clf.cv_results_[result])\n",
    "'''\n",
    "display(clf.score(X_test, y_test))\n",
    "y_predsMLP = clf.predict(X_test)\n",
    "display(clf.best_params_)\n",
    "display(metrics.confusion_matrix(y_test, y_predsMLP))\n"
   ]
  },
  {
   "cell_type": "markdown",
   "metadata": {},
   "source": [
    "## PCA AND CLASSIFICATION ON ALL SELECT DATA"
   ]
  },
  {
   "cell_type": "code",
   "execution_count": null,
   "metadata": {
    "collapsed": false,
    "scrolled": true
   },
   "outputs": [],
   "source": [
    "#pca = PCA(n_components = 4).fit(data2)\n",
    "pca = PCA(n_components = 6).fit(all_select_data2[all_select_data2.columns[1:]])\n",
    "\n",
    "# Generate PCA results plot\n",
    "pca_results = vs.pca_results(all_select_data2[all_select_data2.columns[1:]], pca)"
   ]
  },
  {
   "cell_type": "code",
   "execution_count": null,
   "metadata": {
    "collapsed": false
   },
   "outputs": [],
   "source": [
    "all_reduced_data = pca.transform(all_select_data2[all_select_data2.columns[1:]])\n",
    "\n",
    "# Create a DataFrame for the reduced data\n",
    "all_reduced_data = pd.DataFrame(all_reduced_data, columns = ['Dimension 1', 'Dimension 2', 'Dimension 3', 'Dimension 4',\n",
    "                                                    'Dimension 5', 'Dimension 6'])\n",
    "                                #,'Dimension 7', 'Dimension 8']) #, \n",
    "                                                            #'Dimension 9', 'Dimension 10'])\n",
    "all_reduced_data.head()"
   ]
  },
  {
   "cell_type": "code",
   "execution_count": null,
   "metadata": {
    "collapsed": false
   },
   "outputs": [],
   "source": [
    "# GAUSSIAN NAIVE BAYES CLASSIFIER WITH PCA COMPONENTS DERIVED FROM ALL DATA\n",
    "\n",
    "\n",
    "X_train, X_test, y_train, y_test = train_test_split(all_reduced_data, \n",
    "                                                    all_select_data['hospital_expire_flag'], \n",
    "                                                    test_size = .30, random_state = 42)\n",
    "\n",
    "\n",
    "### create classifier\n",
    "clf_GNB = GaussianNB()\n",
    "### fit the classifier on the training features and labels\n",
    "clf_GNB.fit(X_train, y_train)\n",
    "    ### return the fit classifier\n",
    "\n",
    "nb_score = clf_GNB.score(X_test, y_test) \n",
    "\n",
    "print nb_score\n",
    "y_predsGNB = clf_GNB.predict(X_test)\n",
    "metrics.confusion_matrix(y_test, y_predsGNB)\n",
    "\n"
   ]
  },
  {
   "cell_type": "code",
   "execution_count": null,
   "metadata": {
    "collapsed": false
   },
   "outputs": [],
   "source": [
    "# SUPPORT VECTOR MACHINE\n",
    "SVC = svm.SVC(cache_size=200, coef0=0.0, gamma='auto', max_iter=-1, \n",
    "                  probability=False, random_state=42, shrinking=True, tol=0.001, \n",
    "                  verbose=False)\n",
    "\n",
    "parameters = {'C':(.2, .5, .7, 1), \n",
    "              'kernel':('linear', 'poly', 'rbf', 'sigmoid'),\n",
    "              'degree':(2,3,4), \n",
    "              'class_weight':({1:1.5}, {1:1.75}, {1:2}, {1:2.25}, {1:2.5}), \n",
    "              'decision_function_shape':('ovo', 'ovr')\n",
    "              \n",
    "             }\n",
    "\n",
    "clf = GridSearchCV(SVC, parameters)\n",
    "clf.fit(X_train,y_train)\n",
    "'''\n",
    "for result in clf.cv_results_.keys():\n",
    "    print \"{}      {}\".format(result, clf.cv_results_[result])\n",
    "'''\n",
    "display(clf.score(X_test, y_test))\n",
    "y_predsMLP = clf.predict(X_test)\n",
    "display(clf.best_params_)\n",
    "display(metrics.confusion_matrix(y_test, y_predsMLP))\n",
    "\n",
    "print \"The percentage of survivors in this test sample is {}\".format((1 - float(y_test.sum())/y_test.count())*100)\n"
   ]
  },
  {
   "cell_type": "code",
   "execution_count": null,
   "metadata": {
    "collapsed": false
   },
   "outputs": [],
   "source": [
    "print 'monkey'"
   ]
  },
  {
   "cell_type": "markdown",
   "metadata": {},
   "source": [
    "## PCA AND CLASSIFICATION USING SELECT CATEGORICAL DATA"
   ]
  },
  {
   "cell_type": "code",
   "execution_count": null,
   "metadata": {
    "collapsed": false
   },
   "outputs": [],
   "source": [
    "cat_select_data3 = cat_select_data.set_index(['icustay_id'], inplace = False)"
   ]
  },
  {
   "cell_type": "code",
   "execution_count": null,
   "metadata": {
    "collapsed": false,
    "scrolled": true
   },
   "outputs": [],
   "source": [
    "#pca = PCA(n_components = 4).fit(data2)\n",
    "pca = PCA(n_components =4).fit(cat_select_data3[cat_select_data3.columns[1:]])\n",
    "\n",
    "# Generate PCA results plot\n",
    "pca_results = vs.pca_results(cat_select_data3[cat_select_data3.columns[1:]], pca)"
   ]
  },
  {
   "cell_type": "code",
   "execution_count": null,
   "metadata": {
    "collapsed": false
   },
   "outputs": [],
   "source": [
    "reduced_cat_data = pca.transform(cat_select_data3[cat_select_data3.columns[1:]])\n",
    "\n",
    "# Create a DataFrame for the reduced data\n",
    "reduced_cat_data = pd.DataFrame(reduced_cat_data, columns = ['Dimension 1', 'Dimension 2', \n",
    "                                                             'Dimension 3', 'Dimension 4'])\n",
    "                                                    #'Dimension 5', 'Dimension 6','Dimension 7', 'Dimension 8'])\n",
    "reduced_cat_data.head()"
   ]
  },
  {
   "cell_type": "code",
   "execution_count": null,
   "metadata": {
    "collapsed": false
   },
   "outputs": [],
   "source": [
    "# Training using 80% of data and testing using 20%. \n",
    "\n",
    "\n",
    "\n",
    "X_train, X_test, y_train, y_test = train_test_split(reduced_cat_data, \n",
    "                                                    cat_select_data3['hospital_expire_flag'], \n",
    "                                                    test_size = .40, random_state = 42)\n",
    "\n",
    "\n",
    "### create classifier\n",
    "clf_GNB = GaussianNB()\n",
    "### fit the classifier on the training features and labels\n",
    "clf_GNB.fit(X_train, y_train)\n",
    "    ### return the fit classifier\n",
    "\n",
    "nb_score = clf_GNB.score(X_test, y_test) \n",
    "\n",
    "print nb_score\n",
    "y_predsGNB = clf_GNB.predict(X_test)\n",
    "metrics.confusion_matrix(y_test, y_predsGNB)\n",
    "\n"
   ]
  },
  {
   "cell_type": "code",
   "execution_count": null,
   "metadata": {
    "collapsed": false
   },
   "outputs": [],
   "source": [
    "X_train, X_test, y_train, y_test = train_test_split(data2[data2.columns[1:]], data2['mort_icu'], \n",
    "                                                    test_size = 0.30, random_state = 42)\n",
    "\n",
    "clf_SVC = svm.SVC(C=1.0, cache_size=200, class_weight=None, coef0=0.0,\n",
    "    decision_function_shape=None, degree=3, gamma='auto', kernel='rbf', \n",
    "    max_iter=-1, probability=False, random_state=None, shrinking=True,\n",
    "    tol=0.001, verbose=False).fit(X_train, y_train)\n",
    "\n",
    "scores = cross_val_score(clf_SVC, data2[data2.columns[1:]], data2['mort_icu'], cv=5)\n",
    "display(scores)  "
   ]
  },
  {
   "cell_type": "code",
   "execution_count": null,
   "metadata": {
    "collapsed": false
   },
   "outputs": [],
   "source": [
    "monkey"
   ]
  }
 ],
 "metadata": {
  "kernelspec": {
   "display_name": "Python 2",
   "language": "python",
   "name": "python2"
  },
  "language_info": {
   "codemirror_mode": {
    "name": "ipython",
    "version": 2
   },
   "file_extension": ".py",
   "mimetype": "text/x-python",
   "name": "python",
   "nbconvert_exporter": "python",
   "pygments_lexer": "ipython2",
   "version": "2.7.12"
  }
 },
 "nbformat": 4,
 "nbformat_minor": 2
}
